{
 "cells": [
  {
   "cell_type": "code",
   "execution_count": 1,
   "metadata": {
    "collapsed": true
   },
   "outputs": [],
   "source": [
    "import pandas as pd \n"
   ]
  },
  {
   "cell_type": "code",
   "execution_count": null,
   "metadata": {
    "collapsed": true
   },
   "outputs": [],
   "source": [
    "with open('gg') as f:"
   ]
  },
  {
   "cell_type": "code",
   "execution_count": null,
   "metadata": {
    "collapsed": true
   },
   "outputs": [],
   "source": [
    "for line in f:\n",
    "\n",
    "for i in range (0,63):\n",
    "enroll_i=sheet2[1218:1309]\n",
    "enroll_i.loc[:,'year'] = 'Aug 2007 to Jul 2009'\n",
    "enroll_i['Batch']='Batch_11'\n",
    "enroll_i['Branch']='MS EMBEDDED SYSTEMS'\n",
    "enroll_i.columns = ['NO','ROLL NO','NAME','Gender','State','nan','Year','Batch','Branch']\n",
    "enroll_i = enroll_63.reset_index()\n",
    "del enroll_i['index']\n",
    "enroll_i=enroll_i.drop(\"nan\",axis=1)\n",
    "enroll_i=enroll_i.set_index('NO')\n",
    "enroll_i\n",
    "    "
   ]
  },
  {
   "cell_type": "code",
   "execution_count": null,
   "metadata": {
    "collapsed": true
   },
   "outputs": [],
   "source": [
    "enroll_63=sheet2[1218:1309]\n",
    "enroll_63.loc[:,'year'] = 'Aug 2007 to Jul 2009'\n",
    "enroll_63['Batch']='Batch_11'\n",
    "enroll_63['Branch']='MS EMBEDDED SYSTEMS'\n",
    "enroll_63.columns = ['NO','ROLL NO','NAME','Gender','State','nan','Year','Batch','Branch']\n",
    "enroll_63 = enroll_63.reset_index()\n",
    "del enroll_63['index']\n",
    "enroll_63=enroll_63.drop(\"nan\",axis=1)\n",
    "enroll_63=enroll_63.set_index('NO')\n",
    "enroll_63"
   ]
  }
 ],
 "metadata": {
  "kernelspec": {
   "display_name": "Python [Root]",
   "language": "python",
   "name": "Python [Root]"
  },
  "language_info": {
   "codemirror_mode": {
    "name": "ipython",
    "version": 3
   },
   "file_extension": ".py",
   "mimetype": "text/x-python",
   "name": "python",
   "nbconvert_exporter": "python",
   "pygments_lexer": "ipython3",
   "version": "3.5.2"
  }
 },
 "nbformat": 4,
 "nbformat_minor": 0
}
