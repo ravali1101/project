{
 "cells": [
  {
   "cell_type": "code",
   "execution_count": 54,
   "metadata": {
    "collapsed": false
   },
   "outputs": [
    {
     "data": {
      "text/html": [
       "<link media=\"all\" href=\"files/nv.d3.css\" type=\"text/css\"\n",
       "                        rel=\"stylesheet\"/>"
      ],
      "text/plain": [
       "<IPython.core.display.HTML object>"
      ]
     },
     "metadata": {},
     "output_type": "display_data"
    },
    {
     "data": {
      "application/javascript": [
       "$.getScript(\"files/nv.d3.js\")"
      ],
      "text/plain": [
       "<IPython.core.display.Javascript object>"
      ]
     },
     "metadata": {},
     "output_type": "display_data"
    },
    {
     "data": {
      "application/javascript": [
       "$.getScript(\"files/d3.v3.js\", function() {\n",
       "                              $.getScript(\"files/nv.d3.js\", function() {})});"
      ],
      "text/plain": [
       "<IPython.core.display.Javascript object>"
      ]
     },
     "metadata": {},
     "output_type": "display_data"
    },
    {
     "data": {
      "text/html": [
       "<script src=\"files/d3.v3.js\"></script>"
      ],
      "text/plain": [
       "<IPython.core.display.HTML object>"
      ]
     },
     "metadata": {},
     "output_type": "display_data"
    },
    {
     "data": {
      "text/html": [
       "<script src=\"files/nv.d3.js\"></script>"
      ],
      "text/plain": [
       "<IPython.core.display.HTML object>"
      ]
     },
     "metadata": {},
     "output_type": "display_data"
    }
   ],
   "source": [
    "#!/usr/bin/python\n",
    "# -*- coding: utf-8 -*-\n",
    "\n",
    "\"\"\"\n",
    "Examples for Python-nvd3 is a Python wrapper for NVD3 graph library.\n",
    "NVD3 is an attempt to build re-usable charts and chart components\n",
    "for d3.js without taking away the power that d3.js gives you.\n",
    "\n",
    "Project location : https://github.com/areski/python-nvd3\n",
    "\"\"\"\n",
    "\n",
    "from nvd3 import cumulativeLineChart\n",
    "import random\n",
    "import datetime\n",
    "import time\n",
    "import nvd3\n",
    "nvd3.ipynb.initialize_javascript()\n",
    "\n",
    "from IPython.core.display import display, HTML\n",
    "\n",
    "\n",
    "\n",
    "start_time = int(time.mktime(datetime.datetime(2012, 12, 1).timetuple()) * 1000)\n",
    "nb_element = 100\n",
    "\n",
    "# Open File for test\n",
    "output_file = open('test_cumulativeLineChart.html', 'w')\n",
    "\n",
    "type = \"cumulativeLineChart\"\n",
    "chart = cumulativeLineChart(name=type, height=350, x_is_date=True)\n",
    "chart.set_containerheader(\"\\n\\n<h2>\" + type + \"</h2>\\n\\n\")\n",
    "\n",
    "xdata = list(range(nb_element))\n",
    "xdata = [start_time + x * 1000000000 for x in xdata]\n",
    "ydata = [i + random.randint(1, 10) for i in range(nb_element)]\n",
    "ydata2 = [x * 2 for x in ydata]\n",
    "\n",
    "extra_serie = {\"tooltip\": {\"y_start\": \"\", \"y_end\": \" Calls\"}}\n",
    "chart.add_serie(name=\"Count\", y=ydata, x=xdata, extra=extra_serie)\n",
    "extra_serie = {\"tooltip\": {\"y_start\": \"\", \"y_end\": \" Min\"}}\n",
    "chart.add_serie(name=\"Duration\", y=ydata2, x=xdata, extra=extra_serie)\n",
    "\n",
    "chart.buildhtml()\n",
    "\n",
    "\n",
    "# ---------------------------------------\n",
    "\n",
    "# close Html file\n",
    "output_file.close()"
   ]
  },
  {
   "cell_type": "code",
   "execution_count": 55,
   "metadata": {
    "collapsed": false
   },
   "outputs": [
    {
     "data": {
      "text/html": [
       "<!DOCTYPE html>\n",
       "<html lang=\"en\">\n",
       "    <head>\n",
       "        <meta charset=\"utf-8\" />\n",
       "        <link href=\"https://cdnjs.cloudflare.com/ajax/libs/nvd3/1.7.1/nv.d3.min.css\" rel=\"stylesheet\" />\n",
       "        <script src=\"https://cdnjs.cloudflare.com/ajax/libs/d3/3.5.5/d3.min.js\"></script>\n",
       "        <script src=\"https://cdnjs.cloudflare.com/ajax/libs/nvd3/1.7.1/nv.d3.min.js\"></script>\n",
       "    </head>\n",
       "    <body>\n",
       "        \n",
       "    \n",
       "\n",
       "<h2>cumulativeLineChart</h2>\n",
       "\n",
       "<div id=\"cumulativelinechart\"><svg style=\"height:350px;\"></svg></div>\n",
       "\n",
       "\n",
       "    <script>\n",
       "\n",
       "\n",
       "\n",
       "        data_cumulativelinechart=[{\"yAxis\": \"1\", \"values\": [{\"y\": 7, \"x\": 1354300200000}, {\"y\": 4, \"x\": 1355300200000}, {\"y\": 3, \"x\": 1356300200000}, {\"y\": 5, \"x\": 1357300200000}, {\"y\": 11, \"x\": 1358300200000}, {\"y\": 7, \"x\": 1359300200000}, {\"y\": 16, \"x\": 1360300200000}, {\"y\": 11, \"x\": 1361300200000}, {\"y\": 17, \"x\": 1362300200000}, {\"y\": 17, \"x\": 1363300200000}, {\"y\": 15, \"x\": 1364300200000}, {\"y\": 17, \"x\": 1365300200000}, {\"y\": 13, \"x\": 1366300200000}, {\"y\": 17, \"x\": 1367300200000}, {\"y\": 23, \"x\": 1368300200000}, {\"y\": 23, \"x\": 1369300200000}, {\"y\": 24, \"x\": 1370300200000}, {\"y\": 26, \"x\": 1371300200000}, {\"y\": 19, \"x\": 1372300200000}, {\"y\": 28, \"x\": 1373300200000}, {\"y\": 23, \"x\": 1374300200000}, {\"y\": 30, \"x\": 1375300200000}, {\"y\": 29, \"x\": 1376300200000}, {\"y\": 28, \"x\": 1377300200000}, {\"y\": 26, \"x\": 1378300200000}, {\"y\": 27, \"x\": 1379300200000}, {\"y\": 34, \"x\": 1380300200000}, {\"y\": 28, \"x\": 1381300200000}, {\"y\": 29, \"x\": 1382300200000}, {\"y\": 30, \"x\": 1383300200000}, {\"y\": 37, \"x\": 1384300200000}, {\"y\": 39, \"x\": 1385300200000}, {\"y\": 40, \"x\": 1386300200000}, {\"y\": 37, \"x\": 1387300200000}, {\"y\": 43, \"x\": 1388300200000}, {\"y\": 37, \"x\": 1389300200000}, {\"y\": 43, \"x\": 1390300200000}, {\"y\": 42, \"x\": 1391300200000}, {\"y\": 46, \"x\": 1392300200000}, {\"y\": 45, \"x\": 1393300200000}, {\"y\": 45, \"x\": 1394300200000}, {\"y\": 46, \"x\": 1395300200000}, {\"y\": 52, \"x\": 1396300200000}, {\"y\": 49, \"x\": 1397300200000}, {\"y\": 46, \"x\": 1398300200000}, {\"y\": 46, \"x\": 1399300200000}, {\"y\": 51, \"x\": 1400300200000}, {\"y\": 51, \"x\": 1401300200000}, {\"y\": 58, \"x\": 1402300200000}, {\"y\": 52, \"x\": 1403300200000}, {\"y\": 54, \"x\": 1404300200000}, {\"y\": 53, \"x\": 1405300200000}, {\"y\": 59, \"x\": 1406300200000}, {\"y\": 56, \"x\": 1407300200000}, {\"y\": 57, \"x\": 1408300200000}, {\"y\": 58, \"x\": 1409300200000}, {\"y\": 60, \"x\": 1410300200000}, {\"y\": 60, \"x\": 1411300200000}, {\"y\": 61, \"x\": 1412300200000}, {\"y\": 63, \"x\": 1413300200000}, {\"y\": 67, \"x\": 1414300200000}, {\"y\": 67, \"x\": 1415300200000}, {\"y\": 70, \"x\": 1416300200000}, {\"y\": 68, \"x\": 1417300200000}, {\"y\": 69, \"x\": 1418300200000}, {\"y\": 69, \"x\": 1419300200000}, {\"y\": 69, \"x\": 1420300200000}, {\"y\": 70, \"x\": 1421300200000}, {\"y\": 72, \"x\": 1422300200000}, {\"y\": 75, \"x\": 1423300200000}, {\"y\": 75, \"x\": 1424300200000}, {\"y\": 80, \"x\": 1425300200000}, {\"y\": 77, \"x\": 1426300200000}, {\"y\": 79, \"x\": 1427300200000}, {\"y\": 80, \"x\": 1428300200000}, {\"y\": 85, \"x\": 1429300200000}, {\"y\": 78, \"x\": 1430300200000}, {\"y\": 84, \"x\": 1431300200000}, {\"y\": 88, \"x\": 1432300200000}, {\"y\": 88, \"x\": 1433300200000}, {\"y\": 86, \"x\": 1434300200000}, {\"y\": 84, \"x\": 1435300200000}, {\"y\": 86, \"x\": 1436300200000}, {\"y\": 84, \"x\": 1437300200000}, {\"y\": 89, \"x\": 1438300200000}, {\"y\": 93, \"x\": 1439300200000}, {\"y\": 93, \"x\": 1440300200000}, {\"y\": 97, \"x\": 1441300200000}, {\"y\": 96, \"x\": 1442300200000}, {\"y\": 97, \"x\": 1443300200000}, {\"y\": 92, \"x\": 1444300200000}, {\"y\": 99, \"x\": 1445300200000}, {\"y\": 100, \"x\": 1446300200000}, {\"y\": 94, \"x\": 1447300200000}, {\"y\": 104, \"x\": 1448300200000}, {\"y\": 101, \"x\": 1449300200000}, {\"y\": 105, \"x\": 1450300200000}, {\"y\": 102, \"x\": 1451300200000}, {\"y\": 106, \"x\": 1452300200000}, {\"y\": 104, \"x\": 1453300200000}], \"key\": \"Count\"}, {\"yAxis\": \"1\", \"values\": [{\"y\": 14, \"x\": 1354300200000}, {\"y\": 8, \"x\": 1355300200000}, {\"y\": 6, \"x\": 1356300200000}, {\"y\": 10, \"x\": 1357300200000}, {\"y\": 22, \"x\": 1358300200000}, {\"y\": 14, \"x\": 1359300200000}, {\"y\": 32, \"x\": 1360300200000}, {\"y\": 22, \"x\": 1361300200000}, {\"y\": 34, \"x\": 1362300200000}, {\"y\": 34, \"x\": 1363300200000}, {\"y\": 30, \"x\": 1364300200000}, {\"y\": 34, \"x\": 1365300200000}, {\"y\": 26, \"x\": 1366300200000}, {\"y\": 34, \"x\": 1367300200000}, {\"y\": 46, \"x\": 1368300200000}, {\"y\": 46, \"x\": 1369300200000}, {\"y\": 48, \"x\": 1370300200000}, {\"y\": 52, \"x\": 1371300200000}, {\"y\": 38, \"x\": 1372300200000}, {\"y\": 56, \"x\": 1373300200000}, {\"y\": 46, \"x\": 1374300200000}, {\"y\": 60, \"x\": 1375300200000}, {\"y\": 58, \"x\": 1376300200000}, {\"y\": 56, \"x\": 1377300200000}, {\"y\": 52, \"x\": 1378300200000}, {\"y\": 54, \"x\": 1379300200000}, {\"y\": 68, \"x\": 1380300200000}, {\"y\": 56, \"x\": 1381300200000}, {\"y\": 58, \"x\": 1382300200000}, {\"y\": 60, \"x\": 1383300200000}, {\"y\": 74, \"x\": 1384300200000}, {\"y\": 78, \"x\": 1385300200000}, {\"y\": 80, \"x\": 1386300200000}, {\"y\": 74, \"x\": 1387300200000}, {\"y\": 86, \"x\": 1388300200000}, {\"y\": 74, \"x\": 1389300200000}, {\"y\": 86, \"x\": 1390300200000}, {\"y\": 84, \"x\": 1391300200000}, {\"y\": 92, \"x\": 1392300200000}, {\"y\": 90, \"x\": 1393300200000}, {\"y\": 90, \"x\": 1394300200000}, {\"y\": 92, \"x\": 1395300200000}, {\"y\": 104, \"x\": 1396300200000}, {\"y\": 98, \"x\": 1397300200000}, {\"y\": 92, \"x\": 1398300200000}, {\"y\": 92, \"x\": 1399300200000}, {\"y\": 102, \"x\": 1400300200000}, {\"y\": 102, \"x\": 1401300200000}, {\"y\": 116, \"x\": 1402300200000}, {\"y\": 104, \"x\": 1403300200000}, {\"y\": 108, \"x\": 1404300200000}, {\"y\": 106, \"x\": 1405300200000}, {\"y\": 118, \"x\": 1406300200000}, {\"y\": 112, \"x\": 1407300200000}, {\"y\": 114, \"x\": 1408300200000}, {\"y\": 116, \"x\": 1409300200000}, {\"y\": 120, \"x\": 1410300200000}, {\"y\": 120, \"x\": 1411300200000}, {\"y\": 122, \"x\": 1412300200000}, {\"y\": 126, \"x\": 1413300200000}, {\"y\": 134, \"x\": 1414300200000}, {\"y\": 134, \"x\": 1415300200000}, {\"y\": 140, \"x\": 1416300200000}, {\"y\": 136, \"x\": 1417300200000}, {\"y\": 138, \"x\": 1418300200000}, {\"y\": 138, \"x\": 1419300200000}, {\"y\": 138, \"x\": 1420300200000}, {\"y\": 140, \"x\": 1421300200000}, {\"y\": 144, \"x\": 1422300200000}, {\"y\": 150, \"x\": 1423300200000}, {\"y\": 150, \"x\": 1424300200000}, {\"y\": 160, \"x\": 1425300200000}, {\"y\": 154, \"x\": 1426300200000}, {\"y\": 158, \"x\": 1427300200000}, {\"y\": 160, \"x\": 1428300200000}, {\"y\": 170, \"x\": 1429300200000}, {\"y\": 156, \"x\": 1430300200000}, {\"y\": 168, \"x\": 1431300200000}, {\"y\": 176, \"x\": 1432300200000}, {\"y\": 176, \"x\": 1433300200000}, {\"y\": 172, \"x\": 1434300200000}, {\"y\": 168, \"x\": 1435300200000}, {\"y\": 172, \"x\": 1436300200000}, {\"y\": 168, \"x\": 1437300200000}, {\"y\": 178, \"x\": 1438300200000}, {\"y\": 186, \"x\": 1439300200000}, {\"y\": 186, \"x\": 1440300200000}, {\"y\": 194, \"x\": 1441300200000}, {\"y\": 192, \"x\": 1442300200000}, {\"y\": 194, \"x\": 1443300200000}, {\"y\": 184, \"x\": 1444300200000}, {\"y\": 198, \"x\": 1445300200000}, {\"y\": 200, \"x\": 1446300200000}, {\"y\": 188, \"x\": 1447300200000}, {\"y\": 208, \"x\": 1448300200000}, {\"y\": 202, \"x\": 1449300200000}, {\"y\": 210, \"x\": 1450300200000}, {\"y\": 204, \"x\": 1451300200000}, {\"y\": 212, \"x\": 1452300200000}, {\"y\": 208, \"x\": 1453300200000}], \"key\": \"Duration\"}];\n",
       "\n",
       "    nv.addGraph(function() {\n",
       "        var chart = nv.models.cumulativeLineChart();\n",
       "\n",
       "        chart.margin({top: 30, right: 60, bottom: 20, left: 60});\n",
       "        chart.xAxis.rotateLabels(0)\n",
       "\n",
       "        var datum = data_cumulativelinechart;\n",
       "\n",
       "\n",
       "\n",
       "\n",
       "\n",
       "            chart.xAxis\n",
       "                .tickFormat(function(d) { return d3.time.format('%d %b %Y')(new Date(parseInt(d))) }\n",
       ");\n",
       "            chart.yAxis\n",
       "                .tickFormat(d3.format(',.1%'));\n",
       "\n",
       "                chart.tooltipContent(function(key, y, e, graph) {\n",
       "                    var x = d3.time.format(\"%d %b %Y\")(new Date(parseInt(graph.point.x)));\n",
       "                    var y = String(graph.point.y);\n",
       "                    if(key == 'Count'){\n",
       "                        var y =  String(e)  + ' Calls';\n",
       "                    }\n",
       "if(key == 'Duration'){\n",
       "                        var y =  String(e)  + ' Min';\n",
       "                    }\n",
       "\n",
       "                    tooltip_str = '<center><b>'+key+'</b></center>' + y + ' on ' + x;\n",
       "                    return tooltip_str;\n",
       "                });\n",
       "\n",
       "      chart.showLegend(true);\n",
       "\n",
       "\n",
       "\n",
       "        \n",
       "\n",
       "\n",
       "\n",
       "        d3.select('#cumulativelinechart svg')\n",
       "            .datum(datum)\n",
       "            .transition().duration(500)\n",
       "            .attr('height', 350)\n",
       "            .call(chart);\n",
       "\n",
       "\n",
       "\n",
       "    });\n",
       "\n",
       "\n",
       "\n",
       "\n",
       "    </script>\n",
       "\n",
       "    </body>\n",
       "</html>"
      ],
      "text/plain": [
       "<IPython.core.display.HTML object>"
      ]
     },
     "metadata": {},
     "output_type": "display_data"
    }
   ],
   "source": [
    "display(HTML(chart.htmlcontent))\n"
   ]
  },
  {
   "cell_type": "code",
   "execution_count": 3,
   "metadata": {
    "collapsed": false
   },
   "outputs": [
    {
     "data": {
      "text/html": [
       "<link media=\"all\" href=\"files/nv.d3.css\" type=\"text/css\"\n",
       "                        rel=\"stylesheet\"/>"
      ],
      "text/plain": [
       "<IPython.core.display.HTML object>"
      ]
     },
     "metadata": {},
     "output_type": "display_data"
    },
    {
     "data": {
      "application/javascript": [
       "$.getScript(\"files/nv.d3.js\")"
      ],
      "text/plain": [
       "<IPython.core.display.Javascript object>"
      ]
     },
     "metadata": {},
     "output_type": "display_data"
    },
    {
     "data": {
      "application/javascript": [
       "$.getScript(\"files/d3.v3.js\", function() {\n",
       "                              $.getScript(\"files/nv.d3.js\", function() {})});"
      ],
      "text/plain": [
       "<IPython.core.display.Javascript object>"
      ]
     },
     "metadata": {},
     "output_type": "display_data"
    },
    {
     "data": {
      "text/html": [
       "<script src=\"files/d3.v3.js\"></script>"
      ],
      "text/plain": [
       "<IPython.core.display.HTML object>"
      ]
     },
     "metadata": {},
     "output_type": "display_data"
    },
    {
     "data": {
      "text/html": [
       "<script src=\"files/nv.d3.js\"></script>"
      ],
      "text/plain": [
       "<IPython.core.display.HTML object>"
      ]
     },
     "metadata": {},
     "output_type": "display_data"
    },
    {
     "data": {
      "text/html": [
       "<!DOCTYPE html>\n",
       "<html lang=\"en\">\n",
       "    <head>\n",
       "        <meta charset=\"utf-8\" />\n",
       "        <link href=\"https://cdnjs.cloudflare.com/ajax/libs/nvd3/1.7.1/nv.d3.min.css\" rel=\"stylesheet\" />\n",
       "        <script src=\"https://cdnjs.cloudflare.com/ajax/libs/d3/3.5.5/d3.min.js\"></script>\n",
       "        <script src=\"https://cdnjs.cloudflare.com/ajax/libs/nvd3/1.7.1/nv.d3.min.js\"></script>\n",
       "    </head>\n",
       "    <body>\n",
       "        \n",
       "    <div id=\"piechart\"><svg style=\"width:700px;height:700px;\"></svg></div>\n",
       "\n",
       "\n",
       "    <script>\n",
       "\n",
       "\n",
       "\n",
       "    data_piechart=[{\"values\": [{\"label\": \"Medical Software\", \"value\": 3}, {\"label\": \"VLSI Design\", \"value\": 4}, {\"label\": \"Embedded Systems\", \"value\": 0}, {\"label\": \"Embedded & Wireless Technologies\", \"value\": 1}, {\"label\": \"Computing Technologies & Virtualization\", \"value\": 5}, {\"label\": \"Information Science\", \"value\": 7}, {\"label\": \"Embedded & Instrumentation Engg\", \"value\": 3}, {\"label\": \"Automotive Embedded Systems\", \"value\": 7}, {\"label\": \"All branch without ESIGELEC\", \"value\": 9}, {\"label\": \"All branches\", \"value\": 5}], \"key\": \"Serie 1\"}];\n",
       "\n",
       "    nv.addGraph(function() {\n",
       "        var chart = nv.models.pieChart();\n",
       "        chart.margin({top: 30, right: 60, bottom: 20, left: 60});\n",
       "        var datum = data_piechart[0].values;\n",
       "\n",
       "        chart.color(d3.scale.category20c().range());\n",
       "\n",
       "    chart.tooltipContent(function(key, y, e, graph) {\n",
       "          var x = String(key);\n",
       "              var y =  String(y)  + ' per';\n",
       "\n",
       "              tooltip_str = '<center><b>'+x+'</b></center>' + y;\n",
       "              return tooltip_str;\n",
       "              });\n",
       "        chart.showLabels(true);\n",
       "\n",
       "            chart.donut(false);\n",
       "\n",
       "    chart.showLegend(true);\n",
       "\n",
       "\n",
       "\n",
       "\n",
       "        chart\n",
       "            .x(function(d) { return d.label })\n",
       "            .y(function(d) { return d.value });\n",
       "\n",
       "        chart.width(700);\n",
       "\n",
       "        chart.height(700);\n",
       "\n",
       "\n",
       "            d3.select('#piechart svg')\n",
       "            .datum(datum)\n",
       "            .transition().duration(500)\n",
       "            .attr('width', '700')\n",
       "            .attr('height', 700)\n",
       "            .call(chart);\n",
       "\n",
       "\n",
       "\n",
       "        });\n",
       "\n",
       "\n",
       "\n",
       "    </script>\n",
       "\n",
       "    </body>\n",
       "</html>"
      ],
      "text/plain": [
       "<IPython.core.display.HTML object>"
      ]
     },
     "metadata": {},
     "output_type": "display_data"
    }
   ],
   "source": [
    "from nvd3 import pieChart\n",
    "import nvd3\n",
    "nvd3.ipynb.initialize_javascript()\n",
    "\n",
    "from IPython.core.display import display, HTML\n",
    "chart = pieChart(name='pieChart', color_category='category20c',\n",
    "                 height=700, width=700)\n",
    "\n",
    "xdata = ['Medical Software',\n",
    " 'VLSI Design',\n",
    " 'Embedded Systems',\n",
    " 'Embedded & Wireless Technologies',\n",
    " 'Computing Technologies & Virtualization',\n",
    " 'Information Science',\n",
    " 'Embedded & Instrumentation Engg',\n",
    " 'Automotive Embedded Systems',\n",
    " 'All branch without ESIGELEC',\n",
    " 'All branches']\n",
    "ydata = [75,63.15,77.5510204081633,77.7777777777778,80,100,100,100,73.5537190082645,77.7777777777778]\n",
    "extra_serie = {\"tooltip\": {\"y_start\": \"\", \"y_end\": \" per\"}}\n",
    "chart.add_serie(y=ydata, x=xdata, extra=extra_serie)\n",
    "chart.buildhtml()\n",
    "display(HTML(chart.htmlcontent))\n",
    "\n"
   ]
  },
  {
   "cell_type": "code",
   "execution_count": 1,
   "metadata": {
    "collapsed": true
   },
   "outputs": [],
   "source": [
    "import numpy as np\n",
    "import matplotlib.pyplot as plt\n",
    "\n",
    "# evenly sampled time at 200ms intervals\n",
    "t = np.arange(0., 5., 0.2)\n",
    "\n",
    "# red dashes, blue squares and green triangles\n",
    "plt.plot(t, t, 'r--', t, t**2, 'bs', t, t**3, 'g^')\n",
    "plt.show()"
   ]
  },
  {
   "cell_type": "code",
   "execution_count": 62,
   "metadata": {
    "collapsed": true
   },
   "outputs": [],
   "source": [
    "from nvd3 import pieChart\n",
    "chart = pieChart(name='pieChart', color_category='category20c',\n",
    "                 height=400, width=400)\n",
    "\n",
    "xdata = [\"Orange\", \"Banana\", \"Pear\", \"Kiwi\", \"Apple\", \"Strawbery\",\n",
    "         \"Pineapple\"]\n",
    "ydata = [3, 4, 0, 1, 5, 7, 3]\n",
    "\n",
    "extra_serie = {\"tooltip\": {\"y_start\": \"\", \"y_end\": \" cal\"}}\n",
    "chart.add_serie(y=ydata, x=xdata, extra=extra_serie)\n",
    "chart.buildhtml()\n"
   ]
  },
  {
   "cell_type": "code",
   "execution_count": 63,
   "metadata": {
    "collapsed": false
   },
   "outputs": [
    {
     "data": {
      "text/plain": [
       "<IPython.core.display.HTML object>"
      ]
     },
     "metadata": {},
     "output_type": "display_data"
    }
   ],
   "source": [
    "display(HTML(chart.buildhtml()))"
   ]
  },
  {
   "cell_type": "code",
   "execution_count": 21,
   "metadata": {
    "collapsed": false
   },
   "outputs": [],
   "source": [
    "\"\"\"\n",
    "Demo of the histogram (hist) function with multiple data sets.\n",
    "\n",
    "Plot histogram with multiple sample sets and demonstrate:\n",
    "\n",
    "    * Use of legend with multiple sample sets\n",
    "    * Stacked bars\n",
    "    * Step curve with a color fill\n",
    "    * Data sets of different sample sizes\n",
    "\"\"\"\n",
    "import numpy as np\n",
    "import matplotlib.pyplot as plt\n",
    "\n",
    "\n",
    "n_bins = 10\n",
    "x = np.random.randn(1000, 3)\n",
    "\n",
    "fig, axes = plt.subplots(nrows=2, ncols=2)\n",
    "ax0, ax1, ax2, ax3 = axes.flat\n",
    "\n",
    "colors = ['red', 'tan', 'lime']\n",
    "ax0.hist(x, n_bins, normed=1, histtype='bar', color=colors, label=colors)\n",
    "ax0.legend(prop={'size': 10})\n",
    "ax0.set_title('bars with legend')\n",
    "\n",
    "ax1.hist(x, n_bins, normed=1, histtype='bar', stacked=True)\n",
    "ax1.set_title('stacked bar')\n",
    "\n",
    "ax2.hist(x, n_bins, histtype='step', stacked=True, fill=True)\n",
    "ax2.set_title('stepfilled')\n",
    "\n",
    "# Make a multiple-histogram of data-sets with different length.\n",
    "x_multi = [np.random.randn(n) for n in [10000, 5000, 2000]]\n",
    "ax3.hist(x_multi, n_bins, histtype='bar')\n",
    "ax3.set_title('different sample sizes')\n",
    "\n",
    "plt.tight_layout()\n",
    "plt.show()"
   ]
  },
  {
   "cell_type": "code",
   "execution_count": null,
   "metadata": {
    "collapsed": true
   },
   "outputs": [],
   "source": []
  }
 ],
 "metadata": {
  "anaconda-cloud": {},
  "kernelspec": {
   "display_name": "Python [Root]",
   "language": "python",
   "name": "Python [Root]"
  },
  "language_info": {
   "codemirror_mode": {
    "name": "ipython",
    "version": 3
   },
   "file_extension": ".py",
   "mimetype": "text/x-python",
   "name": "python",
   "nbconvert_exporter": "python",
   "pygments_lexer": "ipython3",
   "version": "3.5.2"
  }
 },
 "nbformat": 4,
 "nbformat_minor": 0
}
