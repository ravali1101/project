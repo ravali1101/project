{
 "cells": [
  {
   "cell_type": "code",
   "execution_count": 1,
   "metadata": {
    "collapsed": true
   },
   "outputs": [],
   "source": [
    "import pandas as pd\n",
    "import hashlib\n",
    "\n",
    "import numpy as np"
   ]
  },
  {
   "cell_type": "markdown",
   "metadata": {},
   "source": [
    "### read excel sheet"
   ]
  },
  {
   "cell_type": "code",
   "execution_count": 2,
   "metadata": {
    "collapsed": false
   },
   "outputs": [],
   "source": [
    "sheet1= pd.read_excel('placements-sois.xlsx',sheetname='PlacementStats')"
   ]
  },
  {
   "cell_type": "code",
   "execution_count": 3,
   "metadata": {
    "collapsed": false
   },
   "outputs": [],
   "source": [
    "sheet2= pd.read_excel('placements-sois.xlsx',sheetname='Enrollment')"
   ]
  },
  {
   "cell_type": "code",
   "execution_count": 4,
   "metadata": {
    "collapsed": false
   },
   "outputs": [],
   "source": [
    "sheet1_reindexing=sheet1.reset_index()"
   ]
  },
  {
   "cell_type": "markdown",
   "metadata": {},
   "source": [
    "### create data frames for placements sheet"
   ]
  },
  {
   "cell_type": "code",
   "execution_count": 5,
   "metadata": {
    "collapsed": true
   },
   "outputs": [],
   "source": [
    "df1=sheet1_reindexing[2:14]"
   ]
  },
  {
   "cell_type": "code",
   "execution_count": 6,
   "metadata": {
    "collapsed": false
   },
   "outputs": [],
   "source": [
    "df1.columns = df1.iloc[0]"
   ]
  },
  {
   "cell_type": "code",
   "execution_count": 7,
   "metadata": {
    "collapsed": true
   },
   "outputs": [],
   "source": [
    "df1=df1.reindex(df1.index.drop(2))"
   ]
  },
  {
   "cell_type": "code",
   "execution_count": 8,
   "metadata": {
    "collapsed": true
   },
   "outputs": [],
   "source": [
    "df1['year_intake']= 2015"
   ]
  },
  {
   "cell_type": "code",
   "execution_count": 9,
   "metadata": {
    "collapsed": true
   },
   "outputs": [],
   "source": [
    "df1=df1.ix[:,1:13]"
   ]
  },
  {
   "cell_type": "code",
   "execution_count": 10,
   "metadata": {
    "collapsed": true
   },
   "outputs": [],
   "source": [
    "df1=df1.reindex(df1.index.delete(8))"
   ]
  },
  {
   "cell_type": "code",
   "execution_count": 11,
   "metadata": {
    "collapsed": false
   },
   "outputs": [],
   "source": [
    "df1.columns = ['Branches','Class Strength_1','# of placed students_1','Self Placement_1','Class Strength_8','# of placed students_8','Self Placement_8','Class Strength','# of placed students','Self Placement','Total placement %','year_intake']"
   ]
  },
  {
   "cell_type": "code",
   "execution_count": 12,
   "metadata": {
    "collapsed": true
   },
   "outputs": [],
   "source": [
    "df1.columns\n",
    "df1 = df1.reset_index()\n",
    "del df1['index']"
   ]
  },
  {
   "cell_type": "code",
   "execution_count": 13,
   "metadata": {
    "collapsed": true
   },
   "outputs": [],
   "source": [
    "df2=sheet1_reindexing[18:30]"
   ]
  },
  {
   "cell_type": "code",
   "execution_count": 14,
   "metadata": {
    "collapsed": true
   },
   "outputs": [],
   "source": [
    "df2.columns = df2.iloc[0]"
   ]
  },
  {
   "cell_type": "code",
   "execution_count": 15,
   "metadata": {
    "collapsed": false
   },
   "outputs": [],
   "source": [
    "df2=df2.reindex(df2.index.drop(18))"
   ]
  },
  {
   "cell_type": "code",
   "execution_count": 16,
   "metadata": {
    "collapsed": true
   },
   "outputs": [],
   "source": [
    "df2['year_intake']= 2014"
   ]
  },
  {
   "cell_type": "code",
   "execution_count": 17,
   "metadata": {
    "collapsed": false
   },
   "outputs": [],
   "source": [
    "df2=df2.ix[:,1:13]"
   ]
  },
  {
   "cell_type": "code",
   "execution_count": 18,
   "metadata": {
    "collapsed": false
   },
   "outputs": [],
   "source": [
    "df2 = df2.reset_index()"
   ]
  },
  {
   "cell_type": "code",
   "execution_count": 19,
   "metadata": {
    "collapsed": true
   },
   "outputs": [],
   "source": [
    "del df2['index']"
   ]
  },
  {
   "cell_type": "code",
   "execution_count": 20,
   "metadata": {
    "collapsed": true
   },
   "outputs": [],
   "source": [
    "df2=df2.reindex(df2.index.delete(7))"
   ]
  },
  {
   "cell_type": "code",
   "execution_count": 21,
   "metadata": {
    "collapsed": true
   },
   "outputs": [],
   "source": [
    "df2.columns = ['Branches','Class Strength_1','# of placed students_1','Self Placement','Class Strength_8','# of placed students_8','Self Placement','Class Strength','# of placed students','Self Placement','Total placement %','year_intake']"
   ]
  },
  {
   "cell_type": "code",
   "execution_count": 22,
   "metadata": {
    "collapsed": true
   },
   "outputs": [
    {
     "data": {
      "text/plain": [
       "Index(['Branches', 'Class Strength_1', '# of placed students_1',\n",
       "       'Self Placement', 'Class Strength_8', '# of placed students_8',\n",
       "       'Self Placement', 'Class Strength', '# of placed students',\n",
       "       'Self Placement', 'Total placement %', 'year_intake'],\n",
       "      dtype='object')"
      ]
     },
     "execution_count": 22,
     "metadata": {},
     "output_type": "execute_result"
    }
   ],
   "source": [
    "df2.columns"
   ]
  },
  {
   "cell_type": "code",
   "execution_count": 23,
   "metadata": {
    "collapsed": false
   },
   "outputs": [],
   "source": [
    "df2=df2.drop(\"Self Placement\",axis=1)\n",
    "df2 = df2.reset_index()\n",
    "del df2['index']"
   ]
  },
  {
   "cell_type": "code",
   "execution_count": 24,
   "metadata": {
    "collapsed": true
   },
   "outputs": [],
   "source": [
    "df3=sheet1_reindexing[34:45]"
   ]
  },
  {
   "cell_type": "code",
   "execution_count": 25,
   "metadata": {
    "collapsed": true
   },
   "outputs": [],
   "source": [
    "df3.columns = df3.iloc[0]"
   ]
  },
  {
   "cell_type": "code",
   "execution_count": 26,
   "metadata": {
    "collapsed": true
   },
   "outputs": [],
   "source": [
    "df3=df3.reindex(df3.index.drop(34))"
   ]
  },
  {
   "cell_type": "code",
   "execution_count": 27,
   "metadata": {
    "collapsed": true
   },
   "outputs": [],
   "source": [
    "df3['year_intake']= 2013"
   ]
  },
  {
   "cell_type": "code",
   "execution_count": 28,
   "metadata": {
    "collapsed": true
   },
   "outputs": [],
   "source": [
    "df3=df3.ix[:,1:13]"
   ]
  },
  {
   "cell_type": "code",
   "execution_count": 29,
   "metadata": {
    "collapsed": true
   },
   "outputs": [],
   "source": [
    "df3 = df3.reset_index()"
   ]
  },
  {
   "cell_type": "code",
   "execution_count": 30,
   "metadata": {
    "collapsed": true
   },
   "outputs": [],
   "source": [
    "del df3['index']"
   ]
  },
  {
   "cell_type": "code",
   "execution_count": 31,
   "metadata": {
    "collapsed": true
   },
   "outputs": [],
   "source": [
    "df3.columns = ['Branches','Class Strength_1','# of placed students_1','Self Placement','Class Strength_8','# of placed students_8','Self Placement','Class Strength','# of placed students','Self Placement','Total placement %','year_intake']"
   ]
  },
  {
   "cell_type": "code",
   "execution_count": 32,
   "metadata": {
    "collapsed": true
   },
   "outputs": [
    {
     "data": {
      "text/plain": [
       "Index(['Branches', 'Class Strength_1', '# of placed students_1',\n",
       "       'Self Placement', 'Class Strength_8', '# of placed students_8',\n",
       "       'Self Placement', 'Class Strength', '# of placed students',\n",
       "       'Self Placement', 'Total placement %', 'year_intake'],\n",
       "      dtype='object')"
      ]
     },
     "execution_count": 32,
     "metadata": {},
     "output_type": "execute_result"
    }
   ],
   "source": [
    "df3.columns"
   ]
  },
  {
   "cell_type": "code",
   "execution_count": 33,
   "metadata": {
    "collapsed": false
   },
   "outputs": [],
   "source": [
    "df3.loc[8,'Class Strength_1'] = 32"
   ]
  },
  {
   "cell_type": "code",
   "execution_count": 34,
   "metadata": {
    "collapsed": true
   },
   "outputs": [],
   "source": [
    "df3.loc[8,'# of placed students_1'] = 30"
   ]
  },
  {
   "cell_type": "code",
   "execution_count": 35,
   "metadata": {
    "collapsed": true
   },
   "outputs": [],
   "source": [
    "df3.loc[8,'Class Strength_8'] = 151"
   ]
  },
  {
   "cell_type": "code",
   "execution_count": 36,
   "metadata": {
    "collapsed": true
   },
   "outputs": [],
   "source": [
    "df3.loc[8,'# of placed students_8'] = 146"
   ]
  },
  {
   "cell_type": "code",
   "execution_count": 37,
   "metadata": {
    "collapsed": true
   },
   "outputs": [
    {
     "data": {
      "text/html": [
       "<div>\n",
       "<table border=\"1\" class=\"dataframe\">\n",
       "  <thead>\n",
       "    <tr style=\"text-align: right;\">\n",
       "      <th></th>\n",
       "      <th>Branches</th>\n",
       "      <th>Class Strength_1</th>\n",
       "      <th># of placed students_1</th>\n",
       "      <th>Self Placement</th>\n",
       "      <th>Class Strength_8</th>\n",
       "      <th># of placed students_8</th>\n",
       "      <th>Self Placement</th>\n",
       "      <th>Class Strength</th>\n",
       "      <th># of placed students</th>\n",
       "      <th>Self Placement</th>\n",
       "      <th>Total placement %</th>\n",
       "      <th>year_intake</th>\n",
       "    </tr>\n",
       "  </thead>\n",
       "  <tbody>\n",
       "    <tr>\n",
       "      <th>0</th>\n",
       "      <td>Medical Software</td>\n",
       "      <td>0</td>\n",
       "      <td>0</td>\n",
       "      <td>NaN</td>\n",
       "      <td>12</td>\n",
       "      <td>12</td>\n",
       "      <td>NaN</td>\n",
       "      <td>12</td>\n",
       "      <td>12</td>\n",
       "      <td>NaN</td>\n",
       "      <td>100</td>\n",
       "      <td>2013</td>\n",
       "    </tr>\n",
       "    <tr>\n",
       "      <th>1</th>\n",
       "      <td>VLSI Design</td>\n",
       "      <td>13</td>\n",
       "      <td>12</td>\n",
       "      <td>NaN</td>\n",
       "      <td>29</td>\n",
       "      <td>28</td>\n",
       "      <td>NaN</td>\n",
       "      <td>42</td>\n",
       "      <td>40</td>\n",
       "      <td>NaN</td>\n",
       "      <td>95.2381</td>\n",
       "      <td>2013</td>\n",
       "    </tr>\n",
       "    <tr>\n",
       "      <th>2</th>\n",
       "      <td>Embedded Systems - BE/Btech Grad</td>\n",
       "      <td>19</td>\n",
       "      <td>18</td>\n",
       "      <td>NaN</td>\n",
       "      <td>84</td>\n",
       "      <td>81</td>\n",
       "      <td>NaN</td>\n",
       "      <td>103</td>\n",
       "      <td>99</td>\n",
       "      <td>NaN</td>\n",
       "      <td>96.1165</td>\n",
       "      <td>2013</td>\n",
       "    </tr>\n",
       "    <tr>\n",
       "      <th>3</th>\n",
       "      <td>Embedded Systems - BCA/BSc Grad</td>\n",
       "      <td>0</td>\n",
       "      <td>0</td>\n",
       "      <td>NaN</td>\n",
       "      <td>5</td>\n",
       "      <td>5</td>\n",
       "      <td>NaN</td>\n",
       "      <td>5</td>\n",
       "      <td>5</td>\n",
       "      <td>NaN</td>\n",
       "      <td>100</td>\n",
       "      <td>2013</td>\n",
       "    </tr>\n",
       "    <tr>\n",
       "      <th>4</th>\n",
       "      <td>VLSI System Design &amp; Verification</td>\n",
       "      <td>0</td>\n",
       "      <td>0</td>\n",
       "      <td>NaN</td>\n",
       "      <td>6</td>\n",
       "      <td>6</td>\n",
       "      <td>NaN</td>\n",
       "      <td>6</td>\n",
       "      <td>6</td>\n",
       "      <td>NaN</td>\n",
       "      <td>100</td>\n",
       "      <td>2013</td>\n",
       "    </tr>\n",
       "    <tr>\n",
       "      <th>5</th>\n",
       "      <td>Embedded &amp; Wireless Technologies</td>\n",
       "      <td>0</td>\n",
       "      <td>0</td>\n",
       "      <td>NaN</td>\n",
       "      <td>12</td>\n",
       "      <td>11</td>\n",
       "      <td>NaN</td>\n",
       "      <td>12</td>\n",
       "      <td>11</td>\n",
       "      <td>NaN</td>\n",
       "      <td>91.6667</td>\n",
       "      <td>2013</td>\n",
       "    </tr>\n",
       "    <tr>\n",
       "      <th>6</th>\n",
       "      <td>IT Management</td>\n",
       "      <td>0</td>\n",
       "      <td>0</td>\n",
       "      <td>NaN</td>\n",
       "      <td>3</td>\n",
       "      <td>3</td>\n",
       "      <td>NaN</td>\n",
       "      <td>3</td>\n",
       "      <td>3</td>\n",
       "      <td>NaN</td>\n",
       "      <td>100</td>\n",
       "      <td>2013</td>\n",
       "    </tr>\n",
       "    <tr>\n",
       "      <th>7</th>\n",
       "      <td>Computing Technologies &amp; Virtualization</td>\n",
       "      <td>0</td>\n",
       "      <td>0</td>\n",
       "      <td>NaN</td>\n",
       "      <td>0</td>\n",
       "      <td>0</td>\n",
       "      <td>NaN</td>\n",
       "      <td>0</td>\n",
       "      <td>0</td>\n",
       "      <td>NaN</td>\n",
       "      <td>NaN</td>\n",
       "      <td>2013</td>\n",
       "    </tr>\n",
       "    <tr>\n",
       "      <th>8</th>\n",
       "      <td>Total Strength</td>\n",
       "      <td>32</td>\n",
       "      <td>30</td>\n",
       "      <td>NaN</td>\n",
       "      <td>151</td>\n",
       "      <td>146</td>\n",
       "      <td>NaN</td>\n",
       "      <td>183</td>\n",
       "      <td>176</td>\n",
       "      <td>NaN</td>\n",
       "      <td>96.1749</td>\n",
       "      <td>2013</td>\n",
       "    </tr>\n",
       "  </tbody>\n",
       "</table>\n",
       "</div>"
      ],
      "text/plain": [
       "                                  Branches Class Strength_1  \\\n",
       "0                         Medical Software                0   \n",
       "1                              VLSI Design               13   \n",
       "2         Embedded Systems - BE/Btech Grad               19   \n",
       "3          Embedded Systems - BCA/BSc Grad                0   \n",
       "4        VLSI System Design & Verification                0   \n",
       "5         Embedded & Wireless Technologies                0   \n",
       "6                            IT Management                0   \n",
       "7  Computing Technologies & Virtualization                0   \n",
       "8                           Total Strength               32   \n",
       "\n",
       "  # of placed students_1 Self Placement Class Strength_8  \\\n",
       "0                      0            NaN               12   \n",
       "1                     12            NaN               29   \n",
       "2                     18            NaN               84   \n",
       "3                      0            NaN                5   \n",
       "4                      0            NaN                6   \n",
       "5                      0            NaN               12   \n",
       "6                      0            NaN                3   \n",
       "7                      0            NaN                0   \n",
       "8                     30            NaN              151   \n",
       "\n",
       "  # of placed students_8 Self Placement Class Strength # of placed students  \\\n",
       "0                     12            NaN             12                   12   \n",
       "1                     28            NaN             42                   40   \n",
       "2                     81            NaN            103                   99   \n",
       "3                      5            NaN              5                    5   \n",
       "4                      6            NaN              6                    6   \n",
       "5                     11            NaN             12                   11   \n",
       "6                      3            NaN              3                    3   \n",
       "7                      0            NaN              0                    0   \n",
       "8                    146            NaN            183                  176   \n",
       "\n",
       "  Self Placement Total placement %  year_intake  \n",
       "0            NaN               100         2013  \n",
       "1            NaN           95.2381         2013  \n",
       "2            NaN           96.1165         2013  \n",
       "3            NaN               100         2013  \n",
       "4            NaN               100         2013  \n",
       "5            NaN           91.6667         2013  \n",
       "6            NaN               100         2013  \n",
       "7            NaN               NaN         2013  \n",
       "8            NaN           96.1749         2013  "
      ]
     },
     "execution_count": 37,
     "metadata": {},
     "output_type": "execute_result"
    }
   ],
   "source": [
    "df3.drop([9])"
   ]
  },
  {
   "cell_type": "code",
   "execution_count": 38,
   "metadata": {
    "collapsed": false
   },
   "outputs": [],
   "source": [
    "df3=df3.drop(\"Self Placement\",axis=1)\n",
    "df3 = df3.reset_index()\n",
    "del df3['index']"
   ]
  },
  {
   "cell_type": "code",
   "execution_count": 39,
   "metadata": {
    "collapsed": false
   },
   "outputs": [],
   "source": [
    "df4=sheet1_reindexing[50:61]"
   ]
  },
  {
   "cell_type": "code",
   "execution_count": 40,
   "metadata": {
    "collapsed": true
   },
   "outputs": [],
   "source": [
    "df4.columns = df4.iloc[0]"
   ]
  },
  {
   "cell_type": "code",
   "execution_count": 41,
   "metadata": {
    "collapsed": false
   },
   "outputs": [],
   "source": [
    "df4=df4.reindex(df4.index.drop(50))"
   ]
  },
  {
   "cell_type": "code",
   "execution_count": 42,
   "metadata": {
    "collapsed": false
   },
   "outputs": [],
   "source": [
    "df4['year_intake']= 2012"
   ]
  },
  {
   "cell_type": "code",
   "execution_count": 43,
   "metadata": {
    "collapsed": false
   },
   "outputs": [],
   "source": [
    "df4 = df4.reset_index()"
   ]
  },
  {
   "cell_type": "code",
   "execution_count": 44,
   "metadata": {
    "collapsed": true
   },
   "outputs": [],
   "source": [
    "del df4['index']"
   ]
  },
  {
   "cell_type": "code",
   "execution_count": 45,
   "metadata": {
    "collapsed": true
   },
   "outputs": [],
   "source": [
    "df4.columns = ['nan1','Branches','Class Strength_1','# of placed students_1','Self Placement','Class Strength_8','# of placed students_8','Self Placement','Class Strength','# of placed students','Self Placement','Total placement %','year_intake']"
   ]
  },
  {
   "cell_type": "code",
   "execution_count": 46,
   "metadata": {
    "collapsed": true
   },
   "outputs": [
    {
     "data": {
      "text/plain": [
       "Index(['nan1', 'Branches', 'Class Strength_1', '# of placed students_1',\n",
       "       'Self Placement', 'Class Strength_8', '# of placed students_8',\n",
       "       'Self Placement', 'Class Strength', '# of placed students',\n",
       "       'Self Placement', 'Total placement %', 'year_intake'],\n",
       "      dtype='object')"
      ]
     },
     "execution_count": 46,
     "metadata": {},
     "output_type": "execute_result"
    }
   ],
   "source": [
    "df4.columns"
   ]
  },
  {
   "cell_type": "code",
   "execution_count": 47,
   "metadata": {
    "collapsed": true
   },
   "outputs": [],
   "source": [
    "df4=df4.drop(\"Self Placement\",axis=1)"
   ]
  },
  {
   "cell_type": "code",
   "execution_count": 48,
   "metadata": {
    "collapsed": true
   },
   "outputs": [],
   "source": [
    "df4=df4.drop(\"nan1\",axis=1)\n",
    "df4 = df4.reset_index()\n",
    "del df4['index']"
   ]
  },
  {
   "cell_type": "code",
   "execution_count": 49,
   "metadata": {
    "collapsed": false
   },
   "outputs": [],
   "source": [
    "df5=sheet1_reindexing[66:77]"
   ]
  },
  {
   "cell_type": "code",
   "execution_count": 50,
   "metadata": {
    "collapsed": true
   },
   "outputs": [],
   "source": [
    "df5.columns = df5.iloc[0]"
   ]
  },
  {
   "cell_type": "code",
   "execution_count": 51,
   "metadata": {
    "collapsed": true
   },
   "outputs": [],
   "source": [
    "df5=df5.reindex(df5.index.drop(66))"
   ]
  },
  {
   "cell_type": "code",
   "execution_count": 52,
   "metadata": {
    "collapsed": true
   },
   "outputs": [],
   "source": [
    "df5['year_intake']= 2011"
   ]
  },
  {
   "cell_type": "code",
   "execution_count": 53,
   "metadata": {
    "collapsed": true
   },
   "outputs": [],
   "source": [
    "df5 = df5.reset_index()"
   ]
  },
  {
   "cell_type": "code",
   "execution_count": 54,
   "metadata": {
    "collapsed": false
   },
   "outputs": [],
   "source": [
    "del df5['index']"
   ]
  },
  {
   "cell_type": "code",
   "execution_count": 55,
   "metadata": {
    "collapsed": false
   },
   "outputs": [],
   "source": [
    "df5.columns = ['nan1','Branches','Class Strength_1','# of placed students_1','Self Placement','Class Strength_8','# of placed students_8','Self Placement','Class Strength','# of placed students','Self Placement','Total placement %','year_intake']"
   ]
  },
  {
   "cell_type": "code",
   "execution_count": 56,
   "metadata": {
    "collapsed": true
   },
   "outputs": [],
   "source": [
    "df5=df5.drop(\"Self Placement\",axis=1)"
   ]
  },
  {
   "cell_type": "code",
   "execution_count": 57,
   "metadata": {
    "collapsed": true
   },
   "outputs": [],
   "source": [
    "df5=df5.drop(\"nan1\",axis=1)\n",
    "df5 = df5.reset_index()\n",
    "del df5['index']"
   ]
  },
  {
   "cell_type": "code",
   "execution_count": 58,
   "metadata": {
    "collapsed": true
   },
   "outputs": [],
   "source": [
    "df6=sheet1_reindexing[83:92]"
   ]
  },
  {
   "cell_type": "code",
   "execution_count": 59,
   "metadata": {
    "collapsed": true
   },
   "outputs": [],
   "source": [
    "df6.columns = df6.iloc[0]"
   ]
  },
  {
   "cell_type": "code",
   "execution_count": 60,
   "metadata": {
    "collapsed": true
   },
   "outputs": [],
   "source": [
    "df6=df6.reindex(df6.index.drop(83))"
   ]
  },
  {
   "cell_type": "code",
   "execution_count": 61,
   "metadata": {
    "collapsed": true
   },
   "outputs": [],
   "source": [
    "df6['year_intake']= 2010"
   ]
  },
  {
   "cell_type": "code",
   "execution_count": 62,
   "metadata": {
    "collapsed": true
   },
   "outputs": [],
   "source": [
    "df6 = df6.reset_index()"
   ]
  },
  {
   "cell_type": "code",
   "execution_count": 63,
   "metadata": {
    "collapsed": true
   },
   "outputs": [],
   "source": [
    "del df6['index']"
   ]
  },
  {
   "cell_type": "code",
   "execution_count": 64,
   "metadata": {
    "collapsed": true
   },
   "outputs": [],
   "source": [
    "df6.columns = ['nan1','Branches','Class Strength_1','# of placed students_1','Self Placement','Class Strength_8','# of placed students_8','Self Placement','Class Strength','# of placed students','Self Placement','Total placement %','year_intake']"
   ]
  },
  {
   "cell_type": "code",
   "execution_count": 65,
   "metadata": {
    "collapsed": true
   },
   "outputs": [],
   "source": [
    "df6=df6.drop(\"Self Placement\",axis=1)"
   ]
  },
  {
   "cell_type": "code",
   "execution_count": 66,
   "metadata": {
    "collapsed": true
   },
   "outputs": [],
   "source": [
    "df6=df6.drop(\"nan1\",axis=1)\n",
    "df6 = df6.reset_index()\n",
    "del df6['index']"
   ]
  },
  {
   "cell_type": "code",
   "execution_count": 67,
   "metadata": {
    "collapsed": false
   },
   "outputs": [],
   "source": [
    "df7=sheet1_reindexing[98:106]"
   ]
  },
  {
   "cell_type": "code",
   "execution_count": 68,
   "metadata": {
    "collapsed": false
   },
   "outputs": [],
   "source": [
    "df7.columns = df7.iloc[0]"
   ]
  },
  {
   "cell_type": "code",
   "execution_count": 69,
   "metadata": {
    "collapsed": false
   },
   "outputs": [],
   "source": [
    "df7=df7.reindex(df7.index.drop(98))"
   ]
  },
  {
   "cell_type": "code",
   "execution_count": 70,
   "metadata": {
    "collapsed": true
   },
   "outputs": [],
   "source": [
    "df7['year_intake']= 2009"
   ]
  },
  {
   "cell_type": "code",
   "execution_count": 71,
   "metadata": {
    "collapsed": false
   },
   "outputs": [],
   "source": [
    "df7 = df7.reset_index()"
   ]
  },
  {
   "cell_type": "code",
   "execution_count": 72,
   "metadata": {
    "collapsed": false
   },
   "outputs": [],
   "source": [
    "del df7['index']"
   ]
  },
  {
   "cell_type": "code",
   "execution_count": 73,
   "metadata": {
    "collapsed": false
   },
   "outputs": [],
   "source": [
    "df7.columns = ['nan1','Branches','Class Strength_1','# of placed students_1','Self Placement','Class Strength_8','# of placed students_8','Self Placement','Class Strength','# of placed students','Self Placement','Total placement %','year_intake']"
   ]
  },
  {
   "cell_type": "code",
   "execution_count": 74,
   "metadata": {
    "collapsed": false
   },
   "outputs": [],
   "source": [
    "df7=df7.drop(\"Self Placement\",axis=1)"
   ]
  },
  {
   "cell_type": "code",
   "execution_count": 75,
   "metadata": {
    "collapsed": false
   },
   "outputs": [],
   "source": [
    "df7=df7.drop(\"nan1\",axis=1)\n",
    "df7 = df7.reset_index()\n",
    "del df7['index']"
   ]
  },
  {
   "cell_type": "code",
   "execution_count": 76,
   "metadata": {
    "collapsed": false
   },
   "outputs": [],
   "source": [
    "df8=sheet1_reindexing[112:120]"
   ]
  },
  {
   "cell_type": "code",
   "execution_count": 77,
   "metadata": {
    "collapsed": false
   },
   "outputs": [],
   "source": [
    "df8.columns = df8.iloc[0]\n",
    "df8=df8.reindex(df8.index.drop(112))\n",
    "df8['year_intake']= 2008\n",
    "df8 = df8.reset_index()\n",
    "del df8['index']\n",
    "df8.columns = ['nan1','Branches','Class Strength_1','# of placed students_1','Self Placement','Class Strength_8','# of placed students_8','Self Placement','Class Strength','# of placed students','Self Placement','Total placement %','year_intake']\n",
    "df8=df8.drop(\"Self Placement\",axis=1)\n",
    "df8=df8.drop(\"nan1\",axis=1)\n",
    "df8 = df8.reset_index()\n",
    "del df8['index']\n",
    "\n"
   ]
  },
  {
   "cell_type": "code",
   "execution_count": 78,
   "metadata": {
    "collapsed": true
   },
   "outputs": [],
   "source": [
    "df9=sheet1_reindexing[126:133]"
   ]
  },
  {
   "cell_type": "code",
   "execution_count": 79,
   "metadata": {
    "collapsed": true
   },
   "outputs": [],
   "source": [
    "df9.columns = df9.iloc[0]\n",
    "df9=df9.reindex(df9.index.drop(126))\n",
    "df9['year_intake']= 2007\n",
    "df9 = df9.reset_index()\n",
    "del df9['index']\n",
    "df9.columns = ['nan1','Branches','Class Strength_1','# of placed students_1','Self Placement','Class Strength_8','# of placed students_8','Self Placement','Class Strength','# of placed students','Self Placement','Total placement %','year_intake']\n",
    "df9=df9.drop(\"Self Placement\",axis=1)\n",
    "df9=df9.drop(\"nan1\",axis=1)"
   ]
  },
  {
   "cell_type": "code",
   "execution_count": 80,
   "metadata": {
    "collapsed": true
   },
   "outputs": [],
   "source": [
    "df10=sheet1_reindexing[138:145]"
   ]
  },
  {
   "cell_type": "code",
   "execution_count": 81,
   "metadata": {
    "collapsed": false
   },
   "outputs": [],
   "source": [
    "df10.columns = df10.iloc[0]\n",
    "df10=df10.reindex(df10.index.drop(138))\n",
    "df10['year_intake']= 2006\n",
    "df10 = df10.reset_index()\n",
    "del df10['index']\n",
    "df10.columns = ['nan1','Branches','Class Strength_1','# of placed students_1','Self Placement','Class Strength_8','# of placed students_8','Self Placement','Class Strength','# of placed students','Self Placement','Total placement %','year_intake']\n",
    "df10=df10.drop(\"Self Placement\",axis=1)\n",
    "df10=df10.drop(\"nan1\",axis=1)"
   ]
  },
  {
   "cell_type": "code",
   "execution_count": 82,
   "metadata": {
    "collapsed": true
   },
   "outputs": [],
   "source": [
    "df11=sheet1_reindexing[150:155]"
   ]
  },
  {
   "cell_type": "code",
   "execution_count": 83,
   "metadata": {
    "collapsed": true
   },
   "outputs": [],
   "source": [
    "df11.columns = df11.iloc[0]\n",
    "df11=df11.reindex(df11.index.drop(150))\n",
    "df11['year_intake']= 2005\n",
    "df11 = df11.reset_index()\n",
    "del df11['index']\n",
    "df11.columns = ['nan1','Branches','Class Strength_1','# of placed students_1','Self Placement','Class Strength_8','# of placed students_8','Self Placement','Class Strength','# of placed students','Self Placement','Total placement %','year_intake']\n",
    "df11=df11.drop(\"Self Placement\",axis=1)\n",
    "df11=df11.drop(\"nan1\",axis=1)"
   ]
  },
  {
   "cell_type": "code",
   "execution_count": 84,
   "metadata": {
    "collapsed": true
   },
   "outputs": [],
   "source": [
    "df12=sheet1_reindexing[160:165]"
   ]
  },
  {
   "cell_type": "code",
   "execution_count": 85,
   "metadata": {
    "collapsed": true
   },
   "outputs": [],
   "source": [
    "df12.columns = df12.iloc[0]\n",
    "df12=df12.reindex(df12.index.drop(160))\n",
    "df12['year_intake']= 2004\n",
    "df12 = df12.reset_index()\n",
    "del df12['index']\n",
    "df12.columns = ['nan1','Branches','Class Strength_1','# of placed students_1','Self Placement','Class Strength_8','# of placed students_8','Self Placement','Class Strength','# of placed students','Self Placement','Total placement %','year_intake']\n",
    "df12=df12.drop(\"Self Placement\",axis=1)\n",
    "df12=df12.drop(\"nan1\",axis=1)"
   ]
  },
  {
   "cell_type": "code",
   "execution_count": 86,
   "metadata": {
    "collapsed": true
   },
   "outputs": [],
   "source": [
    "df13=sheet1_reindexing[170:176]"
   ]
  },
  {
   "cell_type": "code",
   "execution_count": 87,
   "metadata": {
    "collapsed": true
   },
   "outputs": [],
   "source": [
    "df13.columns = df13.iloc[0]\n",
    "df13=df13.reindex(df13.index.drop(170))\n",
    "df13['year_intake']= 2003\n",
    "df13 = df13.reset_index()\n",
    "del df13['index']\n",
    "df13.columns = ['nan1','Branches','Class Strength_1','# of placed students_1','Self Placement','Class Strength_8','# of placed students_8','Self Placement','Class Strength','# of placed students','Self Placement','Total placement %','year_intake']\n",
    "df13=df13.drop(\"Self Placement\",axis=1)\n",
    "df13=df13.drop(\"nan1\",axis=1)"
   ]
  },
  {
   "cell_type": "markdown",
   "metadata": {
    "collapsed": false
   },
   "source": [
    "### create data frames for enrollment sheet"
   ]
  },
  {
   "cell_type": "code",
   "execution_count": 88,
   "metadata": {
    "collapsed": true
   },
   "outputs": [],
   "source": [
    "enroll_1=sheet2[3:35]"
   ]
  },
  {
   "cell_type": "code",
   "execution_count": 89,
   "metadata": {
    "collapsed": true
   },
   "outputs": [
    {
     "name": "stderr",
     "output_type": "stream",
     "text": [
      "/home/ravali/anaconda3/lib/python3.5/site-packages/pandas/core/indexing.py:288: SettingWithCopyWarning: \n",
      "A value is trying to be set on a copy of a slice from a DataFrame.\n",
      "Try using .loc[row_indexer,col_indexer] = value instead\n",
      "\n",
      "See the caveats in the documentation: http://pandas.pydata.org/pandas-docs/stable/indexing.html#indexing-view-versus-copy\n",
      "  self.obj[key] = _infer_fill_value(value)\n",
      "/home/ravali/anaconda3/lib/python3.5/site-packages/pandas/core/indexing.py:465: SettingWithCopyWarning: \n",
      "A value is trying to be set on a copy of a slice from a DataFrame.\n",
      "Try using .loc[row_indexer,col_indexer] = value instead\n",
      "\n",
      "See the caveats in the documentation: http://pandas.pydata.org/pandas-docs/stable/indexing.html#indexing-view-versus-copy\n",
      "  self.obj[item] = s\n"
     ]
    }
   ],
   "source": [
    "#enroll_1.loc[:, 'colyear'] = '1999 to '\n",
    "enroll_1.loc[:,'year'] = 'Aug 1999 to Feb 2001'\n",
    "#enroll_1.is_copy = True"
   ]
  },
  {
   "cell_type": "code",
   "execution_count": 90,
   "metadata": {
    "collapsed": true
   },
   "outputs": [
    {
     "name": "stderr",
     "output_type": "stream",
     "text": [
      "/home/ravali/anaconda3/lib/python3.5/site-packages/ipykernel/__main__.py:1: SettingWithCopyWarning: \n",
      "A value is trying to be set on a copy of a slice from a DataFrame.\n",
      "Try using .loc[row_indexer,col_indexer] = value instead\n",
      "\n",
      "See the caveats in the documentation: http://pandas.pydata.org/pandas-docs/stable/indexing.html#indexing-view-versus-copy\n",
      "  if __name__ == '__main__':\n"
     ]
    }
   ],
   "source": [
    "enroll_1['Batch']='Batch_1'"
   ]
  },
  {
   "cell_type": "code",
   "execution_count": 91,
   "metadata": {
    "collapsed": true
   },
   "outputs": [
    {
     "name": "stderr",
     "output_type": "stream",
     "text": [
      "/home/ravali/anaconda3/lib/python3.5/site-packages/ipykernel/__main__.py:1: SettingWithCopyWarning: \n",
      "A value is trying to be set on a copy of a slice from a DataFrame.\n",
      "Try using .loc[row_indexer,col_indexer] = value instead\n",
      "\n",
      "See the caveats in the documentation: http://pandas.pydata.org/pandas-docs/stable/indexing.html#indexing-view-versus-copy\n",
      "  if __name__ == '__main__':\n"
     ]
    }
   ],
   "source": [
    "enroll_1['Branch']='MS Ecommerce'"
   ]
  },
  {
   "cell_type": "code",
   "execution_count": 92,
   "metadata": {
    "collapsed": true
   },
   "outputs": [],
   "source": [
    "enroll_1.columns = enroll_1.iloc[0]"
   ]
  },
  {
   "cell_type": "code",
   "execution_count": 93,
   "metadata": {
    "collapsed": true
   },
   "outputs": [],
   "source": [
    "enroll_1=enroll_1.reindex(enroll_1.index.drop(3))"
   ]
  },
  {
   "cell_type": "code",
   "execution_count": 94,
   "metadata": {
    "collapsed": true
   },
   "outputs": [],
   "source": [
    "enroll_1 = enroll_1.reset_index()\n",
    "del enroll_1['index']"
   ]
  },
  {
   "cell_type": "code",
   "execution_count": 95,
   "metadata": {
    "collapsed": true
   },
   "outputs": [],
   "source": [
    "enroll_1.columns = ['NO','ROLL NO','NAME','Gender','State','nan','Year','Batch','Branch']"
   ]
  },
  {
   "cell_type": "code",
   "execution_count": 96,
   "metadata": {
    "collapsed": true
   },
   "outputs": [],
   "source": [
    "enroll_1=enroll_1.drop(\"nan\",axis=1)"
   ]
  },
  {
   "cell_type": "code",
   "execution_count": 97,
   "metadata": {
    "collapsed": true
   },
   "outputs": [],
   "source": [
    "enroll_1=enroll_1.set_index('NO')"
   ]
  },
  {
   "cell_type": "code",
   "execution_count": 98,
   "metadata": {
    "collapsed": true
   },
   "outputs": [],
   "source": [
    "enroll_2=sheet2[35:47]"
   ]
  },
  {
   "cell_type": "code",
   "execution_count": 99,
   "metadata": {
    "collapsed": true
   },
   "outputs": [
    {
     "name": "stderr",
     "output_type": "stream",
     "text": [
      "/home/ravali/anaconda3/lib/python3.5/site-packages/pandas/core/indexing.py:288: SettingWithCopyWarning: \n",
      "A value is trying to be set on a copy of a slice from a DataFrame.\n",
      "Try using .loc[row_indexer,col_indexer] = value instead\n",
      "\n",
      "See the caveats in the documentation: http://pandas.pydata.org/pandas-docs/stable/indexing.html#indexing-view-versus-copy\n",
      "  self.obj[key] = _infer_fill_value(value)\n",
      "/home/ravali/anaconda3/lib/python3.5/site-packages/pandas/core/indexing.py:465: SettingWithCopyWarning: \n",
      "A value is trying to be set on a copy of a slice from a DataFrame.\n",
      "Try using .loc[row_indexer,col_indexer] = value instead\n",
      "\n",
      "See the caveats in the documentation: http://pandas.pydata.org/pandas-docs/stable/indexing.html#indexing-view-versus-copy\n",
      "  self.obj[item] = s\n"
     ]
    }
   ],
   "source": [
    "enroll_2.loc[:,'year'] = ' Feb 2000 to Aug 2001'"
   ]
  },
  {
   "cell_type": "code",
   "execution_count": 100,
   "metadata": {
    "collapsed": true
   },
   "outputs": [
    {
     "name": "stderr",
     "output_type": "stream",
     "text": [
      "/home/ravali/anaconda3/lib/python3.5/site-packages/ipykernel/__main__.py:1: SettingWithCopyWarning: \n",
      "A value is trying to be set on a copy of a slice from a DataFrame.\n",
      "Try using .loc[row_indexer,col_indexer] = value instead\n",
      "\n",
      "See the caveats in the documentation: http://pandas.pydata.org/pandas-docs/stable/indexing.html#indexing-view-versus-copy\n",
      "  if __name__ == '__main__':\n"
     ]
    }
   ],
   "source": [
    "enroll_2['Batch']='Batch_2'"
   ]
  },
  {
   "cell_type": "code",
   "execution_count": 101,
   "metadata": {
    "collapsed": true
   },
   "outputs": [
    {
     "name": "stderr",
     "output_type": "stream",
     "text": [
      "/home/ravali/anaconda3/lib/python3.5/site-packages/ipykernel/__main__.py:1: SettingWithCopyWarning: \n",
      "A value is trying to be set on a copy of a slice from a DataFrame.\n",
      "Try using .loc[row_indexer,col_indexer] = value instead\n",
      "\n",
      "See the caveats in the documentation: http://pandas.pydata.org/pandas-docs/stable/indexing.html#indexing-view-versus-copy\n",
      "  if __name__ == '__main__':\n"
     ]
    }
   ],
   "source": [
    "enroll_2['Branch']='MS Ecommerce'"
   ]
  },
  {
   "cell_type": "code",
   "execution_count": 102,
   "metadata": {
    "collapsed": true
   },
   "outputs": [],
   "source": [
    "enroll_2.columns = ['NO','ROLL NO','NAME','Gender','State','nan','Year','Batch','Branch']"
   ]
  },
  {
   "cell_type": "code",
   "execution_count": 103,
   "metadata": {
    "collapsed": false
   },
   "outputs": [],
   "source": [
    "enroll_2=enroll_2.reindex(enroll_2.index.drop(35))"
   ]
  },
  {
   "cell_type": "code",
   "execution_count": 104,
   "metadata": {
    "collapsed": true
   },
   "outputs": [],
   "source": [
    "enroll_2 = enroll_2.reset_index()"
   ]
  },
  {
   "cell_type": "code",
   "execution_count": 105,
   "metadata": {
    "collapsed": false
   },
   "outputs": [],
   "source": [
    "del enroll_2['index']"
   ]
  },
  {
   "cell_type": "code",
   "execution_count": 106,
   "metadata": {
    "collapsed": true
   },
   "outputs": [],
   "source": [
    "enroll_2=enroll_2.drop(\"nan\",axis=1)"
   ]
  },
  {
   "cell_type": "code",
   "execution_count": 107,
   "metadata": {
    "collapsed": false
   },
   "outputs": [],
   "source": [
    "enroll_2=enroll_2.set_index('NO')"
   ]
  },
  {
   "cell_type": "code",
   "execution_count": 108,
   "metadata": {
    "collapsed": false
   },
   "outputs": [],
   "source": [
    "enroll_2.to_csv('enroll.csv')"
   ]
  },
  {
   "cell_type": "code",
   "execution_count": 109,
   "metadata": {
    "collapsed": false
   },
   "outputs": [],
   "source": [
    "enroll_3=sheet2[47:72]"
   ]
  },
  {
   "cell_type": "code",
   "execution_count": 110,
   "metadata": {
    "collapsed": true
   },
   "outputs": [
    {
     "name": "stderr",
     "output_type": "stream",
     "text": [
      "/home/ravali/anaconda3/lib/python3.5/site-packages/pandas/core/indexing.py:288: SettingWithCopyWarning: \n",
      "A value is trying to be set on a copy of a slice from a DataFrame.\n",
      "Try using .loc[row_indexer,col_indexer] = value instead\n",
      "\n",
      "See the caveats in the documentation: http://pandas.pydata.org/pandas-docs/stable/indexing.html#indexing-view-versus-copy\n",
      "  self.obj[key] = _infer_fill_value(value)\n",
      "/home/ravali/anaconda3/lib/python3.5/site-packages/pandas/core/indexing.py:465: SettingWithCopyWarning: \n",
      "A value is trying to be set on a copy of a slice from a DataFrame.\n",
      "Try using .loc[row_indexer,col_indexer] = value instead\n",
      "\n",
      "See the caveats in the documentation: http://pandas.pydata.org/pandas-docs/stable/indexing.html#indexing-view-versus-copy\n",
      "  self.obj[item] = s\n"
     ]
    }
   ],
   "source": [
    "enroll_3.loc[:,'year'] = 'Aug 2000 to Feb 2002'"
   ]
  },
  {
   "cell_type": "code",
   "execution_count": 111,
   "metadata": {
    "collapsed": true
   },
   "outputs": [
    {
     "name": "stderr",
     "output_type": "stream",
     "text": [
      "/home/ravali/anaconda3/lib/python3.5/site-packages/ipykernel/__main__.py:1: SettingWithCopyWarning: \n",
      "A value is trying to be set on a copy of a slice from a DataFrame.\n",
      "Try using .loc[row_indexer,col_indexer] = value instead\n",
      "\n",
      "See the caveats in the documentation: http://pandas.pydata.org/pandas-docs/stable/indexing.html#indexing-view-versus-copy\n",
      "  if __name__ == '__main__':\n"
     ]
    }
   ],
   "source": [
    "enroll_3['Batch']='Batch_3'"
   ]
  },
  {
   "cell_type": "code",
   "execution_count": 112,
   "metadata": {
    "collapsed": true
   },
   "outputs": [
    {
     "name": "stderr",
     "output_type": "stream",
     "text": [
      "/home/ravali/anaconda3/lib/python3.5/site-packages/ipykernel/__main__.py:1: SettingWithCopyWarning: \n",
      "A value is trying to be set on a copy of a slice from a DataFrame.\n",
      "Try using .loc[row_indexer,col_indexer] = value instead\n",
      "\n",
      "See the caveats in the documentation: http://pandas.pydata.org/pandas-docs/stable/indexing.html#indexing-view-versus-copy\n",
      "  if __name__ == '__main__':\n"
     ]
    }
   ],
   "source": [
    "enroll_3['Branch']='MS Ecommerce'"
   ]
  },
  {
   "cell_type": "code",
   "execution_count": 113,
   "metadata": {
    "collapsed": true
   },
   "outputs": [],
   "source": [
    "enroll_3.columns = ['NO','ROLL NO','NAME','Gender','State','nan','Year','Batch','Branch']"
   ]
  },
  {
   "cell_type": "code",
   "execution_count": 114,
   "metadata": {
    "collapsed": false
   },
   "outputs": [],
   "source": [
    "enroll_3=enroll_3.reindex(enroll_3.index.drop(47))"
   ]
  },
  {
   "cell_type": "code",
   "execution_count": 115,
   "metadata": {
    "collapsed": true
   },
   "outputs": [],
   "source": [
    "enroll_3 = enroll_3.reset_index()"
   ]
  },
  {
   "cell_type": "code",
   "execution_count": 116,
   "metadata": {
    "collapsed": true
   },
   "outputs": [],
   "source": [
    "del enroll_3['index']"
   ]
  },
  {
   "cell_type": "code",
   "execution_count": 117,
   "metadata": {
    "collapsed": true
   },
   "outputs": [],
   "source": [
    "enroll_3=enroll_3.drop(\"nan\",axis=1)"
   ]
  },
  {
   "cell_type": "code",
   "execution_count": 118,
   "metadata": {
    "collapsed": true
   },
   "outputs": [],
   "source": [
    "enroll_3=enroll_3.set_index('NO')"
   ]
  },
  {
   "cell_type": "code",
   "execution_count": 119,
   "metadata": {
    "collapsed": false
   },
   "outputs": [],
   "source": [
    "enroll_4=sheet2[73:78]"
   ]
  },
  {
   "cell_type": "code",
   "execution_count": 120,
   "metadata": {
    "collapsed": true
   },
   "outputs": [
    {
     "name": "stderr",
     "output_type": "stream",
     "text": [
      "/home/ravali/anaconda3/lib/python3.5/site-packages/pandas/core/indexing.py:288: SettingWithCopyWarning: \n",
      "A value is trying to be set on a copy of a slice from a DataFrame.\n",
      "Try using .loc[row_indexer,col_indexer] = value instead\n",
      "\n",
      "See the caveats in the documentation: http://pandas.pydata.org/pandas-docs/stable/indexing.html#indexing-view-versus-copy\n",
      "  self.obj[key] = _infer_fill_value(value)\n",
      "/home/ravali/anaconda3/lib/python3.5/site-packages/pandas/core/indexing.py:465: SettingWithCopyWarning: \n",
      "A value is trying to be set on a copy of a slice from a DataFrame.\n",
      "Try using .loc[row_indexer,col_indexer] = value instead\n",
      "\n",
      "See the caveats in the documentation: http://pandas.pydata.org/pandas-docs/stable/indexing.html#indexing-view-versus-copy\n",
      "  self.obj[item] = s\n",
      "/home/ravali/anaconda3/lib/python3.5/site-packages/ipykernel/__main__.py:2: SettingWithCopyWarning: \n",
      "A value is trying to be set on a copy of a slice from a DataFrame.\n",
      "Try using .loc[row_indexer,col_indexer] = value instead\n",
      "\n",
      "See the caveats in the documentation: http://pandas.pydata.org/pandas-docs/stable/indexing.html#indexing-view-versus-copy\n",
      "  from ipykernel import kernelapp as app\n",
      "/home/ravali/anaconda3/lib/python3.5/site-packages/ipykernel/__main__.py:3: SettingWithCopyWarning: \n",
      "A value is trying to be set on a copy of a slice from a DataFrame.\n",
      "Try using .loc[row_indexer,col_indexer] = value instead\n",
      "\n",
      "See the caveats in the documentation: http://pandas.pydata.org/pandas-docs/stable/indexing.html#indexing-view-versus-copy\n",
      "  app.launch_new_instance()\n"
     ]
    }
   ],
   "source": [
    "enroll_4.loc[:,'year'] = 'Feb 2001 to Aug 2002'\n",
    "enroll_4['Batch']='Batch_4'\n",
    "enroll_4['Branch']='MS Ecommerce'"
   ]
  },
  {
   "cell_type": "code",
   "execution_count": 121,
   "metadata": {
    "collapsed": true
   },
   "outputs": [],
   "source": [
    "enroll_4.columns = ['NO','ROLL NO','NAME','Gender','State','nan','Year','Batch','Branch']"
   ]
  },
  {
   "cell_type": "code",
   "execution_count": 122,
   "metadata": {
    "collapsed": true
   },
   "outputs": [],
   "source": [
    "enroll_4 = enroll_4.reset_index()"
   ]
  },
  {
   "cell_type": "code",
   "execution_count": 123,
   "metadata": {
    "collapsed": true
   },
   "outputs": [],
   "source": [
    "del enroll_4['index']"
   ]
  },
  {
   "cell_type": "code",
   "execution_count": 124,
   "metadata": {
    "collapsed": true
   },
   "outputs": [],
   "source": [
    "enroll_4=enroll_4.drop(\"nan\",axis=1)"
   ]
  },
  {
   "cell_type": "code",
   "execution_count": 125,
   "metadata": {
    "collapsed": true
   },
   "outputs": [],
   "source": [
    "enroll_4=enroll_4.set_index('NO')"
   ]
  },
  {
   "cell_type": "code",
   "execution_count": 126,
   "metadata": {
    "collapsed": true
   },
   "outputs": [
    {
     "name": "stderr",
     "output_type": "stream",
     "text": [
      "/home/ravali/anaconda3/lib/python3.5/site-packages/pandas/core/indexing.py:288: SettingWithCopyWarning: \n",
      "A value is trying to be set on a copy of a slice from a DataFrame.\n",
      "Try using .loc[row_indexer,col_indexer] = value instead\n",
      "\n",
      "See the caveats in the documentation: http://pandas.pydata.org/pandas-docs/stable/indexing.html#indexing-view-versus-copy\n",
      "  self.obj[key] = _infer_fill_value(value)\n",
      "/home/ravali/anaconda3/lib/python3.5/site-packages/pandas/core/indexing.py:465: SettingWithCopyWarning: \n",
      "A value is trying to be set on a copy of a slice from a DataFrame.\n",
      "Try using .loc[row_indexer,col_indexer] = value instead\n",
      "\n",
      "See the caveats in the documentation: http://pandas.pydata.org/pandas-docs/stable/indexing.html#indexing-view-versus-copy\n",
      "  self.obj[item] = s\n",
      "/home/ravali/anaconda3/lib/python3.5/site-packages/ipykernel/__main__.py:3: SettingWithCopyWarning: \n",
      "A value is trying to be set on a copy of a slice from a DataFrame.\n",
      "Try using .loc[row_indexer,col_indexer] = value instead\n",
      "\n",
      "See the caveats in the documentation: http://pandas.pydata.org/pandas-docs/stable/indexing.html#indexing-view-versus-copy\n",
      "  app.launch_new_instance()\n",
      "/home/ravali/anaconda3/lib/python3.5/site-packages/ipykernel/__main__.py:4: SettingWithCopyWarning: \n",
      "A value is trying to be set on a copy of a slice from a DataFrame.\n",
      "Try using .loc[row_indexer,col_indexer] = value instead\n",
      "\n",
      "See the caveats in the documentation: http://pandas.pydata.org/pandas-docs/stable/indexing.html#indexing-view-versus-copy\n"
     ]
    }
   ],
   "source": [
    "enroll_5=sheet2[79:84]\n",
    "enroll_5.loc[:,'year'] = 'Aug 2001 to Feb 2003'\n",
    "enroll_5['Batch']='Batch_5'\n",
    "enroll_5['Branch']='MS Ecommerce'\n",
    "enroll_5.columns = ['NO','ROLL NO','NAME','Gender','State','nan','Year','Batch','Branch']"
   ]
  },
  {
   "cell_type": "code",
   "execution_count": 127,
   "metadata": {
    "collapsed": false
   },
   "outputs": [],
   "source": [
    "enroll_5 = enroll_5.reset_index()\n",
    "del enroll_5['index']\n",
    "enroll_5=enroll_5.drop(\"nan\",axis=1)\n",
    "enroll_5=enroll_5.set_index('NO')"
   ]
  },
  {
   "cell_type": "code",
   "execution_count": 128,
   "metadata": {
    "collapsed": true
   },
   "outputs": [
    {
     "name": "stderr",
     "output_type": "stream",
     "text": [
      "/home/ravali/anaconda3/lib/python3.5/site-packages/pandas/core/indexing.py:288: SettingWithCopyWarning: \n",
      "A value is trying to be set on a copy of a slice from a DataFrame.\n",
      "Try using .loc[row_indexer,col_indexer] = value instead\n",
      "\n",
      "See the caveats in the documentation: http://pandas.pydata.org/pandas-docs/stable/indexing.html#indexing-view-versus-copy\n",
      "  self.obj[key] = _infer_fill_value(value)\n",
      "/home/ravali/anaconda3/lib/python3.5/site-packages/pandas/core/indexing.py:465: SettingWithCopyWarning: \n",
      "A value is trying to be set on a copy of a slice from a DataFrame.\n",
      "Try using .loc[row_indexer,col_indexer] = value instead\n",
      "\n",
      "See the caveats in the documentation: http://pandas.pydata.org/pandas-docs/stable/indexing.html#indexing-view-versus-copy\n",
      "  self.obj[item] = s\n",
      "/home/ravali/anaconda3/lib/python3.5/site-packages/ipykernel/__main__.py:3: SettingWithCopyWarning: \n",
      "A value is trying to be set on a copy of a slice from a DataFrame.\n",
      "Try using .loc[row_indexer,col_indexer] = value instead\n",
      "\n",
      "See the caveats in the documentation: http://pandas.pydata.org/pandas-docs/stable/indexing.html#indexing-view-versus-copy\n",
      "  app.launch_new_instance()\n",
      "/home/ravali/anaconda3/lib/python3.5/site-packages/ipykernel/__main__.py:4: SettingWithCopyWarning: \n",
      "A value is trying to be set on a copy of a slice from a DataFrame.\n",
      "Try using .loc[row_indexer,col_indexer] = value instead\n",
      "\n",
      "See the caveats in the documentation: http://pandas.pydata.org/pandas-docs/stable/indexing.html#indexing-view-versus-copy\n"
     ]
    }
   ],
   "source": [
    "enroll_6=sheet2[87:102]\n",
    "enroll_6.loc[:,'year'] = 'Aug 1998 to Feb 2000'\n",
    "enroll_6['Batch']='Batch_1'\n",
    "enroll_6['Branch']='MS MEDICAL SOFTWARE'\n",
    "enroll_6.columns = ['NO','ROLL NO','NAME','Gender','State','nan','Year','Batch','Branch']"
   ]
  },
  {
   "cell_type": "code",
   "execution_count": 129,
   "metadata": {
    "collapsed": false
   },
   "outputs": [],
   "source": [
    "enroll_6 = enroll_6.reset_index()\n",
    "del enroll_6['index']\n",
    "enroll_6=enroll_6.drop(\"nan\",axis=1)\n",
    "enroll_6=enroll_6.set_index('NO')"
   ]
  },
  {
   "cell_type": "code",
   "execution_count": 130,
   "metadata": {
    "collapsed": true
   },
   "outputs": [
    {
     "name": "stderr",
     "output_type": "stream",
     "text": [
      "/home/ravali/anaconda3/lib/python3.5/site-packages/pandas/core/indexing.py:288: SettingWithCopyWarning: \n",
      "A value is trying to be set on a copy of a slice from a DataFrame.\n",
      "Try using .loc[row_indexer,col_indexer] = value instead\n",
      "\n",
      "See the caveats in the documentation: http://pandas.pydata.org/pandas-docs/stable/indexing.html#indexing-view-versus-copy\n",
      "  self.obj[key] = _infer_fill_value(value)\n",
      "/home/ravali/anaconda3/lib/python3.5/site-packages/pandas/core/indexing.py:465: SettingWithCopyWarning: \n",
      "A value is trying to be set on a copy of a slice from a DataFrame.\n",
      "Try using .loc[row_indexer,col_indexer] = value instead\n",
      "\n",
      "See the caveats in the documentation: http://pandas.pydata.org/pandas-docs/stable/indexing.html#indexing-view-versus-copy\n",
      "  self.obj[item] = s\n",
      "/home/ravali/anaconda3/lib/python3.5/site-packages/ipykernel/__main__.py:3: SettingWithCopyWarning: \n",
      "A value is trying to be set on a copy of a slice from a DataFrame.\n",
      "Try using .loc[row_indexer,col_indexer] = value instead\n",
      "\n",
      "See the caveats in the documentation: http://pandas.pydata.org/pandas-docs/stable/indexing.html#indexing-view-versus-copy\n",
      "  app.launch_new_instance()\n",
      "/home/ravali/anaconda3/lib/python3.5/site-packages/ipykernel/__main__.py:4: SettingWithCopyWarning: \n",
      "A value is trying to be set on a copy of a slice from a DataFrame.\n",
      "Try using .loc[row_indexer,col_indexer] = value instead\n",
      "\n",
      "See the caveats in the documentation: http://pandas.pydata.org/pandas-docs/stable/indexing.html#indexing-view-versus-copy\n"
     ]
    }
   ],
   "source": [
    "enroll_7=sheet2[103:113]\n",
    "enroll_7.loc[:,'year'] = 'Feb 1999 to Aug 2000'\n",
    "enroll_7['Batch']='Batch_2'\n",
    "enroll_7['Branch']='MS MEDICAL SOFTWARE'\n",
    "enroll_7.columns = ['NO','ROLL NO','NAME','Gender','State','nan','Year','Batch','Branch']\n",
    "enroll_7 = enroll_7.reset_index()\n",
    "del enroll_7['index']\n",
    "enroll_7=enroll_7.drop(\"nan\",axis=1)\n",
    "enroll_7=enroll_7.set_index('NO')"
   ]
  },
  {
   "cell_type": "code",
   "execution_count": null,
   "metadata": {
    "collapsed": false
   },
   "outputs": [],
   "source": []
  },
  {
   "cell_type": "code",
   "execution_count": 131,
   "metadata": {
    "collapsed": true
   },
   "outputs": [
    {
     "name": "stderr",
     "output_type": "stream",
     "text": [
      "/home/ravali/anaconda3/lib/python3.5/site-packages/pandas/core/indexing.py:288: SettingWithCopyWarning: \n",
      "A value is trying to be set on a copy of a slice from a DataFrame.\n",
      "Try using .loc[row_indexer,col_indexer] = value instead\n",
      "\n",
      "See the caveats in the documentation: http://pandas.pydata.org/pandas-docs/stable/indexing.html#indexing-view-versus-copy\n",
      "  self.obj[key] = _infer_fill_value(value)\n",
      "/home/ravali/anaconda3/lib/python3.5/site-packages/pandas/core/indexing.py:465: SettingWithCopyWarning: \n",
      "A value is trying to be set on a copy of a slice from a DataFrame.\n",
      "Try using .loc[row_indexer,col_indexer] = value instead\n",
      "\n",
      "See the caveats in the documentation: http://pandas.pydata.org/pandas-docs/stable/indexing.html#indexing-view-versus-copy\n",
      "  self.obj[item] = s\n",
      "/home/ravali/anaconda3/lib/python3.5/site-packages/ipykernel/__main__.py:3: SettingWithCopyWarning: \n",
      "A value is trying to be set on a copy of a slice from a DataFrame.\n",
      "Try using .loc[row_indexer,col_indexer] = value instead\n",
      "\n",
      "See the caveats in the documentation: http://pandas.pydata.org/pandas-docs/stable/indexing.html#indexing-view-versus-copy\n",
      "  app.launch_new_instance()\n",
      "/home/ravali/anaconda3/lib/python3.5/site-packages/ipykernel/__main__.py:4: SettingWithCopyWarning: \n",
      "A value is trying to be set on a copy of a slice from a DataFrame.\n",
      "Try using .loc[row_indexer,col_indexer] = value instead\n",
      "\n",
      "See the caveats in the documentation: http://pandas.pydata.org/pandas-docs/stable/indexing.html#indexing-view-versus-copy\n"
     ]
    }
   ],
   "source": [
    "enroll_8=sheet2[114:124]\n",
    "enroll_8.loc[:,'year'] = 'Aug 1999 to Feb 2001'\n",
    "enroll_8['Batch']='Batch_3'\n",
    "enroll_8['Branch']='MS MEDICAL SOFTWARE'\n",
    "enroll_8.columns = ['NO','ROLL NO','NAME','Gender','State','nan','Year','Batch','Branch']\n",
    "enroll_8 = enroll_8.reset_index()\n",
    "del enroll_8['index']\n",
    "enroll_8=enroll_8.drop(\"nan\",axis=1)\n",
    "enroll_8=enroll_8.set_index('NO')\n"
   ]
  },
  {
   "cell_type": "code",
   "execution_count": 132,
   "metadata": {
    "collapsed": true
   },
   "outputs": [
    {
     "name": "stderr",
     "output_type": "stream",
     "text": [
      "/home/ravali/anaconda3/lib/python3.5/site-packages/pandas/core/indexing.py:288: SettingWithCopyWarning: \n",
      "A value is trying to be set on a copy of a slice from a DataFrame.\n",
      "Try using .loc[row_indexer,col_indexer] = value instead\n",
      "\n",
      "See the caveats in the documentation: http://pandas.pydata.org/pandas-docs/stable/indexing.html#indexing-view-versus-copy\n",
      "  self.obj[key] = _infer_fill_value(value)\n",
      "/home/ravali/anaconda3/lib/python3.5/site-packages/pandas/core/indexing.py:465: SettingWithCopyWarning: \n",
      "A value is trying to be set on a copy of a slice from a DataFrame.\n",
      "Try using .loc[row_indexer,col_indexer] = value instead\n",
      "\n",
      "See the caveats in the documentation: http://pandas.pydata.org/pandas-docs/stable/indexing.html#indexing-view-versus-copy\n",
      "  self.obj[item] = s\n",
      "/home/ravali/anaconda3/lib/python3.5/site-packages/ipykernel/__main__.py:3: SettingWithCopyWarning: \n",
      "A value is trying to be set on a copy of a slice from a DataFrame.\n",
      "Try using .loc[row_indexer,col_indexer] = value instead\n",
      "\n",
      "See the caveats in the documentation: http://pandas.pydata.org/pandas-docs/stable/indexing.html#indexing-view-versus-copy\n",
      "  app.launch_new_instance()\n",
      "/home/ravali/anaconda3/lib/python3.5/site-packages/ipykernel/__main__.py:4: SettingWithCopyWarning: \n",
      "A value is trying to be set on a copy of a slice from a DataFrame.\n",
      "Try using .loc[row_indexer,col_indexer] = value instead\n",
      "\n",
      "See the caveats in the documentation: http://pandas.pydata.org/pandas-docs/stable/indexing.html#indexing-view-versus-copy\n"
     ]
    }
   ],
   "source": [
    "enroll_9=sheet2[125:132]\n",
    "enroll_9.loc[:,'year'] = 'Aug 2000 to Feb 2002'\n",
    "enroll_9['Batch']='Batch_4'\n",
    "enroll_9['Branch']='MS MEDICAL SOFTWARE'\n",
    "enroll_9.columns = ['NO','ROLL NO','NAME','Gender','State','nan','Year','Batch','Branch']\n",
    "enroll_9 = enroll_9.reset_index()\n",
    "del enroll_9['index']\n",
    "enroll_9=enroll_9.drop(\"nan\",axis=1)\n",
    "enroll_9=enroll_9.set_index('NO')\n"
   ]
  },
  {
   "cell_type": "code",
   "execution_count": 133,
   "metadata": {
    "collapsed": true
   },
   "outputs": [
    {
     "name": "stderr",
     "output_type": "stream",
     "text": [
      "/home/ravali/anaconda3/lib/python3.5/site-packages/pandas/core/indexing.py:288: SettingWithCopyWarning: \n",
      "A value is trying to be set on a copy of a slice from a DataFrame.\n",
      "Try using .loc[row_indexer,col_indexer] = value instead\n",
      "\n",
      "See the caveats in the documentation: http://pandas.pydata.org/pandas-docs/stable/indexing.html#indexing-view-versus-copy\n",
      "  self.obj[key] = _infer_fill_value(value)\n",
      "/home/ravali/anaconda3/lib/python3.5/site-packages/pandas/core/indexing.py:465: SettingWithCopyWarning: \n",
      "A value is trying to be set on a copy of a slice from a DataFrame.\n",
      "Try using .loc[row_indexer,col_indexer] = value instead\n",
      "\n",
      "See the caveats in the documentation: http://pandas.pydata.org/pandas-docs/stable/indexing.html#indexing-view-versus-copy\n",
      "  self.obj[item] = s\n",
      "/home/ravali/anaconda3/lib/python3.5/site-packages/ipykernel/__main__.py:3: SettingWithCopyWarning: \n",
      "A value is trying to be set on a copy of a slice from a DataFrame.\n",
      "Try using .loc[row_indexer,col_indexer] = value instead\n",
      "\n",
      "See the caveats in the documentation: http://pandas.pydata.org/pandas-docs/stable/indexing.html#indexing-view-versus-copy\n",
      "  app.launch_new_instance()\n",
      "/home/ravali/anaconda3/lib/python3.5/site-packages/ipykernel/__main__.py:4: SettingWithCopyWarning: \n",
      "A value is trying to be set on a copy of a slice from a DataFrame.\n",
      "Try using .loc[row_indexer,col_indexer] = value instead\n",
      "\n",
      "See the caveats in the documentation: http://pandas.pydata.org/pandas-docs/stable/indexing.html#indexing-view-versus-copy\n"
     ]
    }
   ],
   "source": [
    "enroll_10=sheet2[133:150]\n",
    "enroll_10.loc[:,'year'] = 'Aug 2001 to Feb 2003'\n",
    "enroll_10['Batch']='Batch_5'\n",
    "enroll_10['Branch']='MS MEDICAL SOFTWARE'\n",
    "enroll_10.columns = ['NO','ROLL NO','NAME','Gender','State','nan','Year','Batch','Branch']\n",
    "enroll_10 = enroll_10.reset_index()\n",
    "del enroll_10['index']\n",
    "enroll_10=enroll_10.drop(\"nan\",axis=1)\n",
    "enroll_10=enroll_10.set_index('NO')\n"
   ]
  },
  {
   "cell_type": "code",
   "execution_count": 134,
   "metadata": {
    "collapsed": true
   },
   "outputs": [
    {
     "name": "stderr",
     "output_type": "stream",
     "text": [
      "/home/ravali/anaconda3/lib/python3.5/site-packages/pandas/core/indexing.py:288: SettingWithCopyWarning: \n",
      "A value is trying to be set on a copy of a slice from a DataFrame.\n",
      "Try using .loc[row_indexer,col_indexer] = value instead\n",
      "\n",
      "See the caveats in the documentation: http://pandas.pydata.org/pandas-docs/stable/indexing.html#indexing-view-versus-copy\n",
      "  self.obj[key] = _infer_fill_value(value)\n",
      "/home/ravali/anaconda3/lib/python3.5/site-packages/pandas/core/indexing.py:465: SettingWithCopyWarning: \n",
      "A value is trying to be set on a copy of a slice from a DataFrame.\n",
      "Try using .loc[row_indexer,col_indexer] = value instead\n",
      "\n",
      "See the caveats in the documentation: http://pandas.pydata.org/pandas-docs/stable/indexing.html#indexing-view-versus-copy\n",
      "  self.obj[item] = s\n",
      "/home/ravali/anaconda3/lib/python3.5/site-packages/ipykernel/__main__.py:3: SettingWithCopyWarning: \n",
      "A value is trying to be set on a copy of a slice from a DataFrame.\n",
      "Try using .loc[row_indexer,col_indexer] = value instead\n",
      "\n",
      "See the caveats in the documentation: http://pandas.pydata.org/pandas-docs/stable/indexing.html#indexing-view-versus-copy\n",
      "  app.launch_new_instance()\n",
      "/home/ravali/anaconda3/lib/python3.5/site-packages/ipykernel/__main__.py:4: SettingWithCopyWarning: \n",
      "A value is trying to be set on a copy of a slice from a DataFrame.\n",
      "Try using .loc[row_indexer,col_indexer] = value instead\n",
      "\n",
      "See the caveats in the documentation: http://pandas.pydata.org/pandas-docs/stable/indexing.html#indexing-view-versus-copy\n"
     ]
    }
   ],
   "source": [
    "enroll_11=sheet2[151:166]\n",
    "enroll_11.loc[:,'year'] = 'Feb 2002 to Aug 2003'\n",
    "enroll_11['Batch']='Batch_6'\n",
    "enroll_11['Branch']='MS MEDICAL SOFTWARE'\n",
    "enroll_11.columns = ['NO','ROLL NO','NAME','Gender','State','nan','Year','Batch','Branch']\n",
    "enroll_11 = enroll_11.reset_index()\n",
    "del enroll_11['index']\n",
    "enroll_11=enroll_11.drop(\"nan\",axis=1)\n",
    "enroll_11=enroll_11.set_index('NO')\n"
   ]
  },
  {
   "cell_type": "code",
   "execution_count": 135,
   "metadata": {
    "collapsed": true
   },
   "outputs": [
    {
     "name": "stderr",
     "output_type": "stream",
     "text": [
      "/home/ravali/anaconda3/lib/python3.5/site-packages/pandas/core/indexing.py:288: SettingWithCopyWarning: \n",
      "A value is trying to be set on a copy of a slice from a DataFrame.\n",
      "Try using .loc[row_indexer,col_indexer] = value instead\n",
      "\n",
      "See the caveats in the documentation: http://pandas.pydata.org/pandas-docs/stable/indexing.html#indexing-view-versus-copy\n",
      "  self.obj[key] = _infer_fill_value(value)\n",
      "/home/ravali/anaconda3/lib/python3.5/site-packages/pandas/core/indexing.py:465: SettingWithCopyWarning: \n",
      "A value is trying to be set on a copy of a slice from a DataFrame.\n",
      "Try using .loc[row_indexer,col_indexer] = value instead\n",
      "\n",
      "See the caveats in the documentation: http://pandas.pydata.org/pandas-docs/stable/indexing.html#indexing-view-versus-copy\n",
      "  self.obj[item] = s\n",
      "/home/ravali/anaconda3/lib/python3.5/site-packages/ipykernel/__main__.py:3: SettingWithCopyWarning: \n",
      "A value is trying to be set on a copy of a slice from a DataFrame.\n",
      "Try using .loc[row_indexer,col_indexer] = value instead\n",
      "\n",
      "See the caveats in the documentation: http://pandas.pydata.org/pandas-docs/stable/indexing.html#indexing-view-versus-copy\n",
      "  app.launch_new_instance()\n",
      "/home/ravali/anaconda3/lib/python3.5/site-packages/ipykernel/__main__.py:4: SettingWithCopyWarning: \n",
      "A value is trying to be set on a copy of a slice from a DataFrame.\n",
      "Try using .loc[row_indexer,col_indexer] = value instead\n",
      "\n",
      "See the caveats in the documentation: http://pandas.pydata.org/pandas-docs/stable/indexing.html#indexing-view-versus-copy\n"
     ]
    }
   ],
   "source": [
    "enroll_12=sheet2[167:172]\n",
    "enroll_12.loc[:,'year'] = 'Aug 2002 to Feb 2004'\n",
    "enroll_12['Batch']='Batch_7'\n",
    "enroll_12['Branch']='MS MEDICAL SOFTWARE'\n",
    "enroll_12.columns = ['NO','ROLL NO','NAME','Gender','State','nan','Year','Batch','Branch']\n",
    "enroll_12 = enroll_12.reset_index()\n",
    "del enroll_12['index']\n",
    "enroll_12=enroll_12.drop(\"nan\",axis=1)\n",
    "enroll_12=enroll_12.set_index('NO')\n"
   ]
  },
  {
   "cell_type": "code",
   "execution_count": 136,
   "metadata": {
    "collapsed": true
   },
   "outputs": [
    {
     "name": "stderr",
     "output_type": "stream",
     "text": [
      "/home/ravali/anaconda3/lib/python3.5/site-packages/pandas/core/indexing.py:288: SettingWithCopyWarning: \n",
      "A value is trying to be set on a copy of a slice from a DataFrame.\n",
      "Try using .loc[row_indexer,col_indexer] = value instead\n",
      "\n",
      "See the caveats in the documentation: http://pandas.pydata.org/pandas-docs/stable/indexing.html#indexing-view-versus-copy\n",
      "  self.obj[key] = _infer_fill_value(value)\n",
      "/home/ravali/anaconda3/lib/python3.5/site-packages/pandas/core/indexing.py:465: SettingWithCopyWarning: \n",
      "A value is trying to be set on a copy of a slice from a DataFrame.\n",
      "Try using .loc[row_indexer,col_indexer] = value instead\n",
      "\n",
      "See the caveats in the documentation: http://pandas.pydata.org/pandas-docs/stable/indexing.html#indexing-view-versus-copy\n",
      "  self.obj[item] = s\n",
      "/home/ravali/anaconda3/lib/python3.5/site-packages/ipykernel/__main__.py:3: SettingWithCopyWarning: \n",
      "A value is trying to be set on a copy of a slice from a DataFrame.\n",
      "Try using .loc[row_indexer,col_indexer] = value instead\n",
      "\n",
      "See the caveats in the documentation: http://pandas.pydata.org/pandas-docs/stable/indexing.html#indexing-view-versus-copy\n",
      "  app.launch_new_instance()\n",
      "/home/ravali/anaconda3/lib/python3.5/site-packages/ipykernel/__main__.py:4: SettingWithCopyWarning: \n",
      "A value is trying to be set on a copy of a slice from a DataFrame.\n",
      "Try using .loc[row_indexer,col_indexer] = value instead\n",
      "\n",
      "See the caveats in the documentation: http://pandas.pydata.org/pandas-docs/stable/indexing.html#indexing-view-versus-copy\n"
     ]
    }
   ],
   "source": [
    "enroll_13=sheet2[173:189]\n",
    "enroll_13.loc[:,'year'] = 'Feb 2003 to Feb 2005'\n",
    "enroll_13['Batch']='Batch_8'\n",
    "enroll_13['Branch']='MS MEDICAL SOFTWARE'\n",
    "enroll_13.columns = ['NO','ROLL NO','NAME','Gender','State','nan','Year','Batch','Branch']\n",
    "enroll_13 = enroll_13.reset_index()\n",
    "del enroll_13['index']\n",
    "enroll_13=enroll_13.drop(\"nan\",axis=1)\n",
    "enroll_13=enroll_13.set_index('NO')\n"
   ]
  },
  {
   "cell_type": "code",
   "execution_count": 137,
   "metadata": {
    "collapsed": true
   },
   "outputs": [
    {
     "name": "stderr",
     "output_type": "stream",
     "text": [
      "/home/ravali/anaconda3/lib/python3.5/site-packages/pandas/core/indexing.py:288: SettingWithCopyWarning: \n",
      "A value is trying to be set on a copy of a slice from a DataFrame.\n",
      "Try using .loc[row_indexer,col_indexer] = value instead\n",
      "\n",
      "See the caveats in the documentation: http://pandas.pydata.org/pandas-docs/stable/indexing.html#indexing-view-versus-copy\n",
      "  self.obj[key] = _infer_fill_value(value)\n",
      "/home/ravali/anaconda3/lib/python3.5/site-packages/pandas/core/indexing.py:465: SettingWithCopyWarning: \n",
      "A value is trying to be set on a copy of a slice from a DataFrame.\n",
      "Try using .loc[row_indexer,col_indexer] = value instead\n",
      "\n",
      "See the caveats in the documentation: http://pandas.pydata.org/pandas-docs/stable/indexing.html#indexing-view-versus-copy\n",
      "  self.obj[item] = s\n",
      "/home/ravali/anaconda3/lib/python3.5/site-packages/ipykernel/__main__.py:3: SettingWithCopyWarning: \n",
      "A value is trying to be set on a copy of a slice from a DataFrame.\n",
      "Try using .loc[row_indexer,col_indexer] = value instead\n",
      "\n",
      "See the caveats in the documentation: http://pandas.pydata.org/pandas-docs/stable/indexing.html#indexing-view-versus-copy\n",
      "  app.launch_new_instance()\n",
      "/home/ravali/anaconda3/lib/python3.5/site-packages/ipykernel/__main__.py:4: SettingWithCopyWarning: \n",
      "A value is trying to be set on a copy of a slice from a DataFrame.\n",
      "Try using .loc[row_indexer,col_indexer] = value instead\n",
      "\n",
      "See the caveats in the documentation: http://pandas.pydata.org/pandas-docs/stable/indexing.html#indexing-view-versus-copy\n"
     ]
    }
   ],
   "source": [
    "enroll_14=sheet2[190:206]\n",
    "enroll_14.loc[:,'year'] = 'Aug 2003 to Aug 2005'\n",
    "enroll_14['Batch']='Batch_9'\n",
    "enroll_14['Branch']='MS MEDICAL SOFTWARE'\n",
    "enroll_14.columns = ['NO','ROLL NO','NAME','Gender','State','nan','Year','Batch','Branch']\n",
    "enroll_14 = enroll_14.reset_index()\n",
    "del enroll_14['index']\n",
    "enroll_14=enroll_14.drop(\"nan\",axis=1)\n",
    "enroll_14=enroll_14.set_index('NO')\n"
   ]
  },
  {
   "cell_type": "code",
   "execution_count": 138,
   "metadata": {
    "collapsed": true
   },
   "outputs": [
    {
     "name": "stderr",
     "output_type": "stream",
     "text": [
      "/home/ravali/anaconda3/lib/python3.5/site-packages/pandas/core/indexing.py:288: SettingWithCopyWarning: \n",
      "A value is trying to be set on a copy of a slice from a DataFrame.\n",
      "Try using .loc[row_indexer,col_indexer] = value instead\n",
      "\n",
      "See the caveats in the documentation: http://pandas.pydata.org/pandas-docs/stable/indexing.html#indexing-view-versus-copy\n",
      "  self.obj[key] = _infer_fill_value(value)\n",
      "/home/ravali/anaconda3/lib/python3.5/site-packages/pandas/core/indexing.py:465: SettingWithCopyWarning: \n",
      "A value is trying to be set on a copy of a slice from a DataFrame.\n",
      "Try using .loc[row_indexer,col_indexer] = value instead\n",
      "\n",
      "See the caveats in the documentation: http://pandas.pydata.org/pandas-docs/stable/indexing.html#indexing-view-versus-copy\n",
      "  self.obj[item] = s\n",
      "/home/ravali/anaconda3/lib/python3.5/site-packages/ipykernel/__main__.py:3: SettingWithCopyWarning: \n",
      "A value is trying to be set on a copy of a slice from a DataFrame.\n",
      "Try using .loc[row_indexer,col_indexer] = value instead\n",
      "\n",
      "See the caveats in the documentation: http://pandas.pydata.org/pandas-docs/stable/indexing.html#indexing-view-versus-copy\n",
      "  app.launch_new_instance()\n",
      "/home/ravali/anaconda3/lib/python3.5/site-packages/ipykernel/__main__.py:4: SettingWithCopyWarning: \n",
      "A value is trying to be set on a copy of a slice from a DataFrame.\n",
      "Try using .loc[row_indexer,col_indexer] = value instead\n",
      "\n",
      "See the caveats in the documentation: http://pandas.pydata.org/pandas-docs/stable/indexing.html#indexing-view-versus-copy\n"
     ]
    }
   ],
   "source": [
    "enroll_15=sheet2[207:213]\n",
    "enroll_15.loc[:,'year'] = 'Feb 2004 to Feb 2006'\n",
    "enroll_15['Batch']='Batch_10'\n",
    "enroll_15['Branch']='MS MEDICAL SOFTWARE'\n",
    "enroll_15.columns = ['NO','ROLL NO','NAME','Gender','State','nan','Year','Batch','Branch']\n",
    "enroll_15 = enroll_15.reset_index()\n",
    "del enroll_15['index']\n",
    "enroll_15=enroll_15.drop(\"nan\",axis=1)\n",
    "enroll_15=enroll_15.set_index('NO')\n"
   ]
  },
  {
   "cell_type": "code",
   "execution_count": 139,
   "metadata": {
    "collapsed": true
   },
   "outputs": [
    {
     "name": "stderr",
     "output_type": "stream",
     "text": [
      "/home/ravali/anaconda3/lib/python3.5/site-packages/pandas/core/indexing.py:288: SettingWithCopyWarning: \n",
      "A value is trying to be set on a copy of a slice from a DataFrame.\n",
      "Try using .loc[row_indexer,col_indexer] = value instead\n",
      "\n",
      "See the caveats in the documentation: http://pandas.pydata.org/pandas-docs/stable/indexing.html#indexing-view-versus-copy\n",
      "  self.obj[key] = _infer_fill_value(value)\n",
      "/home/ravali/anaconda3/lib/python3.5/site-packages/pandas/core/indexing.py:465: SettingWithCopyWarning: \n",
      "A value is trying to be set on a copy of a slice from a DataFrame.\n",
      "Try using .loc[row_indexer,col_indexer] = value instead\n",
      "\n",
      "See the caveats in the documentation: http://pandas.pydata.org/pandas-docs/stable/indexing.html#indexing-view-versus-copy\n",
      "  self.obj[item] = s\n",
      "/home/ravali/anaconda3/lib/python3.5/site-packages/ipykernel/__main__.py:3: SettingWithCopyWarning: \n",
      "A value is trying to be set on a copy of a slice from a DataFrame.\n",
      "Try using .loc[row_indexer,col_indexer] = value instead\n",
      "\n",
      "See the caveats in the documentation: http://pandas.pydata.org/pandas-docs/stable/indexing.html#indexing-view-versus-copy\n",
      "  app.launch_new_instance()\n",
      "/home/ravali/anaconda3/lib/python3.5/site-packages/ipykernel/__main__.py:4: SettingWithCopyWarning: \n",
      "A value is trying to be set on a copy of a slice from a DataFrame.\n",
      "Try using .loc[row_indexer,col_indexer] = value instead\n",
      "\n",
      "See the caveats in the documentation: http://pandas.pydata.org/pandas-docs/stable/indexing.html#indexing-view-versus-copy\n"
     ]
    }
   ],
   "source": [
    "enroll_16=sheet2[214:224]\n",
    "enroll_16.loc[:,'year'] = 'Aug 2004 to Aug 2006'\n",
    "enroll_16['Batch']='Batch_11'\n",
    "enroll_16['Branch']='MS MEDICAL SOFTWARE'\n",
    "enroll_16.columns = ['NO','ROLL NO','NAME','Gender','State','nan','Year','Batch','Branch']\n",
    "enroll_16 = enroll_16.reset_index()\n",
    "del enroll_16['index']\n",
    "enroll_16=enroll_16.drop(\"nan\",axis=1)\n",
    "enroll_16=enroll_16.set_index('NO')\n"
   ]
  },
  {
   "cell_type": "code",
   "execution_count": 140,
   "metadata": {
    "collapsed": true
   },
   "outputs": [
    {
     "name": "stderr",
     "output_type": "stream",
     "text": [
      "/home/ravali/anaconda3/lib/python3.5/site-packages/pandas/core/indexing.py:288: SettingWithCopyWarning: \n",
      "A value is trying to be set on a copy of a slice from a DataFrame.\n",
      "Try using .loc[row_indexer,col_indexer] = value instead\n",
      "\n",
      "See the caveats in the documentation: http://pandas.pydata.org/pandas-docs/stable/indexing.html#indexing-view-versus-copy\n",
      "  self.obj[key] = _infer_fill_value(value)\n",
      "/home/ravali/anaconda3/lib/python3.5/site-packages/pandas/core/indexing.py:465: SettingWithCopyWarning: \n",
      "A value is trying to be set on a copy of a slice from a DataFrame.\n",
      "Try using .loc[row_indexer,col_indexer] = value instead\n",
      "\n",
      "See the caveats in the documentation: http://pandas.pydata.org/pandas-docs/stable/indexing.html#indexing-view-versus-copy\n",
      "  self.obj[item] = s\n",
      "/home/ravali/anaconda3/lib/python3.5/site-packages/ipykernel/__main__.py:3: SettingWithCopyWarning: \n",
      "A value is trying to be set on a copy of a slice from a DataFrame.\n",
      "Try using .loc[row_indexer,col_indexer] = value instead\n",
      "\n",
      "See the caveats in the documentation: http://pandas.pydata.org/pandas-docs/stable/indexing.html#indexing-view-versus-copy\n",
      "  app.launch_new_instance()\n",
      "/home/ravali/anaconda3/lib/python3.5/site-packages/ipykernel/__main__.py:4: SettingWithCopyWarning: \n",
      "A value is trying to be set on a copy of a slice from a DataFrame.\n",
      "Try using .loc[row_indexer,col_indexer] = value instead\n",
      "\n",
      "See the caveats in the documentation: http://pandas.pydata.org/pandas-docs/stable/indexing.html#indexing-view-versus-copy\n"
     ]
    }
   ],
   "source": [
    "enroll_17=sheet2[225:237]\n",
    "enroll_17.loc[:,'year'] = 'Aug 2005 to Aug 2007'\n",
    "enroll_17['Batch']='Batch_12'\n",
    "enroll_17['Branch']='MS MEDICAL SOFTWARE'\n",
    "enroll_17.columns = ['NO','ROLL NO','NAME','Gender','State','nan','Year','Batch','Branch']\n",
    "enroll_17 = enroll_17.reset_index()\n",
    "del enroll_17['index']\n",
    "enroll_17=enroll_17.drop(\"nan\",axis=1)\n",
    "enroll_17=enroll_17.set_index('NO')\n"
   ]
  },
  {
   "cell_type": "code",
   "execution_count": 141,
   "metadata": {
    "collapsed": true
   },
   "outputs": [
    {
     "name": "stderr",
     "output_type": "stream",
     "text": [
      "/home/ravali/anaconda3/lib/python3.5/site-packages/pandas/core/indexing.py:288: SettingWithCopyWarning: \n",
      "A value is trying to be set on a copy of a slice from a DataFrame.\n",
      "Try using .loc[row_indexer,col_indexer] = value instead\n",
      "\n",
      "See the caveats in the documentation: http://pandas.pydata.org/pandas-docs/stable/indexing.html#indexing-view-versus-copy\n",
      "  self.obj[key] = _infer_fill_value(value)\n",
      "/home/ravali/anaconda3/lib/python3.5/site-packages/pandas/core/indexing.py:465: SettingWithCopyWarning: \n",
      "A value is trying to be set on a copy of a slice from a DataFrame.\n",
      "Try using .loc[row_indexer,col_indexer] = value instead\n",
      "\n",
      "See the caveats in the documentation: http://pandas.pydata.org/pandas-docs/stable/indexing.html#indexing-view-versus-copy\n",
      "  self.obj[item] = s\n",
      "/home/ravali/anaconda3/lib/python3.5/site-packages/ipykernel/__main__.py:3: SettingWithCopyWarning: \n",
      "A value is trying to be set on a copy of a slice from a DataFrame.\n",
      "Try using .loc[row_indexer,col_indexer] = value instead\n",
      "\n",
      "See the caveats in the documentation: http://pandas.pydata.org/pandas-docs/stable/indexing.html#indexing-view-versus-copy\n",
      "  app.launch_new_instance()\n",
      "/home/ravali/anaconda3/lib/python3.5/site-packages/ipykernel/__main__.py:4: SettingWithCopyWarning: \n",
      "A value is trying to be set on a copy of a slice from a DataFrame.\n",
      "Try using .loc[row_indexer,col_indexer] = value instead\n",
      "\n",
      "See the caveats in the documentation: http://pandas.pydata.org/pandas-docs/stable/indexing.html#indexing-view-versus-copy\n"
     ]
    }
   ],
   "source": [
    "enroll_18=sheet2[238:261]\n",
    "enroll_18.loc[:,'year'] = 'Aug 2006 to Jul 2008'\n",
    "enroll_18['Batch']='Batch_13'\n",
    "enroll_18['Branch']='MS MEDICAL SOFTWARE'\n",
    "enroll_18.columns = ['NO','ROLL NO','NAME','Gender','State','nan','Year','Batch','Branch']\n",
    "enroll_18 = enroll_18.reset_index()\n",
    "del enroll_18['index']\n",
    "enroll_18=enroll_18.drop(\"nan\",axis=1)\n",
    "enroll_18=enroll_18.set_index('NO')\n"
   ]
  },
  {
   "cell_type": "code",
   "execution_count": 142,
   "metadata": {
    "collapsed": true
   },
   "outputs": [
    {
     "name": "stderr",
     "output_type": "stream",
     "text": [
      "/home/ravali/anaconda3/lib/python3.5/site-packages/pandas/core/indexing.py:288: SettingWithCopyWarning: \n",
      "A value is trying to be set on a copy of a slice from a DataFrame.\n",
      "Try using .loc[row_indexer,col_indexer] = value instead\n",
      "\n",
      "See the caveats in the documentation: http://pandas.pydata.org/pandas-docs/stable/indexing.html#indexing-view-versus-copy\n",
      "  self.obj[key] = _infer_fill_value(value)\n",
      "/home/ravali/anaconda3/lib/python3.5/site-packages/pandas/core/indexing.py:465: SettingWithCopyWarning: \n",
      "A value is trying to be set on a copy of a slice from a DataFrame.\n",
      "Try using .loc[row_indexer,col_indexer] = value instead\n",
      "\n",
      "See the caveats in the documentation: http://pandas.pydata.org/pandas-docs/stable/indexing.html#indexing-view-versus-copy\n",
      "  self.obj[item] = s\n",
      "/home/ravali/anaconda3/lib/python3.5/site-packages/ipykernel/__main__.py:3: SettingWithCopyWarning: \n",
      "A value is trying to be set on a copy of a slice from a DataFrame.\n",
      "Try using .loc[row_indexer,col_indexer] = value instead\n",
      "\n",
      "See the caveats in the documentation: http://pandas.pydata.org/pandas-docs/stable/indexing.html#indexing-view-versus-copy\n",
      "  app.launch_new_instance()\n",
      "/home/ravali/anaconda3/lib/python3.5/site-packages/ipykernel/__main__.py:4: SettingWithCopyWarning: \n",
      "A value is trying to be set on a copy of a slice from a DataFrame.\n",
      "Try using .loc[row_indexer,col_indexer] = value instead\n",
      "\n",
      "See the caveats in the documentation: http://pandas.pydata.org/pandas-docs/stable/indexing.html#indexing-view-versus-copy\n"
     ]
    }
   ],
   "source": [
    "enroll_19=sheet2[262:269]\n",
    "enroll_19.loc[:,'year'] = 'Jan 2007 to Dec 2008'\n",
    "enroll_19['Batch']='Batch_14'\n",
    "enroll_19['Branch']='MS MEDICAL SOFTWARE'\n",
    "enroll_19.columns = ['NO','ROLL NO','NAME','Gender','State','nan','Year','Batch','Branch']\n",
    "enroll_19 = enroll_19.reset_index()\n",
    "del enroll_19['index']\n",
    "enroll_19=enroll_19.drop(\"nan\",axis=1)\n",
    "enroll_19=enroll_19.set_index('NO')\n"
   ]
  },
  {
   "cell_type": "code",
   "execution_count": 143,
   "metadata": {
    "collapsed": true
   },
   "outputs": [
    {
     "name": "stderr",
     "output_type": "stream",
     "text": [
      "/home/ravali/anaconda3/lib/python3.5/site-packages/pandas/core/indexing.py:288: SettingWithCopyWarning: \n",
      "A value is trying to be set on a copy of a slice from a DataFrame.\n",
      "Try using .loc[row_indexer,col_indexer] = value instead\n",
      "\n",
      "See the caveats in the documentation: http://pandas.pydata.org/pandas-docs/stable/indexing.html#indexing-view-versus-copy\n",
      "  self.obj[key] = _infer_fill_value(value)\n",
      "/home/ravali/anaconda3/lib/python3.5/site-packages/pandas/core/indexing.py:465: SettingWithCopyWarning: \n",
      "A value is trying to be set on a copy of a slice from a DataFrame.\n",
      "Try using .loc[row_indexer,col_indexer] = value instead\n",
      "\n",
      "See the caveats in the documentation: http://pandas.pydata.org/pandas-docs/stable/indexing.html#indexing-view-versus-copy\n",
      "  self.obj[item] = s\n",
      "/home/ravali/anaconda3/lib/python3.5/site-packages/ipykernel/__main__.py:3: SettingWithCopyWarning: \n",
      "A value is trying to be set on a copy of a slice from a DataFrame.\n",
      "Try using .loc[row_indexer,col_indexer] = value instead\n",
      "\n",
      "See the caveats in the documentation: http://pandas.pydata.org/pandas-docs/stable/indexing.html#indexing-view-versus-copy\n",
      "  app.launch_new_instance()\n",
      "/home/ravali/anaconda3/lib/python3.5/site-packages/ipykernel/__main__.py:4: SettingWithCopyWarning: \n",
      "A value is trying to be set on a copy of a slice from a DataFrame.\n",
      "Try using .loc[row_indexer,col_indexer] = value instead\n",
      "\n",
      "See the caveats in the documentation: http://pandas.pydata.org/pandas-docs/stable/indexing.html#indexing-view-versus-copy\n"
     ]
    }
   ],
   "source": [
    "enroll_20=sheet2[270:288]\n",
    "enroll_20.loc[:,'year'] = 'Aug 2007 to July 2009'\n",
    "enroll_20['Batch']='Batch_15'\n",
    "enroll_20['Branch']='MS MEDICAL SOFTWARE'\n",
    "enroll_20.columns = ['NO','ROLL NO','NAME','Gender','State','nan','Year','Batch','Branch']\n",
    "enroll_20 = enroll_20.reset_index()\n",
    "del enroll_20['index']\n",
    "enroll_20=enroll_20.drop(\"nan\",axis=1)\n",
    "enroll_20=enroll_20.set_index('NO')\n",
    "\n"
   ]
  },
  {
   "cell_type": "code",
   "execution_count": 144,
   "metadata": {
    "collapsed": true
   },
   "outputs": [
    {
     "name": "stderr",
     "output_type": "stream",
     "text": [
      "/home/ravali/anaconda3/lib/python3.5/site-packages/pandas/core/indexing.py:288: SettingWithCopyWarning: \n",
      "A value is trying to be set on a copy of a slice from a DataFrame.\n",
      "Try using .loc[row_indexer,col_indexer] = value instead\n",
      "\n",
      "See the caveats in the documentation: http://pandas.pydata.org/pandas-docs/stable/indexing.html#indexing-view-versus-copy\n",
      "  self.obj[key] = _infer_fill_value(value)\n",
      "/home/ravali/anaconda3/lib/python3.5/site-packages/pandas/core/indexing.py:465: SettingWithCopyWarning: \n",
      "A value is trying to be set on a copy of a slice from a DataFrame.\n",
      "Try using .loc[row_indexer,col_indexer] = value instead\n",
      "\n",
      "See the caveats in the documentation: http://pandas.pydata.org/pandas-docs/stable/indexing.html#indexing-view-versus-copy\n",
      "  self.obj[item] = s\n",
      "/home/ravali/anaconda3/lib/python3.5/site-packages/ipykernel/__main__.py:3: SettingWithCopyWarning: \n",
      "A value is trying to be set on a copy of a slice from a DataFrame.\n",
      "Try using .loc[row_indexer,col_indexer] = value instead\n",
      "\n",
      "See the caveats in the documentation: http://pandas.pydata.org/pandas-docs/stable/indexing.html#indexing-view-versus-copy\n",
      "  app.launch_new_instance()\n",
      "/home/ravali/anaconda3/lib/python3.5/site-packages/ipykernel/__main__.py:4: SettingWithCopyWarning: \n",
      "A value is trying to be set on a copy of a slice from a DataFrame.\n",
      "Try using .loc[row_indexer,col_indexer] = value instead\n",
      "\n",
      "See the caveats in the documentation: http://pandas.pydata.org/pandas-docs/stable/indexing.html#indexing-view-versus-copy\n"
     ]
    }
   ],
   "source": [
    "enroll_21=sheet2[289:291]\n",
    "enroll_21.loc[:,'year'] = 'Jan 2008 to Dec 2009'\n",
    "enroll_21['Batch']='Batch_16'\n",
    "enroll_21['Branch']='MS MEDICAL SOFTWARE'\n",
    "enroll_21.columns = ['NO','ROLL NO','NAME','Gender','State','nan','Year','Batch','Branch']\n",
    "enroll_21 = enroll_21.reset_index()\n",
    "del enroll_21['index']\n",
    "enroll_21=enroll_21.drop(\"nan\",axis=1)\n",
    "enroll_21=enroll_21.set_index('NO')\n"
   ]
  },
  {
   "cell_type": "code",
   "execution_count": 145,
   "metadata": {
    "collapsed": true
   },
   "outputs": [
    {
     "name": "stderr",
     "output_type": "stream",
     "text": [
      "/home/ravali/anaconda3/lib/python3.5/site-packages/pandas/core/indexing.py:288: SettingWithCopyWarning: \n",
      "A value is trying to be set on a copy of a slice from a DataFrame.\n",
      "Try using .loc[row_indexer,col_indexer] = value instead\n",
      "\n",
      "See the caveats in the documentation: http://pandas.pydata.org/pandas-docs/stable/indexing.html#indexing-view-versus-copy\n",
      "  self.obj[key] = _infer_fill_value(value)\n",
      "/home/ravali/anaconda3/lib/python3.5/site-packages/pandas/core/indexing.py:465: SettingWithCopyWarning: \n",
      "A value is trying to be set on a copy of a slice from a DataFrame.\n",
      "Try using .loc[row_indexer,col_indexer] = value instead\n",
      "\n",
      "See the caveats in the documentation: http://pandas.pydata.org/pandas-docs/stable/indexing.html#indexing-view-versus-copy\n",
      "  self.obj[item] = s\n",
      "/home/ravali/anaconda3/lib/python3.5/site-packages/ipykernel/__main__.py:3: SettingWithCopyWarning: \n",
      "A value is trying to be set on a copy of a slice from a DataFrame.\n",
      "Try using .loc[row_indexer,col_indexer] = value instead\n",
      "\n",
      "See the caveats in the documentation: http://pandas.pydata.org/pandas-docs/stable/indexing.html#indexing-view-versus-copy\n",
      "  app.launch_new_instance()\n",
      "/home/ravali/anaconda3/lib/python3.5/site-packages/ipykernel/__main__.py:4: SettingWithCopyWarning: \n",
      "A value is trying to be set on a copy of a slice from a DataFrame.\n",
      "Try using .loc[row_indexer,col_indexer] = value instead\n",
      "\n",
      "See the caveats in the documentation: http://pandas.pydata.org/pandas-docs/stable/indexing.html#indexing-view-versus-copy\n"
     ]
    }
   ],
   "source": [
    "enroll_22=sheet2[292:317]\n",
    "enroll_22.loc[:,'year'] = 'Aug 2008 to July 2010'\n",
    "enroll_22['Batch']='Batch_17'\n",
    "enroll_22['Branch']='MS MEDICAL SOFTWARE'\n",
    "enroll_22.columns = ['NO','ROLL NO','NAME','Gender','State','nan','Year','Batch','Branch']\n",
    "enroll_22 = enroll_22.reset_index()\n",
    "del enroll_22['index']\n",
    "enroll_22=enroll_22.drop(\"nan\",axis=1)\n",
    "enroll_22=enroll_22.set_index('NO')\n"
   ]
  },
  {
   "cell_type": "code",
   "execution_count": 146,
   "metadata": {
    "collapsed": true
   },
   "outputs": [
    {
     "name": "stderr",
     "output_type": "stream",
     "text": [
      "/home/ravali/anaconda3/lib/python3.5/site-packages/pandas/core/indexing.py:288: SettingWithCopyWarning: \n",
      "A value is trying to be set on a copy of a slice from a DataFrame.\n",
      "Try using .loc[row_indexer,col_indexer] = value instead\n",
      "\n",
      "See the caveats in the documentation: http://pandas.pydata.org/pandas-docs/stable/indexing.html#indexing-view-versus-copy\n",
      "  self.obj[key] = _infer_fill_value(value)\n",
      "/home/ravali/anaconda3/lib/python3.5/site-packages/pandas/core/indexing.py:465: SettingWithCopyWarning: \n",
      "A value is trying to be set on a copy of a slice from a DataFrame.\n",
      "Try using .loc[row_indexer,col_indexer] = value instead\n",
      "\n",
      "See the caveats in the documentation: http://pandas.pydata.org/pandas-docs/stable/indexing.html#indexing-view-versus-copy\n",
      "  self.obj[item] = s\n",
      "/home/ravali/anaconda3/lib/python3.5/site-packages/ipykernel/__main__.py:3: SettingWithCopyWarning: \n",
      "A value is trying to be set on a copy of a slice from a DataFrame.\n",
      "Try using .loc[row_indexer,col_indexer] = value instead\n",
      "\n",
      "See the caveats in the documentation: http://pandas.pydata.org/pandas-docs/stable/indexing.html#indexing-view-versus-copy\n",
      "  app.launch_new_instance()\n",
      "/home/ravali/anaconda3/lib/python3.5/site-packages/ipykernel/__main__.py:4: SettingWithCopyWarning: \n",
      "A value is trying to be set on a copy of a slice from a DataFrame.\n",
      "Try using .loc[row_indexer,col_indexer] = value instead\n",
      "\n",
      "See the caveats in the documentation: http://pandas.pydata.org/pandas-docs/stable/indexing.html#indexing-view-versus-copy\n"
     ]
    }
   ],
   "source": [
    "enroll_23=sheet2[318:328]\n",
    "enroll_23.loc[:,'year'] = 'Jan 2009 to Dec 2010'\n",
    "enroll_23['Batch']='Batch_18'\n",
    "enroll_23['Branch']='MS MEDICAL SOFTWARE'\n",
    "enroll_23.columns = ['NO','ROLL NO','NAME','Gender','State','nan','Year','Batch','Branch']\n",
    "enroll_23 = enroll_23.reset_index()\n",
    "del enroll_23['index']\n",
    "enroll_23=enroll_23.drop(\"nan\",axis=1)\n",
    "enroll_23=enroll_23.set_index('NO')\n"
   ]
  },
  {
   "cell_type": "code",
   "execution_count": 147,
   "metadata": {
    "collapsed": true
   },
   "outputs": [
    {
     "name": "stderr",
     "output_type": "stream",
     "text": [
      "/home/ravali/anaconda3/lib/python3.5/site-packages/pandas/core/indexing.py:288: SettingWithCopyWarning: \n",
      "A value is trying to be set on a copy of a slice from a DataFrame.\n",
      "Try using .loc[row_indexer,col_indexer] = value instead\n",
      "\n",
      "See the caveats in the documentation: http://pandas.pydata.org/pandas-docs/stable/indexing.html#indexing-view-versus-copy\n",
      "  self.obj[key] = _infer_fill_value(value)\n",
      "/home/ravali/anaconda3/lib/python3.5/site-packages/pandas/core/indexing.py:465: SettingWithCopyWarning: \n",
      "A value is trying to be set on a copy of a slice from a DataFrame.\n",
      "Try using .loc[row_indexer,col_indexer] = value instead\n",
      "\n",
      "See the caveats in the documentation: http://pandas.pydata.org/pandas-docs/stable/indexing.html#indexing-view-versus-copy\n",
      "  self.obj[item] = s\n",
      "/home/ravali/anaconda3/lib/python3.5/site-packages/ipykernel/__main__.py:3: SettingWithCopyWarning: \n",
      "A value is trying to be set on a copy of a slice from a DataFrame.\n",
      "Try using .loc[row_indexer,col_indexer] = value instead\n",
      "\n",
      "See the caveats in the documentation: http://pandas.pydata.org/pandas-docs/stable/indexing.html#indexing-view-versus-copy\n",
      "  app.launch_new_instance()\n",
      "/home/ravali/anaconda3/lib/python3.5/site-packages/ipykernel/__main__.py:4: SettingWithCopyWarning: \n",
      "A value is trying to be set on a copy of a slice from a DataFrame.\n",
      "Try using .loc[row_indexer,col_indexer] = value instead\n",
      "\n",
      "See the caveats in the documentation: http://pandas.pydata.org/pandas-docs/stable/indexing.html#indexing-view-versus-copy\n"
     ]
    }
   ],
   "source": [
    "enroll_24=sheet2[329:355]\n",
    "enroll_24.loc[:,'year'] = 'Aug 09 to July 2011'\n",
    "enroll_24['Batch']='Batch_19'\n",
    "enroll_24['Branch']='MS MEDICAL SOFTWARE'\n",
    "enroll_24.columns = ['NO','ROLL NO','NAME','Gender','State','nan','Year','Batch','Branch']\n",
    "enroll_24 = enroll_24.reset_index()\n",
    "del enroll_24['index']\n",
    "enroll_24=enroll_24.drop(\"nan\",axis=1)\n",
    "enroll_24=enroll_24.set_index('NO')\n"
   ]
  },
  {
   "cell_type": "code",
   "execution_count": 148,
   "metadata": {
    "collapsed": true
   },
   "outputs": [
    {
     "name": "stderr",
     "output_type": "stream",
     "text": [
      "/home/ravali/anaconda3/lib/python3.5/site-packages/pandas/core/indexing.py:288: SettingWithCopyWarning: \n",
      "A value is trying to be set on a copy of a slice from a DataFrame.\n",
      "Try using .loc[row_indexer,col_indexer] = value instead\n",
      "\n",
      "See the caveats in the documentation: http://pandas.pydata.org/pandas-docs/stable/indexing.html#indexing-view-versus-copy\n",
      "  self.obj[key] = _infer_fill_value(value)\n",
      "/home/ravali/anaconda3/lib/python3.5/site-packages/pandas/core/indexing.py:465: SettingWithCopyWarning: \n",
      "A value is trying to be set on a copy of a slice from a DataFrame.\n",
      "Try using .loc[row_indexer,col_indexer] = value instead\n",
      "\n",
      "See the caveats in the documentation: http://pandas.pydata.org/pandas-docs/stable/indexing.html#indexing-view-versus-copy\n",
      "  self.obj[item] = s\n",
      "/home/ravali/anaconda3/lib/python3.5/site-packages/ipykernel/__main__.py:3: SettingWithCopyWarning: \n",
      "A value is trying to be set on a copy of a slice from a DataFrame.\n",
      "Try using .loc[row_indexer,col_indexer] = value instead\n",
      "\n",
      "See the caveats in the documentation: http://pandas.pydata.org/pandas-docs/stable/indexing.html#indexing-view-versus-copy\n",
      "  app.launch_new_instance()\n",
      "/home/ravali/anaconda3/lib/python3.5/site-packages/ipykernel/__main__.py:4: SettingWithCopyWarning: \n",
      "A value is trying to be set on a copy of a slice from a DataFrame.\n",
      "Try using .loc[row_indexer,col_indexer] = value instead\n",
      "\n",
      "See the caveats in the documentation: http://pandas.pydata.org/pandas-docs/stable/indexing.html#indexing-view-versus-copy\n"
     ]
    }
   ],
   "source": [
    "enroll_25=sheet2[356:361]\n",
    "enroll_25.loc[:,'year'] = 'Jan 2010 to Dec 2011'\n",
    "enroll_25['Batch']='Batch_20'\n",
    "enroll_25['Branch']='MS MEDICAL SOFTWARE'\n",
    "enroll_25.columns = ['NO','ROLL NO','NAME','Gender','State','nan','Year','Batch','Branch']\n",
    "enroll_25 = enroll_25.reset_index()\n",
    "del enroll_25['index']\n",
    "enroll_25=enroll_25.drop(\"nan\",axis=1)\n",
    "enroll_25=enroll_25.set_index('NO')\n"
   ]
  },
  {
   "cell_type": "code",
   "execution_count": 149,
   "metadata": {
    "collapsed": true
   },
   "outputs": [
    {
     "name": "stderr",
     "output_type": "stream",
     "text": [
      "/home/ravali/anaconda3/lib/python3.5/site-packages/pandas/core/indexing.py:288: SettingWithCopyWarning: \n",
      "A value is trying to be set on a copy of a slice from a DataFrame.\n",
      "Try using .loc[row_indexer,col_indexer] = value instead\n",
      "\n",
      "See the caveats in the documentation: http://pandas.pydata.org/pandas-docs/stable/indexing.html#indexing-view-versus-copy\n",
      "  self.obj[key] = _infer_fill_value(value)\n",
      "/home/ravali/anaconda3/lib/python3.5/site-packages/pandas/core/indexing.py:465: SettingWithCopyWarning: \n",
      "A value is trying to be set on a copy of a slice from a DataFrame.\n",
      "Try using .loc[row_indexer,col_indexer] = value instead\n",
      "\n",
      "See the caveats in the documentation: http://pandas.pydata.org/pandas-docs/stable/indexing.html#indexing-view-versus-copy\n",
      "  self.obj[item] = s\n",
      "/home/ravali/anaconda3/lib/python3.5/site-packages/ipykernel/__main__.py:3: SettingWithCopyWarning: \n",
      "A value is trying to be set on a copy of a slice from a DataFrame.\n",
      "Try using .loc[row_indexer,col_indexer] = value instead\n",
      "\n",
      "See the caveats in the documentation: http://pandas.pydata.org/pandas-docs/stable/indexing.html#indexing-view-versus-copy\n",
      "  app.launch_new_instance()\n",
      "/home/ravali/anaconda3/lib/python3.5/site-packages/ipykernel/__main__.py:4: SettingWithCopyWarning: \n",
      "A value is trying to be set on a copy of a slice from a DataFrame.\n",
      "Try using .loc[row_indexer,col_indexer] = value instead\n",
      "\n",
      "See the caveats in the documentation: http://pandas.pydata.org/pandas-docs/stable/indexing.html#indexing-view-versus-copy\n"
     ]
    }
   ],
   "source": [
    "enroll_26=sheet2[362:392]\n",
    "enroll_26.loc[:,'year'] = 'Aug 10 to July 2012'\n",
    "enroll_26['Batch']='Batch_21'\n",
    "enroll_26['Branch']='MS MEDICAL SOFTWARE'\n",
    "enroll_26.columns = ['NO','ROLL NO','NAME','Gender','State','nan','Year','Batch','Branch']\n",
    "enroll_26 = enroll_26.reset_index()\n",
    "del enroll_26['index']\n",
    "enroll_26=enroll_26.drop(\"nan\",axis=1)\n",
    "enroll_26=enroll_26.set_index('NO')\n"
   ]
  },
  {
   "cell_type": "code",
   "execution_count": 150,
   "metadata": {
    "collapsed": true
   },
   "outputs": [
    {
     "name": "stderr",
     "output_type": "stream",
     "text": [
      "/home/ravali/anaconda3/lib/python3.5/site-packages/pandas/core/indexing.py:288: SettingWithCopyWarning: \n",
      "A value is trying to be set on a copy of a slice from a DataFrame.\n",
      "Try using .loc[row_indexer,col_indexer] = value instead\n",
      "\n",
      "See the caveats in the documentation: http://pandas.pydata.org/pandas-docs/stable/indexing.html#indexing-view-versus-copy\n",
      "  self.obj[key] = _infer_fill_value(value)\n",
      "/home/ravali/anaconda3/lib/python3.5/site-packages/pandas/core/indexing.py:465: SettingWithCopyWarning: \n",
      "A value is trying to be set on a copy of a slice from a DataFrame.\n",
      "Try using .loc[row_indexer,col_indexer] = value instead\n",
      "\n",
      "See the caveats in the documentation: http://pandas.pydata.org/pandas-docs/stable/indexing.html#indexing-view-versus-copy\n",
      "  self.obj[item] = s\n",
      "/home/ravali/anaconda3/lib/python3.5/site-packages/ipykernel/__main__.py:3: SettingWithCopyWarning: \n",
      "A value is trying to be set on a copy of a slice from a DataFrame.\n",
      "Try using .loc[row_indexer,col_indexer] = value instead\n",
      "\n",
      "See the caveats in the documentation: http://pandas.pydata.org/pandas-docs/stable/indexing.html#indexing-view-versus-copy\n",
      "  app.launch_new_instance()\n",
      "/home/ravali/anaconda3/lib/python3.5/site-packages/ipykernel/__main__.py:4: SettingWithCopyWarning: \n",
      "A value is trying to be set on a copy of a slice from a DataFrame.\n",
      "Try using .loc[row_indexer,col_indexer] = value instead\n",
      "\n",
      "See the caveats in the documentation: http://pandas.pydata.org/pandas-docs/stable/indexing.html#indexing-view-versus-copy\n"
     ]
    }
   ],
   "source": [
    "enroll_27=sheet2[393:415]\n",
    "enroll_27.loc[:,'year'] = 'Aug 11 to July 2013'\n",
    "enroll_27['Batch']='Batch_21'\n",
    "enroll_27['Branch']='MS MEDICAL SOFTWARE'\n",
    "enroll_27.columns = ['NO','ROLL NO','NAME','Gender','State','nan','Year','Batch','Branch']\n",
    "enroll_27 = enroll_27.reset_index()\n",
    "del enroll_27['index']\n",
    "enroll_27=enroll_27.drop(\"nan\",axis=1)\n",
    "enroll_27=enroll_27.set_index('NO')\n"
   ]
  },
  {
   "cell_type": "code",
   "execution_count": 151,
   "metadata": {
    "collapsed": true
   },
   "outputs": [
    {
     "name": "stderr",
     "output_type": "stream",
     "text": [
      "/home/ravali/anaconda3/lib/python3.5/site-packages/pandas/core/indexing.py:288: SettingWithCopyWarning: \n",
      "A value is trying to be set on a copy of a slice from a DataFrame.\n",
      "Try using .loc[row_indexer,col_indexer] = value instead\n",
      "\n",
      "See the caveats in the documentation: http://pandas.pydata.org/pandas-docs/stable/indexing.html#indexing-view-versus-copy\n",
      "  self.obj[key] = _infer_fill_value(value)\n",
      "/home/ravali/anaconda3/lib/python3.5/site-packages/pandas/core/indexing.py:465: SettingWithCopyWarning: \n",
      "A value is trying to be set on a copy of a slice from a DataFrame.\n",
      "Try using .loc[row_indexer,col_indexer] = value instead\n",
      "\n",
      "See the caveats in the documentation: http://pandas.pydata.org/pandas-docs/stable/indexing.html#indexing-view-versus-copy\n",
      "  self.obj[item] = s\n",
      "/home/ravali/anaconda3/lib/python3.5/site-packages/ipykernel/__main__.py:3: SettingWithCopyWarning: \n",
      "A value is trying to be set on a copy of a slice from a DataFrame.\n",
      "Try using .loc[row_indexer,col_indexer] = value instead\n",
      "\n",
      "See the caveats in the documentation: http://pandas.pydata.org/pandas-docs/stable/indexing.html#indexing-view-versus-copy\n",
      "  app.launch_new_instance()\n",
      "/home/ravali/anaconda3/lib/python3.5/site-packages/ipykernel/__main__.py:4: SettingWithCopyWarning: \n",
      "A value is trying to be set on a copy of a slice from a DataFrame.\n",
      "Try using .loc[row_indexer,col_indexer] = value instead\n",
      "\n",
      "See the caveats in the documentation: http://pandas.pydata.org/pandas-docs/stable/indexing.html#indexing-view-versus-copy\n"
     ]
    }
   ],
   "source": [
    "enroll_53=sheet2[968:989]\n",
    "enroll_53.loc[:,'year'] = 'Aug 2002 to Feb 2004'\n",
    "enroll_53['Batch']='Batch_1'\n",
    "enroll_53['Branch']='MS EMBEDDED SYSTEMS'\n",
    "enroll_53.columns = ['NO','ROLL NO','NAME','Gender','State','nan','Year','Batch','Branch']\n",
    "enroll_53 = enroll_53.reset_index()\n",
    "del enroll_53['index']\n",
    "enroll_53=enroll_53.drop(\"nan\",axis=1)\n",
    "enroll_53=enroll_53.set_index('NO')\n"
   ]
  },
  {
   "cell_type": "code",
   "execution_count": 152,
   "metadata": {
    "collapsed": true
   },
   "outputs": [
    {
     "name": "stderr",
     "output_type": "stream",
     "text": [
      "/home/ravali/anaconda3/lib/python3.5/site-packages/pandas/core/indexing.py:288: SettingWithCopyWarning: \n",
      "A value is trying to be set on a copy of a slice from a DataFrame.\n",
      "Try using .loc[row_indexer,col_indexer] = value instead\n",
      "\n",
      "See the caveats in the documentation: http://pandas.pydata.org/pandas-docs/stable/indexing.html#indexing-view-versus-copy\n",
      "  self.obj[key] = _infer_fill_value(value)\n",
      "/home/ravali/anaconda3/lib/python3.5/site-packages/pandas/core/indexing.py:465: SettingWithCopyWarning: \n",
      "A value is trying to be set on a copy of a slice from a DataFrame.\n",
      "Try using .loc[row_indexer,col_indexer] = value instead\n",
      "\n",
      "See the caveats in the documentation: http://pandas.pydata.org/pandas-docs/stable/indexing.html#indexing-view-versus-copy\n",
      "  self.obj[item] = s\n",
      "/home/ravali/anaconda3/lib/python3.5/site-packages/ipykernel/__main__.py:3: SettingWithCopyWarning: \n",
      "A value is trying to be set on a copy of a slice from a DataFrame.\n",
      "Try using .loc[row_indexer,col_indexer] = value instead\n",
      "\n",
      "See the caveats in the documentation: http://pandas.pydata.org/pandas-docs/stable/indexing.html#indexing-view-versus-copy\n",
      "  app.launch_new_instance()\n",
      "/home/ravali/anaconda3/lib/python3.5/site-packages/ipykernel/__main__.py:4: SettingWithCopyWarning: \n",
      "A value is trying to be set on a copy of a slice from a DataFrame.\n",
      "Try using .loc[row_indexer,col_indexer] = value instead\n",
      "\n",
      "See the caveats in the documentation: http://pandas.pydata.org/pandas-docs/stable/indexing.html#indexing-view-versus-copy\n"
     ]
    }
   ],
   "source": [
    "enroll_54=sheet2[990:1000]\n",
    "enroll_54.loc[:,'year'] = 'Feb 2003 to Feb 2005'\n",
    "enroll_54['Batch']='Batch_2'\n",
    "enroll_54['Branch']='MS EMBEDDED SYSTEMS'\n",
    "enroll_54.columns = ['NO','ROLL NO','NAME','Gender','State','nan','Year','Batch','Branch']\n",
    "enroll_54 = enroll_54.reset_index()\n",
    "del enroll_54['index']\n",
    "enroll_54=enroll_54.drop(\"nan\",axis=1)\n",
    "enroll_54=enroll_54.set_index('NO')\n"
   ]
  },
  {
   "cell_type": "code",
   "execution_count": 153,
   "metadata": {
    "collapsed": true
   },
   "outputs": [
    {
     "name": "stderr",
     "output_type": "stream",
     "text": [
      "/home/ravali/anaconda3/lib/python3.5/site-packages/pandas/core/indexing.py:288: SettingWithCopyWarning: \n",
      "A value is trying to be set on a copy of a slice from a DataFrame.\n",
      "Try using .loc[row_indexer,col_indexer] = value instead\n",
      "\n",
      "See the caveats in the documentation: http://pandas.pydata.org/pandas-docs/stable/indexing.html#indexing-view-versus-copy\n",
      "  self.obj[key] = _infer_fill_value(value)\n",
      "/home/ravali/anaconda3/lib/python3.5/site-packages/pandas/core/indexing.py:465: SettingWithCopyWarning: \n",
      "A value is trying to be set on a copy of a slice from a DataFrame.\n",
      "Try using .loc[row_indexer,col_indexer] = value instead\n",
      "\n",
      "See the caveats in the documentation: http://pandas.pydata.org/pandas-docs/stable/indexing.html#indexing-view-versus-copy\n",
      "  self.obj[item] = s\n",
      "/home/ravali/anaconda3/lib/python3.5/site-packages/ipykernel/__main__.py:3: SettingWithCopyWarning: \n",
      "A value is trying to be set on a copy of a slice from a DataFrame.\n",
      "Try using .loc[row_indexer,col_indexer] = value instead\n",
      "\n",
      "See the caveats in the documentation: http://pandas.pydata.org/pandas-docs/stable/indexing.html#indexing-view-versus-copy\n",
      "  app.launch_new_instance()\n",
      "/home/ravali/anaconda3/lib/python3.5/site-packages/ipykernel/__main__.py:4: SettingWithCopyWarning: \n",
      "A value is trying to be set on a copy of a slice from a DataFrame.\n",
      "Try using .loc[row_indexer,col_indexer] = value instead\n",
      "\n",
      "See the caveats in the documentation: http://pandas.pydata.org/pandas-docs/stable/indexing.html#indexing-view-versus-copy\n"
     ]
    }
   ],
   "source": [
    "enroll_55=sheet2[1001:1031]\n",
    "enroll_55.loc[:,'year'] = 'Aug 2003 to Jul 2005'\n",
    "enroll_55['Batch']='Batch_3'\n",
    "enroll_55['Branch']='MS EMBEDDED SYSTEMS'\n",
    "enroll_55.columns = ['NO','ROLL NO','NAME','Gender','State','nan','Year','Batch','Branch']\n",
    "enroll_55 = enroll_55.reset_index()\n",
    "del enroll_55['index']\n",
    "enroll_55=enroll_55.drop(\"nan\",axis=1)\n",
    "enroll_55=enroll_55.set_index('NO')\n"
   ]
  },
  {
   "cell_type": "code",
   "execution_count": 154,
   "metadata": {
    "collapsed": true
   },
   "outputs": [
    {
     "name": "stderr",
     "output_type": "stream",
     "text": [
      "/home/ravali/anaconda3/lib/python3.5/site-packages/pandas/core/indexing.py:288: SettingWithCopyWarning: \n",
      "A value is trying to be set on a copy of a slice from a DataFrame.\n",
      "Try using .loc[row_indexer,col_indexer] = value instead\n",
      "\n",
      "See the caveats in the documentation: http://pandas.pydata.org/pandas-docs/stable/indexing.html#indexing-view-versus-copy\n",
      "  self.obj[key] = _infer_fill_value(value)\n",
      "/home/ravali/anaconda3/lib/python3.5/site-packages/pandas/core/indexing.py:465: SettingWithCopyWarning: \n",
      "A value is trying to be set on a copy of a slice from a DataFrame.\n",
      "Try using .loc[row_indexer,col_indexer] = value instead\n",
      "\n",
      "See the caveats in the documentation: http://pandas.pydata.org/pandas-docs/stable/indexing.html#indexing-view-versus-copy\n",
      "  self.obj[item] = s\n",
      "/home/ravali/anaconda3/lib/python3.5/site-packages/ipykernel/__main__.py:3: SettingWithCopyWarning: \n",
      "A value is trying to be set on a copy of a slice from a DataFrame.\n",
      "Try using .loc[row_indexer,col_indexer] = value instead\n",
      "\n",
      "See the caveats in the documentation: http://pandas.pydata.org/pandas-docs/stable/indexing.html#indexing-view-versus-copy\n",
      "  app.launch_new_instance()\n",
      "/home/ravali/anaconda3/lib/python3.5/site-packages/ipykernel/__main__.py:4: SettingWithCopyWarning: \n",
      "A value is trying to be set on a copy of a slice from a DataFrame.\n",
      "Try using .loc[row_indexer,col_indexer] = value instead\n",
      "\n",
      "See the caveats in the documentation: http://pandas.pydata.org/pandas-docs/stable/indexing.html#indexing-view-versus-copy\n"
     ]
    }
   ],
   "source": [
    "enroll_56=sheet2[1032:1040]\n",
    "enroll_56.loc[:,'year'] = 'Feb 2004 to Jan 2006'\n",
    "enroll_56['Batch']='Batch_4'\n",
    "enroll_56['Branch']='MS EMBEDDED SYSTEMS'\n",
    "enroll_56.columns = ['NO','ROLL NO','NAME','Gender','State','nan','Year','Batch','Branch']\n",
    "enroll_56 = enroll_56.reset_index()\n",
    "del enroll_56['index']\n",
    "enroll_56=enroll_56.drop(\"nan\",axis=1)\n",
    "enroll_56=enroll_56.set_index('NO')\n"
   ]
  },
  {
   "cell_type": "code",
   "execution_count": 155,
   "metadata": {
    "collapsed": true
   },
   "outputs": [
    {
     "name": "stderr",
     "output_type": "stream",
     "text": [
      "/home/ravali/anaconda3/lib/python3.5/site-packages/pandas/core/indexing.py:288: SettingWithCopyWarning: \n",
      "A value is trying to be set on a copy of a slice from a DataFrame.\n",
      "Try using .loc[row_indexer,col_indexer] = value instead\n",
      "\n",
      "See the caveats in the documentation: http://pandas.pydata.org/pandas-docs/stable/indexing.html#indexing-view-versus-copy\n",
      "  self.obj[key] = _infer_fill_value(value)\n",
      "/home/ravali/anaconda3/lib/python3.5/site-packages/pandas/core/indexing.py:465: SettingWithCopyWarning: \n",
      "A value is trying to be set on a copy of a slice from a DataFrame.\n",
      "Try using .loc[row_indexer,col_indexer] = value instead\n",
      "\n",
      "See the caveats in the documentation: http://pandas.pydata.org/pandas-docs/stable/indexing.html#indexing-view-versus-copy\n",
      "  self.obj[item] = s\n",
      "/home/ravali/anaconda3/lib/python3.5/site-packages/ipykernel/__main__.py:3: SettingWithCopyWarning: \n",
      "A value is trying to be set on a copy of a slice from a DataFrame.\n",
      "Try using .loc[row_indexer,col_indexer] = value instead\n",
      "\n",
      "See the caveats in the documentation: http://pandas.pydata.org/pandas-docs/stable/indexing.html#indexing-view-versus-copy\n",
      "  app.launch_new_instance()\n",
      "/home/ravali/anaconda3/lib/python3.5/site-packages/ipykernel/__main__.py:4: SettingWithCopyWarning: \n",
      "A value is trying to be set on a copy of a slice from a DataFrame.\n",
      "Try using .loc[row_indexer,col_indexer] = value instead\n",
      "\n",
      "See the caveats in the documentation: http://pandas.pydata.org/pandas-docs/stable/indexing.html#indexing-view-versus-copy\n"
     ]
    }
   ],
   "source": [
    "enroll_57=sheet2[1041:1061]\n",
    "enroll_57.loc[:,'year'] = 'Aug 2004 to Jul 2006'\n",
    "enroll_57['Batch']='Batch_5'\n",
    "enroll_57['Branch']='MS EMBEDDED SYSTEMS'\n",
    "enroll_57.columns = ['NO','ROLL NO','NAME','Gender','State','nan','Year','Batch','Branch']\n",
    "enroll_57 = enroll_57.reset_index()\n",
    "del enroll_57['index']\n",
    "enroll_57=enroll_57.drop(\"nan\",axis=1)\n",
    "enroll_57=enroll_57.set_index('NO')\n"
   ]
  },
  {
   "cell_type": "code",
   "execution_count": 156,
   "metadata": {
    "collapsed": true
   },
   "outputs": [
    {
     "name": "stderr",
     "output_type": "stream",
     "text": [
      "/home/ravali/anaconda3/lib/python3.5/site-packages/pandas/core/indexing.py:288: SettingWithCopyWarning: \n",
      "A value is trying to be set on a copy of a slice from a DataFrame.\n",
      "Try using .loc[row_indexer,col_indexer] = value instead\n",
      "\n",
      "See the caveats in the documentation: http://pandas.pydata.org/pandas-docs/stable/indexing.html#indexing-view-versus-copy\n",
      "  self.obj[key] = _infer_fill_value(value)\n",
      "/home/ravali/anaconda3/lib/python3.5/site-packages/pandas/core/indexing.py:465: SettingWithCopyWarning: \n",
      "A value is trying to be set on a copy of a slice from a DataFrame.\n",
      "Try using .loc[row_indexer,col_indexer] = value instead\n",
      "\n",
      "See the caveats in the documentation: http://pandas.pydata.org/pandas-docs/stable/indexing.html#indexing-view-versus-copy\n",
      "  self.obj[item] = s\n",
      "/home/ravali/anaconda3/lib/python3.5/site-packages/ipykernel/__main__.py:3: SettingWithCopyWarning: \n",
      "A value is trying to be set on a copy of a slice from a DataFrame.\n",
      "Try using .loc[row_indexer,col_indexer] = value instead\n",
      "\n",
      "See the caveats in the documentation: http://pandas.pydata.org/pandas-docs/stable/indexing.html#indexing-view-versus-copy\n",
      "  app.launch_new_instance()\n",
      "/home/ravali/anaconda3/lib/python3.5/site-packages/ipykernel/__main__.py:4: SettingWithCopyWarning: \n",
      "A value is trying to be set on a copy of a slice from a DataFrame.\n",
      "Try using .loc[row_indexer,col_indexer] = value instead\n",
      "\n",
      "See the caveats in the documentation: http://pandas.pydata.org/pandas-docs/stable/indexing.html#indexing-view-versus-copy\n"
     ]
    }
   ],
   "source": [
    "enroll_58=sheet2[1062:1073]\n",
    "enroll_58.loc[:,'year'] = 'Feb 2005 to Jan  2007'\n",
    "enroll_58['Batch']='Batch_6'\n",
    "enroll_58['Branch']='MS EMBEDDED SYSTEMS'\n",
    "enroll_58.columns = ['NO','ROLL NO','NAME','Gender','State','nan','Year','Batch','Branch']\n",
    "enroll_58 = enroll_58.reset_index()\n",
    "del enroll_58['index']\n",
    "enroll_58=enroll_58.drop(\"nan\",axis=1)\n",
    "enroll_58=enroll_58.set_index('NO')\n"
   ]
  },
  {
   "cell_type": "code",
   "execution_count": 157,
   "metadata": {
    "collapsed": true
   },
   "outputs": [
    {
     "name": "stderr",
     "output_type": "stream",
     "text": [
      "/home/ravali/anaconda3/lib/python3.5/site-packages/pandas/core/indexing.py:288: SettingWithCopyWarning: \n",
      "A value is trying to be set on a copy of a slice from a DataFrame.\n",
      "Try using .loc[row_indexer,col_indexer] = value instead\n",
      "\n",
      "See the caveats in the documentation: http://pandas.pydata.org/pandas-docs/stable/indexing.html#indexing-view-versus-copy\n",
      "  self.obj[key] = _infer_fill_value(value)\n",
      "/home/ravali/anaconda3/lib/python3.5/site-packages/pandas/core/indexing.py:465: SettingWithCopyWarning: \n",
      "A value is trying to be set on a copy of a slice from a DataFrame.\n",
      "Try using .loc[row_indexer,col_indexer] = value instead\n",
      "\n",
      "See the caveats in the documentation: http://pandas.pydata.org/pandas-docs/stable/indexing.html#indexing-view-versus-copy\n",
      "  self.obj[item] = s\n",
      "/home/ravali/anaconda3/lib/python3.5/site-packages/ipykernel/__main__.py:3: SettingWithCopyWarning: \n",
      "A value is trying to be set on a copy of a slice from a DataFrame.\n",
      "Try using .loc[row_indexer,col_indexer] = value instead\n",
      "\n",
      "See the caveats in the documentation: http://pandas.pydata.org/pandas-docs/stable/indexing.html#indexing-view-versus-copy\n",
      "  app.launch_new_instance()\n",
      "/home/ravali/anaconda3/lib/python3.5/site-packages/ipykernel/__main__.py:4: SettingWithCopyWarning: \n",
      "A value is trying to be set on a copy of a slice from a DataFrame.\n",
      "Try using .loc[row_indexer,col_indexer] = value instead\n",
      "\n",
      "See the caveats in the documentation: http://pandas.pydata.org/pandas-docs/stable/indexing.html#indexing-view-versus-copy\n"
     ]
    }
   ],
   "source": [
    "enroll_59=sheet2[1074:1113]\n",
    "enroll_59.loc[:,'year'] = 'Aug 2005 to Jul  2007'\n",
    "enroll_59['Batch']='Batch_7'\n",
    "enroll_59['Branch']='MS EMBEDDED SYSTEMS'\n",
    "enroll_59.columns = ['NO','ROLL NO','NAME','Gender','State','nan','Year','Batch','Branch']\n",
    "enroll_59 = enroll_59.reset_index()\n",
    "del enroll_59['index']\n",
    "enroll_59=enroll_59.drop(\"nan\",axis=1)\n",
    "enroll_59=enroll_59.set_index('NO')\n"
   ]
  },
  {
   "cell_type": "code",
   "execution_count": 158,
   "metadata": {
    "collapsed": true
   },
   "outputs": [
    {
     "name": "stderr",
     "output_type": "stream",
     "text": [
      "/home/ravali/anaconda3/lib/python3.5/site-packages/pandas/core/indexing.py:288: SettingWithCopyWarning: \n",
      "A value is trying to be set on a copy of a slice from a DataFrame.\n",
      "Try using .loc[row_indexer,col_indexer] = value instead\n",
      "\n",
      "See the caveats in the documentation: http://pandas.pydata.org/pandas-docs/stable/indexing.html#indexing-view-versus-copy\n",
      "  self.obj[key] = _infer_fill_value(value)\n",
      "/home/ravali/anaconda3/lib/python3.5/site-packages/pandas/core/indexing.py:465: SettingWithCopyWarning: \n",
      "A value is trying to be set on a copy of a slice from a DataFrame.\n",
      "Try using .loc[row_indexer,col_indexer] = value instead\n",
      "\n",
      "See the caveats in the documentation: http://pandas.pydata.org/pandas-docs/stable/indexing.html#indexing-view-versus-copy\n",
      "  self.obj[item] = s\n",
      "/home/ravali/anaconda3/lib/python3.5/site-packages/ipykernel/__main__.py:3: SettingWithCopyWarning: \n",
      "A value is trying to be set on a copy of a slice from a DataFrame.\n",
      "Try using .loc[row_indexer,col_indexer] = value instead\n",
      "\n",
      "See the caveats in the documentation: http://pandas.pydata.org/pandas-docs/stable/indexing.html#indexing-view-versus-copy\n",
      "  app.launch_new_instance()\n",
      "/home/ravali/anaconda3/lib/python3.5/site-packages/ipykernel/__main__.py:4: SettingWithCopyWarning: \n",
      "A value is trying to be set on a copy of a slice from a DataFrame.\n",
      "Try using .loc[row_indexer,col_indexer] = value instead\n",
      "\n",
      "See the caveats in the documentation: http://pandas.pydata.org/pandas-docs/stable/indexing.html#indexing-view-versus-copy\n"
     ]
    }
   ],
   "source": [
    "enroll_60=sheet2[1114:1136]\n",
    "enroll_60.loc[:,'year'] = 'Jan 2006 to Dec 2007'\n",
    "enroll_60['Batch']='Batch_8'\n",
    "enroll_60['Branch']='MS EMBEDDED SYSTEMS'\n",
    "enroll_60.columns = ['NO','ROLL NO','NAME','Gender','State','nan','Year','Batch','Branch']\n",
    "enroll_60 = enroll_60.reset_index()\n",
    "del enroll_60['index']\n",
    "enroll_60=enroll_60.drop(\"nan\",axis=1)\n",
    "enroll_60=enroll_60.set_index('NO')\n"
   ]
  },
  {
   "cell_type": "code",
   "execution_count": 159,
   "metadata": {
    "collapsed": true
   },
   "outputs": [
    {
     "name": "stderr",
     "output_type": "stream",
     "text": [
      "/home/ravali/anaconda3/lib/python3.5/site-packages/pandas/core/indexing.py:288: SettingWithCopyWarning: \n",
      "A value is trying to be set on a copy of a slice from a DataFrame.\n",
      "Try using .loc[row_indexer,col_indexer] = value instead\n",
      "\n",
      "See the caveats in the documentation: http://pandas.pydata.org/pandas-docs/stable/indexing.html#indexing-view-versus-copy\n",
      "  self.obj[key] = _infer_fill_value(value)\n",
      "/home/ravali/anaconda3/lib/python3.5/site-packages/pandas/core/indexing.py:465: SettingWithCopyWarning: \n",
      "A value is trying to be set on a copy of a slice from a DataFrame.\n",
      "Try using .loc[row_indexer,col_indexer] = value instead\n",
      "\n",
      "See the caveats in the documentation: http://pandas.pydata.org/pandas-docs/stable/indexing.html#indexing-view-versus-copy\n",
      "  self.obj[item] = s\n",
      "/home/ravali/anaconda3/lib/python3.5/site-packages/ipykernel/__main__.py:3: SettingWithCopyWarning: \n",
      "A value is trying to be set on a copy of a slice from a DataFrame.\n",
      "Try using .loc[row_indexer,col_indexer] = value instead\n",
      "\n",
      "See the caveats in the documentation: http://pandas.pydata.org/pandas-docs/stable/indexing.html#indexing-view-versus-copy\n",
      "  app.launch_new_instance()\n",
      "/home/ravali/anaconda3/lib/python3.5/site-packages/ipykernel/__main__.py:4: SettingWithCopyWarning: \n",
      "A value is trying to be set on a copy of a slice from a DataFrame.\n",
      "Try using .loc[row_indexer,col_indexer] = value instead\n",
      "\n",
      "See the caveats in the documentation: http://pandas.pydata.org/pandas-docs/stable/indexing.html#indexing-view-versus-copy\n"
     ]
    }
   ],
   "source": [
    "enroll_61=sheet2[1137:1187]\n",
    "enroll_61.loc[:,'year'] = 'Aug 2006 July 2008'\n",
    "enroll_61['Batch']='Batch_9'\n",
    "enroll_61['Branch']='MS EMBEDDED SYSTEMS'\n",
    "enroll_61.columns = ['NO','ROLL NO','NAME','Gender','State','nan','Year','Batch','Branch']\n",
    "enroll_61 = enroll_61.reset_index()\n",
    "del enroll_61['index']\n",
    "enroll_61=enroll_61.drop(\"nan\",axis=1)\n",
    "enroll_61=enroll_61.set_index('NO')\n"
   ]
  },
  {
   "cell_type": "code",
   "execution_count": 160,
   "metadata": {
    "collapsed": true
   },
   "outputs": [
    {
     "name": "stderr",
     "output_type": "stream",
     "text": [
      "/home/ravali/anaconda3/lib/python3.5/site-packages/pandas/core/indexing.py:288: SettingWithCopyWarning: \n",
      "A value is trying to be set on a copy of a slice from a DataFrame.\n",
      "Try using .loc[row_indexer,col_indexer] = value instead\n",
      "\n",
      "See the caveats in the documentation: http://pandas.pydata.org/pandas-docs/stable/indexing.html#indexing-view-versus-copy\n",
      "  self.obj[key] = _infer_fill_value(value)\n",
      "/home/ravali/anaconda3/lib/python3.5/site-packages/pandas/core/indexing.py:465: SettingWithCopyWarning: \n",
      "A value is trying to be set on a copy of a slice from a DataFrame.\n",
      "Try using .loc[row_indexer,col_indexer] = value instead\n",
      "\n",
      "See the caveats in the documentation: http://pandas.pydata.org/pandas-docs/stable/indexing.html#indexing-view-versus-copy\n",
      "  self.obj[item] = s\n",
      "/home/ravali/anaconda3/lib/python3.5/site-packages/ipykernel/__main__.py:3: SettingWithCopyWarning: \n",
      "A value is trying to be set on a copy of a slice from a DataFrame.\n",
      "Try using .loc[row_indexer,col_indexer] = value instead\n",
      "\n",
      "See the caveats in the documentation: http://pandas.pydata.org/pandas-docs/stable/indexing.html#indexing-view-versus-copy\n",
      "  app.launch_new_instance()\n",
      "/home/ravali/anaconda3/lib/python3.5/site-packages/ipykernel/__main__.py:4: SettingWithCopyWarning: \n",
      "A value is trying to be set on a copy of a slice from a DataFrame.\n",
      "Try using .loc[row_indexer,col_indexer] = value instead\n",
      "\n",
      "See the caveats in the documentation: http://pandas.pydata.org/pandas-docs/stable/indexing.html#indexing-view-versus-copy\n"
     ]
    }
   ],
   "source": [
    "enroll_62=sheet2[1188:1217]\n",
    "enroll_62.loc[:,'year'] = 'Jan 2007 to Dec 2008'\n",
    "enroll_62['Batch']='Batch_10'\n",
    "enroll_62['Branch']='MS EMBEDDED SYSTEMS'\n",
    "enroll_62.columns = ['NO','ROLL NO','NAME','Gender','State','nan','Year','Batch','Branch']\n",
    "enroll_62 = enroll_62.reset_index()\n",
    "del enroll_62['index']\n",
    "enroll_62=enroll_62.drop(\"nan\",axis=1)\n",
    "enroll_62=enroll_62.set_index('NO')\n"
   ]
  },
  {
   "cell_type": "code",
   "execution_count": 161,
   "metadata": {
    "collapsed": true
   },
   "outputs": [
    {
     "name": "stderr",
     "output_type": "stream",
     "text": [
      "/home/ravali/anaconda3/lib/python3.5/site-packages/pandas/core/indexing.py:288: SettingWithCopyWarning: \n",
      "A value is trying to be set on a copy of a slice from a DataFrame.\n",
      "Try using .loc[row_indexer,col_indexer] = value instead\n",
      "\n",
      "See the caveats in the documentation: http://pandas.pydata.org/pandas-docs/stable/indexing.html#indexing-view-versus-copy\n",
      "  self.obj[key] = _infer_fill_value(value)\n",
      "/home/ravali/anaconda3/lib/python3.5/site-packages/pandas/core/indexing.py:465: SettingWithCopyWarning: \n",
      "A value is trying to be set on a copy of a slice from a DataFrame.\n",
      "Try using .loc[row_indexer,col_indexer] = value instead\n",
      "\n",
      "See the caveats in the documentation: http://pandas.pydata.org/pandas-docs/stable/indexing.html#indexing-view-versus-copy\n",
      "  self.obj[item] = s\n",
      "/home/ravali/anaconda3/lib/python3.5/site-packages/ipykernel/__main__.py:3: SettingWithCopyWarning: \n",
      "A value is trying to be set on a copy of a slice from a DataFrame.\n",
      "Try using .loc[row_indexer,col_indexer] = value instead\n",
      "\n",
      "See the caveats in the documentation: http://pandas.pydata.org/pandas-docs/stable/indexing.html#indexing-view-versus-copy\n",
      "  app.launch_new_instance()\n",
      "/home/ravali/anaconda3/lib/python3.5/site-packages/ipykernel/__main__.py:4: SettingWithCopyWarning: \n",
      "A value is trying to be set on a copy of a slice from a DataFrame.\n",
      "Try using .loc[row_indexer,col_indexer] = value instead\n",
      "\n",
      "See the caveats in the documentation: http://pandas.pydata.org/pandas-docs/stable/indexing.html#indexing-view-versus-copy\n"
     ]
    }
   ],
   "source": [
    "enroll_63=sheet2[1218:1309]\n",
    "enroll_63.loc[:,'year'] = 'Aug 2007 to Jul 2009'\n",
    "enroll_63['Batch']='Batch_11'\n",
    "enroll_63['Branch']='MS EMBEDDED SYSTEMS'\n",
    "enroll_63.columns = ['NO','ROLL NO','NAME','Gender','State','nan','Year','Batch','Branch']\n",
    "enroll_63 = enroll_63.reset_index()\n",
    "del enroll_63['index']\n",
    "enroll_63=enroll_63.drop(\"nan\",axis=1)\n",
    "enroll_63=enroll_63.set_index('NO')\n"
   ]
  },
  {
   "cell_type": "code",
   "execution_count": 162,
   "metadata": {
    "collapsed": true
   },
   "outputs": [
    {
     "name": "stderr",
     "output_type": "stream",
     "text": [
      "/home/ravali/anaconda3/lib/python3.5/site-packages/pandas/core/indexing.py:288: SettingWithCopyWarning: \n",
      "A value is trying to be set on a copy of a slice from a DataFrame.\n",
      "Try using .loc[row_indexer,col_indexer] = value instead\n",
      "\n",
      "See the caveats in the documentation: http://pandas.pydata.org/pandas-docs/stable/indexing.html#indexing-view-versus-copy\n",
      "  self.obj[key] = _infer_fill_value(value)\n",
      "/home/ravali/anaconda3/lib/python3.5/site-packages/pandas/core/indexing.py:465: SettingWithCopyWarning: \n",
      "A value is trying to be set on a copy of a slice from a DataFrame.\n",
      "Try using .loc[row_indexer,col_indexer] = value instead\n",
      "\n",
      "See the caveats in the documentation: http://pandas.pydata.org/pandas-docs/stable/indexing.html#indexing-view-versus-copy\n",
      "  self.obj[item] = s\n",
      "/home/ravali/anaconda3/lib/python3.5/site-packages/ipykernel/__main__.py:3: SettingWithCopyWarning: \n",
      "A value is trying to be set on a copy of a slice from a DataFrame.\n",
      "Try using .loc[row_indexer,col_indexer] = value instead\n",
      "\n",
      "See the caveats in the documentation: http://pandas.pydata.org/pandas-docs/stable/indexing.html#indexing-view-versus-copy\n",
      "  app.launch_new_instance()\n",
      "/home/ravali/anaconda3/lib/python3.5/site-packages/ipykernel/__main__.py:4: SettingWithCopyWarning: \n",
      "A value is trying to be set on a copy of a slice from a DataFrame.\n",
      "Try using .loc[row_indexer,col_indexer] = value instead\n",
      "\n",
      "See the caveats in the documentation: http://pandas.pydata.org/pandas-docs/stable/indexing.html#indexing-view-versus-copy\n",
      "/home/ravali/anaconda3/lib/python3.5/site-packages/ipykernel/__main__.py:13: SettingWithCopyWarning: \n",
      "A value is trying to be set on a copy of a slice from a DataFrame.\n",
      "Try using .loc[row_indexer,col_indexer] = value instead\n",
      "\n",
      "See the caveats in the documentation: http://pandas.pydata.org/pandas-docs/stable/indexing.html#indexing-view-versus-copy\n",
      "/home/ravali/anaconda3/lib/python3.5/site-packages/ipykernel/__main__.py:14: SettingWithCopyWarning: \n",
      "A value is trying to be set on a copy of a slice from a DataFrame.\n",
      "Try using .loc[row_indexer,col_indexer] = value instead\n",
      "\n",
      "See the caveats in the documentation: http://pandas.pydata.org/pandas-docs/stable/indexing.html#indexing-view-versus-copy\n",
      "/home/ravali/anaconda3/lib/python3.5/site-packages/ipykernel/__main__.py:23: SettingWithCopyWarning: \n",
      "A value is trying to be set on a copy of a slice from a DataFrame.\n",
      "Try using .loc[row_indexer,col_indexer] = value instead\n",
      "\n",
      "See the caveats in the documentation: http://pandas.pydata.org/pandas-docs/stable/indexing.html#indexing-view-versus-copy\n",
      "/home/ravali/anaconda3/lib/python3.5/site-packages/ipykernel/__main__.py:24: SettingWithCopyWarning: \n",
      "A value is trying to be set on a copy of a slice from a DataFrame.\n",
      "Try using .loc[row_indexer,col_indexer] = value instead\n",
      "\n",
      "See the caveats in the documentation: http://pandas.pydata.org/pandas-docs/stable/indexing.html#indexing-view-versus-copy\n",
      "/home/ravali/anaconda3/lib/python3.5/site-packages/ipykernel/__main__.py:33: SettingWithCopyWarning: \n",
      "A value is trying to be set on a copy of a slice from a DataFrame.\n",
      "Try using .loc[row_indexer,col_indexer] = value instead\n",
      "\n",
      "See the caveats in the documentation: http://pandas.pydata.org/pandas-docs/stable/indexing.html#indexing-view-versus-copy\n",
      "/home/ravali/anaconda3/lib/python3.5/site-packages/ipykernel/__main__.py:34: SettingWithCopyWarning: \n",
      "A value is trying to be set on a copy of a slice from a DataFrame.\n",
      "Try using .loc[row_indexer,col_indexer] = value instead\n",
      "\n",
      "See the caveats in the documentation: http://pandas.pydata.org/pandas-docs/stable/indexing.html#indexing-view-versus-copy\n",
      "/home/ravali/anaconda3/lib/python3.5/site-packages/ipykernel/__main__.py:43: SettingWithCopyWarning: \n",
      "A value is trying to be set on a copy of a slice from a DataFrame.\n",
      "Try using .loc[row_indexer,col_indexer] = value instead\n",
      "\n",
      "See the caveats in the documentation: http://pandas.pydata.org/pandas-docs/stable/indexing.html#indexing-view-versus-copy\n",
      "/home/ravali/anaconda3/lib/python3.5/site-packages/ipykernel/__main__.py:44: SettingWithCopyWarning: \n",
      "A value is trying to be set on a copy of a slice from a DataFrame.\n",
      "Try using .loc[row_indexer,col_indexer] = value instead\n",
      "\n",
      "See the caveats in the documentation: http://pandas.pydata.org/pandas-docs/stable/indexing.html#indexing-view-versus-copy\n",
      "/home/ravali/anaconda3/lib/python3.5/site-packages/ipykernel/__main__.py:53: SettingWithCopyWarning: \n",
      "A value is trying to be set on a copy of a slice from a DataFrame.\n",
      "Try using .loc[row_indexer,col_indexer] = value instead\n",
      "\n",
      "See the caveats in the documentation: http://pandas.pydata.org/pandas-docs/stable/indexing.html#indexing-view-versus-copy\n",
      "/home/ravali/anaconda3/lib/python3.5/site-packages/ipykernel/__main__.py:54: SettingWithCopyWarning: \n",
      "A value is trying to be set on a copy of a slice from a DataFrame.\n",
      "Try using .loc[row_indexer,col_indexer] = value instead\n",
      "\n",
      "See the caveats in the documentation: http://pandas.pydata.org/pandas-docs/stable/indexing.html#indexing-view-versus-copy\n",
      "/home/ravali/anaconda3/lib/python3.5/site-packages/ipykernel/__main__.py:63: SettingWithCopyWarning: \n",
      "A value is trying to be set on a copy of a slice from a DataFrame.\n",
      "Try using .loc[row_indexer,col_indexer] = value instead\n",
      "\n",
      "See the caveats in the documentation: http://pandas.pydata.org/pandas-docs/stable/indexing.html#indexing-view-versus-copy\n",
      "/home/ravali/anaconda3/lib/python3.5/site-packages/ipykernel/__main__.py:64: SettingWithCopyWarning: \n",
      "A value is trying to be set on a copy of a slice from a DataFrame.\n",
      "Try using .loc[row_indexer,col_indexer] = value instead\n",
      "\n",
      "See the caveats in the documentation: http://pandas.pydata.org/pandas-docs/stable/indexing.html#indexing-view-versus-copy\n",
      "/home/ravali/anaconda3/lib/python3.5/site-packages/ipykernel/__main__.py:73: SettingWithCopyWarning: \n",
      "A value is trying to be set on a copy of a slice from a DataFrame.\n",
      "Try using .loc[row_indexer,col_indexer] = value instead\n",
      "\n",
      "See the caveats in the documentation: http://pandas.pydata.org/pandas-docs/stable/indexing.html#indexing-view-versus-copy\n",
      "/home/ravali/anaconda3/lib/python3.5/site-packages/ipykernel/__main__.py:74: SettingWithCopyWarning: \n",
      "A value is trying to be set on a copy of a slice from a DataFrame.\n",
      "Try using .loc[row_indexer,col_indexer] = value instead\n",
      "\n",
      "See the caveats in the documentation: http://pandas.pydata.org/pandas-docs/stable/indexing.html#indexing-view-versus-copy\n"
     ]
    }
   ],
   "source": [
    "enroll_64=sheet2[1310:1330]\n",
    "enroll_64.loc[:,'year'] = 'Jan 2008 to Dec 2009'\n",
    "enroll_64['Batch']='Batch_12'\n",
    "enroll_64['Branch']='MS EMBEDDED SYSTEMS'\n",
    "enroll_64.columns = ['NO','ROLL NO','NAME','Gender','State','nan','Year','Batch','Branch']\n",
    "enroll_64 = enroll_64.reset_index()\n",
    "del enroll_64['index']\n",
    "enroll_64=enroll_64.drop(\"nan\",axis=1)\n",
    "enroll_64=enroll_64.set_index('NO')\n",
    "\n",
    "enroll_65=sheet2[1331:1425]\n",
    "enroll_65.loc[:,'year'] = 'Aug 2008 to July2010'\n",
    "enroll_65['Batch']='Batch_13'\n",
    "enroll_65['Branch']='MS EMBEDDED SYSTEMS'\n",
    "enroll_65.columns = ['NO','ROLL NO','NAME','Gender','State','nan','Year','Batch','Branch']\n",
    "enroll_65 = enroll_65.reset_index()\n",
    "del enroll_65['index']\n",
    "enroll_65=enroll_65.drop(\"nan\",axis=1)\n",
    "enroll_65=enroll_65.set_index('NO')\n",
    "\n",
    "enroll_66=sheet2[1428:1435]\n",
    "enroll_66.loc[:,'year'] = 'Jan 2009 to Dec 2010'\n",
    "enroll_66['Batch']='Batch_14'\n",
    "enroll_66['Branch']='MS EMBEDDED SYSTEMS'\n",
    "enroll_66.columns = ['NO','ROLL NO','NAME','Gender','State','nan','Year','Batch','Branch']\n",
    "enroll_66 = enroll_66.reset_index()\n",
    "del enroll_66['index']\n",
    "enroll_66=enroll_66.drop(\"nan\",axis=1)\n",
    "enroll_66=enroll_66.set_index('NO')\n",
    "\n",
    "enroll_67=sheet2[1436:1570]\n",
    "enroll_67.loc[:,'year'] = 'Aug 2009 to July 2011'\n",
    "enroll_67['Batch']='Batch_15'\n",
    "enroll_67['Branch']='MS EMBEDDED SYSTEMS'\n",
    "enroll_67.columns = ['NO','ROLL NO','NAME','Gender','State','nan','Year','Batch','Branch']\n",
    "enroll_67 = enroll_67.reset_index()\n",
    "del enroll_67['index']\n",
    "enroll_67=enroll_67.drop(\"nan\",axis=1)\n",
    "enroll_67=enroll_67.set_index('NO')\n",
    "\n",
    "enroll_68=sheet2[1571:1623]\n",
    "enroll_68.loc[:,'year'] = 'Jan 2010 to Dec 2011'\n",
    "enroll_68['Batch']='Batch_16'\n",
    "enroll_68['Branch']='MS EMBEDDED SYSTEMS'\n",
    "enroll_68.columns = ['NO','ROLL NO','NAME','Gender','State','nan','Year','Batch','Branch']\n",
    "enroll_68 = enroll_68.reset_index()\n",
    "del enroll_68['index']\n",
    "enroll_68=enroll_68.drop(\"nan\",axis=1)\n",
    "enroll_68=enroll_68.set_index('NO')\n",
    "\n",
    "enroll_69=sheet2[1626:1706]\n",
    "enroll_69.loc[:,'year'] = 'Aug 2010 to Jul 2012'\n",
    "enroll_69['Batch']='Batch_17'\n",
    "enroll_69['Branch']='MS EMBEDDED SYSTEMS'\n",
    "enroll_69.columns = ['NO','ROLL NO','NAME','Gender','State','nan','Year','Batch','Branch']\n",
    "enroll_69 = enroll_69.reset_index()\n",
    "del enroll_69['index']\n",
    "enroll_69=enroll_69.drop(\"nan\",axis=1)\n",
    "enroll_69=enroll_69.set_index('NO')\n",
    "\n",
    "enroll_70=sheet2[1709:1759]\n",
    "enroll_70.loc[:,'year'] = 'Jan 2011 to Dec 2012'\n",
    "enroll_70['Batch']='Batch_18'\n",
    "enroll_70['Branch']='MS EMBEDDED SYSTEMS'\n",
    "enroll_70.columns = ['NO','ROLL NO','NAME','Gender','State','nan','Year','Batch','Branch']\n",
    "enroll_70 = enroll_70.reset_index()\n",
    "del enroll_70['index']\n",
    "enroll_70=enroll_70.drop(\"nan\",axis=1)\n",
    "enroll_70=enroll_70.set_index('NO')\n",
    "\n",
    "enroll_71=sheet2[1762:1842]\n",
    "enroll_71.loc[:,'year'] = 'Aug 2011 to Jul 2013'\n",
    "enroll_71['Batch']='Batch_19'\n",
    "enroll_71['Branch']='MS EMBEDDED SYSTEMS'\n",
    "enroll_71.columns = ['NO','ROLL NO','NAME','Gender','State','nan','Year','Batch','Branch']\n",
    "enroll_71 = enroll_71.reset_index()\n",
    "del enroll_71['index']\n",
    "enroll_71=enroll_71.drop(\"nan\",axis=1)\n",
    "enroll_71=enroll_71.set_index('NO')\n"
   ]
  },
  {
   "cell_type": "code",
   "execution_count": 163,
   "metadata": {
    "collapsed": true
   },
   "outputs": [
    {
     "name": "stderr",
     "output_type": "stream",
     "text": [
      "/home/ravali/anaconda3/lib/python3.5/site-packages/pandas/core/indexing.py:288: SettingWithCopyWarning: \n",
      "A value is trying to be set on a copy of a slice from a DataFrame.\n",
      "Try using .loc[row_indexer,col_indexer] = value instead\n",
      "\n",
      "See the caveats in the documentation: http://pandas.pydata.org/pandas-docs/stable/indexing.html#indexing-view-versus-copy\n",
      "  self.obj[key] = _infer_fill_value(value)\n",
      "/home/ravali/anaconda3/lib/python3.5/site-packages/pandas/core/indexing.py:465: SettingWithCopyWarning: \n",
      "A value is trying to be set on a copy of a slice from a DataFrame.\n",
      "Try using .loc[row_indexer,col_indexer] = value instead\n",
      "\n",
      "See the caveats in the documentation: http://pandas.pydata.org/pandas-docs/stable/indexing.html#indexing-view-versus-copy\n",
      "  self.obj[item] = s\n",
      "/home/ravali/anaconda3/lib/python3.5/site-packages/ipykernel/__main__.py:3: SettingWithCopyWarning: \n",
      "A value is trying to be set on a copy of a slice from a DataFrame.\n",
      "Try using .loc[row_indexer,col_indexer] = value instead\n",
      "\n",
      "See the caveats in the documentation: http://pandas.pydata.org/pandas-docs/stable/indexing.html#indexing-view-versus-copy\n",
      "  app.launch_new_instance()\n",
      "/home/ravali/anaconda3/lib/python3.5/site-packages/ipykernel/__main__.py:4: SettingWithCopyWarning: \n",
      "A value is trying to be set on a copy of a slice from a DataFrame.\n",
      "Try using .loc[row_indexer,col_indexer] = value instead\n",
      "\n",
      "See the caveats in the documentation: http://pandas.pydata.org/pandas-docs/stable/indexing.html#indexing-view-versus-copy\n",
      "/home/ravali/anaconda3/lib/python3.5/site-packages/ipykernel/__main__.py:13: SettingWithCopyWarning: \n",
      "A value is trying to be set on a copy of a slice from a DataFrame.\n",
      "Try using .loc[row_indexer,col_indexer] = value instead\n",
      "\n",
      "See the caveats in the documentation: http://pandas.pydata.org/pandas-docs/stable/indexing.html#indexing-view-versus-copy\n",
      "/home/ravali/anaconda3/lib/python3.5/site-packages/ipykernel/__main__.py:14: SettingWithCopyWarning: \n",
      "A value is trying to be set on a copy of a slice from a DataFrame.\n",
      "Try using .loc[row_indexer,col_indexer] = value instead\n",
      "\n",
      "See the caveats in the documentation: http://pandas.pydata.org/pandas-docs/stable/indexing.html#indexing-view-versus-copy\n",
      "/home/ravali/anaconda3/lib/python3.5/site-packages/ipykernel/__main__.py:23: SettingWithCopyWarning: \n",
      "A value is trying to be set on a copy of a slice from a DataFrame.\n",
      "Try using .loc[row_indexer,col_indexer] = value instead\n",
      "\n",
      "See the caveats in the documentation: http://pandas.pydata.org/pandas-docs/stable/indexing.html#indexing-view-versus-copy\n",
      "/home/ravali/anaconda3/lib/python3.5/site-packages/ipykernel/__main__.py:24: SettingWithCopyWarning: \n",
      "A value is trying to be set on a copy of a slice from a DataFrame.\n",
      "Try using .loc[row_indexer,col_indexer] = value instead\n",
      "\n",
      "See the caveats in the documentation: http://pandas.pydata.org/pandas-docs/stable/indexing.html#indexing-view-versus-copy\n"
     ]
    }
   ],
   "source": [
    "enroll_72=sheet2[1861:1891]\n",
    "enroll_72.loc[:,'year'] = 'Aug 2010 to Jul 2012'\n",
    "enroll_72['Batch']='Batch_1'\n",
    "enroll_72['Branch']=' MS Embedded & Wireless Technology '\n",
    "enroll_72.columns = ['NO','ROLL NO','NAME','Gender','State','nan','Year','Batch','Branch']\n",
    "enroll_72 = enroll_72.reset_index()\n",
    "del enroll_72['index']\n",
    "enroll_72=enroll_72.drop(\"nan\",axis=1)\n",
    "enroll_72=enroll_72.set_index('NO')\n",
    "\n",
    "enroll_73=sheet2[1894:1909]\n",
    "enroll_73.loc[:,'year'] = 'JAN 2011 to DEC 2012'\n",
    "enroll_73['Batch']='Batch_2'\n",
    "enroll_73['Branch']=' MS Embedded & Wireless Technology '\n",
    "enroll_73.columns = ['NO','ROLL NO','NAME','Gender','State','nan','Year','Batch','Branch']\n",
    "enroll_73 = enroll_73.reset_index()\n",
    "del enroll_73['index']\n",
    "enroll_73=enroll_73.drop(\"nan\",axis=1)\n",
    "enroll_73=enroll_73.set_index('NO')\n",
    "\n",
    "enroll_74=sheet2[1912:1942]\n",
    "enroll_74.loc[:,'year'] = 'Aug 2011 to Jul 2013'\n",
    "enroll_74['Batch']='Batch_3'\n",
    "enroll_74['Branch']=' MS Embedded & Wireless Technology '\n",
    "enroll_74.columns = ['NO','ROLL NO','NAME','Gender','State','nan','Year','Batch','Branch']\n",
    "enroll_74 = enroll_74.reset_index()\n",
    "del enroll_74['index']\n",
    "enroll_74=enroll_74.drop(\"nan\",axis=1)\n",
    "enroll_74=enroll_74.set_index('NO')"
   ]
  },
  {
   "cell_type": "code",
   "execution_count": 164,
   "metadata": {
    "collapsed": true
   },
   "outputs": [
    {
     "name": "stderr",
     "output_type": "stream",
     "text": [
      "/home/ravali/anaconda3/lib/python3.5/site-packages/pandas/core/indexing.py:288: SettingWithCopyWarning: \n",
      "A value is trying to be set on a copy of a slice from a DataFrame.\n",
      "Try using .loc[row_indexer,col_indexer] = value instead\n",
      "\n",
      "See the caveats in the documentation: http://pandas.pydata.org/pandas-docs/stable/indexing.html#indexing-view-versus-copy\n",
      "  self.obj[key] = _infer_fill_value(value)\n",
      "/home/ravali/anaconda3/lib/python3.5/site-packages/pandas/core/indexing.py:465: SettingWithCopyWarning: \n",
      "A value is trying to be set on a copy of a slice from a DataFrame.\n",
      "Try using .loc[row_indexer,col_indexer] = value instead\n",
      "\n",
      "See the caveats in the documentation: http://pandas.pydata.org/pandas-docs/stable/indexing.html#indexing-view-versus-copy\n",
      "  self.obj[item] = s\n",
      "/home/ravali/anaconda3/lib/python3.5/site-packages/ipykernel/__main__.py:3: SettingWithCopyWarning: \n",
      "A value is trying to be set on a copy of a slice from a DataFrame.\n",
      "Try using .loc[row_indexer,col_indexer] = value instead\n",
      "\n",
      "See the caveats in the documentation: http://pandas.pydata.org/pandas-docs/stable/indexing.html#indexing-view-versus-copy\n",
      "  app.launch_new_instance()\n",
      "/home/ravali/anaconda3/lib/python3.5/site-packages/ipykernel/__main__.py:4: SettingWithCopyWarning: \n",
      "A value is trying to be set on a copy of a slice from a DataFrame.\n",
      "Try using .loc[row_indexer,col_indexer] = value instead\n",
      "\n",
      "See the caveats in the documentation: http://pandas.pydata.org/pandas-docs/stable/indexing.html#indexing-view-versus-copy\n",
      "/home/ravali/anaconda3/lib/python3.5/site-packages/ipykernel/__main__.py:13: SettingWithCopyWarning: \n",
      "A value is trying to be set on a copy of a slice from a DataFrame.\n",
      "Try using .loc[row_indexer,col_indexer] = value instead\n",
      "\n",
      "See the caveats in the documentation: http://pandas.pydata.org/pandas-docs/stable/indexing.html#indexing-view-versus-copy\n",
      "/home/ravali/anaconda3/lib/python3.5/site-packages/ipykernel/__main__.py:14: SettingWithCopyWarning: \n",
      "A value is trying to be set on a copy of a slice from a DataFrame.\n",
      "Try using .loc[row_indexer,col_indexer] = value instead\n",
      "\n",
      "See the caveats in the documentation: http://pandas.pydata.org/pandas-docs/stable/indexing.html#indexing-view-versus-copy\n",
      "/home/ravali/anaconda3/lib/python3.5/site-packages/ipykernel/__main__.py:23: SettingWithCopyWarning: \n",
      "A value is trying to be set on a copy of a slice from a DataFrame.\n",
      "Try using .loc[row_indexer,col_indexer] = value instead\n",
      "\n",
      "See the caveats in the documentation: http://pandas.pydata.org/pandas-docs/stable/indexing.html#indexing-view-versus-copy\n",
      "/home/ravali/anaconda3/lib/python3.5/site-packages/ipykernel/__main__.py:24: SettingWithCopyWarning: \n",
      "A value is trying to be set on a copy of a slice from a DataFrame.\n",
      "Try using .loc[row_indexer,col_indexer] = value instead\n",
      "\n",
      "See the caveats in the documentation: http://pandas.pydata.org/pandas-docs/stable/indexing.html#indexing-view-versus-copy\n",
      "/home/ravali/anaconda3/lib/python3.5/site-packages/ipykernel/__main__.py:33: SettingWithCopyWarning: \n",
      "A value is trying to be set on a copy of a slice from a DataFrame.\n",
      "Try using .loc[row_indexer,col_indexer] = value instead\n",
      "\n",
      "See the caveats in the documentation: http://pandas.pydata.org/pandas-docs/stable/indexing.html#indexing-view-versus-copy\n",
      "/home/ravali/anaconda3/lib/python3.5/site-packages/ipykernel/__main__.py:34: SettingWithCopyWarning: \n",
      "A value is trying to be set on a copy of a slice from a DataFrame.\n",
      "Try using .loc[row_indexer,col_indexer] = value instead\n",
      "\n",
      "See the caveats in the documentation: http://pandas.pydata.org/pandas-docs/stable/indexing.html#indexing-view-versus-copy\n",
      "/home/ravali/anaconda3/lib/python3.5/site-packages/ipykernel/__main__.py:43: SettingWithCopyWarning: \n",
      "A value is trying to be set on a copy of a slice from a DataFrame.\n",
      "Try using .loc[row_indexer,col_indexer] = value instead\n",
      "\n",
      "See the caveats in the documentation: http://pandas.pydata.org/pandas-docs/stable/indexing.html#indexing-view-versus-copy\n",
      "/home/ravali/anaconda3/lib/python3.5/site-packages/ipykernel/__main__.py:44: SettingWithCopyWarning: \n",
      "A value is trying to be set on a copy of a slice from a DataFrame.\n",
      "Try using .loc[row_indexer,col_indexer] = value instead\n",
      "\n",
      "See the caveats in the documentation: http://pandas.pydata.org/pandas-docs/stable/indexing.html#indexing-view-versus-copy\n",
      "/home/ravali/anaconda3/lib/python3.5/site-packages/ipykernel/__main__.py:54: SettingWithCopyWarning: \n",
      "A value is trying to be set on a copy of a slice from a DataFrame.\n",
      "Try using .loc[row_indexer,col_indexer] = value instead\n",
      "\n",
      "See the caveats in the documentation: http://pandas.pydata.org/pandas-docs/stable/indexing.html#indexing-view-versus-copy\n",
      "/home/ravali/anaconda3/lib/python3.5/site-packages/ipykernel/__main__.py:55: SettingWithCopyWarning: \n",
      "A value is trying to be set on a copy of a slice from a DataFrame.\n",
      "Try using .loc[row_indexer,col_indexer] = value instead\n",
      "\n",
      "See the caveats in the documentation: http://pandas.pydata.org/pandas-docs/stable/indexing.html#indexing-view-versus-copy\n"
     ]
    }
   ],
   "source": [
    "enroll_85=sheet2[2186:2223]\n",
    "enroll_85.loc[:,'year'] = 'Jan 2012 to Dec  2013'\n",
    "enroll_85['Batch']='Batch_1'\n",
    "enroll_85['Branch']=' MSc Tech Embedded Systems '\n",
    "enroll_85.columns = ['NO','ROLL NO','NAME','Gender','State','nan','Year','Batch','Branch']\n",
    "enroll_85 = enroll_85.reset_index()\n",
    "del enroll_85['index']\n",
    "enroll_85=enroll_85.drop(\"nan\",axis=1)\n",
    "enroll_85=enroll_85.set_index('NO')\n",
    "\n",
    "enroll_86=sheet2[2226:2237]\n",
    "enroll_86.loc[:,'year'] = 'Jan 2012 to Dec  2013'\n",
    "enroll_86['Batch']='Batch_1'\n",
    "enroll_86['Branch']=' MSc Tech VLSI DESIGN  '\n",
    "enroll_86.columns = ['NO','ROLL NO','NAME','Gender','State','nan','Year','Batch','Branch']\n",
    "enroll_86 = enroll_86.reset_index()\n",
    "del enroll_86['index']\n",
    "enroll_86=enroll_86.drop(\"nan\",axis=1)\n",
    "enroll_86=enroll_86.set_index('NO')\n",
    "\n",
    "enroll_87=sheet2[2257:2262]\n",
    "enroll_87.loc[:,'year'] = 'Aug 2000 to Jul 2001'\n",
    "enroll_87['Batch']='Batch_1'\n",
    "enroll_87['Branch']='PG DIPLOMA IN E-COMMERCE'\n",
    "enroll_87.columns = ['NO','ROLL NO','NAME','Gender','State','nan','Year','Batch','Branch']\n",
    "enroll_87 = enroll_87.reset_index()\n",
    "del enroll_87['index']\n",
    "enroll_87=enroll_87.drop(\"nan\",axis=1)\n",
    "enroll_87=enroll_87.set_index('NO')\n",
    "\n",
    "enroll_88=sheet2[2264:2270]\n",
    "enroll_88.loc[:,'year'] = 'Aug 2001 to Jul 2004'\n",
    "enroll_88['Batch']='Batch_1'\n",
    "enroll_88['Branch']='BACHELOR OF COMPUTER APPLICATION'\n",
    "enroll_88.columns = ['NO','ROLL NO','NAME','Gender','State','nan','Year','Batch','Branch']\n",
    "enroll_88 = enroll_88.reset_index()\n",
    "del enroll_88['index']\n",
    "enroll_88=enroll_88.drop(\"nan\",axis=1)\n",
    "enroll_88=enroll_88.set_index('NO')\n",
    "\n",
    "enroll_89=sheet2[2271:2276]\n",
    "enroll_89.loc[:,'year'] = 'Aug 2002 to Jul 2005'\n",
    "enroll_89['Batch']='Batch_2'\n",
    "enroll_89['Branch']='BACHELOR OF COMPUTER APPLICATION'\n",
    "enroll_89.columns = ['NO','ROLL NO','NAME','Gender','State','nan','Year','Batch','Branch']\n",
    "enroll_89 = enroll_89.reset_index()\n",
    "del enroll_89['index']\n",
    "enroll_89=enroll_89.drop(\"nan\",axis=1)\n",
    "enroll_89=enroll_89.set_index('NO')\n",
    "\n",
    "\n",
    "enroll_90=sheet2[2277:2285]\n",
    "enroll_90.loc[:,'year'] = 'Aug 2003 to Jul 2006'\n",
    "enroll_90['Batch']='Batch_3'\n",
    "enroll_90['Branch']='BACHELOR OF COMPUTER APPLICATION'\n",
    "enroll_90.columns = ['NO','ROLL NO','NAME','Gender','State','nan','Year','Batch','Branch']\n",
    "enroll_90 = enroll_90.reset_index()\n",
    "del enroll_90['index']\n",
    "enroll_90=enroll_90.drop(\"nan\",axis=1)\n",
    "enroll_90=enroll_90.set_index('NO')\n"
   ]
  },
  {
   "cell_type": "code",
   "execution_count": 165,
   "metadata": {
    "collapsed": true
   },
   "outputs": [
    {
     "name": "stderr",
     "output_type": "stream",
     "text": [
      "/home/ravali/anaconda3/lib/python3.5/site-packages/pandas/core/indexing.py:288: SettingWithCopyWarning: \n",
      "A value is trying to be set on a copy of a slice from a DataFrame.\n",
      "Try using .loc[row_indexer,col_indexer] = value instead\n",
      "\n",
      "See the caveats in the documentation: http://pandas.pydata.org/pandas-docs/stable/indexing.html#indexing-view-versus-copy\n",
      "  self.obj[key] = _infer_fill_value(value)\n",
      "/home/ravali/anaconda3/lib/python3.5/site-packages/pandas/core/indexing.py:465: SettingWithCopyWarning: \n",
      "A value is trying to be set on a copy of a slice from a DataFrame.\n",
      "Try using .loc[row_indexer,col_indexer] = value instead\n",
      "\n",
      "See the caveats in the documentation: http://pandas.pydata.org/pandas-docs/stable/indexing.html#indexing-view-versus-copy\n",
      "  self.obj[item] = s\n",
      "/home/ravali/anaconda3/lib/python3.5/site-packages/ipykernel/__main__.py:3: SettingWithCopyWarning: \n",
      "A value is trying to be set on a copy of a slice from a DataFrame.\n",
      "Try using .loc[row_indexer,col_indexer] = value instead\n",
      "\n",
      "See the caveats in the documentation: http://pandas.pydata.org/pandas-docs/stable/indexing.html#indexing-view-versus-copy\n",
      "  app.launch_new_instance()\n",
      "/home/ravali/anaconda3/lib/python3.5/site-packages/ipykernel/__main__.py:4: SettingWithCopyWarning: \n",
      "A value is trying to be set on a copy of a slice from a DataFrame.\n",
      "Try using .loc[row_indexer,col_indexer] = value instead\n",
      "\n",
      "See the caveats in the documentation: http://pandas.pydata.org/pandas-docs/stable/indexing.html#indexing-view-versus-copy\n"
     ]
    }
   ],
   "source": [
    "enroll_91=sheet2[2288:2308]\n",
    "enroll_91.loc[:,'year'] = 'Aug 2005 to July 2007'\n",
    "enroll_91['Batch']='Batch_1'\n",
    "enroll_91['Branch']='MSc DIGITAL DESIGN & EMBEDDED SYSTEMS'\n",
    "enroll_91.columns = ['NO','ROLL NO','NAME','Gender','State','nan','Year','Batch','Branch']\n",
    "enroll_91 = enroll_91.reset_index()\n",
    "del enroll_91['index']\n",
    "enroll_91=enroll_91.drop(\"nan\",axis=1)\n",
    "enroll_91=enroll_91.set_index('NO')"
   ]
  },
  {
   "cell_type": "code",
   "execution_count": 166,
   "metadata": {
    "collapsed": true
   },
   "outputs": [
    {
     "name": "stderr",
     "output_type": "stream",
     "text": [
      "/home/ravali/anaconda3/lib/python3.5/site-packages/pandas/core/indexing.py:288: SettingWithCopyWarning: \n",
      "A value is trying to be set on a copy of a slice from a DataFrame.\n",
      "Try using .loc[row_indexer,col_indexer] = value instead\n",
      "\n",
      "See the caveats in the documentation: http://pandas.pydata.org/pandas-docs/stable/indexing.html#indexing-view-versus-copy\n",
      "  self.obj[key] = _infer_fill_value(value)\n",
      "/home/ravali/anaconda3/lib/python3.5/site-packages/pandas/core/indexing.py:465: SettingWithCopyWarning: \n",
      "A value is trying to be set on a copy of a slice from a DataFrame.\n",
      "Try using .loc[row_indexer,col_indexer] = value instead\n",
      "\n",
      "See the caveats in the documentation: http://pandas.pydata.org/pandas-docs/stable/indexing.html#indexing-view-versus-copy\n",
      "  self.obj[item] = s\n",
      "/home/ravali/anaconda3/lib/python3.5/site-packages/ipykernel/__main__.py:3: SettingWithCopyWarning: \n",
      "A value is trying to be set on a copy of a slice from a DataFrame.\n",
      "Try using .loc[row_indexer,col_indexer] = value instead\n",
      "\n",
      "See the caveats in the documentation: http://pandas.pydata.org/pandas-docs/stable/indexing.html#indexing-view-versus-copy\n",
      "  app.launch_new_instance()\n",
      "/home/ravali/anaconda3/lib/python3.5/site-packages/ipykernel/__main__.py:4: SettingWithCopyWarning: \n",
      "A value is trying to be set on a copy of a slice from a DataFrame.\n",
      "Try using .loc[row_indexer,col_indexer] = value instead\n",
      "\n",
      "See the caveats in the documentation: http://pandas.pydata.org/pandas-docs/stable/indexing.html#indexing-view-versus-copy\n"
     ]
    }
   ],
   "source": [
    "enroll_92=sheet2[2309:2327]\n",
    "enroll_92.loc[:,'year'] = 'Aug 2006 to July 2008'\n",
    "enroll_92['Batch']='Batch_2'\n",
    "enroll_92['Branch']='MSc DIGITAL DESIGN & EMBEDDED SYSTEMS'\n",
    "enroll_92.columns = ['NO','ROLL NO','NAME','Gender','State','nan','Year','Batch','Branch']\n",
    "enroll_92 = enroll_92.reset_index()\n",
    "del enroll_92['index']\n",
    "enroll_92=enroll_92.drop(\"nan\",axis=1)\n",
    "enroll_92=enroll_92.set_index('NO')\n"
   ]
  },
  {
   "cell_type": "code",
   "execution_count": 167,
   "metadata": {
    "collapsed": false
   },
   "outputs": [],
   "source": [
    "list1=[7,8,12,13,16,17]\n",
    "for i in range(0,6):\n",
    "    enroll_92=enroll_92.drop(list1[i],axis=0)"
   ]
  },
  {
   "cell_type": "code",
   "execution_count": 168,
   "metadata": {
    "collapsed": false
   },
   "outputs": [],
   "source": [
    "enroll_92.index=range(1,13)\n"
   ]
  },
  {
   "cell_type": "code",
   "execution_count": 169,
   "metadata": {
    "collapsed": true
   },
   "outputs": [
    {
     "name": "stderr",
     "output_type": "stream",
     "text": [
      "/home/ravali/anaconda3/lib/python3.5/site-packages/pandas/core/indexing.py:288: SettingWithCopyWarning: \n",
      "A value is trying to be set on a copy of a slice from a DataFrame.\n",
      "Try using .loc[row_indexer,col_indexer] = value instead\n",
      "\n",
      "See the caveats in the documentation: http://pandas.pydata.org/pandas-docs/stable/indexing.html#indexing-view-versus-copy\n",
      "  self.obj[key] = _infer_fill_value(value)\n",
      "/home/ravali/anaconda3/lib/python3.5/site-packages/pandas/core/indexing.py:465: SettingWithCopyWarning: \n",
      "A value is trying to be set on a copy of a slice from a DataFrame.\n",
      "Try using .loc[row_indexer,col_indexer] = value instead\n",
      "\n",
      "See the caveats in the documentation: http://pandas.pydata.org/pandas-docs/stable/indexing.html#indexing-view-versus-copy\n",
      "  self.obj[item] = s\n",
      "/home/ravali/anaconda3/lib/python3.5/site-packages/ipykernel/__main__.py:3: SettingWithCopyWarning: \n",
      "A value is trying to be set on a copy of a slice from a DataFrame.\n",
      "Try using .loc[row_indexer,col_indexer] = value instead\n",
      "\n",
      "See the caveats in the documentation: http://pandas.pydata.org/pandas-docs/stable/indexing.html#indexing-view-versus-copy\n",
      "  app.launch_new_instance()\n",
      "/home/ravali/anaconda3/lib/python3.5/site-packages/ipykernel/__main__.py:4: SettingWithCopyWarning: \n",
      "A value is trying to be set on a copy of a slice from a DataFrame.\n",
      "Try using .loc[row_indexer,col_indexer] = value instead\n",
      "\n",
      "See the caveats in the documentation: http://pandas.pydata.org/pandas-docs/stable/indexing.html#indexing-view-versus-copy\n"
     ]
    }
   ],
   "source": [
    "enroll_93=sheet2[2328:2340]\n",
    "enroll_93.loc[:,'year'] = 'Aug 2007 to July 2009'\n",
    "enroll_93['Batch']='Batch_3'\n",
    "enroll_93['Branch']='MSc DIGITAL DESIGN & EMBEDDED SYSTEMS'\n",
    "enroll_93.columns = ['NO','ROLL NO','NAME','Gender','State','nan','Year','Batch','Branch']\n",
    "enroll_93 = enroll_93.reset_index()\n",
    "del enroll_93['index']\n",
    "enroll_93=enroll_93.drop(\"nan\",axis=1)\n",
    "enroll_93=enroll_93.set_index('NO')"
   ]
  },
  {
   "cell_type": "code",
   "execution_count": 170,
   "metadata": {
    "collapsed": true
   },
   "outputs": [
    {
     "name": "stderr",
     "output_type": "stream",
     "text": [
      "/home/ravali/anaconda3/lib/python3.5/site-packages/pandas/core/indexing.py:288: SettingWithCopyWarning: \n",
      "A value is trying to be set on a copy of a slice from a DataFrame.\n",
      "Try using .loc[row_indexer,col_indexer] = value instead\n",
      "\n",
      "See the caveats in the documentation: http://pandas.pydata.org/pandas-docs/stable/indexing.html#indexing-view-versus-copy\n",
      "  self.obj[key] = _infer_fill_value(value)\n",
      "/home/ravali/anaconda3/lib/python3.5/site-packages/pandas/core/indexing.py:465: SettingWithCopyWarning: \n",
      "A value is trying to be set on a copy of a slice from a DataFrame.\n",
      "Try using .loc[row_indexer,col_indexer] = value instead\n",
      "\n",
      "See the caveats in the documentation: http://pandas.pydata.org/pandas-docs/stable/indexing.html#indexing-view-versus-copy\n",
      "  self.obj[item] = s\n",
      "/home/ravali/anaconda3/lib/python3.5/site-packages/ipykernel/__main__.py:5: SettingWithCopyWarning: \n",
      "A value is trying to be set on a copy of a slice from a DataFrame.\n",
      "Try using .loc[row_indexer,col_indexer] = value instead\n",
      "\n",
      "See the caveats in the documentation: http://pandas.pydata.org/pandas-docs/stable/indexing.html#indexing-view-versus-copy\n",
      "/home/ravali/anaconda3/lib/python3.5/site-packages/ipykernel/__main__.py:6: SettingWithCopyWarning: \n",
      "A value is trying to be set on a copy of a slice from a DataFrame.\n",
      "Try using .loc[row_indexer,col_indexer] = value instead\n",
      "\n",
      "See the caveats in the documentation: http://pandas.pydata.org/pandas-docs/stable/indexing.html#indexing-view-versus-copy\n"
     ]
    }
   ],
   "source": [
    "\n",
    "\n",
    "enroll_94=sheet2[2341:2355]\n",
    "enroll_94.loc[:,'year'] = 'Aug 2008 to July 2010'\n",
    "enroll_94['Batch']='Batch_4'\n",
    "enroll_94['Branch']='MSc DIGITAL DESIGN & EMBEDDED SYSTEMS'\n",
    "enroll_94.columns = ['NO','ROLL NO','NAME','Gender','State','nan','Year','Batch','Branch']\n",
    "enroll_94 = enroll_94.reset_index()\n",
    "del enroll_94['index']\n",
    "enroll_94=enroll_94.drop(\"nan\",axis=1)\n",
    "enroll_94=enroll_94.set_index('NO')\n"
   ]
  },
  {
   "cell_type": "code",
   "execution_count": 171,
   "metadata": {
    "collapsed": true
   },
   "outputs": [
    {
     "name": "stderr",
     "output_type": "stream",
     "text": [
      "/home/ravali/anaconda3/lib/python3.5/site-packages/pandas/core/indexing.py:288: SettingWithCopyWarning: \n",
      "A value is trying to be set on a copy of a slice from a DataFrame.\n",
      "Try using .loc[row_indexer,col_indexer] = value instead\n",
      "\n",
      "See the caveats in the documentation: http://pandas.pydata.org/pandas-docs/stable/indexing.html#indexing-view-versus-copy\n",
      "  self.obj[key] = _infer_fill_value(value)\n",
      "/home/ravali/anaconda3/lib/python3.5/site-packages/pandas/core/indexing.py:465: SettingWithCopyWarning: \n",
      "A value is trying to be set on a copy of a slice from a DataFrame.\n",
      "Try using .loc[row_indexer,col_indexer] = value instead\n",
      "\n",
      "See the caveats in the documentation: http://pandas.pydata.org/pandas-docs/stable/indexing.html#indexing-view-versus-copy\n",
      "  self.obj[item] = s\n",
      "/home/ravali/anaconda3/lib/python3.5/site-packages/ipykernel/__main__.py:3: SettingWithCopyWarning: \n",
      "A value is trying to be set on a copy of a slice from a DataFrame.\n",
      "Try using .loc[row_indexer,col_indexer] = value instead\n",
      "\n",
      "See the caveats in the documentation: http://pandas.pydata.org/pandas-docs/stable/indexing.html#indexing-view-versus-copy\n",
      "  app.launch_new_instance()\n",
      "/home/ravali/anaconda3/lib/python3.5/site-packages/ipykernel/__main__.py:4: SettingWithCopyWarning: \n",
      "A value is trying to be set on a copy of a slice from a DataFrame.\n",
      "Try using .loc[row_indexer,col_indexer] = value instead\n",
      "\n",
      "See the caveats in the documentation: http://pandas.pydata.org/pandas-docs/stable/indexing.html#indexing-view-versus-copy\n"
     ]
    }
   ],
   "source": [
    "enroll_95=sheet2[2356:2363]\n",
    "enroll_95.loc[:,'year'] = 'Aug 2009 to July 2011'\n",
    "enroll_95['Batch']='Batch_5'\n",
    "enroll_95['Branch']='MSc DIGITAL DESIGN & EMBEDDED SYSTEMS'\n",
    "enroll_95.columns = ['NO','ROLL NO','NAME','Gender','State','nan','Year','Batch','Branch']\n",
    "enroll_95 = enroll_95.reset_index()\n",
    "del enroll_95['index']\n",
    "enroll_95=enroll_95.drop(\"nan\",axis=1)\n",
    "enroll_95=enroll_95.set_index('NO')"
   ]
  },
  {
   "cell_type": "code",
   "execution_count": 172,
   "metadata": {
    "collapsed": true
   },
   "outputs": [
    {
     "name": "stderr",
     "output_type": "stream",
     "text": [
      "/home/ravali/anaconda3/lib/python3.5/site-packages/pandas/core/indexing.py:288: SettingWithCopyWarning: \n",
      "A value is trying to be set on a copy of a slice from a DataFrame.\n",
      "Try using .loc[row_indexer,col_indexer] = value instead\n",
      "\n",
      "See the caveats in the documentation: http://pandas.pydata.org/pandas-docs/stable/indexing.html#indexing-view-versus-copy\n",
      "  self.obj[key] = _infer_fill_value(value)\n",
      "/home/ravali/anaconda3/lib/python3.5/site-packages/pandas/core/indexing.py:465: SettingWithCopyWarning: \n",
      "A value is trying to be set on a copy of a slice from a DataFrame.\n",
      "Try using .loc[row_indexer,col_indexer] = value instead\n",
      "\n",
      "See the caveats in the documentation: http://pandas.pydata.org/pandas-docs/stable/indexing.html#indexing-view-versus-copy\n",
      "  self.obj[item] = s\n",
      "/home/ravali/anaconda3/lib/python3.5/site-packages/ipykernel/__main__.py:3: SettingWithCopyWarning: \n",
      "A value is trying to be set on a copy of a slice from a DataFrame.\n",
      "Try using .loc[row_indexer,col_indexer] = value instead\n",
      "\n",
      "See the caveats in the documentation: http://pandas.pydata.org/pandas-docs/stable/indexing.html#indexing-view-versus-copy\n",
      "  app.launch_new_instance()\n",
      "/home/ravali/anaconda3/lib/python3.5/site-packages/ipykernel/__main__.py:4: SettingWithCopyWarning: \n",
      "A value is trying to be set on a copy of a slice from a DataFrame.\n",
      "Try using .loc[row_indexer,col_indexer] = value instead\n",
      "\n",
      "See the caveats in the documentation: http://pandas.pydata.org/pandas-docs/stable/indexing.html#indexing-view-versus-copy\n"
     ]
    }
   ],
   "source": [
    "enroll_96=sheet2[2366:2374]\n",
    "enroll_96.loc[:,'year'] = 'Aug 2010 to Jul 2012'\n",
    "enroll_96['Batch']='Batch_6'\n",
    "enroll_96['Branch']='MSc DIGITAL DESIGN & EMBEDDED SYSTEMS'\n",
    "enroll_96.columns = ['NO','ROLL NO','NAME','Gender','State','nan','Year','Batch','Branch']\n",
    "enroll_96 = enroll_96.reset_index()\n",
    "del enroll_96['index']\n",
    "enroll_96=enroll_96.drop(\"nan\",axis=1)\n",
    "enroll_96=enroll_96.set_index('NO')"
   ]
  },
  {
   "cell_type": "code",
   "execution_count": 173,
   "metadata": {
    "collapsed": true
   },
   "outputs": [
    {
     "name": "stderr",
     "output_type": "stream",
     "text": [
      "/home/ravali/anaconda3/lib/python3.5/site-packages/pandas/core/indexing.py:288: SettingWithCopyWarning: \n",
      "A value is trying to be set on a copy of a slice from a DataFrame.\n",
      "Try using .loc[row_indexer,col_indexer] = value instead\n",
      "\n",
      "See the caveats in the documentation: http://pandas.pydata.org/pandas-docs/stable/indexing.html#indexing-view-versus-copy\n",
      "  self.obj[key] = _infer_fill_value(value)\n",
      "/home/ravali/anaconda3/lib/python3.5/site-packages/pandas/core/indexing.py:465: SettingWithCopyWarning: \n",
      "A value is trying to be set on a copy of a slice from a DataFrame.\n",
      "Try using .loc[row_indexer,col_indexer] = value instead\n",
      "\n",
      "See the caveats in the documentation: http://pandas.pydata.org/pandas-docs/stable/indexing.html#indexing-view-versus-copy\n",
      "  self.obj[item] = s\n",
      "/home/ravali/anaconda3/lib/python3.5/site-packages/ipykernel/__main__.py:3: SettingWithCopyWarning: \n",
      "A value is trying to be set on a copy of a slice from a DataFrame.\n",
      "Try using .loc[row_indexer,col_indexer] = value instead\n",
      "\n",
      "See the caveats in the documentation: http://pandas.pydata.org/pandas-docs/stable/indexing.html#indexing-view-versus-copy\n",
      "  app.launch_new_instance()\n",
      "/home/ravali/anaconda3/lib/python3.5/site-packages/ipykernel/__main__.py:4: SettingWithCopyWarning: \n",
      "A value is trying to be set on a copy of a slice from a DataFrame.\n",
      "Try using .loc[row_indexer,col_indexer] = value instead\n",
      "\n",
      "See the caveats in the documentation: http://pandas.pydata.org/pandas-docs/stable/indexing.html#indexing-view-versus-copy\n"
     ]
    }
   ],
   "source": [
    "enroll_97=sheet2[2377:2382]\n",
    "enroll_97.loc[:,'year'] = 'Aug 2011 to Jul 2013'\n",
    "enroll_97['Batch']='Batch_7'\n",
    "enroll_97['Branch']='MSc DIGITAL DESIGN & EMBEDDED SYSTEMS'\n",
    "enroll_97.columns = ['NO','ROLL NO','NAME','Gender','State','nan','Year','Batch','Branch']\n",
    "enroll_97 = enroll_97.reset_index()\n",
    "del enroll_97['index']\n",
    "enroll_97=enroll_97.drop(\"nan\",axis=1)\n",
    "enroll_97=enroll_97.set_index('NO')\n"
   ]
  },
  {
   "cell_type": "code",
   "execution_count": 174,
   "metadata": {
    "collapsed": true
   },
   "outputs": [
    {
     "name": "stderr",
     "output_type": "stream",
     "text": [
      "/home/ravali/anaconda3/lib/python3.5/site-packages/pandas/core/indexing.py:288: SettingWithCopyWarning: \n",
      "A value is trying to be set on a copy of a slice from a DataFrame.\n",
      "Try using .loc[row_indexer,col_indexer] = value instead\n",
      "\n",
      "See the caveats in the documentation: http://pandas.pydata.org/pandas-docs/stable/indexing.html#indexing-view-versus-copy\n",
      "  self.obj[key] = _infer_fill_value(value)\n",
      "/home/ravali/anaconda3/lib/python3.5/site-packages/pandas/core/indexing.py:465: SettingWithCopyWarning: \n",
      "A value is trying to be set on a copy of a slice from a DataFrame.\n",
      "Try using .loc[row_indexer,col_indexer] = value instead\n",
      "\n",
      "See the caveats in the documentation: http://pandas.pydata.org/pandas-docs/stable/indexing.html#indexing-view-versus-copy\n",
      "  self.obj[item] = s\n",
      "/home/ravali/anaconda3/lib/python3.5/site-packages/ipykernel/__main__.py:3: SettingWithCopyWarning: \n",
      "A value is trying to be set on a copy of a slice from a DataFrame.\n",
      "Try using .loc[row_indexer,col_indexer] = value instead\n",
      "\n",
      "See the caveats in the documentation: http://pandas.pydata.org/pandas-docs/stable/indexing.html#indexing-view-versus-copy\n",
      "  app.launch_new_instance()\n",
      "/home/ravali/anaconda3/lib/python3.5/site-packages/ipykernel/__main__.py:4: SettingWithCopyWarning: \n",
      "A value is trying to be set on a copy of a slice from a DataFrame.\n",
      "Try using .loc[row_indexer,col_indexer] = value instead\n",
      "\n",
      "See the caveats in the documentation: http://pandas.pydata.org/pandas-docs/stable/indexing.html#indexing-view-versus-copy\n"
     ]
    }
   ],
   "source": [
    "enroll_98=sheet2[2441:2445]\n",
    "enroll_98.loc[:,'year'] = 'Aug 2005 to Jul 2007'\n",
    "enroll_98['Batch']='Batch_1'\n",
    "enroll_98['Branch']='MSc INFORMATION SCIENCE'\n",
    "enroll_98.columns = ['NO','ROLL NO','NAME','Gender','State','nan','Year','Batch','Branch']\n",
    "enroll_98 = enroll_98.reset_index()\n",
    "del enroll_98['index']\n",
    "enroll_98=enroll_98.drop(\"nan\",axis=1)\n",
    "enroll_98=enroll_98.set_index('NO')"
   ]
  },
  {
   "cell_type": "code",
   "execution_count": 175,
   "metadata": {
    "collapsed": true
   },
   "outputs": [
    {
     "name": "stderr",
     "output_type": "stream",
     "text": [
      "/home/ravali/anaconda3/lib/python3.5/site-packages/pandas/core/indexing.py:288: SettingWithCopyWarning: \n",
      "A value is trying to be set on a copy of a slice from a DataFrame.\n",
      "Try using .loc[row_indexer,col_indexer] = value instead\n",
      "\n",
      "See the caveats in the documentation: http://pandas.pydata.org/pandas-docs/stable/indexing.html#indexing-view-versus-copy\n",
      "  self.obj[key] = _infer_fill_value(value)\n",
      "/home/ravali/anaconda3/lib/python3.5/site-packages/pandas/core/indexing.py:465: SettingWithCopyWarning: \n",
      "A value is trying to be set on a copy of a slice from a DataFrame.\n",
      "Try using .loc[row_indexer,col_indexer] = value instead\n",
      "\n",
      "See the caveats in the documentation: http://pandas.pydata.org/pandas-docs/stable/indexing.html#indexing-view-versus-copy\n",
      "  self.obj[item] = s\n",
      "/home/ravali/anaconda3/lib/python3.5/site-packages/ipykernel/__main__.py:3: SettingWithCopyWarning: \n",
      "A value is trying to be set on a copy of a slice from a DataFrame.\n",
      "Try using .loc[row_indexer,col_indexer] = value instead\n",
      "\n",
      "See the caveats in the documentation: http://pandas.pydata.org/pandas-docs/stable/indexing.html#indexing-view-versus-copy\n",
      "  app.launch_new_instance()\n",
      "/home/ravali/anaconda3/lib/python3.5/site-packages/ipykernel/__main__.py:4: SettingWithCopyWarning: \n",
      "A value is trying to be set on a copy of a slice from a DataFrame.\n",
      "Try using .loc[row_indexer,col_indexer] = value instead\n",
      "\n",
      "See the caveats in the documentation: http://pandas.pydata.org/pandas-docs/stable/indexing.html#indexing-view-versus-copy\n"
     ]
    }
   ],
   "source": [
    "enroll_99=sheet2[2446:2453]\n",
    "enroll_99.loc[:,'year'] = 'Aug 2006 to Jul 2008'\n",
    "enroll_99['Batch']='Batch_2'\n",
    "enroll_99['Branch']='MSc INFORMATION SCIENCE'\n",
    "enroll_99.columns = ['NO','ROLL NO','NAME','Gender','State','nan','Year','Batch','Branch']\n",
    "enroll_99 = enroll_99.reset_index()\n",
    "del enroll_99['index']\n",
    "enroll_99=enroll_99.drop(\"nan\",axis=1)\n",
    "enroll_99=enroll_99.set_index('NO')"
   ]
  },
  {
   "cell_type": "code",
   "execution_count": 176,
   "metadata": {
    "collapsed": true
   },
   "outputs": [
    {
     "name": "stderr",
     "output_type": "stream",
     "text": [
      "/home/ravali/anaconda3/lib/python3.5/site-packages/pandas/core/indexing.py:288: SettingWithCopyWarning: \n",
      "A value is trying to be set on a copy of a slice from a DataFrame.\n",
      "Try using .loc[row_indexer,col_indexer] = value instead\n",
      "\n",
      "See the caveats in the documentation: http://pandas.pydata.org/pandas-docs/stable/indexing.html#indexing-view-versus-copy\n",
      "  self.obj[key] = _infer_fill_value(value)\n",
      "/home/ravali/anaconda3/lib/python3.5/site-packages/pandas/core/indexing.py:465: SettingWithCopyWarning: \n",
      "A value is trying to be set on a copy of a slice from a DataFrame.\n",
      "Try using .loc[row_indexer,col_indexer] = value instead\n",
      "\n",
      "See the caveats in the documentation: http://pandas.pydata.org/pandas-docs/stable/indexing.html#indexing-view-versus-copy\n",
      "  self.obj[item] = s\n",
      "/home/ravali/anaconda3/lib/python3.5/site-packages/ipykernel/__main__.py:3: SettingWithCopyWarning: \n",
      "A value is trying to be set on a copy of a slice from a DataFrame.\n",
      "Try using .loc[row_indexer,col_indexer] = value instead\n",
      "\n",
      "See the caveats in the documentation: http://pandas.pydata.org/pandas-docs/stable/indexing.html#indexing-view-versus-copy\n",
      "  app.launch_new_instance()\n",
      "/home/ravali/anaconda3/lib/python3.5/site-packages/ipykernel/__main__.py:4: SettingWithCopyWarning: \n",
      "A value is trying to be set on a copy of a slice from a DataFrame.\n",
      "Try using .loc[row_indexer,col_indexer] = value instead\n",
      "\n",
      "See the caveats in the documentation: http://pandas.pydata.org/pandas-docs/stable/indexing.html#indexing-view-versus-copy\n"
     ]
    }
   ],
   "source": [
    "enroll_100=sheet2[2454:2460]\n",
    "enroll_100.loc[:,'year'] = 'Aug 2007 to Jul 2009'\n",
    "enroll_100['Batch']='Batch_3'\n",
    "enroll_100['Branch']='MSc INFORMATION SCIENCE'\n",
    "enroll_100.columns = ['NO','ROLL NO','NAME','Gender','State','nan','Year','Batch','Branch']\n",
    "enroll_100 = enroll_100.reset_index()\n",
    "del enroll_100['index']\n",
    "enroll_100=enroll_100.drop(\"nan\",axis=1)\n",
    "enroll_100=enroll_100.set_index('NO')"
   ]
  },
  {
   "cell_type": "code",
   "execution_count": 177,
   "metadata": {
    "collapsed": true
   },
   "outputs": [
    {
     "name": "stderr",
     "output_type": "stream",
     "text": [
      "/home/ravali/anaconda3/lib/python3.5/site-packages/pandas/core/indexing.py:288: SettingWithCopyWarning: \n",
      "A value is trying to be set on a copy of a slice from a DataFrame.\n",
      "Try using .loc[row_indexer,col_indexer] = value instead\n",
      "\n",
      "See the caveats in the documentation: http://pandas.pydata.org/pandas-docs/stable/indexing.html#indexing-view-versus-copy\n",
      "  self.obj[key] = _infer_fill_value(value)\n",
      "/home/ravali/anaconda3/lib/python3.5/site-packages/pandas/core/indexing.py:465: SettingWithCopyWarning: \n",
      "A value is trying to be set on a copy of a slice from a DataFrame.\n",
      "Try using .loc[row_indexer,col_indexer] = value instead\n",
      "\n",
      "See the caveats in the documentation: http://pandas.pydata.org/pandas-docs/stable/indexing.html#indexing-view-versus-copy\n",
      "  self.obj[item] = s\n",
      "/home/ravali/anaconda3/lib/python3.5/site-packages/ipykernel/__main__.py:3: SettingWithCopyWarning: \n",
      "A value is trying to be set on a copy of a slice from a DataFrame.\n",
      "Try using .loc[row_indexer,col_indexer] = value instead\n",
      "\n",
      "See the caveats in the documentation: http://pandas.pydata.org/pandas-docs/stable/indexing.html#indexing-view-versus-copy\n",
      "  app.launch_new_instance()\n",
      "/home/ravali/anaconda3/lib/python3.5/site-packages/ipykernel/__main__.py:4: SettingWithCopyWarning: \n",
      "A value is trying to be set on a copy of a slice from a DataFrame.\n",
      "Try using .loc[row_indexer,col_indexer] = value instead\n",
      "\n",
      "See the caveats in the documentation: http://pandas.pydata.org/pandas-docs/stable/indexing.html#indexing-view-versus-copy\n"
     ]
    }
   ],
   "source": [
    "enroll_101=sheet2[2461:2470]\n",
    "enroll_101.loc[:,'year'] = 'Aug 2008 to Jul 2010'\n",
    "enroll_101['Batch']='Batch_4'\n",
    "enroll_101['Branch']='MSc INFORMATION SCIENCE'\n",
    "enroll_101.columns = ['NO','ROLL NO','NAME','Gender','State','nan','Year','Batch','Branch']\n",
    "enroll_101 = enroll_101.reset_index()\n",
    "del enroll_101['index']\n",
    "enroll_101=enroll_101.drop(\"nan\",axis=1)\n",
    "enroll_101=enroll_101.set_index('NO')"
   ]
  },
  {
   "cell_type": "code",
   "execution_count": 178,
   "metadata": {
    "collapsed": true
   },
   "outputs": [
    {
     "name": "stderr",
     "output_type": "stream",
     "text": [
      "/home/ravali/anaconda3/lib/python3.5/site-packages/pandas/core/indexing.py:288: SettingWithCopyWarning: \n",
      "A value is trying to be set on a copy of a slice from a DataFrame.\n",
      "Try using .loc[row_indexer,col_indexer] = value instead\n",
      "\n",
      "See the caveats in the documentation: http://pandas.pydata.org/pandas-docs/stable/indexing.html#indexing-view-versus-copy\n",
      "  self.obj[key] = _infer_fill_value(value)\n",
      "/home/ravali/anaconda3/lib/python3.5/site-packages/pandas/core/indexing.py:465: SettingWithCopyWarning: \n",
      "A value is trying to be set on a copy of a slice from a DataFrame.\n",
      "Try using .loc[row_indexer,col_indexer] = value instead\n",
      "\n",
      "See the caveats in the documentation: http://pandas.pydata.org/pandas-docs/stable/indexing.html#indexing-view-versus-copy\n",
      "  self.obj[item] = s\n",
      "/home/ravali/anaconda3/lib/python3.5/site-packages/ipykernel/__main__.py:3: SettingWithCopyWarning: \n",
      "A value is trying to be set on a copy of a slice from a DataFrame.\n",
      "Try using .loc[row_indexer,col_indexer] = value instead\n",
      "\n",
      "See the caveats in the documentation: http://pandas.pydata.org/pandas-docs/stable/indexing.html#indexing-view-versus-copy\n",
      "  app.launch_new_instance()\n",
      "/home/ravali/anaconda3/lib/python3.5/site-packages/ipykernel/__main__.py:4: SettingWithCopyWarning: \n",
      "A value is trying to be set on a copy of a slice from a DataFrame.\n",
      "Try using .loc[row_indexer,col_indexer] = value instead\n",
      "\n",
      "See the caveats in the documentation: http://pandas.pydata.org/pandas-docs/stable/indexing.html#indexing-view-versus-copy\n"
     ]
    }
   ],
   "source": [
    "enroll_102=sheet2[2471:2479]\n",
    "enroll_102.loc[:,'year'] = 'Aug 2009 to Jul 2011'\n",
    "enroll_102['Batch']='Batch_5'\n",
    "enroll_102['Branch']='MSc INFORMATION SCIENCE'\n",
    "enroll_102.columns = ['NO','ROLL NO','NAME','Gender','State','nan','Year','Batch','Branch']\n",
    "enroll_102 = enroll_102.reset_index()\n",
    "del enroll_102['index']\n",
    "enroll_102=enroll_102.drop(\"nan\",axis=1)\n",
    "enroll_102=enroll_102.set_index('NO')"
   ]
  },
  {
   "cell_type": "code",
   "execution_count": 179,
   "metadata": {
    "collapsed": true
   },
   "outputs": [
    {
     "name": "stderr",
     "output_type": "stream",
     "text": [
      "/home/ravali/anaconda3/lib/python3.5/site-packages/pandas/core/indexing.py:288: SettingWithCopyWarning: \n",
      "A value is trying to be set on a copy of a slice from a DataFrame.\n",
      "Try using .loc[row_indexer,col_indexer] = value instead\n",
      "\n",
      "See the caveats in the documentation: http://pandas.pydata.org/pandas-docs/stable/indexing.html#indexing-view-versus-copy\n",
      "  self.obj[key] = _infer_fill_value(value)\n",
      "/home/ravali/anaconda3/lib/python3.5/site-packages/pandas/core/indexing.py:465: SettingWithCopyWarning: \n",
      "A value is trying to be set on a copy of a slice from a DataFrame.\n",
      "Try using .loc[row_indexer,col_indexer] = value instead\n",
      "\n",
      "See the caveats in the documentation: http://pandas.pydata.org/pandas-docs/stable/indexing.html#indexing-view-versus-copy\n",
      "  self.obj[item] = s\n",
      "/home/ravali/anaconda3/lib/python3.5/site-packages/ipykernel/__main__.py:3: SettingWithCopyWarning: \n",
      "A value is trying to be set on a copy of a slice from a DataFrame.\n",
      "Try using .loc[row_indexer,col_indexer] = value instead\n",
      "\n",
      "See the caveats in the documentation: http://pandas.pydata.org/pandas-docs/stable/indexing.html#indexing-view-versus-copy\n",
      "  app.launch_new_instance()\n",
      "/home/ravali/anaconda3/lib/python3.5/site-packages/ipykernel/__main__.py:4: SettingWithCopyWarning: \n",
      "A value is trying to be set on a copy of a slice from a DataFrame.\n",
      "Try using .loc[row_indexer,col_indexer] = value instead\n",
      "\n",
      "See the caveats in the documentation: http://pandas.pydata.org/pandas-docs/stable/indexing.html#indexing-view-versus-copy\n"
     ]
    }
   ],
   "source": [
    "enroll_103=sheet2[2481:2501]\n",
    "enroll_103.loc[:,'year'] = 'Aug 2010 to Jul 2012'\n",
    "enroll_103['Batch']='Batch_6'\n",
    "enroll_103['Branch']='MSc INFORMATION SCIENCE'\n",
    "enroll_103.columns = ['NO','ROLL NO','NAME','Gender','State','nan','Year','Batch','Branch']\n",
    "enroll_103 = enroll_103.reset_index()\n",
    "del enroll_103['index']\n",
    "enroll_103=enroll_103.drop(\"nan\",axis=1)\n",
    "enroll_103=enroll_103.set_index('NO')"
   ]
  },
  {
   "cell_type": "code",
   "execution_count": 180,
   "metadata": {
    "collapsed": true
   },
   "outputs": [
    {
     "name": "stderr",
     "output_type": "stream",
     "text": [
      "/home/ravali/anaconda3/lib/python3.5/site-packages/pandas/core/indexing.py:288: SettingWithCopyWarning: \n",
      "A value is trying to be set on a copy of a slice from a DataFrame.\n",
      "Try using .loc[row_indexer,col_indexer] = value instead\n",
      "\n",
      "See the caveats in the documentation: http://pandas.pydata.org/pandas-docs/stable/indexing.html#indexing-view-versus-copy\n",
      "  self.obj[key] = _infer_fill_value(value)\n",
      "/home/ravali/anaconda3/lib/python3.5/site-packages/pandas/core/indexing.py:465: SettingWithCopyWarning: \n",
      "A value is trying to be set on a copy of a slice from a DataFrame.\n",
      "Try using .loc[row_indexer,col_indexer] = value instead\n",
      "\n",
      "See the caveats in the documentation: http://pandas.pydata.org/pandas-docs/stable/indexing.html#indexing-view-versus-copy\n",
      "  self.obj[item] = s\n",
      "/home/ravali/anaconda3/lib/python3.5/site-packages/ipykernel/__main__.py:3: SettingWithCopyWarning: \n",
      "A value is trying to be set on a copy of a slice from a DataFrame.\n",
      "Try using .loc[row_indexer,col_indexer] = value instead\n",
      "\n",
      "See the caveats in the documentation: http://pandas.pydata.org/pandas-docs/stable/indexing.html#indexing-view-versus-copy\n",
      "  app.launch_new_instance()\n",
      "/home/ravali/anaconda3/lib/python3.5/site-packages/ipykernel/__main__.py:4: SettingWithCopyWarning: \n",
      "A value is trying to be set on a copy of a slice from a DataFrame.\n",
      "Try using .loc[row_indexer,col_indexer] = value instead\n",
      "\n",
      "See the caveats in the documentation: http://pandas.pydata.org/pandas-docs/stable/indexing.html#indexing-view-versus-copy\n"
     ]
    }
   ],
   "source": [
    "enroll_104=sheet2[2502:2519]\n",
    "enroll_104.loc[:,'year'] = 'Aug 2011 to Jul 2013'\n",
    "enroll_104['Batch']='Batch_7'\n",
    "enroll_104['Branch']='MSc INFORMATION SCIENCE'\n",
    "enroll_104.columns = ['NO','ROLL NO','NAME','Gender','State','nan','Year','Batch','Branch']\n",
    "enroll_104 = enroll_104.reset_index()\n",
    "del enroll_104['index']\n",
    "enroll_104=enroll_104.drop(\"nan\",axis=1)\n",
    "enroll_104=enroll_104.set_index('NO')"
   ]
  },
  {
   "cell_type": "code",
   "execution_count": 181,
   "metadata": {
    "collapsed": true
   },
   "outputs": [
    {
     "name": "stderr",
     "output_type": "stream",
     "text": [
      "/home/ravali/anaconda3/lib/python3.5/site-packages/pandas/core/indexing.py:288: SettingWithCopyWarning: \n",
      "A value is trying to be set on a copy of a slice from a DataFrame.\n",
      "Try using .loc[row_indexer,col_indexer] = value instead\n",
      "\n",
      "See the caveats in the documentation: http://pandas.pydata.org/pandas-docs/stable/indexing.html#indexing-view-versus-copy\n",
      "  self.obj[key] = _infer_fill_value(value)\n",
      "/home/ravali/anaconda3/lib/python3.5/site-packages/pandas/core/indexing.py:465: SettingWithCopyWarning: \n",
      "A value is trying to be set on a copy of a slice from a DataFrame.\n",
      "Try using .loc[row_indexer,col_indexer] = value instead\n",
      "\n",
      "See the caveats in the documentation: http://pandas.pydata.org/pandas-docs/stable/indexing.html#indexing-view-versus-copy\n",
      "  self.obj[item] = s\n",
      "/home/ravali/anaconda3/lib/python3.5/site-packages/ipykernel/__main__.py:3: SettingWithCopyWarning: \n",
      "A value is trying to be set on a copy of a slice from a DataFrame.\n",
      "Try using .loc[row_indexer,col_indexer] = value instead\n",
      "\n",
      "See the caveats in the documentation: http://pandas.pydata.org/pandas-docs/stable/indexing.html#indexing-view-versus-copy\n",
      "  app.launch_new_instance()\n",
      "/home/ravali/anaconda3/lib/python3.5/site-packages/ipykernel/__main__.py:4: SettingWithCopyWarning: \n",
      "A value is trying to be set on a copy of a slice from a DataFrame.\n",
      "Try using .loc[row_indexer,col_indexer] = value instead\n",
      "\n",
      "See the caveats in the documentation: http://pandas.pydata.org/pandas-docs/stable/indexing.html#indexing-view-versus-copy\n"
     ]
    }
   ],
   "source": [
    "enroll_105=sheet2[2534:2539]\n",
    "enroll_105.loc[:,'year'] = 'Aug 2007 to Jul 2009'\n",
    "enroll_105['Batch']='Batch_1'\n",
    "enroll_105['Branch']='MSc WEB COMMERCE'\n",
    "enroll_105.columns = ['NO','ROLL NO','NAME','Gender','State','nan','Year','Batch','Branch']\n",
    "enroll_105 = enroll_105.reset_index()\n",
    "del enroll_105['index']\n",
    "enroll_105=enroll_105.drop(\"nan\",axis=1)\n",
    "enroll_105=enroll_105.set_index('NO')"
   ]
  },
  {
   "cell_type": "code",
   "execution_count": 182,
   "metadata": {
    "collapsed": true
   },
   "outputs": [
    {
     "name": "stderr",
     "output_type": "stream",
     "text": [
      "/home/ravali/anaconda3/lib/python3.5/site-packages/pandas/core/indexing.py:288: SettingWithCopyWarning: \n",
      "A value is trying to be set on a copy of a slice from a DataFrame.\n",
      "Try using .loc[row_indexer,col_indexer] = value instead\n",
      "\n",
      "See the caveats in the documentation: http://pandas.pydata.org/pandas-docs/stable/indexing.html#indexing-view-versus-copy\n",
      "  self.obj[key] = _infer_fill_value(value)\n",
      "/home/ravali/anaconda3/lib/python3.5/site-packages/pandas/core/indexing.py:465: SettingWithCopyWarning: \n",
      "A value is trying to be set on a copy of a slice from a DataFrame.\n",
      "Try using .loc[row_indexer,col_indexer] = value instead\n",
      "\n",
      "See the caveats in the documentation: http://pandas.pydata.org/pandas-docs/stable/indexing.html#indexing-view-versus-copy\n",
      "  self.obj[item] = s\n",
      "/home/ravali/anaconda3/lib/python3.5/site-packages/ipykernel/__main__.py:5: SettingWithCopyWarning: \n",
      "A value is trying to be set on a copy of a slice from a DataFrame.\n",
      "Try using .loc[row_indexer,col_indexer] = value instead\n",
      "\n",
      "See the caveats in the documentation: http://pandas.pydata.org/pandas-docs/stable/indexing.html#indexing-view-versus-copy\n",
      "/home/ravali/anaconda3/lib/python3.5/site-packages/ipykernel/__main__.py:7: SettingWithCopyWarning: \n",
      "A value is trying to be set on a copy of a slice from a DataFrame.\n",
      "Try using .loc[row_indexer,col_indexer] = value instead\n",
      "\n",
      "See the caveats in the documentation: http://pandas.pydata.org/pandas-docs/stable/indexing.html#indexing-view-versus-copy\n"
     ]
    }
   ],
   "source": [
    "enroll_28=sheet2[447:458]\n",
    "\n",
    "enroll_28.loc[:,'year'] = 'Aug 1999 to Feb 2001'\n",
    "\n",
    "enroll_28['Batch']='Batch_1'\n",
    "\n",
    "enroll_28['Branch']='MS VLSI-CAD'\n",
    "\n",
    "enroll_28.columns = ['NO','ROLL NO','NAME','Gender','State','nan','Year','Batch','Branch']\n",
    "\n",
    "enroll_28 = enroll_28.reset_index()\n",
    "\n",
    "del enroll_28['index']\n",
    "\n",
    "enroll_28=enroll_28.drop(\"nan\",axis=1)\n",
    "\n",
    "enroll_28=enroll_28.set_index('NO')\n",
    "\n",
    "\n"
   ]
  },
  {
   "cell_type": "code",
   "execution_count": 183,
   "metadata": {
    "collapsed": true
   },
   "outputs": [
    {
     "name": "stderr",
     "output_type": "stream",
     "text": [
      "/home/ravali/anaconda3/lib/python3.5/site-packages/pandas/core/indexing.py:288: SettingWithCopyWarning: \n",
      "A value is trying to be set on a copy of a slice from a DataFrame.\n",
      "Try using .loc[row_indexer,col_indexer] = value instead\n",
      "\n",
      "See the caveats in the documentation: http://pandas.pydata.org/pandas-docs/stable/indexing.html#indexing-view-versus-copy\n",
      "  self.obj[key] = _infer_fill_value(value)\n",
      "/home/ravali/anaconda3/lib/python3.5/site-packages/pandas/core/indexing.py:465: SettingWithCopyWarning: \n",
      "A value is trying to be set on a copy of a slice from a DataFrame.\n",
      "Try using .loc[row_indexer,col_indexer] = value instead\n",
      "\n",
      "See the caveats in the documentation: http://pandas.pydata.org/pandas-docs/stable/indexing.html#indexing-view-versus-copy\n",
      "  self.obj[item] = s\n",
      "/home/ravali/anaconda3/lib/python3.5/site-packages/ipykernel/__main__.py:5: SettingWithCopyWarning: \n",
      "A value is trying to be set on a copy of a slice from a DataFrame.\n",
      "Try using .loc[row_indexer,col_indexer] = value instead\n",
      "\n",
      "See the caveats in the documentation: http://pandas.pydata.org/pandas-docs/stable/indexing.html#indexing-view-versus-copy\n",
      "/home/ravali/anaconda3/lib/python3.5/site-packages/ipykernel/__main__.py:7: SettingWithCopyWarning: \n",
      "A value is trying to be set on a copy of a slice from a DataFrame.\n",
      "Try using .loc[row_indexer,col_indexer] = value instead\n",
      "\n",
      "See the caveats in the documentation: http://pandas.pydata.org/pandas-docs/stable/indexing.html#indexing-view-versus-copy\n"
     ]
    }
   ],
   "source": [
    "enroll_29=sheet2[459:466]\n",
    "\n",
    "enroll_29.loc[:,'year'] = 'Feb 2000 to Aug 2001'\n",
    "\n",
    "enroll_29['Batch']='Batch_2'\n",
    "\n",
    "enroll_29['Branch']='MS VLSI-CAD'\n",
    "\n",
    "enroll_29.columns = ['NO','ROLL NO','NAME','Gender','State','nan','Year','Batch','Branch']\n",
    "\n",
    "enroll_29 = enroll_29.reset_index()\n",
    "\n",
    "del enroll_29['index']\n",
    "\n",
    "enroll_29=enroll_29.drop(\"nan\",axis=1)\n",
    "\n",
    "enroll_29=enroll_29.set_index('NO')\n"
   ]
  },
  {
   "cell_type": "code",
   "execution_count": 184,
   "metadata": {
    "collapsed": true
   },
   "outputs": [
    {
     "name": "stderr",
     "output_type": "stream",
     "text": [
      "/home/ravali/anaconda3/lib/python3.5/site-packages/pandas/core/indexing.py:288: SettingWithCopyWarning: \n",
      "A value is trying to be set on a copy of a slice from a DataFrame.\n",
      "Try using .loc[row_indexer,col_indexer] = value instead\n",
      "\n",
      "See the caveats in the documentation: http://pandas.pydata.org/pandas-docs/stable/indexing.html#indexing-view-versus-copy\n",
      "  self.obj[key] = _infer_fill_value(value)\n",
      "/home/ravali/anaconda3/lib/python3.5/site-packages/pandas/core/indexing.py:465: SettingWithCopyWarning: \n",
      "A value is trying to be set on a copy of a slice from a DataFrame.\n",
      "Try using .loc[row_indexer,col_indexer] = value instead\n",
      "\n",
      "See the caveats in the documentation: http://pandas.pydata.org/pandas-docs/stable/indexing.html#indexing-view-versus-copy\n",
      "  self.obj[item] = s\n",
      "/home/ravali/anaconda3/lib/python3.5/site-packages/ipykernel/__main__.py:5: SettingWithCopyWarning: \n",
      "A value is trying to be set on a copy of a slice from a DataFrame.\n",
      "Try using .loc[row_indexer,col_indexer] = value instead\n",
      "\n",
      "See the caveats in the documentation: http://pandas.pydata.org/pandas-docs/stable/indexing.html#indexing-view-versus-copy\n",
      "/home/ravali/anaconda3/lib/python3.5/site-packages/ipykernel/__main__.py:7: SettingWithCopyWarning: \n",
      "A value is trying to be set on a copy of a slice from a DataFrame.\n",
      "Try using .loc[row_indexer,col_indexer] = value instead\n",
      "\n",
      "See the caveats in the documentation: http://pandas.pydata.org/pandas-docs/stable/indexing.html#indexing-view-versus-copy\n"
     ]
    }
   ],
   "source": [
    "enroll_30=sheet2[467:480]\n",
    "\n",
    "enroll_30.loc[:,'year'] = 'Aug 2000 to Feb 2002'\n",
    "\n",
    "enroll_30['Batch']='Batch_3'\n",
    "\n",
    "enroll_30['Branch']='MS VLSI-CAD'\n",
    "\n",
    "enroll_30.columns = ['NO','ROLL NO','NAME','Gender','State','nan','Year','Batch','Branch']\n",
    "\n",
    "enroll_30 = enroll_30.reset_index()\n",
    "\n",
    "del enroll_30['index']\n",
    "\n",
    "enroll_30=enroll_30.drop(\"nan\",axis=1)\n",
    "\n",
    "enroll_30=enroll_30.set_index('NO')\n"
   ]
  },
  {
   "cell_type": "code",
   "execution_count": 185,
   "metadata": {
    "collapsed": true
   },
   "outputs": [
    {
     "name": "stderr",
     "output_type": "stream",
     "text": [
      "/home/ravali/anaconda3/lib/python3.5/site-packages/pandas/core/indexing.py:288: SettingWithCopyWarning: \n",
      "A value is trying to be set on a copy of a slice from a DataFrame.\n",
      "Try using .loc[row_indexer,col_indexer] = value instead\n",
      "\n",
      "See the caveats in the documentation: http://pandas.pydata.org/pandas-docs/stable/indexing.html#indexing-view-versus-copy\n",
      "  self.obj[key] = _infer_fill_value(value)\n",
      "/home/ravali/anaconda3/lib/python3.5/site-packages/pandas/core/indexing.py:465: SettingWithCopyWarning: \n",
      "A value is trying to be set on a copy of a slice from a DataFrame.\n",
      "Try using .loc[row_indexer,col_indexer] = value instead\n",
      "\n",
      "See the caveats in the documentation: http://pandas.pydata.org/pandas-docs/stable/indexing.html#indexing-view-versus-copy\n",
      "  self.obj[item] = s\n",
      "/home/ravali/anaconda3/lib/python3.5/site-packages/ipykernel/__main__.py:5: SettingWithCopyWarning: \n",
      "A value is trying to be set on a copy of a slice from a DataFrame.\n",
      "Try using .loc[row_indexer,col_indexer] = value instead\n",
      "\n",
      "See the caveats in the documentation: http://pandas.pydata.org/pandas-docs/stable/indexing.html#indexing-view-versus-copy\n",
      "/home/ravali/anaconda3/lib/python3.5/site-packages/ipykernel/__main__.py:7: SettingWithCopyWarning: \n",
      "A value is trying to be set on a copy of a slice from a DataFrame.\n",
      "Try using .loc[row_indexer,col_indexer] = value instead\n",
      "\n",
      "See the caveats in the documentation: http://pandas.pydata.org/pandas-docs/stable/indexing.html#indexing-view-versus-copy\n"
     ]
    }
   ],
   "source": [
    "enroll_31=sheet2[481:487]\n",
    "\n",
    "enroll_31.loc[:,'year'] = 'Feb 2001 to Aug 2002'\n",
    "\n",
    "enroll_31['Batch']='Batch_4'\n",
    "\n",
    "enroll_31['Branch']='MS VLSI-CAD'\n",
    "\n",
    "enroll_31.columns = ['NO','ROLL NO','NAME','Gender','State','nan','Year','Batch','Branch']\n",
    "\n",
    "enroll_31 = enroll_31.reset_index()\n",
    "\n",
    "del enroll_31['index']\n",
    "\n",
    "enroll_31=enroll_31.drop(\"nan\",axis=1)\n",
    "\n",
    "enroll_31=enroll_31.set_index('NO')\n"
   ]
  },
  {
   "cell_type": "code",
   "execution_count": 186,
   "metadata": {
    "collapsed": true
   },
   "outputs": [
    {
     "name": "stderr",
     "output_type": "stream",
     "text": [
      "/home/ravali/anaconda3/lib/python3.5/site-packages/pandas/core/indexing.py:288: SettingWithCopyWarning: \n",
      "A value is trying to be set on a copy of a slice from a DataFrame.\n",
      "Try using .loc[row_indexer,col_indexer] = value instead\n",
      "\n",
      "See the caveats in the documentation: http://pandas.pydata.org/pandas-docs/stable/indexing.html#indexing-view-versus-copy\n",
      "  self.obj[key] = _infer_fill_value(value)\n",
      "/home/ravali/anaconda3/lib/python3.5/site-packages/pandas/core/indexing.py:465: SettingWithCopyWarning: \n",
      "A value is trying to be set on a copy of a slice from a DataFrame.\n",
      "Try using .loc[row_indexer,col_indexer] = value instead\n",
      "\n",
      "See the caveats in the documentation: http://pandas.pydata.org/pandas-docs/stable/indexing.html#indexing-view-versus-copy\n",
      "  self.obj[item] = s\n",
      "/home/ravali/anaconda3/lib/python3.5/site-packages/ipykernel/__main__.py:5: SettingWithCopyWarning: \n",
      "A value is trying to be set on a copy of a slice from a DataFrame.\n",
      "Try using .loc[row_indexer,col_indexer] = value instead\n",
      "\n",
      "See the caveats in the documentation: http://pandas.pydata.org/pandas-docs/stable/indexing.html#indexing-view-versus-copy\n",
      "/home/ravali/anaconda3/lib/python3.5/site-packages/ipykernel/__main__.py:7: SettingWithCopyWarning: \n",
      "A value is trying to be set on a copy of a slice from a DataFrame.\n",
      "Try using .loc[row_indexer,col_indexer] = value instead\n",
      "\n",
      "See the caveats in the documentation: http://pandas.pydata.org/pandas-docs/stable/indexing.html#indexing-view-versus-copy\n"
     ]
    }
   ],
   "source": [
    "enroll_32=sheet2[488:522]\n",
    "\n",
    "enroll_32.loc[:,'year'] = 'Aug 2001 to Feb 2003'\n",
    "\n",
    "enroll_32['Batch']='Batch_5'\n",
    "\n",
    "enroll_32['Branch']='MS VLSI-CAD'\n",
    "\n",
    "enroll_32.columns = ['NO','ROLL NO','NAME','Gender','State','nan','Year','Batch','Branch']\n",
    "\n",
    "enroll_32 = enroll_32.reset_index()\n",
    "\n",
    "del enroll_32['index']\n",
    "\n",
    "enroll_32=enroll_32.drop(\"nan\",axis=1)\n",
    "\n",
    "enroll_32=enroll_32.set_index('NO')\n"
   ]
  },
  {
   "cell_type": "code",
   "execution_count": 187,
   "metadata": {
    "collapsed": true
   },
   "outputs": [
    {
     "name": "stderr",
     "output_type": "stream",
     "text": [
      "/home/ravali/anaconda3/lib/python3.5/site-packages/pandas/core/indexing.py:288: SettingWithCopyWarning: \n",
      "A value is trying to be set on a copy of a slice from a DataFrame.\n",
      "Try using .loc[row_indexer,col_indexer] = value instead\n",
      "\n",
      "See the caveats in the documentation: http://pandas.pydata.org/pandas-docs/stable/indexing.html#indexing-view-versus-copy\n",
      "  self.obj[key] = _infer_fill_value(value)\n",
      "/home/ravali/anaconda3/lib/python3.5/site-packages/pandas/core/indexing.py:465: SettingWithCopyWarning: \n",
      "A value is trying to be set on a copy of a slice from a DataFrame.\n",
      "Try using .loc[row_indexer,col_indexer] = value instead\n",
      "\n",
      "See the caveats in the documentation: http://pandas.pydata.org/pandas-docs/stable/indexing.html#indexing-view-versus-copy\n",
      "  self.obj[item] = s\n",
      "/home/ravali/anaconda3/lib/python3.5/site-packages/ipykernel/__main__.py:5: SettingWithCopyWarning: \n",
      "A value is trying to be set on a copy of a slice from a DataFrame.\n",
      "Try using .loc[row_indexer,col_indexer] = value instead\n",
      "\n",
      "See the caveats in the documentation: http://pandas.pydata.org/pandas-docs/stable/indexing.html#indexing-view-versus-copy\n",
      "/home/ravali/anaconda3/lib/python3.5/site-packages/ipykernel/__main__.py:7: SettingWithCopyWarning: \n",
      "A value is trying to be set on a copy of a slice from a DataFrame.\n",
      "Try using .loc[row_indexer,col_indexer] = value instead\n",
      "\n",
      "See the caveats in the documentation: http://pandas.pydata.org/pandas-docs/stable/indexing.html#indexing-view-versus-copy\n"
     ]
    }
   ],
   "source": [
    "enroll_33=sheet2[523:547]\n",
    "\n",
    "enroll_33.loc[:,'year'] = 'Feb 2002 to Aug 2003'\n",
    "\n",
    "enroll_33['Batch']='Batch_6'\n",
    "\n",
    "enroll_33['Branch']='MS VLSI-CAD'\n",
    "\n",
    "enroll_33.columns = ['NO','ROLL NO','NAME','Gender','State','nan','Year','Batch','Branch']\n",
    "\n",
    "enroll_33 = enroll_33.reset_index()\n",
    "\n",
    "del enroll_33['index']\n",
    "\n",
    "enroll_33=enroll_33.drop(\"nan\",axis=1)\n",
    "\n",
    "enroll_33=enroll_33.set_index('NO')\n"
   ]
  },
  {
   "cell_type": "code",
   "execution_count": 188,
   "metadata": {
    "collapsed": true
   },
   "outputs": [
    {
     "name": "stderr",
     "output_type": "stream",
     "text": [
      "/home/ravali/anaconda3/lib/python3.5/site-packages/pandas/core/indexing.py:288: SettingWithCopyWarning: \n",
      "A value is trying to be set on a copy of a slice from a DataFrame.\n",
      "Try using .loc[row_indexer,col_indexer] = value instead\n",
      "\n",
      "See the caveats in the documentation: http://pandas.pydata.org/pandas-docs/stable/indexing.html#indexing-view-versus-copy\n",
      "  self.obj[key] = _infer_fill_value(value)\n",
      "/home/ravali/anaconda3/lib/python3.5/site-packages/pandas/core/indexing.py:465: SettingWithCopyWarning: \n",
      "A value is trying to be set on a copy of a slice from a DataFrame.\n",
      "Try using .loc[row_indexer,col_indexer] = value instead\n",
      "\n",
      "See the caveats in the documentation: http://pandas.pydata.org/pandas-docs/stable/indexing.html#indexing-view-versus-copy\n",
      "  self.obj[item] = s\n",
      "/home/ravali/anaconda3/lib/python3.5/site-packages/ipykernel/__main__.py:5: SettingWithCopyWarning: \n",
      "A value is trying to be set on a copy of a slice from a DataFrame.\n",
      "Try using .loc[row_indexer,col_indexer] = value instead\n",
      "\n",
      "See the caveats in the documentation: http://pandas.pydata.org/pandas-docs/stable/indexing.html#indexing-view-versus-copy\n",
      "/home/ravali/anaconda3/lib/python3.5/site-packages/ipykernel/__main__.py:7: SettingWithCopyWarning: \n",
      "A value is trying to be set on a copy of a slice from a DataFrame.\n",
      "Try using .loc[row_indexer,col_indexer] = value instead\n",
      "\n",
      "See the caveats in the documentation: http://pandas.pydata.org/pandas-docs/stable/indexing.html#indexing-view-versus-copy\n"
     ]
    }
   ],
   "source": [
    "enroll_34=sheet2[548:579]\n",
    "\n",
    "enroll_34.loc[:,'year'] = 'Aug 2002 to Feb 2004'\n",
    "\n",
    "enroll_34['Batch']='Batch_7'\n",
    "\n",
    "enroll_34['Branch']='MS VLSI-CAD'\n",
    "\n",
    "enroll_34.columns = ['NO','ROLL NO','NAME','Gender','State','nan','Year','Batch','Branch']\n",
    "\n",
    "enroll_34 = enroll_34.reset_index()\n",
    "\n",
    "del enroll_34['index']\n",
    "\n",
    "enroll_34=enroll_34.drop(\"nan\",axis=1)\n",
    "\n",
    "enroll_34=enroll_34.set_index('NO')\n"
   ]
  },
  {
   "cell_type": "code",
   "execution_count": 189,
   "metadata": {
    "collapsed": true
   },
   "outputs": [
    {
     "name": "stderr",
     "output_type": "stream",
     "text": [
      "/home/ravali/anaconda3/lib/python3.5/site-packages/pandas/core/indexing.py:288: SettingWithCopyWarning: \n",
      "A value is trying to be set on a copy of a slice from a DataFrame.\n",
      "Try using .loc[row_indexer,col_indexer] = value instead\n",
      "\n",
      "See the caveats in the documentation: http://pandas.pydata.org/pandas-docs/stable/indexing.html#indexing-view-versus-copy\n",
      "  self.obj[key] = _infer_fill_value(value)\n",
      "/home/ravali/anaconda3/lib/python3.5/site-packages/pandas/core/indexing.py:465: SettingWithCopyWarning: \n",
      "A value is trying to be set on a copy of a slice from a DataFrame.\n",
      "Try using .loc[row_indexer,col_indexer] = value instead\n",
      "\n",
      "See the caveats in the documentation: http://pandas.pydata.org/pandas-docs/stable/indexing.html#indexing-view-versus-copy\n",
      "  self.obj[item] = s\n",
      "/home/ravali/anaconda3/lib/python3.5/site-packages/ipykernel/__main__.py:5: SettingWithCopyWarning: \n",
      "A value is trying to be set on a copy of a slice from a DataFrame.\n",
      "Try using .loc[row_indexer,col_indexer] = value instead\n",
      "\n",
      "See the caveats in the documentation: http://pandas.pydata.org/pandas-docs/stable/indexing.html#indexing-view-versus-copy\n",
      "/home/ravali/anaconda3/lib/python3.5/site-packages/ipykernel/__main__.py:7: SettingWithCopyWarning: \n",
      "A value is trying to be set on a copy of a slice from a DataFrame.\n",
      "Try using .loc[row_indexer,col_indexer] = value instead\n",
      "\n",
      "See the caveats in the documentation: http://pandas.pydata.org/pandas-docs/stable/indexing.html#indexing-view-versus-copy\n"
     ]
    }
   ],
   "source": [
    "enroll_35=sheet2[580:592]\n",
    "\n",
    "enroll_35.loc[:,'year'] = 'Feb  2003 to Feb 2005'\n",
    "\n",
    "enroll_35['Batch']='Batch_8'\n",
    "\n",
    "enroll_35['Branch']='MS VLSI-CAD'\n",
    "\n",
    "enroll_35.columns = ['NO','ROLL NO','NAME','Gender','State','nan','Year','Batch','Branch']\n",
    "\n",
    "enroll_35 = enroll_35.reset_index()\n",
    "\n",
    "del enroll_35['index']\n",
    "\n",
    "enroll_35=enroll_35.drop(\"nan\",axis=1)\n",
    "\n",
    "enroll_35=enroll_35.set_index('NO')\n"
   ]
  },
  {
   "cell_type": "code",
   "execution_count": 190,
   "metadata": {
    "collapsed": true
   },
   "outputs": [
    {
     "name": "stderr",
     "output_type": "stream",
     "text": [
      "/home/ravali/anaconda3/lib/python3.5/site-packages/pandas/core/indexing.py:288: SettingWithCopyWarning: \n",
      "A value is trying to be set on a copy of a slice from a DataFrame.\n",
      "Try using .loc[row_indexer,col_indexer] = value instead\n",
      "\n",
      "See the caveats in the documentation: http://pandas.pydata.org/pandas-docs/stable/indexing.html#indexing-view-versus-copy\n",
      "  self.obj[key] = _infer_fill_value(value)\n",
      "/home/ravali/anaconda3/lib/python3.5/site-packages/pandas/core/indexing.py:465: SettingWithCopyWarning: \n",
      "A value is trying to be set on a copy of a slice from a DataFrame.\n",
      "Try using .loc[row_indexer,col_indexer] = value instead\n",
      "\n",
      "See the caveats in the documentation: http://pandas.pydata.org/pandas-docs/stable/indexing.html#indexing-view-versus-copy\n",
      "  self.obj[item] = s\n",
      "/home/ravali/anaconda3/lib/python3.5/site-packages/ipykernel/__main__.py:5: SettingWithCopyWarning: \n",
      "A value is trying to be set on a copy of a slice from a DataFrame.\n",
      "Try using .loc[row_indexer,col_indexer] = value instead\n",
      "\n",
      "See the caveats in the documentation: http://pandas.pydata.org/pandas-docs/stable/indexing.html#indexing-view-versus-copy\n",
      "/home/ravali/anaconda3/lib/python3.5/site-packages/ipykernel/__main__.py:7: SettingWithCopyWarning: \n",
      "A value is trying to be set on a copy of a slice from a DataFrame.\n",
      "Try using .loc[row_indexer,col_indexer] = value instead\n",
      "\n",
      "See the caveats in the documentation: http://pandas.pydata.org/pandas-docs/stable/indexing.html#indexing-view-versus-copy\n"
     ]
    }
   ],
   "source": [
    "enroll_36=sheet2[593:612]\n",
    "\n",
    "enroll_36.loc[:,'year'] = 'Aug 2003 to Aug 2005'\n",
    "\n",
    "enroll_36['Batch']='Batch_9'\n",
    "\n",
    "enroll_36['Branch']='MS VLSI-CAD'\n",
    "\n",
    "enroll_36.columns = ['NO','ROLL NO','NAME','Gender','State','nan','Year','Batch','Branch']\n",
    "\n",
    "enroll_36 = enroll_36.reset_index()\n",
    "\n",
    "del enroll_36['index']\n",
    "\n",
    "enroll_36=enroll_36.drop(\"nan\",axis=1)\n",
    "\n",
    "enroll_36=enroll_36.set_index('NO')\n"
   ]
  },
  {
   "cell_type": "code",
   "execution_count": 191,
   "metadata": {
    "collapsed": true
   },
   "outputs": [
    {
     "name": "stderr",
     "output_type": "stream",
     "text": [
      "/home/ravali/anaconda3/lib/python3.5/site-packages/pandas/core/indexing.py:288: SettingWithCopyWarning: \n",
      "A value is trying to be set on a copy of a slice from a DataFrame.\n",
      "Try using .loc[row_indexer,col_indexer] = value instead\n",
      "\n",
      "See the caveats in the documentation: http://pandas.pydata.org/pandas-docs/stable/indexing.html#indexing-view-versus-copy\n",
      "  self.obj[key] = _infer_fill_value(value)\n",
      "/home/ravali/anaconda3/lib/python3.5/site-packages/pandas/core/indexing.py:465: SettingWithCopyWarning: \n",
      "A value is trying to be set on a copy of a slice from a DataFrame.\n",
      "Try using .loc[row_indexer,col_indexer] = value instead\n",
      "\n",
      "See the caveats in the documentation: http://pandas.pydata.org/pandas-docs/stable/indexing.html#indexing-view-versus-copy\n",
      "  self.obj[item] = s\n",
      "/home/ravali/anaconda3/lib/python3.5/site-packages/ipykernel/__main__.py:5: SettingWithCopyWarning: \n",
      "A value is trying to be set on a copy of a slice from a DataFrame.\n",
      "Try using .loc[row_indexer,col_indexer] = value instead\n",
      "\n",
      "See the caveats in the documentation: http://pandas.pydata.org/pandas-docs/stable/indexing.html#indexing-view-versus-copy\n",
      "/home/ravali/anaconda3/lib/python3.5/site-packages/ipykernel/__main__.py:7: SettingWithCopyWarning: \n",
      "A value is trying to be set on a copy of a slice from a DataFrame.\n",
      "Try using .loc[row_indexer,col_indexer] = value instead\n",
      "\n",
      "See the caveats in the documentation: http://pandas.pydata.org/pandas-docs/stable/indexing.html#indexing-view-versus-copy\n"
     ]
    }
   ],
   "source": [
    "enroll_37=sheet2[613:615]\n",
    "\n",
    "enroll_37.loc[:,'year'] = ''\n",
    "\n",
    "enroll_37['Batch']='Batch_10'\n",
    "\n",
    "enroll_37['Branch']='MS VLSI-CAD'\n",
    "\n",
    "enroll_37.columns = ['NO','ROLL NO','NAME','Gender','State','nan','Year','Batch','Branch']\n",
    "\n",
    "enroll_37 = enroll_37.reset_index()\n",
    "\n",
    "del enroll_37['index']\n",
    "\n",
    "enroll_37=enroll_37.drop(\"nan\",axis=1)\n",
    "\n",
    "enroll_37=enroll_37.set_index('NO')\n"
   ]
  },
  {
   "cell_type": "code",
   "execution_count": 192,
   "metadata": {
    "collapsed": true
   },
   "outputs": [
    {
     "name": "stderr",
     "output_type": "stream",
     "text": [
      "/home/ravali/anaconda3/lib/python3.5/site-packages/pandas/core/indexing.py:288: SettingWithCopyWarning: \n",
      "A value is trying to be set on a copy of a slice from a DataFrame.\n",
      "Try using .loc[row_indexer,col_indexer] = value instead\n",
      "\n",
      "See the caveats in the documentation: http://pandas.pydata.org/pandas-docs/stable/indexing.html#indexing-view-versus-copy\n",
      "  self.obj[key] = _infer_fill_value(value)\n",
      "/home/ravali/anaconda3/lib/python3.5/site-packages/pandas/core/indexing.py:465: SettingWithCopyWarning: \n",
      "A value is trying to be set on a copy of a slice from a DataFrame.\n",
      "Try using .loc[row_indexer,col_indexer] = value instead\n",
      "\n",
      "See the caveats in the documentation: http://pandas.pydata.org/pandas-docs/stable/indexing.html#indexing-view-versus-copy\n",
      "  self.obj[item] = s\n",
      "/home/ravali/anaconda3/lib/python3.5/site-packages/ipykernel/__main__.py:5: SettingWithCopyWarning: \n",
      "A value is trying to be set on a copy of a slice from a DataFrame.\n",
      "Try using .loc[row_indexer,col_indexer] = value instead\n",
      "\n",
      "See the caveats in the documentation: http://pandas.pydata.org/pandas-docs/stable/indexing.html#indexing-view-versus-copy\n",
      "/home/ravali/anaconda3/lib/python3.5/site-packages/ipykernel/__main__.py:7: SettingWithCopyWarning: \n",
      "A value is trying to be set on a copy of a slice from a DataFrame.\n",
      "Try using .loc[row_indexer,col_indexer] = value instead\n",
      "\n",
      "See the caveats in the documentation: http://pandas.pydata.org/pandas-docs/stable/indexing.html#indexing-view-versus-copy\n"
     ]
    }
   ],
   "source": [
    "enroll_38=sheet2[616:641]\n",
    "\n",
    "enroll_38.loc[:,'year'] = 'Aug 2004 to Aug 2006'\n",
    "\n",
    "enroll_38['Batch']='Batch_11'\n",
    "\n",
    "enroll_38['Branch']='MS VLSI-CAD'\n",
    "\n",
    "enroll_38.columns = ['NO','ROLL NO','NAME','Gender','State','nan','Year','Batch','Branch']\n",
    "\n",
    "enroll_38 = enroll_38.reset_index()\n",
    "\n",
    "del enroll_38['index']\n",
    "\n",
    "enroll_38=enroll_38.drop(\"nan\",axis=1)\n",
    "\n",
    "enroll_38=enroll_38.set_index('NO')\n"
   ]
  },
  {
   "cell_type": "code",
   "execution_count": 193,
   "metadata": {
    "collapsed": true
   },
   "outputs": [
    {
     "name": "stderr",
     "output_type": "stream",
     "text": [
      "/home/ravali/anaconda3/lib/python3.5/site-packages/pandas/core/indexing.py:288: SettingWithCopyWarning: \n",
      "A value is trying to be set on a copy of a slice from a DataFrame.\n",
      "Try using .loc[row_indexer,col_indexer] = value instead\n",
      "\n",
      "See the caveats in the documentation: http://pandas.pydata.org/pandas-docs/stable/indexing.html#indexing-view-versus-copy\n",
      "  self.obj[key] = _infer_fill_value(value)\n",
      "/home/ravali/anaconda3/lib/python3.5/site-packages/pandas/core/indexing.py:465: SettingWithCopyWarning: \n",
      "A value is trying to be set on a copy of a slice from a DataFrame.\n",
      "Try using .loc[row_indexer,col_indexer] = value instead\n",
      "\n",
      "See the caveats in the documentation: http://pandas.pydata.org/pandas-docs/stable/indexing.html#indexing-view-versus-copy\n",
      "  self.obj[item] = s\n",
      "/home/ravali/anaconda3/lib/python3.5/site-packages/ipykernel/__main__.py:5: SettingWithCopyWarning: \n",
      "A value is trying to be set on a copy of a slice from a DataFrame.\n",
      "Try using .loc[row_indexer,col_indexer] = value instead\n",
      "\n",
      "See the caveats in the documentation: http://pandas.pydata.org/pandas-docs/stable/indexing.html#indexing-view-versus-copy\n",
      "/home/ravali/anaconda3/lib/python3.5/site-packages/ipykernel/__main__.py:7: SettingWithCopyWarning: \n",
      "A value is trying to be set on a copy of a slice from a DataFrame.\n",
      "Try using .loc[row_indexer,col_indexer] = value instead\n",
      "\n",
      "See the caveats in the documentation: http://pandas.pydata.org/pandas-docs/stable/indexing.html#indexing-view-versus-copy\n"
     ]
    }
   ],
   "source": [
    "enroll_39=sheet2[642:648]\n",
    "\n",
    "enroll_39.loc[:,'year'] = 'Aug 2005 Jul 2007'\n",
    "\n",
    "enroll_39['Batch']='Batch_1'\n",
    "\n",
    "enroll_39['Branch']='MSc INFORMATION SCIENCE'\n",
    "\n",
    "enroll_39.columns = ['NO','ROLL NO','NAME','Gender','State','nan','Year','Batch','Branch']\n",
    "\n",
    "enroll_39 = enroll_39.reset_index()\n",
    "\n",
    "del enroll_39['index']\n",
    "\n",
    "enroll_39=enroll_39.drop(\"nan\",axis=1)\n",
    "\n",
    "enroll_39=enroll_39.set_index('NO')\n"
   ]
  },
  {
   "cell_type": "code",
   "execution_count": 194,
   "metadata": {
    "collapsed": true
   },
   "outputs": [
    {
     "name": "stderr",
     "output_type": "stream",
     "text": [
      "/home/ravali/anaconda3/lib/python3.5/site-packages/pandas/core/indexing.py:288: SettingWithCopyWarning: \n",
      "A value is trying to be set on a copy of a slice from a DataFrame.\n",
      "Try using .loc[row_indexer,col_indexer] = value instead\n",
      "\n",
      "See the caveats in the documentation: http://pandas.pydata.org/pandas-docs/stable/indexing.html#indexing-view-versus-copy\n",
      "  self.obj[key] = _infer_fill_value(value)\n",
      "/home/ravali/anaconda3/lib/python3.5/site-packages/pandas/core/indexing.py:465: SettingWithCopyWarning: \n",
      "A value is trying to be set on a copy of a slice from a DataFrame.\n",
      "Try using .loc[row_indexer,col_indexer] = value instead\n",
      "\n",
      "See the caveats in the documentation: http://pandas.pydata.org/pandas-docs/stable/indexing.html#indexing-view-versus-copy\n",
      "  self.obj[item] = s\n",
      "/home/ravali/anaconda3/lib/python3.5/site-packages/ipykernel/__main__.py:5: SettingWithCopyWarning: \n",
      "A value is trying to be set on a copy of a slice from a DataFrame.\n",
      "Try using .loc[row_indexer,col_indexer] = value instead\n",
      "\n",
      "See the caveats in the documentation: http://pandas.pydata.org/pandas-docs/stable/indexing.html#indexing-view-versus-copy\n",
      "/home/ravali/anaconda3/lib/python3.5/site-packages/ipykernel/__main__.py:7: SettingWithCopyWarning: \n",
      "A value is trying to be set on a copy of a slice from a DataFrame.\n",
      "Try using .loc[row_indexer,col_indexer] = value instead\n",
      "\n",
      "See the caveats in the documentation: http://pandas.pydata.org/pandas-docs/stable/indexing.html#indexing-view-versus-copy\n"
     ]
    }
   ],
   "source": [
    "enroll_40=sheet2[649:676]\n",
    "\n",
    "enroll_40.loc[:,'year'] = 'Aug 2005 to Aug 2007'\n",
    "\n",
    "enroll_40['Batch']='Batch_13'\n",
    "\n",
    "enroll_40['Branch']='MS VLSI-CAD'\n",
    "\n",
    "enroll_40.columns = ['NO','ROLL NO','NAME','Gender','State','nan','Year','Batch','Branch']\n",
    "\n",
    "enroll_40 = enroll_40.reset_index()\n",
    "\n",
    "del enroll_40['index']\n",
    "\n",
    "enroll_40=enroll_40.drop(\"nan\",axis=1)\n",
    "\n",
    "enroll_40=enroll_40.set_index('NO')\n"
   ]
  },
  {
   "cell_type": "code",
   "execution_count": 195,
   "metadata": {
    "collapsed": true
   },
   "outputs": [
    {
     "name": "stderr",
     "output_type": "stream",
     "text": [
      "/home/ravali/anaconda3/lib/python3.5/site-packages/pandas/core/indexing.py:288: SettingWithCopyWarning: \n",
      "A value is trying to be set on a copy of a slice from a DataFrame.\n",
      "Try using .loc[row_indexer,col_indexer] = value instead\n",
      "\n",
      "See the caveats in the documentation: http://pandas.pydata.org/pandas-docs/stable/indexing.html#indexing-view-versus-copy\n",
      "  self.obj[key] = _infer_fill_value(value)\n",
      "/home/ravali/anaconda3/lib/python3.5/site-packages/pandas/core/indexing.py:465: SettingWithCopyWarning: \n",
      "A value is trying to be set on a copy of a slice from a DataFrame.\n",
      "Try using .loc[row_indexer,col_indexer] = value instead\n",
      "\n",
      "See the caveats in the documentation: http://pandas.pydata.org/pandas-docs/stable/indexing.html#indexing-view-versus-copy\n",
      "  self.obj[item] = s\n",
      "/home/ravali/anaconda3/lib/python3.5/site-packages/ipykernel/__main__.py:5: SettingWithCopyWarning: \n",
      "A value is trying to be set on a copy of a slice from a DataFrame.\n",
      "Try using .loc[row_indexer,col_indexer] = value instead\n",
      "\n",
      "See the caveats in the documentation: http://pandas.pydata.org/pandas-docs/stable/indexing.html#indexing-view-versus-copy\n",
      "/home/ravali/anaconda3/lib/python3.5/site-packages/ipykernel/__main__.py:7: SettingWithCopyWarning: \n",
      "A value is trying to be set on a copy of a slice from a DataFrame.\n",
      "Try using .loc[row_indexer,col_indexer] = value instead\n",
      "\n",
      "See the caveats in the documentation: http://pandas.pydata.org/pandas-docs/stable/indexing.html#indexing-view-versus-copy\n"
     ]
    }
   ],
   "source": [
    "enroll_41=sheet2[677:684]\n",
    "\n",
    "enroll_41.loc[:,'year'] = 'Jan 2006 to Dec 2007'\n",
    "\n",
    "enroll_41['Batch']='Batch_14'\n",
    "\n",
    "enroll_41['Branch']='MS VLSI-CAD'\n",
    "\n",
    "enroll_41.columns = ['NO','ROLL NO','NAME','Gender','State','nan','Year','Batch','Branch']\n",
    "\n",
    "enroll_41 = enroll_41.reset_index()\n",
    "\n",
    "del enroll_41['index']\n",
    "\n",
    "enroll_41=enroll_41.drop(\"nan\",axis=1)\n",
    "\n",
    "enroll_41=enroll_41.set_index('NO')\n"
   ]
  },
  {
   "cell_type": "code",
   "execution_count": 196,
   "metadata": {
    "collapsed": true
   },
   "outputs": [
    {
     "name": "stderr",
     "output_type": "stream",
     "text": [
      "/home/ravali/anaconda3/lib/python3.5/site-packages/pandas/core/indexing.py:288: SettingWithCopyWarning: \n",
      "A value is trying to be set on a copy of a slice from a DataFrame.\n",
      "Try using .loc[row_indexer,col_indexer] = value instead\n",
      "\n",
      "See the caveats in the documentation: http://pandas.pydata.org/pandas-docs/stable/indexing.html#indexing-view-versus-copy\n",
      "  self.obj[key] = _infer_fill_value(value)\n",
      "/home/ravali/anaconda3/lib/python3.5/site-packages/pandas/core/indexing.py:465: SettingWithCopyWarning: \n",
      "A value is trying to be set on a copy of a slice from a DataFrame.\n",
      "Try using .loc[row_indexer,col_indexer] = value instead\n",
      "\n",
      "See the caveats in the documentation: http://pandas.pydata.org/pandas-docs/stable/indexing.html#indexing-view-versus-copy\n",
      "  self.obj[item] = s\n",
      "/home/ravali/anaconda3/lib/python3.5/site-packages/ipykernel/__main__.py:5: SettingWithCopyWarning: \n",
      "A value is trying to be set on a copy of a slice from a DataFrame.\n",
      "Try using .loc[row_indexer,col_indexer] = value instead\n",
      "\n",
      "See the caveats in the documentation: http://pandas.pydata.org/pandas-docs/stable/indexing.html#indexing-view-versus-copy\n",
      "/home/ravali/anaconda3/lib/python3.5/site-packages/ipykernel/__main__.py:7: SettingWithCopyWarning: \n",
      "A value is trying to be set on a copy of a slice from a DataFrame.\n",
      "Try using .loc[row_indexer,col_indexer] = value instead\n",
      "\n",
      "See the caveats in the documentation: http://pandas.pydata.org/pandas-docs/stable/indexing.html#indexing-view-versus-copy\n"
     ]
    }
   ],
   "source": [
    "enroll_42=sheet2[685:716]\n",
    "\n",
    "enroll_42.loc[:,'year'] = 'Aug 2006 to July 2008'\n",
    "\n",
    "enroll_42['Batch']='Batch_15'\n",
    "\n",
    "enroll_42['Branch']='MS VLSI-CAD'\n",
    "\n",
    "enroll_42.columns = ['NO','ROLL NO','NAME','Gender','State','nan','Year','Batch','Branch']\n",
    "\n",
    "enroll_42 = enroll_42.reset_index()\n",
    "\n",
    "del enroll_42['index']\n",
    "\n",
    "enroll_42=enroll_42.drop(\"nan\",axis=1)\n",
    "\n",
    "enroll_42=enroll_42.set_index('NO')\n",
    "\n"
   ]
  },
  {
   "cell_type": "code",
   "execution_count": 197,
   "metadata": {
    "collapsed": true
   },
   "outputs": [
    {
     "name": "stderr",
     "output_type": "stream",
     "text": [
      "/home/ravali/anaconda3/lib/python3.5/site-packages/pandas/core/indexing.py:288: SettingWithCopyWarning: \n",
      "A value is trying to be set on a copy of a slice from a DataFrame.\n",
      "Try using .loc[row_indexer,col_indexer] = value instead\n",
      "\n",
      "See the caveats in the documentation: http://pandas.pydata.org/pandas-docs/stable/indexing.html#indexing-view-versus-copy\n",
      "  self.obj[key] = _infer_fill_value(value)\n",
      "/home/ravali/anaconda3/lib/python3.5/site-packages/pandas/core/indexing.py:465: SettingWithCopyWarning: \n",
      "A value is trying to be set on a copy of a slice from a DataFrame.\n",
      "Try using .loc[row_indexer,col_indexer] = value instead\n",
      "\n",
      "See the caveats in the documentation: http://pandas.pydata.org/pandas-docs/stable/indexing.html#indexing-view-versus-copy\n",
      "  self.obj[item] = s\n",
      "/home/ravali/anaconda3/lib/python3.5/site-packages/ipykernel/__main__.py:6: SettingWithCopyWarning: \n",
      "A value is trying to be set on a copy of a slice from a DataFrame.\n",
      "Try using .loc[row_indexer,col_indexer] = value instead\n",
      "\n",
      "See the caveats in the documentation: http://pandas.pydata.org/pandas-docs/stable/indexing.html#indexing-view-versus-copy\n",
      "/home/ravali/anaconda3/lib/python3.5/site-packages/ipykernel/__main__.py:8: SettingWithCopyWarning: \n",
      "A value is trying to be set on a copy of a slice from a DataFrame.\n",
      "Try using .loc[row_indexer,col_indexer] = value instead\n",
      "\n",
      "See the caveats in the documentation: http://pandas.pydata.org/pandas-docs/stable/indexing.html#indexing-view-versus-copy\n"
     ]
    }
   ],
   "source": [
    "\n",
    "enroll_43=sheet2[717:723]\n",
    "\n",
    "enroll_43.loc[:,'year'] = 'Jan 2007 Dec 2008'\n",
    "\n",
    "enroll_43['Batch']='Batch_16'\n",
    "\n",
    "enroll_43['Branch']='MS VLSI-CAD'\n",
    "\n",
    "enroll_43.columns = ['NO','ROLL NO','NAME','Gender','State','nan','Year','Batch','Branch']\n",
    "\n",
    "enroll_43 = enroll_43.reset_index()\n",
    "\n",
    "del enroll_43['index']\n",
    "\n",
    "enroll_43=enroll_43.drop(\"nan\",axis=1)\n",
    "\n",
    "enroll_43=enroll_43.set_index('NO')\n"
   ]
  },
  {
   "cell_type": "code",
   "execution_count": 198,
   "metadata": {
    "collapsed": true
   },
   "outputs": [
    {
     "name": "stderr",
     "output_type": "stream",
     "text": [
      "/home/ravali/anaconda3/lib/python3.5/site-packages/pandas/core/indexing.py:288: SettingWithCopyWarning: \n",
      "A value is trying to be set on a copy of a slice from a DataFrame.\n",
      "Try using .loc[row_indexer,col_indexer] = value instead\n",
      "\n",
      "See the caveats in the documentation: http://pandas.pydata.org/pandas-docs/stable/indexing.html#indexing-view-versus-copy\n",
      "  self.obj[key] = _infer_fill_value(value)\n",
      "/home/ravali/anaconda3/lib/python3.5/site-packages/pandas/core/indexing.py:465: SettingWithCopyWarning: \n",
      "A value is trying to be set on a copy of a slice from a DataFrame.\n",
      "Try using .loc[row_indexer,col_indexer] = value instead\n",
      "\n",
      "See the caveats in the documentation: http://pandas.pydata.org/pandas-docs/stable/indexing.html#indexing-view-versus-copy\n",
      "  self.obj[item] = s\n",
      "/home/ravali/anaconda3/lib/python3.5/site-packages/ipykernel/__main__.py:5: SettingWithCopyWarning: \n",
      "A value is trying to be set on a copy of a slice from a DataFrame.\n",
      "Try using .loc[row_indexer,col_indexer] = value instead\n",
      "\n",
      "See the caveats in the documentation: http://pandas.pydata.org/pandas-docs/stable/indexing.html#indexing-view-versus-copy\n",
      "/home/ravali/anaconda3/lib/python3.5/site-packages/ipykernel/__main__.py:7: SettingWithCopyWarning: \n",
      "A value is trying to be set on a copy of a slice from a DataFrame.\n",
      "Try using .loc[row_indexer,col_indexer] = value instead\n",
      "\n",
      "See the caveats in the documentation: http://pandas.pydata.org/pandas-docs/stable/indexing.html#indexing-view-versus-copy\n"
     ]
    }
   ],
   "source": [
    "enroll_44=sheet2[724:764]\n",
    "\n",
    "enroll_44.loc[:,'year'] = 'Aug 2007Jul 2009'\n",
    "\n",
    "enroll_44['Batch']='Batch_17'\n",
    "\n",
    "enroll_44['Branch']='MS VLSI-CAD'\n",
    "\n",
    "enroll_44.columns = ['NO','ROLL NO','NAME','Gender','State','nan','Year','Batch','Branch']\n",
    "\n",
    "enroll_44 = enroll_44.reset_index()\n",
    "\n",
    "del enroll_44['index']\n",
    "\n",
    "enroll_44=enroll_44.drop(\"nan\",axis=1)\n",
    "\n",
    "enroll_44=enroll_44.set_index('NO')\n"
   ]
  },
  {
   "cell_type": "code",
   "execution_count": 199,
   "metadata": {
    "collapsed": true
   },
   "outputs": [
    {
     "name": "stderr",
     "output_type": "stream",
     "text": [
      "/home/ravali/anaconda3/lib/python3.5/site-packages/pandas/core/indexing.py:288: SettingWithCopyWarning: \n",
      "A value is trying to be set on a copy of a slice from a DataFrame.\n",
      "Try using .loc[row_indexer,col_indexer] = value instead\n",
      "\n",
      "See the caveats in the documentation: http://pandas.pydata.org/pandas-docs/stable/indexing.html#indexing-view-versus-copy\n",
      "  self.obj[key] = _infer_fill_value(value)\n",
      "/home/ravali/anaconda3/lib/python3.5/site-packages/pandas/core/indexing.py:465: SettingWithCopyWarning: \n",
      "A value is trying to be set on a copy of a slice from a DataFrame.\n",
      "Try using .loc[row_indexer,col_indexer] = value instead\n",
      "\n",
      "See the caveats in the documentation: http://pandas.pydata.org/pandas-docs/stable/indexing.html#indexing-view-versus-copy\n",
      "  self.obj[item] = s\n",
      "/home/ravali/anaconda3/lib/python3.5/site-packages/ipykernel/__main__.py:5: SettingWithCopyWarning: \n",
      "A value is trying to be set on a copy of a slice from a DataFrame.\n",
      "Try using .loc[row_indexer,col_indexer] = value instead\n",
      "\n",
      "See the caveats in the documentation: http://pandas.pydata.org/pandas-docs/stable/indexing.html#indexing-view-versus-copy\n",
      "/home/ravali/anaconda3/lib/python3.5/site-packages/ipykernel/__main__.py:7: SettingWithCopyWarning: \n",
      "A value is trying to be set on a copy of a slice from a DataFrame.\n",
      "Try using .loc[row_indexer,col_indexer] = value instead\n",
      "\n",
      "See the caveats in the documentation: http://pandas.pydata.org/pandas-docs/stable/indexing.html#indexing-view-versus-copy\n"
     ]
    }
   ],
   "source": [
    "enroll_45=sheet2[765:772]\n",
    "\n",
    "enroll_45.loc[:,'year'] = 'Jan 2008 - Dec 2009'\n",
    "\n",
    "enroll_45['Batch']='Batch_18'\n",
    "\n",
    "enroll_45['Branch']='MS VLSI-CAD'\n",
    "\n",
    "enroll_45.columns = ['NO','ROLL NO','NAME','Gender','State','nan','Year','Batch','Branch']\n",
    "\n",
    "enroll_45 = enroll_45.reset_index()\n",
    "\n",
    "del enroll_45['index']\n",
    "\n",
    "enroll_45=enroll_45.drop(\"nan\",axis=1)\n",
    "\n",
    "enroll_45=enroll_45.set_index('NO')\n"
   ]
  },
  {
   "cell_type": "code",
   "execution_count": 200,
   "metadata": {
    "collapsed": true
   },
   "outputs": [
    {
     "name": "stderr",
     "output_type": "stream",
     "text": [
      "/home/ravali/anaconda3/lib/python3.5/site-packages/pandas/core/indexing.py:288: SettingWithCopyWarning: \n",
      "A value is trying to be set on a copy of a slice from a DataFrame.\n",
      "Try using .loc[row_indexer,col_indexer] = value instead\n",
      "\n",
      "See the caveats in the documentation: http://pandas.pydata.org/pandas-docs/stable/indexing.html#indexing-view-versus-copy\n",
      "  self.obj[key] = _infer_fill_value(value)\n",
      "/home/ravali/anaconda3/lib/python3.5/site-packages/pandas/core/indexing.py:465: SettingWithCopyWarning: \n",
      "A value is trying to be set on a copy of a slice from a DataFrame.\n",
      "Try using .loc[row_indexer,col_indexer] = value instead\n",
      "\n",
      "See the caveats in the documentation: http://pandas.pydata.org/pandas-docs/stable/indexing.html#indexing-view-versus-copy\n",
      "  self.obj[item] = s\n",
      "/home/ravali/anaconda3/lib/python3.5/site-packages/ipykernel/__main__.py:5: SettingWithCopyWarning: \n",
      "A value is trying to be set on a copy of a slice from a DataFrame.\n",
      "Try using .loc[row_indexer,col_indexer] = value instead\n",
      "\n",
      "See the caveats in the documentation: http://pandas.pydata.org/pandas-docs/stable/indexing.html#indexing-view-versus-copy\n",
      "/home/ravali/anaconda3/lib/python3.5/site-packages/ipykernel/__main__.py:7: SettingWithCopyWarning: \n",
      "A value is trying to be set on a copy of a slice from a DataFrame.\n",
      "Try using .loc[row_indexer,col_indexer] = value instead\n",
      "\n",
      "See the caveats in the documentation: http://pandas.pydata.org/pandas-docs/stable/indexing.html#indexing-view-versus-copy\n"
     ]
    }
   ],
   "source": [
    "enroll_46=sheet2[773:788]\n",
    "\n",
    "enroll_46.loc[:,'year'] = 'Aug 2008 - July 2010'\n",
    "\n",
    "enroll_46['Batch']='Batch_19'\n",
    "\n",
    "enroll_46['Branch']='MS VLSI-CAD'\n",
    "\n",
    "enroll_46.columns = ['NO','ROLL NO','NAME','Gender','State','nan','Year','Batch','Branch']\n",
    "\n",
    "enroll_46 = enroll_46.reset_index()\n",
    "\n",
    "del enroll_46['index']\n",
    "\n",
    "enroll_46=enroll_46.drop(\"nan\",axis=1)\n",
    "\n",
    "enroll_46=enroll_46.set_index('NO')\n"
   ]
  },
  {
   "cell_type": "code",
   "execution_count": 201,
   "metadata": {
    "collapsed": true
   },
   "outputs": [
    {
     "name": "stderr",
     "output_type": "stream",
     "text": [
      "/home/ravali/anaconda3/lib/python3.5/site-packages/pandas/core/indexing.py:288: SettingWithCopyWarning: \n",
      "A value is trying to be set on a copy of a slice from a DataFrame.\n",
      "Try using .loc[row_indexer,col_indexer] = value instead\n",
      "\n",
      "See the caveats in the documentation: http://pandas.pydata.org/pandas-docs/stable/indexing.html#indexing-view-versus-copy\n",
      "  self.obj[key] = _infer_fill_value(value)\n",
      "/home/ravali/anaconda3/lib/python3.5/site-packages/pandas/core/indexing.py:465: SettingWithCopyWarning: \n",
      "A value is trying to be set on a copy of a slice from a DataFrame.\n",
      "Try using .loc[row_indexer,col_indexer] = value instead\n",
      "\n",
      "See the caveats in the documentation: http://pandas.pydata.org/pandas-docs/stable/indexing.html#indexing-view-versus-copy\n",
      "  self.obj[item] = s\n",
      "/home/ravali/anaconda3/lib/python3.5/site-packages/ipykernel/__main__.py:5: SettingWithCopyWarning: \n",
      "A value is trying to be set on a copy of a slice from a DataFrame.\n",
      "Try using .loc[row_indexer,col_indexer] = value instead\n",
      "\n",
      "See the caveats in the documentation: http://pandas.pydata.org/pandas-docs/stable/indexing.html#indexing-view-versus-copy\n",
      "/home/ravali/anaconda3/lib/python3.5/site-packages/ipykernel/__main__.py:7: SettingWithCopyWarning: \n",
      "A value is trying to be set on a copy of a slice from a DataFrame.\n",
      "Try using .loc[row_indexer,col_indexer] = value instead\n",
      "\n",
      "See the caveats in the documentation: http://pandas.pydata.org/pandas-docs/stable/indexing.html#indexing-view-versus-copy\n"
     ]
    }
   ],
   "source": [
    "enroll_47=sheet2[789:796]\n",
    "\n",
    "enroll_47.loc[:,'year'] = 'Jan 2009 to Dec 2010'\n",
    "\n",
    "enroll_47['Batch']='Batch_20'\n",
    "\n",
    "enroll_47['Branch']='MS VLSI-CAD'\n",
    "\n",
    "enroll_47.columns = ['NO','ROLL NO','NAME','Gender','State','nan','Year','Batch','Branch']\n",
    "\n",
    "enroll_47 = enroll_47.reset_index()\n",
    "\n",
    "del enroll_47['index']\n",
    "\n",
    "enroll_47=enroll_47.drop(\"nan\",axis=1)\n",
    "\n",
    "enroll_47=enroll_47.set_index('NO')\n",
    "enroll_47=enroll_47.drop(\"Sl. No.\",axis=0)\n",
    "\n"
   ]
  },
  {
   "cell_type": "code",
   "execution_count": 202,
   "metadata": {
    "collapsed": true
   },
   "outputs": [
    {
     "name": "stderr",
     "output_type": "stream",
     "text": [
      "/home/ravali/anaconda3/lib/python3.5/site-packages/pandas/core/indexing.py:288: SettingWithCopyWarning: \n",
      "A value is trying to be set on a copy of a slice from a DataFrame.\n",
      "Try using .loc[row_indexer,col_indexer] = value instead\n",
      "\n",
      "See the caveats in the documentation: http://pandas.pydata.org/pandas-docs/stable/indexing.html#indexing-view-versus-copy\n",
      "  self.obj[key] = _infer_fill_value(value)\n",
      "/home/ravali/anaconda3/lib/python3.5/site-packages/pandas/core/indexing.py:465: SettingWithCopyWarning: \n",
      "A value is trying to be set on a copy of a slice from a DataFrame.\n",
      "Try using .loc[row_indexer,col_indexer] = value instead\n",
      "\n",
      "See the caveats in the documentation: http://pandas.pydata.org/pandas-docs/stable/indexing.html#indexing-view-versus-copy\n",
      "  self.obj[item] = s\n",
      "/home/ravali/anaconda3/lib/python3.5/site-packages/ipykernel/__main__.py:5: SettingWithCopyWarning: \n",
      "A value is trying to be set on a copy of a slice from a DataFrame.\n",
      "Try using .loc[row_indexer,col_indexer] = value instead\n",
      "\n",
      "See the caveats in the documentation: http://pandas.pydata.org/pandas-docs/stable/indexing.html#indexing-view-versus-copy\n",
      "/home/ravali/anaconda3/lib/python3.5/site-packages/ipykernel/__main__.py:7: SettingWithCopyWarning: \n",
      "A value is trying to be set on a copy of a slice from a DataFrame.\n",
      "Try using .loc[row_indexer,col_indexer] = value instead\n",
      "\n",
      "See the caveats in the documentation: http://pandas.pydata.org/pandas-docs/stable/indexing.html#indexing-view-versus-copy\n"
     ]
    }
   ],
   "source": [
    "enroll_48=sheet2[797:837]\n",
    "\n",
    "enroll_48.loc[:,'year'] = 'Aug 2009 - July 2011'\n",
    "\n",
    "enroll_48['Batch']='Batch_21'\n",
    "\n",
    "enroll_48['Branch']='MS VLSI-CAD'\n",
    "\n",
    "enroll_48.columns = ['NO','ROLL NO','NAME','Gender','State','nan','Year','Batch','Branch']\n",
    "\n",
    "enroll_48 = enroll_48.reset_index()\n",
    "\n",
    "del enroll_48['index']\n",
    "\n",
    "enroll_48=enroll_48.drop(\"nan\",axis=1)\n",
    "\n",
    "enroll_48=enroll_48.set_index('NO')\n"
   ]
  },
  {
   "cell_type": "code",
   "execution_count": 203,
   "metadata": {
    "collapsed": true
   },
   "outputs": [
    {
     "name": "stderr",
     "output_type": "stream",
     "text": [
      "/home/ravali/anaconda3/lib/python3.5/site-packages/pandas/core/indexing.py:288: SettingWithCopyWarning: \n",
      "A value is trying to be set on a copy of a slice from a DataFrame.\n",
      "Try using .loc[row_indexer,col_indexer] = value instead\n",
      "\n",
      "See the caveats in the documentation: http://pandas.pydata.org/pandas-docs/stable/indexing.html#indexing-view-versus-copy\n",
      "  self.obj[key] = _infer_fill_value(value)\n",
      "/home/ravali/anaconda3/lib/python3.5/site-packages/pandas/core/indexing.py:465: SettingWithCopyWarning: \n",
      "A value is trying to be set on a copy of a slice from a DataFrame.\n",
      "Try using .loc[row_indexer,col_indexer] = value instead\n",
      "\n",
      "See the caveats in the documentation: http://pandas.pydata.org/pandas-docs/stable/indexing.html#indexing-view-versus-copy\n",
      "  self.obj[item] = s\n",
      "/home/ravali/anaconda3/lib/python3.5/site-packages/ipykernel/__main__.py:5: SettingWithCopyWarning: \n",
      "A value is trying to be set on a copy of a slice from a DataFrame.\n",
      "Try using .loc[row_indexer,col_indexer] = value instead\n",
      "\n",
      "See the caveats in the documentation: http://pandas.pydata.org/pandas-docs/stable/indexing.html#indexing-view-versus-copy\n",
      "/home/ravali/anaconda3/lib/python3.5/site-packages/ipykernel/__main__.py:7: SettingWithCopyWarning: \n",
      "A value is trying to be set on a copy of a slice from a DataFrame.\n",
      "Try using .loc[row_indexer,col_indexer] = value instead\n",
      "\n",
      "See the caveats in the documentation: http://pandas.pydata.org/pandas-docs/stable/indexing.html#indexing-view-versus-copy\n"
     ]
    }
   ],
   "source": [
    "enroll_49=sheet2[838:844]\n",
    "\n",
    "enroll_49.loc[:,'year'] = 'Jan 2010 to Dec 2011'\n",
    "\n",
    "enroll_49['Batch']='Batch_22'\n",
    "\n",
    "enroll_49['Branch']='MS VLSI-CAD'\n",
    "\n",
    "enroll_49.columns = ['NO','ROLL NO','NAME','Gender','State','nan','Year','Batch','Branch']\n",
    "\n",
    "enroll_49 = enroll_49.reset_index()\n",
    "\n",
    "del enroll_49['index']\n",
    "\n",
    "enroll_49=enroll_49.drop(\"nan\",axis=1)\n",
    "\n",
    "enroll_49=enroll_49.set_index('NO')\n"
   ]
  },
  {
   "cell_type": "code",
   "execution_count": 204,
   "metadata": {
    "collapsed": true
   },
   "outputs": [
    {
     "name": "stderr",
     "output_type": "stream",
     "text": [
      "/home/ravali/anaconda3/lib/python3.5/site-packages/pandas/core/indexing.py:288: SettingWithCopyWarning: \n",
      "A value is trying to be set on a copy of a slice from a DataFrame.\n",
      "Try using .loc[row_indexer,col_indexer] = value instead\n",
      "\n",
      "See the caveats in the documentation: http://pandas.pydata.org/pandas-docs/stable/indexing.html#indexing-view-versus-copy\n",
      "  self.obj[key] = _infer_fill_value(value)\n",
      "/home/ravali/anaconda3/lib/python3.5/site-packages/pandas/core/indexing.py:465: SettingWithCopyWarning: \n",
      "A value is trying to be set on a copy of a slice from a DataFrame.\n",
      "Try using .loc[row_indexer,col_indexer] = value instead\n",
      "\n",
      "See the caveats in the documentation: http://pandas.pydata.org/pandas-docs/stable/indexing.html#indexing-view-versus-copy\n",
      "  self.obj[item] = s\n",
      "/home/ravali/anaconda3/lib/python3.5/site-packages/ipykernel/__main__.py:5: SettingWithCopyWarning: \n",
      "A value is trying to be set on a copy of a slice from a DataFrame.\n",
      "Try using .loc[row_indexer,col_indexer] = value instead\n",
      "\n",
      "See the caveats in the documentation: http://pandas.pydata.org/pandas-docs/stable/indexing.html#indexing-view-versus-copy\n",
      "/home/ravali/anaconda3/lib/python3.5/site-packages/ipykernel/__main__.py:7: SettingWithCopyWarning: \n",
      "A value is trying to be set on a copy of a slice from a DataFrame.\n",
      "Try using .loc[row_indexer,col_indexer] = value instead\n",
      "\n",
      "See the caveats in the documentation: http://pandas.pydata.org/pandas-docs/stable/indexing.html#indexing-view-versus-copy\n"
     ]
    }
   ],
   "source": [
    "enroll_50=sheet2[847:887]\n",
    "\n",
    "enroll_50.loc[:,'year'] = ' Aug 2010 - July 2012'\n",
    "\n",
    "enroll_50['Batch']='Batch_23'\n",
    "\n",
    "enroll_50['Branch']='MS VLSI-CAD'\n",
    "\n",
    "enroll_50.columns = ['NO','ROLL NO','NAME','Gender','State','nan','Year','Batch','Branch']\n",
    "\n",
    "enroll_50 = enroll_50.reset_index()\n",
    "\n",
    "del enroll_50['index']\n",
    "\n",
    "enroll_50=enroll_50.drop(\"nan\",axis=1)\n",
    "\n",
    "enroll_50=enroll_50.set_index('NO')\n"
   ]
  },
  {
   "cell_type": "code",
   "execution_count": 205,
   "metadata": {
    "collapsed": true
   },
   "outputs": [
    {
     "name": "stderr",
     "output_type": "stream",
     "text": [
      "/home/ravali/anaconda3/lib/python3.5/site-packages/pandas/core/indexing.py:288: SettingWithCopyWarning: \n",
      "A value is trying to be set on a copy of a slice from a DataFrame.\n",
      "Try using .loc[row_indexer,col_indexer] = value instead\n",
      "\n",
      "See the caveats in the documentation: http://pandas.pydata.org/pandas-docs/stable/indexing.html#indexing-view-versus-copy\n",
      "  self.obj[key] = _infer_fill_value(value)\n",
      "/home/ravali/anaconda3/lib/python3.5/site-packages/pandas/core/indexing.py:465: SettingWithCopyWarning: \n",
      "A value is trying to be set on a copy of a slice from a DataFrame.\n",
      "Try using .loc[row_indexer,col_indexer] = value instead\n",
      "\n",
      "See the caveats in the documentation: http://pandas.pydata.org/pandas-docs/stable/indexing.html#indexing-view-versus-copy\n",
      "  self.obj[item] = s\n",
      "/home/ravali/anaconda3/lib/python3.5/site-packages/ipykernel/__main__.py:5: SettingWithCopyWarning: \n",
      "A value is trying to be set on a copy of a slice from a DataFrame.\n",
      "Try using .loc[row_indexer,col_indexer] = value instead\n",
      "\n",
      "See the caveats in the documentation: http://pandas.pydata.org/pandas-docs/stable/indexing.html#indexing-view-versus-copy\n",
      "/home/ravali/anaconda3/lib/python3.5/site-packages/ipykernel/__main__.py:7: SettingWithCopyWarning: \n",
      "A value is trying to be set on a copy of a slice from a DataFrame.\n",
      "Try using .loc[row_indexer,col_indexer] = value instead\n",
      "\n",
      "See the caveats in the documentation: http://pandas.pydata.org/pandas-docs/stable/indexing.html#indexing-view-versus-copy\n"
     ]
    }
   ],
   "source": [
    "enroll_51=sheet2[891:893]\n",
    "\n",
    "enroll_51.loc[:,'year'] = 'Jan 2011 to Dec 2012'\n",
    "\n",
    "enroll_51['Batch']='Batch_24'\n",
    "\n",
    "enroll_51['Branch']='MS VLSI-CAD'\n",
    "\n",
    "enroll_51.columns = ['NO','ROLL NO','NAME','Gender','State','nan','Year','Batch','Branch']\n",
    "\n",
    "enroll_51 = enroll_51.reset_index()\n",
    "\n",
    "del enroll_51['index']\n",
    "\n",
    "enroll_51=enroll_51.drop(\"nan\",axis=1)\n",
    "\n",
    "enroll_51=enroll_51.set_index('NO')\n"
   ]
  },
  {
   "cell_type": "code",
   "execution_count": 206,
   "metadata": {
    "collapsed": true
   },
   "outputs": [
    {
     "name": "stderr",
     "output_type": "stream",
     "text": [
      "/home/ravali/anaconda3/lib/python3.5/site-packages/pandas/core/indexing.py:288: SettingWithCopyWarning: \n",
      "A value is trying to be set on a copy of a slice from a DataFrame.\n",
      "Try using .loc[row_indexer,col_indexer] = value instead\n",
      "\n",
      "See the caveats in the documentation: http://pandas.pydata.org/pandas-docs/stable/indexing.html#indexing-view-versus-copy\n",
      "  self.obj[key] = _infer_fill_value(value)\n",
      "/home/ravali/anaconda3/lib/python3.5/site-packages/pandas/core/indexing.py:465: SettingWithCopyWarning: \n",
      "A value is trying to be set on a copy of a slice from a DataFrame.\n",
      "Try using .loc[row_indexer,col_indexer] = value instead\n",
      "\n",
      "See the caveats in the documentation: http://pandas.pydata.org/pandas-docs/stable/indexing.html#indexing-view-versus-copy\n",
      "  self.obj[item] = s\n",
      "/home/ravali/anaconda3/lib/python3.5/site-packages/ipykernel/__main__.py:5: SettingWithCopyWarning: \n",
      "A value is trying to be set on a copy of a slice from a DataFrame.\n",
      "Try using .loc[row_indexer,col_indexer] = value instead\n",
      "\n",
      "See the caveats in the documentation: http://pandas.pydata.org/pandas-docs/stable/indexing.html#indexing-view-versus-copy\n",
      "/home/ravali/anaconda3/lib/python3.5/site-packages/ipykernel/__main__.py:7: SettingWithCopyWarning: \n",
      "A value is trying to be set on a copy of a slice from a DataFrame.\n",
      "Try using .loc[row_indexer,col_indexer] = value instead\n",
      "\n",
      "See the caveats in the documentation: http://pandas.pydata.org/pandas-docs/stable/indexing.html#indexing-view-versus-copy\n"
     ]
    }
   ],
   "source": [
    "enroll_52=sheet2[896:936]\n",
    "\n",
    "enroll_52.loc[:,'year'] = 'Aug 2011 - July 2013'\n",
    "\n",
    "enroll_52['Batch']='Batch_25'\n",
    "\n",
    "enroll_52['Branch']='MS VLSI-CAD'\n",
    "\n",
    "enroll_52.columns = ['NO','ROLL NO','NAME','Gender','State','nan','Year','Batch','Branch']\n",
    "\n",
    "enroll_52 = enroll_52.reset_index()\n",
    "\n",
    "del enroll_52['index']\n",
    "\n",
    "enroll_52=enroll_52.drop(\"nan\",axis=1)\n",
    "\n",
    "enroll_52=enroll_52.set_index('NO')\n"
   ]
  },
  {
   "cell_type": "code",
   "execution_count": 207,
   "metadata": {
    "collapsed": true
   },
   "outputs": [
    {
     "name": "stderr",
     "output_type": "stream",
     "text": [
      "/home/ravali/anaconda3/lib/python3.5/site-packages/pandas/core/indexing.py:288: SettingWithCopyWarning: \n",
      "A value is trying to be set on a copy of a slice from a DataFrame.\n",
      "Try using .loc[row_indexer,col_indexer] = value instead\n",
      "\n",
      "See the caveats in the documentation: http://pandas.pydata.org/pandas-docs/stable/indexing.html#indexing-view-versus-copy\n",
      "  self.obj[key] = _infer_fill_value(value)\n",
      "/home/ravali/anaconda3/lib/python3.5/site-packages/pandas/core/indexing.py:465: SettingWithCopyWarning: \n",
      "A value is trying to be set on a copy of a slice from a DataFrame.\n",
      "Try using .loc[row_indexer,col_indexer] = value instead\n",
      "\n",
      "See the caveats in the documentation: http://pandas.pydata.org/pandas-docs/stable/indexing.html#indexing-view-versus-copy\n",
      "  self.obj[item] = s\n",
      "/home/ravali/anaconda3/lib/python3.5/site-packages/ipykernel/__main__.py:5: SettingWithCopyWarning: \n",
      "A value is trying to be set on a copy of a slice from a DataFrame.\n",
      "Try using .loc[row_indexer,col_indexer] = value instead\n",
      "\n",
      "See the caveats in the documentation: http://pandas.pydata.org/pandas-docs/stable/indexing.html#indexing-view-versus-copy\n",
      "/home/ravali/anaconda3/lib/python3.5/site-packages/ipykernel/__main__.py:7: SettingWithCopyWarning: \n",
      "A value is trying to be set on a copy of a slice from a DataFrame.\n",
      "Try using .loc[row_indexer,col_indexer] = value instead\n",
      "\n",
      "See the caveats in the documentation: http://pandas.pydata.org/pandas-docs/stable/indexing.html#indexing-view-versus-copy\n"
     ]
    }
   ],
   "source": [
    "enroll_75=sheet2[1949:1957]\n",
    "\n",
    "enroll_75.loc[:,'year'] = 'Aug 2009 to July 2011'\n",
    "\n",
    "enroll_75['Batch']='Batch_1'\n",
    "\n",
    "enroll_75['Branch']='MS VLSI-AXIOM'\n",
    "\n",
    "enroll_75.columns = ['NO','ROLL NO','NAME','Gender','State','nan','Year','Batch','Branch']\n",
    "\n",
    "enroll_75 = enroll_75.reset_index()\n",
    "\n",
    "del enroll_75['index']\n",
    "\n",
    "enroll_75=enroll_75.drop(\"nan\",axis=1)\n",
    "\n",
    "enroll_75=enroll_75.set_index('NO')\n",
    "\n"
   ]
  },
  {
   "cell_type": "code",
   "execution_count": 208,
   "metadata": {
    "collapsed": true
   },
   "outputs": [
    {
     "name": "stderr",
     "output_type": "stream",
     "text": [
      "/home/ravali/anaconda3/lib/python3.5/site-packages/pandas/core/indexing.py:288: SettingWithCopyWarning: \n",
      "A value is trying to be set on a copy of a slice from a DataFrame.\n",
      "Try using .loc[row_indexer,col_indexer] = value instead\n",
      "\n",
      "See the caveats in the documentation: http://pandas.pydata.org/pandas-docs/stable/indexing.html#indexing-view-versus-copy\n",
      "  self.obj[key] = _infer_fill_value(value)\n",
      "/home/ravali/anaconda3/lib/python3.5/site-packages/pandas/core/indexing.py:465: SettingWithCopyWarning: \n",
      "A value is trying to be set on a copy of a slice from a DataFrame.\n",
      "Try using .loc[row_indexer,col_indexer] = value instead\n",
      "\n",
      "See the caveats in the documentation: http://pandas.pydata.org/pandas-docs/stable/indexing.html#indexing-view-versus-copy\n",
      "  self.obj[item] = s\n",
      "/home/ravali/anaconda3/lib/python3.5/site-packages/ipykernel/__main__.py:5: SettingWithCopyWarning: \n",
      "A value is trying to be set on a copy of a slice from a DataFrame.\n",
      "Try using .loc[row_indexer,col_indexer] = value instead\n",
      "\n",
      "See the caveats in the documentation: http://pandas.pydata.org/pandas-docs/stable/indexing.html#indexing-view-versus-copy\n",
      "/home/ravali/anaconda3/lib/python3.5/site-packages/ipykernel/__main__.py:7: SettingWithCopyWarning: \n",
      "A value is trying to be set on a copy of a slice from a DataFrame.\n",
      "Try using .loc[row_indexer,col_indexer] = value instead\n",
      "\n",
      "See the caveats in the documentation: http://pandas.pydata.org/pandas-docs/stable/indexing.html#indexing-view-versus-copy\n"
     ]
    }
   ],
   "source": [
    "enroll_76=sheet2[1960:1975]\n",
    "\n",
    "enroll_76.loc[:,'year'] = 'Aug 2010 to July 2012'\n",
    "\n",
    "enroll_76['Batch']='Batch_2'\n",
    "\n",
    "enroll_76['Branch']='MS VLSI-AXIOM'\n",
    "\n",
    "enroll_76.columns = ['NO','ROLL NO','NAME','Gender','State','nan','Year','Batch','Branch']\n",
    "\n",
    "enroll_76 = enroll_76.reset_index()\n",
    "\n",
    "del enroll_76['index']\n",
    "\n",
    "enroll_76=enroll_76.drop(\"nan\",axis=1)\n",
    "\n",
    "enroll_76=enroll_76.set_index('NO')\n"
   ]
  },
  {
   "cell_type": "code",
   "execution_count": 209,
   "metadata": {
    "collapsed": true
   },
   "outputs": [
    {
     "name": "stderr",
     "output_type": "stream",
     "text": [
      "/home/ravali/anaconda3/lib/python3.5/site-packages/pandas/core/indexing.py:288: SettingWithCopyWarning: \n",
      "A value is trying to be set on a copy of a slice from a DataFrame.\n",
      "Try using .loc[row_indexer,col_indexer] = value instead\n",
      "\n",
      "See the caveats in the documentation: http://pandas.pydata.org/pandas-docs/stable/indexing.html#indexing-view-versus-copy\n",
      "  self.obj[key] = _infer_fill_value(value)\n",
      "/home/ravali/anaconda3/lib/python3.5/site-packages/pandas/core/indexing.py:465: SettingWithCopyWarning: \n",
      "A value is trying to be set on a copy of a slice from a DataFrame.\n",
      "Try using .loc[row_indexer,col_indexer] = value instead\n",
      "\n",
      "See the caveats in the documentation: http://pandas.pydata.org/pandas-docs/stable/indexing.html#indexing-view-versus-copy\n",
      "  self.obj[item] = s\n",
      "/home/ravali/anaconda3/lib/python3.5/site-packages/ipykernel/__main__.py:5: SettingWithCopyWarning: \n",
      "A value is trying to be set on a copy of a slice from a DataFrame.\n",
      "Try using .loc[row_indexer,col_indexer] = value instead\n",
      "\n",
      "See the caveats in the documentation: http://pandas.pydata.org/pandas-docs/stable/indexing.html#indexing-view-versus-copy\n",
      "/home/ravali/anaconda3/lib/python3.5/site-packages/ipykernel/__main__.py:7: SettingWithCopyWarning: \n",
      "A value is trying to be set on a copy of a slice from a DataFrame.\n",
      "Try using .loc[row_indexer,col_indexer] = value instead\n",
      "\n",
      "See the caveats in the documentation: http://pandas.pydata.org/pandas-docs/stable/indexing.html#indexing-view-versus-copy\n"
     ]
    }
   ],
   "source": [
    "enroll_77=sheet2[1978:1989]\n",
    "\n",
    "enroll_77.loc[:,'year'] = 'Aug 2011 to July 2013'\n",
    "\n",
    "enroll_77['Batch']='Batch_3'\n",
    "\n",
    "enroll_77['Branch']='MS VLSI-AXIOM'\n",
    "\n",
    "enroll_77.columns = ['NO','ROLL NO','NAME','Gender','State','nan','Year','Batch','Branch']\n",
    "\n",
    "enroll_77 = enroll_77.reset_index()\n",
    "\n",
    "del enroll_77['index']\n",
    "\n",
    "enroll_77=enroll_77.drop(\"nan\",axis=1)\n",
    "\n",
    "enroll_77=enroll_77.set_index('NO')"
   ]
  },
  {
   "cell_type": "code",
   "execution_count": 210,
   "metadata": {
    "collapsed": true
   },
   "outputs": [
    {
     "name": "stderr",
     "output_type": "stream",
     "text": [
      "/home/ravali/anaconda3/lib/python3.5/site-packages/pandas/core/indexing.py:288: SettingWithCopyWarning: \n",
      "A value is trying to be set on a copy of a slice from a DataFrame.\n",
      "Try using .loc[row_indexer,col_indexer] = value instead\n",
      "\n",
      "See the caveats in the documentation: http://pandas.pydata.org/pandas-docs/stable/indexing.html#indexing-view-versus-copy\n",
      "  self.obj[key] = _infer_fill_value(value)\n",
      "/home/ravali/anaconda3/lib/python3.5/site-packages/pandas/core/indexing.py:465: SettingWithCopyWarning: \n",
      "A value is trying to be set on a copy of a slice from a DataFrame.\n",
      "Try using .loc[row_indexer,col_indexer] = value instead\n",
      "\n",
      "See the caveats in the documentation: http://pandas.pydata.org/pandas-docs/stable/indexing.html#indexing-view-versus-copy\n",
      "  self.obj[item] = s\n",
      "/home/ravali/anaconda3/lib/python3.5/site-packages/ipykernel/__main__.py:5: SettingWithCopyWarning: \n",
      "A value is trying to be set on a copy of a slice from a DataFrame.\n",
      "Try using .loc[row_indexer,col_indexer] = value instead\n",
      "\n",
      "See the caveats in the documentation: http://pandas.pydata.org/pandas-docs/stable/indexing.html#indexing-view-versus-copy\n",
      "/home/ravali/anaconda3/lib/python3.5/site-packages/ipykernel/__main__.py:7: SettingWithCopyWarning: \n",
      "A value is trying to be set on a copy of a slice from a DataFrame.\n",
      "Try using .loc[row_indexer,col_indexer] = value instead\n",
      "\n",
      "See the caveats in the documentation: http://pandas.pydata.org/pandas-docs/stable/indexing.html#indexing-view-versus-copy\n"
     ]
    }
   ],
   "source": [
    "enroll_78=sheet2[2032:2041]\n",
    "\n",
    "enroll_78.loc[:,'year'] = 'Aug 2009July 2011'\n",
    "\n",
    "enroll_78['Batch']='Batch_1'\n",
    "\n",
    "enroll_78['Branch']='MS DUAL DEGREE'\n",
    "\n",
    "enroll_78.columns = ['NO','ROLL NO','NAME','Gender','State','nan','Year','Batch','Branch']\n",
    "\n",
    "enroll_78 = enroll_78.reset_index()\n",
    "\n",
    "del enroll_78['index']\n",
    "\n",
    "enroll_78=enroll_78.drop(\"nan\",axis=1)\n",
    "\n",
    "enroll_78=enroll_78.set_index('NO')"
   ]
  },
  {
   "cell_type": "code",
   "execution_count": 211,
   "metadata": {
    "collapsed": true
   },
   "outputs": [
    {
     "name": "stderr",
     "output_type": "stream",
     "text": [
      "/home/ravali/anaconda3/lib/python3.5/site-packages/pandas/core/indexing.py:288: SettingWithCopyWarning: \n",
      "A value is trying to be set on a copy of a slice from a DataFrame.\n",
      "Try using .loc[row_indexer,col_indexer] = value instead\n",
      "\n",
      "See the caveats in the documentation: http://pandas.pydata.org/pandas-docs/stable/indexing.html#indexing-view-versus-copy\n",
      "  self.obj[key] = _infer_fill_value(value)\n",
      "/home/ravali/anaconda3/lib/python3.5/site-packages/pandas/core/indexing.py:465: SettingWithCopyWarning: \n",
      "A value is trying to be set on a copy of a slice from a DataFrame.\n",
      "Try using .loc[row_indexer,col_indexer] = value instead\n",
      "\n",
      "See the caveats in the documentation: http://pandas.pydata.org/pandas-docs/stable/indexing.html#indexing-view-versus-copy\n",
      "  self.obj[item] = s\n",
      "/home/ravali/anaconda3/lib/python3.5/site-packages/ipykernel/__main__.py:5: SettingWithCopyWarning: \n",
      "A value is trying to be set on a copy of a slice from a DataFrame.\n",
      "Try using .loc[row_indexer,col_indexer] = value instead\n",
      "\n",
      "See the caveats in the documentation: http://pandas.pydata.org/pandas-docs/stable/indexing.html#indexing-view-versus-copy\n",
      "/home/ravali/anaconda3/lib/python3.5/site-packages/ipykernel/__main__.py:7: SettingWithCopyWarning: \n",
      "A value is trying to be set on a copy of a slice from a DataFrame.\n",
      "Try using .loc[row_indexer,col_indexer] = value instead\n",
      "\n",
      "See the caveats in the documentation: http://pandas.pydata.org/pandas-docs/stable/indexing.html#indexing-view-versus-copy\n"
     ]
    }
   ],
   "source": [
    "enroll_79=sheet2[2044:2064]\n",
    "\n",
    "enroll_79.loc[:,'year'] = 'Aug 2010 to July 2012'\n",
    "\n",
    "enroll_79['Batch']='Batch_2'\n",
    "\n",
    "enroll_79['Branch']='MS DUAL DEGREE'\n",
    "\n",
    "enroll_79.columns = ['NO','ROLL NO','NAME','Gender','State','nan','Year','Batch','Branch']\n",
    "\n",
    "enroll_79 = enroll_79.reset_index()\n",
    "\n",
    "del enroll_79['index']\n",
    "\n",
    "enroll_79=enroll_79.drop(\"nan\",axis=1)\n",
    "\n",
    "enroll_79=enroll_79.set_index('NO')"
   ]
  },
  {
   "cell_type": "code",
   "execution_count": 212,
   "metadata": {
    "collapsed": true
   },
   "outputs": [
    {
     "name": "stderr",
     "output_type": "stream",
     "text": [
      "/home/ravali/anaconda3/lib/python3.5/site-packages/pandas/core/indexing.py:288: SettingWithCopyWarning: \n",
      "A value is trying to be set on a copy of a slice from a DataFrame.\n",
      "Try using .loc[row_indexer,col_indexer] = value instead\n",
      "\n",
      "See the caveats in the documentation: http://pandas.pydata.org/pandas-docs/stable/indexing.html#indexing-view-versus-copy\n",
      "  self.obj[key] = _infer_fill_value(value)\n",
      "/home/ravali/anaconda3/lib/python3.5/site-packages/pandas/core/indexing.py:465: SettingWithCopyWarning: \n",
      "A value is trying to be set on a copy of a slice from a DataFrame.\n",
      "Try using .loc[row_indexer,col_indexer] = value instead\n",
      "\n",
      "See the caveats in the documentation: http://pandas.pydata.org/pandas-docs/stable/indexing.html#indexing-view-versus-copy\n",
      "  self.obj[item] = s\n",
      "/home/ravali/anaconda3/lib/python3.5/site-packages/ipykernel/__main__.py:5: SettingWithCopyWarning: \n",
      "A value is trying to be set on a copy of a slice from a DataFrame.\n",
      "Try using .loc[row_indexer,col_indexer] = value instead\n",
      "\n",
      "See the caveats in the documentation: http://pandas.pydata.org/pandas-docs/stable/indexing.html#indexing-view-versus-copy\n",
      "/home/ravali/anaconda3/lib/python3.5/site-packages/ipykernel/__main__.py:7: SettingWithCopyWarning: \n",
      "A value is trying to be set on a copy of a slice from a DataFrame.\n",
      "Try using .loc[row_indexer,col_indexer] = value instead\n",
      "\n",
      "See the caveats in the documentation: http://pandas.pydata.org/pandas-docs/stable/indexing.html#indexing-view-versus-copy\n"
     ]
    }
   ],
   "source": [
    "enroll_80=sheet2[2067:2086]\n",
    "\n",
    "enroll_80.loc[:,'year'] = 'Aug 2011 to July 2013'\n",
    "\n",
    "enroll_80['Batch']='Batch_3'\n",
    "\n",
    "enroll_80['Branch']='MS DUAL DEGREE'\n",
    "\n",
    "enroll_80.columns = ['NO','ROLL NO','NAME','Gender','State','nan','Year','Batch','Branch']\n",
    "\n",
    "enroll_80 = enroll_80.reset_index()\n",
    "\n",
    "del enroll_80['index']\n",
    "\n",
    "enroll_80=enroll_80.drop(\"nan\",axis=1)\n",
    "\n",
    "enroll_80=enroll_80.set_index('NO')"
   ]
  },
  {
   "cell_type": "code",
   "execution_count": 213,
   "metadata": {
    "collapsed": true
   },
   "outputs": [
    {
     "name": "stderr",
     "output_type": "stream",
     "text": [
      "/home/ravali/anaconda3/lib/python3.5/site-packages/pandas/core/indexing.py:288: SettingWithCopyWarning: \n",
      "A value is trying to be set on a copy of a slice from a DataFrame.\n",
      "Try using .loc[row_indexer,col_indexer] = value instead\n",
      "\n",
      "See the caveats in the documentation: http://pandas.pydata.org/pandas-docs/stable/indexing.html#indexing-view-versus-copy\n",
      "  self.obj[key] = _infer_fill_value(value)\n",
      "/home/ravali/anaconda3/lib/python3.5/site-packages/pandas/core/indexing.py:465: SettingWithCopyWarning: \n",
      "A value is trying to be set on a copy of a slice from a DataFrame.\n",
      "Try using .loc[row_indexer,col_indexer] = value instead\n",
      "\n",
      "See the caveats in the documentation: http://pandas.pydata.org/pandas-docs/stable/indexing.html#indexing-view-versus-copy\n",
      "  self.obj[item] = s\n",
      "/home/ravali/anaconda3/lib/python3.5/site-packages/ipykernel/__main__.py:5: SettingWithCopyWarning: \n",
      "A value is trying to be set on a copy of a slice from a DataFrame.\n",
      "Try using .loc[row_indexer,col_indexer] = value instead\n",
      "\n",
      "See the caveats in the documentation: http://pandas.pydata.org/pandas-docs/stable/indexing.html#indexing-view-versus-copy\n",
      "/home/ravali/anaconda3/lib/python3.5/site-packages/ipykernel/__main__.py:7: SettingWithCopyWarning: \n",
      "A value is trying to be set on a copy of a slice from a DataFrame.\n",
      "Try using .loc[row_indexer,col_indexer] = value instead\n",
      "\n",
      "See the caveats in the documentation: http://pandas.pydata.org/pandas-docs/stable/indexing.html#indexing-view-versus-copy\n"
     ]
    }
   ],
   "source": [
    "enroll_81=sheet2[2108:2123]\n",
    "\n",
    "enroll_81.loc[:,'year'] = 'Aug 2010 to Jul 2012'\n",
    "\n",
    "enroll_81['Batch']='Batch_4'\n",
    "\n",
    "enroll_81['Branch']='MS IT'\n",
    "\n",
    "enroll_81.columns = ['NO','ROLL NO','NAME','Gender','State','nan','Year','Batch','Branch']\n",
    "\n",
    "enroll_81 = enroll_81.reset_index()\n",
    "\n",
    "del enroll_81['index']\n",
    "\n",
    "enroll_81=enroll_81.drop(\"nan\",axis=1)\n",
    "\n",
    "enroll_81=enroll_81.set_index('NO')"
   ]
  },
  {
   "cell_type": "code",
   "execution_count": 214,
   "metadata": {
    "collapsed": true
   },
   "outputs": [
    {
     "name": "stderr",
     "output_type": "stream",
     "text": [
      "/home/ravali/anaconda3/lib/python3.5/site-packages/pandas/core/indexing.py:288: SettingWithCopyWarning: \n",
      "A value is trying to be set on a copy of a slice from a DataFrame.\n",
      "Try using .loc[row_indexer,col_indexer] = value instead\n",
      "\n",
      "See the caveats in the documentation: http://pandas.pydata.org/pandas-docs/stable/indexing.html#indexing-view-versus-copy\n",
      "  self.obj[key] = _infer_fill_value(value)\n",
      "/home/ravali/anaconda3/lib/python3.5/site-packages/pandas/core/indexing.py:465: SettingWithCopyWarning: \n",
      "A value is trying to be set on a copy of a slice from a DataFrame.\n",
      "Try using .loc[row_indexer,col_indexer] = value instead\n",
      "\n",
      "See the caveats in the documentation: http://pandas.pydata.org/pandas-docs/stable/indexing.html#indexing-view-versus-copy\n",
      "  self.obj[item] = s\n",
      "/home/ravali/anaconda3/lib/python3.5/site-packages/ipykernel/__main__.py:5: SettingWithCopyWarning: \n",
      "A value is trying to be set on a copy of a slice from a DataFrame.\n",
      "Try using .loc[row_indexer,col_indexer] = value instead\n",
      "\n",
      "See the caveats in the documentation: http://pandas.pydata.org/pandas-docs/stable/indexing.html#indexing-view-versus-copy\n",
      "/home/ravali/anaconda3/lib/python3.5/site-packages/ipykernel/__main__.py:7: SettingWithCopyWarning: \n",
      "A value is trying to be set on a copy of a slice from a DataFrame.\n",
      "Try using .loc[row_indexer,col_indexer] = value instead\n",
      "\n",
      "See the caveats in the documentation: http://pandas.pydata.org/pandas-docs/stable/indexing.html#indexing-view-versus-copy\n"
     ]
    }
   ],
   "source": [
    "enroll_82=sheet2[2127:2143]\n",
    "\n",
    "enroll_82.loc[:,'year'] = 'August2011'\n",
    "\n",
    "enroll_82['Batch']='Batch_5'\n",
    "\n",
    "enroll_82['Branch']='MS IT'\n",
    "\n",
    "enroll_82.columns = ['NO','ROLL NO','NAME','Gender','State','nan','Year','Batch','Branch']\n",
    "\n",
    "enroll_82 = enroll_82.reset_index()\n",
    "\n",
    "del enroll_82['index']\n",
    "\n",
    "enroll_82=enroll_82.drop(\"nan\",axis=1)\n",
    "\n",
    "enroll_82=enroll_82.set_index('NO')"
   ]
  },
  {
   "cell_type": "code",
   "execution_count": 215,
   "metadata": {
    "collapsed": true
   },
   "outputs": [
    {
     "name": "stderr",
     "output_type": "stream",
     "text": [
      "/home/ravali/anaconda3/lib/python3.5/site-packages/pandas/core/indexing.py:288: SettingWithCopyWarning: \n",
      "A value is trying to be set on a copy of a slice from a DataFrame.\n",
      "Try using .loc[row_indexer,col_indexer] = value instead\n",
      "\n",
      "See the caveats in the documentation: http://pandas.pydata.org/pandas-docs/stable/indexing.html#indexing-view-versus-copy\n",
      "  self.obj[key] = _infer_fill_value(value)\n",
      "/home/ravali/anaconda3/lib/python3.5/site-packages/pandas/core/indexing.py:465: SettingWithCopyWarning: \n",
      "A value is trying to be set on a copy of a slice from a DataFrame.\n",
      "Try using .loc[row_indexer,col_indexer] = value instead\n",
      "\n",
      "See the caveats in the documentation: http://pandas.pydata.org/pandas-docs/stable/indexing.html#indexing-view-versus-copy\n",
      "  self.obj[item] = s\n",
      "/home/ravali/anaconda3/lib/python3.5/site-packages/ipykernel/__main__.py:5: SettingWithCopyWarning: \n",
      "A value is trying to be set on a copy of a slice from a DataFrame.\n",
      "Try using .loc[row_indexer,col_indexer] = value instead\n",
      "\n",
      "See the caveats in the documentation: http://pandas.pydata.org/pandas-docs/stable/indexing.html#indexing-view-versus-copy\n",
      "/home/ravali/anaconda3/lib/python3.5/site-packages/ipykernel/__main__.py:7: SettingWithCopyWarning: \n",
      "A value is trying to be set on a copy of a slice from a DataFrame.\n",
      "Try using .loc[row_indexer,col_indexer] = value instead\n",
      "\n",
      "See the caveats in the documentation: http://pandas.pydata.org/pandas-docs/stable/indexing.html#indexing-view-versus-copy\n"
     ]
    }
   ],
   "source": [
    "enroll_83=sheet2[2146:2170]\n",
    "\n",
    "enroll_83.loc[:,'year'] = 'Aug 2011 to Jul 2013'\n",
    "\n",
    "enroll_83['Batch']='Batch_1'\n",
    "\n",
    "enroll_83['Branch']='MS Computing Technologies & Virtualization '\n",
    "\n",
    "enroll_83.columns = ['NO','ROLL NO','NAME','Gender','State','nan','Year','Batch','Branch']\n",
    "\n",
    "enroll_83 = enroll_83.reset_index()\n",
    "\n",
    "del enroll_83['index']\n",
    "\n",
    "enroll_83=enroll_83.drop(\"nan\",axis=1)\n",
    "\n",
    "enroll_83=enroll_83.set_index('NO')\n"
   ]
  },
  {
   "cell_type": "code",
   "execution_count": 216,
   "metadata": {
    "collapsed": true
   },
   "outputs": [
    {
     "name": "stderr",
     "output_type": "stream",
     "text": [
      "/home/ravali/anaconda3/lib/python3.5/site-packages/pandas/core/indexing.py:288: SettingWithCopyWarning: \n",
      "A value is trying to be set on a copy of a slice from a DataFrame.\n",
      "Try using .loc[row_indexer,col_indexer] = value instead\n",
      "\n",
      "See the caveats in the documentation: http://pandas.pydata.org/pandas-docs/stable/indexing.html#indexing-view-versus-copy\n",
      "  self.obj[key] = _infer_fill_value(value)\n",
      "/home/ravali/anaconda3/lib/python3.5/site-packages/pandas/core/indexing.py:465: SettingWithCopyWarning: \n",
      "A value is trying to be set on a copy of a slice from a DataFrame.\n",
      "Try using .loc[row_indexer,col_indexer] = value instead\n",
      "\n",
      "See the caveats in the documentation: http://pandas.pydata.org/pandas-docs/stable/indexing.html#indexing-view-versus-copy\n",
      "  self.obj[item] = s\n",
      "/home/ravali/anaconda3/lib/python3.5/site-packages/ipykernel/__main__.py:5: SettingWithCopyWarning: \n",
      "A value is trying to be set on a copy of a slice from a DataFrame.\n",
      "Try using .loc[row_indexer,col_indexer] = value instead\n",
      "\n",
      "See the caveats in the documentation: http://pandas.pydata.org/pandas-docs/stable/indexing.html#indexing-view-versus-copy\n",
      "/home/ravali/anaconda3/lib/python3.5/site-packages/ipykernel/__main__.py:7: SettingWithCopyWarning: \n",
      "A value is trying to be set on a copy of a slice from a DataFrame.\n",
      "Try using .loc[row_indexer,col_indexer] = value instead\n",
      "\n",
      "See the caveats in the documentation: http://pandas.pydata.org/pandas-docs/stable/indexing.html#indexing-view-versus-copy\n"
     ]
    }
   ],
   "source": [
    "enroll_84=sheet2[2173:2182]\n",
    "\n",
    "enroll_84.loc[:,'year'] = 'Aug 2011 to Jul 2013'\n",
    "\n",
    "enroll_84['Batch']='Batch_1'\n",
    "\n",
    "enroll_84['Branch']='MS DUAL - LU & ENU '\n",
    "\n",
    "enroll_84.columns = ['NO','ROLL NO','NAME','Gender','State','nan','Year','Batch','Branch']\n",
    "\n",
    "enroll_84 = enroll_84.reset_index()\n",
    "\n",
    "del enroll_84['index']\n",
    "\n",
    "enroll_84=enroll_84.drop(\"nan\",axis=1)\n",
    "\n",
    "enroll_84=enroll_84.set_index('NO')"
   ]
  },
  {
   "cell_type": "code",
   "execution_count": 217,
   "metadata": {
    "collapsed": true
   },
   "outputs": [
    {
     "name": "stderr",
     "output_type": "stream",
     "text": [
      "/home/ravali/anaconda3/lib/python3.5/site-packages/pandas/core/indexing.py:288: SettingWithCopyWarning: \n",
      "A value is trying to be set on a copy of a slice from a DataFrame.\n",
      "Try using .loc[row_indexer,col_indexer] = value instead\n",
      "\n",
      "See the caveats in the documentation: http://pandas.pydata.org/pandas-docs/stable/indexing.html#indexing-view-versus-copy\n",
      "  self.obj[key] = _infer_fill_value(value)\n",
      "/home/ravali/anaconda3/lib/python3.5/site-packages/pandas/core/indexing.py:465: SettingWithCopyWarning: \n",
      "A value is trying to be set on a copy of a slice from a DataFrame.\n",
      "Try using .loc[row_indexer,col_indexer] = value instead\n",
      "\n",
      "See the caveats in the documentation: http://pandas.pydata.org/pandas-docs/stable/indexing.html#indexing-view-versus-copy\n",
      "  self.obj[item] = s\n",
      "/home/ravali/anaconda3/lib/python3.5/site-packages/ipykernel/__main__.py:5: SettingWithCopyWarning: \n",
      "A value is trying to be set on a copy of a slice from a DataFrame.\n",
      "Try using .loc[row_indexer,col_indexer] = value instead\n",
      "\n",
      "See the caveats in the documentation: http://pandas.pydata.org/pandas-docs/stable/indexing.html#indexing-view-versus-copy\n",
      "/home/ravali/anaconda3/lib/python3.5/site-packages/ipykernel/__main__.py:7: SettingWithCopyWarning: \n",
      "A value is trying to be set on a copy of a slice from a DataFrame.\n",
      "Try using .loc[row_indexer,col_indexer] = value instead\n",
      "\n",
      "See the caveats in the documentation: http://pandas.pydata.org/pandas-docs/stable/indexing.html#indexing-view-versus-copy\n"
     ]
    }
   ],
   "source": [
    "enroll_39=sheet2[642:648]\n",
    "\n",
    "enroll_39.loc[:,'year'] = 'Aug 2005 Jul 2007'\n",
    "\n",
    "enroll_39['Batch']='Batch_1'\n",
    "\n",
    "enroll_39['Branch']='MSc INFORMATION SCIENCE'\n",
    "\n",
    "enroll_39.columns = ['NO','ROLL NO','NAME','Gender','State','nan','Year','Batch','Branch']\n",
    "\n",
    "enroll_39 = enroll_39.reset_index()\n",
    "\n",
    "del enroll_39['index']\n",
    "\n",
    "enroll_39=enroll_39.drop(\"nan\",axis=1)\n",
    "\n",
    "enroll_39=enroll_39.set_index('NO')\n"
   ]
  },
  {
   "cell_type": "markdown",
   "metadata": {},
   "source": [
    "### convert data frames to csv"
   ]
  },
  {
   "cell_type": "code",
   "execution_count": 218,
   "metadata": {
    "collapsed": false
   },
   "outputs": [],
   "source": [
    "def convert_csv(start,end,file_name):\n",
    "    for i in range(start,end):\n",
    "        values=(eval(file_name.format(i)))\n",
    "        values.to_csv(file_name.format(i))\n",
    "    "
   ]
  },
  {
   "cell_type": "code",
   "execution_count": 219,
   "metadata": {
    "collapsed": false
   },
   "outputs": [],
   "source": [
    "convert_csv(1,14,'df{}')"
   ]
  },
  {
   "cell_type": "code",
   "execution_count": 220,
   "metadata": {
    "collapsed": false
   },
   "outputs": [],
   "source": [
    "convert_csv(1,105,'enroll_{}')"
   ]
  },
  {
   "cell_type": "markdown",
   "metadata": {},
   "source": [
    "### anonymize roll no. and name"
   ]
  },
  {
   "cell_type": "code",
   "execution_count": 221,
   "metadata": {
    "collapsed": true
   },
   "outputs": [],
   "source": [
    "def hash_func(data):\n",
    "    enroll_select=data.ix[:,0:2]\n",
    "    s=[]\n",
    "    for i,val in enroll_select.iterrows() :\n",
    "        roll=str(val['ROLL NO'])\n",
    "        name=str(val['NAME'])\n",
    "        hash_roll = hashlib.md5(roll.encode())\n",
    "        hash_name = hashlib.md5(name.encode())\n",
    "        hash_roll = hash_roll.hexdigest()\n",
    "        hash_name = hash_name.hexdigest()\n",
    "        s.append([hash_roll,hash_name])\n",
    "        columns = ['ROLL NO', 'NAME']\n",
    "        hashed_df=pd.DataFrame(s,columns=columns)\n",
    "    data_del=data.drop(['ROLL NO','NAME'],axis=1)\n",
    "    data_del = data_del.reset_index(drop = True)\n",
    "    hashed_df=pd.concat([hashed_df,data_del],axis=1,join_axes=[hashed_df.index],join='inner')\n",
    "    hashed_df=hashed_df.set_index([data.index])\n",
    "    \n",
    "    return hashed_df\n",
    "\n",
    "    \n",
    "    \n",
    "\n"
   ]
  },
  {
   "cell_type": "code",
   "execution_count": 222,
   "metadata": {
    "collapsed": true
   },
   "outputs": [],
   "source": [
    "    for g in range(1,106):\n",
    "        file='enroll_{}'.format(g)\n",
    "        file=eval(file)\n",
    "        hashed_file=hash_func(file)\n",
    "        hashed_file= exec (\"hashed_enroll_%s= hashed_file\" % (g))\n"
   ]
  },
  {
   "cell_type": "code",
   "execution_count": 223,
   "metadata": {
    "collapsed": false
   },
   "outputs": [
    {
     "data": {
      "text/html": [
       "<div>\n",
       "<table border=\"1\" class=\"dataframe\">\n",
       "  <thead>\n",
       "    <tr style=\"text-align: right;\">\n",
       "      <th></th>\n",
       "      <th>ROLL NO</th>\n",
       "      <th>NAME</th>\n",
       "      <th>Gender</th>\n",
       "      <th>State</th>\n",
       "      <th>Year</th>\n",
       "      <th>Batch</th>\n",
       "      <th>Branch</th>\n",
       "    </tr>\n",
       "    <tr>\n",
       "      <th>NO</th>\n",
       "      <th></th>\n",
       "      <th></th>\n",
       "      <th></th>\n",
       "      <th></th>\n",
       "      <th></th>\n",
       "      <th></th>\n",
       "      <th></th>\n",
       "    </tr>\n",
       "  </thead>\n",
       "  <tbody>\n",
       "    <tr>\n",
       "      <th>1</th>\n",
       "      <td>08b271c58ca7697d7b7ee45ccfbec5c3</td>\n",
       "      <td>2fc4a1e656dcbdea9d493869df90ae19</td>\n",
       "      <td>M</td>\n",
       "      <td>KAN</td>\n",
       "      <td>Aug 1999 to Feb 2001</td>\n",
       "      <td>Batch_1</td>\n",
       "      <td>MS Ecommerce</td>\n",
       "    </tr>\n",
       "    <tr>\n",
       "      <th>2</th>\n",
       "      <td>0b5cad8c75e1119aa8426240471fd6e2</td>\n",
       "      <td>7e4ddcdb12454a4d53a587aa07bd3fa8</td>\n",
       "      <td>M</td>\n",
       "      <td>KAN</td>\n",
       "      <td>Aug 1999 to Feb 2001</td>\n",
       "      <td>Batch_1</td>\n",
       "      <td>MS Ecommerce</td>\n",
       "    </tr>\n",
       "    <tr>\n",
       "      <th>3</th>\n",
       "      <td>3e3d29e7afb6ca9aee80fbf9162ac6b0</td>\n",
       "      <td>5c03c43fcb94992c565f75bb8bf3cd44</td>\n",
       "      <td>F</td>\n",
       "      <td>KEL</td>\n",
       "      <td>Aug 1999 to Feb 2001</td>\n",
       "      <td>Batch_1</td>\n",
       "      <td>MS Ecommerce</td>\n",
       "    </tr>\n",
       "    <tr>\n",
       "      <th>4</th>\n",
       "      <td>5a88c4af3b0a7a5f0b64cb53a6c045db</td>\n",
       "      <td>eb2aa43e4f47da9d74d460a3f1c779ab</td>\n",
       "      <td>F</td>\n",
       "      <td>DEL</td>\n",
       "      <td>Aug 1999 to Feb 2001</td>\n",
       "      <td>Batch_1</td>\n",
       "      <td>MS Ecommerce</td>\n",
       "    </tr>\n",
       "    <tr>\n",
       "      <th>5</th>\n",
       "      <td>b6689eb301fdc5b932a3fe16c062bf9e</td>\n",
       "      <td>e7f4f69624785acc64f7ca275662d38d</td>\n",
       "      <td>M</td>\n",
       "      <td>KEL</td>\n",
       "      <td>Aug 1999 to Feb 2001</td>\n",
       "      <td>Batch_1</td>\n",
       "      <td>MS Ecommerce</td>\n",
       "    </tr>\n",
       "    <tr>\n",
       "      <th>6</th>\n",
       "      <td>f287bd9353f18f5827b87aa55ae83a2c</td>\n",
       "      <td>89904767affef69f6a1fc1913d466ef9</td>\n",
       "      <td>M</td>\n",
       "      <td>KAN</td>\n",
       "      <td>Aug 1999 to Feb 2001</td>\n",
       "      <td>Batch_1</td>\n",
       "      <td>MS Ecommerce</td>\n",
       "    </tr>\n",
       "    <tr>\n",
       "      <th>7</th>\n",
       "      <td>c9462766ad335d78f70d2ee47a7fe6ac</td>\n",
       "      <td>08fd6b68b81abe827d48bedf4d29180b</td>\n",
       "      <td>F</td>\n",
       "      <td>KAN</td>\n",
       "      <td>Aug 1999 to Feb 2001</td>\n",
       "      <td>Batch_1</td>\n",
       "      <td>MS Ecommerce</td>\n",
       "    </tr>\n",
       "    <tr>\n",
       "      <th>8</th>\n",
       "      <td>c17f353406bc47118ac624f2928c71a2</td>\n",
       "      <td>5e445f6ab4e92feccef8ba96b494bc33</td>\n",
       "      <td>M</td>\n",
       "      <td>KAN</td>\n",
       "      <td>Aug 1999 to Feb 2001</td>\n",
       "      <td>Batch_1</td>\n",
       "      <td>MS Ecommerce</td>\n",
       "    </tr>\n",
       "    <tr>\n",
       "      <th>9</th>\n",
       "      <td>7dd4fceb5a8a36e5547a397a7f46e516</td>\n",
       "      <td>a675b8c088d6bb2a17cb40a9be3e8d03</td>\n",
       "      <td>M</td>\n",
       "      <td>KAN</td>\n",
       "      <td>Aug 1999 to Feb 2001</td>\n",
       "      <td>Batch_1</td>\n",
       "      <td>MS Ecommerce</td>\n",
       "    </tr>\n",
       "    <tr>\n",
       "      <th>10</th>\n",
       "      <td>fd20c435f1db392fd031c379695b4e00</td>\n",
       "      <td>3c8e967d75e4c2c2a79a3ee672d3c4dd</td>\n",
       "      <td>M</td>\n",
       "      <td>KAN</td>\n",
       "      <td>Aug 1999 to Feb 2001</td>\n",
       "      <td>Batch_1</td>\n",
       "      <td>MS Ecommerce</td>\n",
       "    </tr>\n",
       "    <tr>\n",
       "      <th>11</th>\n",
       "      <td>ac151ef912850b4902b6af084fa1901b</td>\n",
       "      <td>f21e4a0816225c761d0067c8d377a3f2</td>\n",
       "      <td>F</td>\n",
       "      <td>AP</td>\n",
       "      <td>Aug 1999 to Feb 2001</td>\n",
       "      <td>Batch_1</td>\n",
       "      <td>MS Ecommerce</td>\n",
       "    </tr>\n",
       "    <tr>\n",
       "      <th>12</th>\n",
       "      <td>6b8527c7e25ade9b455f96574aff5eca</td>\n",
       "      <td>065b4121ecca00af8b07fcad94aa910d</td>\n",
       "      <td>M</td>\n",
       "      <td>KAN</td>\n",
       "      <td>Aug 1999 to Feb 2001</td>\n",
       "      <td>Batch_1</td>\n",
       "      <td>MS Ecommerce</td>\n",
       "    </tr>\n",
       "    <tr>\n",
       "      <th>13</th>\n",
       "      <td>2f882f5e65d9b26bdfc760e7ffc71efe</td>\n",
       "      <td>f907b93162663fe49603951c30314b32</td>\n",
       "      <td>M</td>\n",
       "      <td>KEL</td>\n",
       "      <td>Aug 1999 to Feb 2001</td>\n",
       "      <td>Batch_1</td>\n",
       "      <td>MS Ecommerce</td>\n",
       "    </tr>\n",
       "    <tr>\n",
       "      <th>14</th>\n",
       "      <td>7295d75f8b54646dbcfcb8ffa666b91b</td>\n",
       "      <td>ce96bbbdf85c018c7384149320ef38f0</td>\n",
       "      <td>M</td>\n",
       "      <td>TAM</td>\n",
       "      <td>Aug 1999 to Feb 2001</td>\n",
       "      <td>Batch_1</td>\n",
       "      <td>MS Ecommerce</td>\n",
       "    </tr>\n",
       "    <tr>\n",
       "      <th>15</th>\n",
       "      <td>fcfeee0211939275f3c4d04273f98e8a</td>\n",
       "      <td>c503543f7966a60d2636668b9d3ad885</td>\n",
       "      <td>F</td>\n",
       "      <td>KEL</td>\n",
       "      <td>Aug 1999 to Feb 2001</td>\n",
       "      <td>Batch_1</td>\n",
       "      <td>MS Ecommerce</td>\n",
       "    </tr>\n",
       "    <tr>\n",
       "      <th>16</th>\n",
       "      <td>9df76f07455c3be90f0de980633cc6ea</td>\n",
       "      <td>5d5f6af17e27d04a269114c0d2b0f047</td>\n",
       "      <td>F</td>\n",
       "      <td>KAN</td>\n",
       "      <td>Aug 1999 to Feb 2001</td>\n",
       "      <td>Batch_1</td>\n",
       "      <td>MS Ecommerce</td>\n",
       "    </tr>\n",
       "    <tr>\n",
       "      <th>17</th>\n",
       "      <td>d5557fb72946903fc87234e19c00d601</td>\n",
       "      <td>6d4cd39b2c4cb9714f7b5483b5163873</td>\n",
       "      <td>M</td>\n",
       "      <td>DEL</td>\n",
       "      <td>Aug 1999 to Feb 2001</td>\n",
       "      <td>Batch_1</td>\n",
       "      <td>MS Ecommerce</td>\n",
       "    </tr>\n",
       "    <tr>\n",
       "      <th>18</th>\n",
       "      <td>f46f5562b74ef3de8e53bc793763af79</td>\n",
       "      <td>3044b8f52e80d5a52c779aac412faedf</td>\n",
       "      <td>M</td>\n",
       "      <td>AP</td>\n",
       "      <td>Aug 1999 to Feb 2001</td>\n",
       "      <td>Batch_1</td>\n",
       "      <td>MS Ecommerce</td>\n",
       "    </tr>\n",
       "    <tr>\n",
       "      <th>19</th>\n",
       "      <td>16149e91685100e17e40d3a8ae0d9ef6</td>\n",
       "      <td>fea04db28c34914a1823757390c9a7b1</td>\n",
       "      <td>M</td>\n",
       "      <td>KAR</td>\n",
       "      <td>Aug 1999 to Feb 2001</td>\n",
       "      <td>Batch_1</td>\n",
       "      <td>MS Ecommerce</td>\n",
       "    </tr>\n",
       "    <tr>\n",
       "      <th>20</th>\n",
       "      <td>4ab0d3114cb89a671fbbe04702f668e9</td>\n",
       "      <td>b69621bd0a04e1558bc402ea74d19103</td>\n",
       "      <td>M</td>\n",
       "      <td>KEL</td>\n",
       "      <td>Aug 1999 to Feb 2001</td>\n",
       "      <td>Batch_1</td>\n",
       "      <td>MS Ecommerce</td>\n",
       "    </tr>\n",
       "    <tr>\n",
       "      <th>21</th>\n",
       "      <td>86e6c33e556897e14d10e530787db98a</td>\n",
       "      <td>f58cc77029df64ecb6842529596ea952</td>\n",
       "      <td>M</td>\n",
       "      <td>KEL</td>\n",
       "      <td>Aug 1999 to Feb 2001</td>\n",
       "      <td>Batch_1</td>\n",
       "      <td>MS Ecommerce</td>\n",
       "    </tr>\n",
       "    <tr>\n",
       "      <th>22</th>\n",
       "      <td>8aa8dfe2664c9182dd844dc7baf9a590</td>\n",
       "      <td>e5abdfb9d6256224ee250c5391110cc6</td>\n",
       "      <td>M</td>\n",
       "      <td>KEL</td>\n",
       "      <td>Aug 1999 to Feb 2001</td>\n",
       "      <td>Batch_1</td>\n",
       "      <td>MS Ecommerce</td>\n",
       "    </tr>\n",
       "    <tr>\n",
       "      <th>23</th>\n",
       "      <td>2f5a73e25249791aa15216f02425af2b</td>\n",
       "      <td>a7deaa42325689f43dfed12775f515f7</td>\n",
       "      <td>M</td>\n",
       "      <td>KEL</td>\n",
       "      <td>Aug 1999 to Feb 2001</td>\n",
       "      <td>Batch_1</td>\n",
       "      <td>MS Ecommerce</td>\n",
       "    </tr>\n",
       "    <tr>\n",
       "      <th>24</th>\n",
       "      <td>fbb178c30a4864b50955a3ac64d9577a</td>\n",
       "      <td>927f4f71ac2d75cd20d9e00cd72ba20a</td>\n",
       "      <td>M</td>\n",
       "      <td>DEL</td>\n",
       "      <td>Aug 1999 to Feb 2001</td>\n",
       "      <td>Batch_1</td>\n",
       "      <td>MS Ecommerce</td>\n",
       "    </tr>\n",
       "    <tr>\n",
       "      <th>25</th>\n",
       "      <td>d094d7a48c450dd2a603f45e76eef633</td>\n",
       "      <td>b06f853039eee7f6bc5beaef7993b8f1</td>\n",
       "      <td>F</td>\n",
       "      <td>DEL</td>\n",
       "      <td>Aug 1999 to Feb 2001</td>\n",
       "      <td>Batch_1</td>\n",
       "      <td>MS Ecommerce</td>\n",
       "    </tr>\n",
       "    <tr>\n",
       "      <th>26</th>\n",
       "      <td>533fe98fb007d9446c480fba3bac2cc0</td>\n",
       "      <td>c377f86b89fcc33593e3aeaad0706203</td>\n",
       "      <td>F</td>\n",
       "      <td>AP</td>\n",
       "      <td>Aug 1999 to Feb 2001</td>\n",
       "      <td>Batch_1</td>\n",
       "      <td>MS Ecommerce</td>\n",
       "    </tr>\n",
       "    <tr>\n",
       "      <th>27</th>\n",
       "      <td>90470b02d2c49713e89d00642d64664e</td>\n",
       "      <td>f8ad4b2d72f94413fbfcbce6b3a77ea8</td>\n",
       "      <td>F</td>\n",
       "      <td>KAN</td>\n",
       "      <td>Aug 1999 to Feb 2001</td>\n",
       "      <td>Batch_1</td>\n",
       "      <td>MS Ecommerce</td>\n",
       "    </tr>\n",
       "    <tr>\n",
       "      <th>28</th>\n",
       "      <td>8b526eee551ac6d2f1cd98a779feb390</td>\n",
       "      <td>0b40749fe3bab7b917f36838468021f4</td>\n",
       "      <td>M</td>\n",
       "      <td>WB</td>\n",
       "      <td>Aug 1999 to Feb 2001</td>\n",
       "      <td>Batch_1</td>\n",
       "      <td>MS Ecommerce</td>\n",
       "    </tr>\n",
       "    <tr>\n",
       "      <th>29</th>\n",
       "      <td>ce46389b113527185d41a6efde0f1afa</td>\n",
       "      <td>702ceaaf9a1d2821e237e51ee9cc4ac7</td>\n",
       "      <td>M</td>\n",
       "      <td>KAN</td>\n",
       "      <td>Aug 1999 to Feb 2001</td>\n",
       "      <td>Batch_1</td>\n",
       "      <td>MS Ecommerce</td>\n",
       "    </tr>\n",
       "    <tr>\n",
       "      <th>30</th>\n",
       "      <td>efdd28dc81993dbde6b4080ce41758ee</td>\n",
       "      <td>e493a061e01bae86857a6a790800caf8</td>\n",
       "      <td>M</td>\n",
       "      <td>KAN</td>\n",
       "      <td>Aug 1999 to Feb 2001</td>\n",
       "      <td>Batch_1</td>\n",
       "      <td>MS Ecommerce</td>\n",
       "    </tr>\n",
       "    <tr>\n",
       "      <th>31</th>\n",
       "      <td>96afae439bfb6a91cf960406b6683b3a</td>\n",
       "      <td>b1c614ce5a939b8a6337b8194b12fa88</td>\n",
       "      <td>M</td>\n",
       "      <td>KAN</td>\n",
       "      <td>Aug 1999 to Feb 2001</td>\n",
       "      <td>Batch_1</td>\n",
       "      <td>MS Ecommerce</td>\n",
       "    </tr>\n",
       "  </tbody>\n",
       "</table>\n",
       "</div>"
      ],
      "text/plain": [
       "                             ROLL NO                              NAME Gender  \\\n",
       "NO                                                                              \n",
       "1   08b271c58ca7697d7b7ee45ccfbec5c3  2fc4a1e656dcbdea9d493869df90ae19      M   \n",
       "2   0b5cad8c75e1119aa8426240471fd6e2  7e4ddcdb12454a4d53a587aa07bd3fa8      M   \n",
       "3   3e3d29e7afb6ca9aee80fbf9162ac6b0  5c03c43fcb94992c565f75bb8bf3cd44      F   \n",
       "4   5a88c4af3b0a7a5f0b64cb53a6c045db  eb2aa43e4f47da9d74d460a3f1c779ab      F   \n",
       "5   b6689eb301fdc5b932a3fe16c062bf9e  e7f4f69624785acc64f7ca275662d38d      M   \n",
       "6   f287bd9353f18f5827b87aa55ae83a2c  89904767affef69f6a1fc1913d466ef9      M   \n",
       "7   c9462766ad335d78f70d2ee47a7fe6ac  08fd6b68b81abe827d48bedf4d29180b      F   \n",
       "8   c17f353406bc47118ac624f2928c71a2  5e445f6ab4e92feccef8ba96b494bc33      M   \n",
       "9   7dd4fceb5a8a36e5547a397a7f46e516  a675b8c088d6bb2a17cb40a9be3e8d03      M   \n",
       "10  fd20c435f1db392fd031c379695b4e00  3c8e967d75e4c2c2a79a3ee672d3c4dd      M   \n",
       "11  ac151ef912850b4902b6af084fa1901b  f21e4a0816225c761d0067c8d377a3f2      F   \n",
       "12  6b8527c7e25ade9b455f96574aff5eca  065b4121ecca00af8b07fcad94aa910d      M   \n",
       "13  2f882f5e65d9b26bdfc760e7ffc71efe  f907b93162663fe49603951c30314b32      M   \n",
       "14  7295d75f8b54646dbcfcb8ffa666b91b  ce96bbbdf85c018c7384149320ef38f0      M   \n",
       "15  fcfeee0211939275f3c4d04273f98e8a  c503543f7966a60d2636668b9d3ad885      F   \n",
       "16  9df76f07455c3be90f0de980633cc6ea  5d5f6af17e27d04a269114c0d2b0f047      F   \n",
       "17  d5557fb72946903fc87234e19c00d601  6d4cd39b2c4cb9714f7b5483b5163873      M   \n",
       "18  f46f5562b74ef3de8e53bc793763af79  3044b8f52e80d5a52c779aac412faedf      M   \n",
       "19  16149e91685100e17e40d3a8ae0d9ef6  fea04db28c34914a1823757390c9a7b1      M   \n",
       "20  4ab0d3114cb89a671fbbe04702f668e9  b69621bd0a04e1558bc402ea74d19103      M   \n",
       "21  86e6c33e556897e14d10e530787db98a  f58cc77029df64ecb6842529596ea952      M   \n",
       "22  8aa8dfe2664c9182dd844dc7baf9a590  e5abdfb9d6256224ee250c5391110cc6      M   \n",
       "23  2f5a73e25249791aa15216f02425af2b  a7deaa42325689f43dfed12775f515f7      M   \n",
       "24  fbb178c30a4864b50955a3ac64d9577a  927f4f71ac2d75cd20d9e00cd72ba20a      M   \n",
       "25  d094d7a48c450dd2a603f45e76eef633  b06f853039eee7f6bc5beaef7993b8f1      F   \n",
       "26  533fe98fb007d9446c480fba3bac2cc0  c377f86b89fcc33593e3aeaad0706203      F   \n",
       "27  90470b02d2c49713e89d00642d64664e  f8ad4b2d72f94413fbfcbce6b3a77ea8      F   \n",
       "28  8b526eee551ac6d2f1cd98a779feb390  0b40749fe3bab7b917f36838468021f4      M   \n",
       "29  ce46389b113527185d41a6efde0f1afa  702ceaaf9a1d2821e237e51ee9cc4ac7      M   \n",
       "30  efdd28dc81993dbde6b4080ce41758ee  e493a061e01bae86857a6a790800caf8      M   \n",
       "31  96afae439bfb6a91cf960406b6683b3a  b1c614ce5a939b8a6337b8194b12fa88      M   \n",
       "\n",
       "   State                  Year    Batch        Branch  \n",
       "NO                                                     \n",
       "1    KAN  Aug 1999 to Feb 2001  Batch_1  MS Ecommerce  \n",
       "2    KAN  Aug 1999 to Feb 2001  Batch_1  MS Ecommerce  \n",
       "3    KEL  Aug 1999 to Feb 2001  Batch_1  MS Ecommerce  \n",
       "4    DEL  Aug 1999 to Feb 2001  Batch_1  MS Ecommerce  \n",
       "5    KEL  Aug 1999 to Feb 2001  Batch_1  MS Ecommerce  \n",
       "6    KAN  Aug 1999 to Feb 2001  Batch_1  MS Ecommerce  \n",
       "7    KAN  Aug 1999 to Feb 2001  Batch_1  MS Ecommerce  \n",
       "8    KAN  Aug 1999 to Feb 2001  Batch_1  MS Ecommerce  \n",
       "9    KAN  Aug 1999 to Feb 2001  Batch_1  MS Ecommerce  \n",
       "10   KAN  Aug 1999 to Feb 2001  Batch_1  MS Ecommerce  \n",
       "11    AP  Aug 1999 to Feb 2001  Batch_1  MS Ecommerce  \n",
       "12   KAN  Aug 1999 to Feb 2001  Batch_1  MS Ecommerce  \n",
       "13   KEL  Aug 1999 to Feb 2001  Batch_1  MS Ecommerce  \n",
       "14   TAM  Aug 1999 to Feb 2001  Batch_1  MS Ecommerce  \n",
       "15   KEL  Aug 1999 to Feb 2001  Batch_1  MS Ecommerce  \n",
       "16   KAN  Aug 1999 to Feb 2001  Batch_1  MS Ecommerce  \n",
       "17   DEL  Aug 1999 to Feb 2001  Batch_1  MS Ecommerce  \n",
       "18    AP  Aug 1999 to Feb 2001  Batch_1  MS Ecommerce  \n",
       "19   KAR  Aug 1999 to Feb 2001  Batch_1  MS Ecommerce  \n",
       "20   KEL  Aug 1999 to Feb 2001  Batch_1  MS Ecommerce  \n",
       "21   KEL  Aug 1999 to Feb 2001  Batch_1  MS Ecommerce  \n",
       "22   KEL  Aug 1999 to Feb 2001  Batch_1  MS Ecommerce  \n",
       "23   KEL  Aug 1999 to Feb 2001  Batch_1  MS Ecommerce  \n",
       "24   DEL  Aug 1999 to Feb 2001  Batch_1  MS Ecommerce  \n",
       "25   DEL  Aug 1999 to Feb 2001  Batch_1  MS Ecommerce  \n",
       "26    AP  Aug 1999 to Feb 2001  Batch_1  MS Ecommerce  \n",
       "27   KAN  Aug 1999 to Feb 2001  Batch_1  MS Ecommerce  \n",
       "28    WB  Aug 1999 to Feb 2001  Batch_1  MS Ecommerce  \n",
       "29   KAN  Aug 1999 to Feb 2001  Batch_1  MS Ecommerce  \n",
       "30   KAN  Aug 1999 to Feb 2001  Batch_1  MS Ecommerce  \n",
       "31   KAN  Aug 1999 to Feb 2001  Batch_1  MS Ecommerce  "
      ]
     },
     "execution_count": 223,
     "metadata": {},
     "output_type": "execute_result"
    }
   ],
   "source": [
    "hashed_enroll_1"
   ]
  },
  {
   "cell_type": "markdown",
   "metadata": {},
   "source": [
    "## Visualization"
   ]
  },
  {
   "cell_type": "code",
   "execution_count": 224,
   "metadata": {
    "collapsed": true
   },
   "outputs": [],
   "source": [
    "s=[]\n",
    "for i in range(1,14):\n",
    "    f='df{}'.format(i)\n",
    "    f= eval(f)\n",
    "    f=f.loc[f['Branches'] == 'Medical Software']\n",
    "    exec (\"file_%s= f\" % (i))\n",
    "    "
   ]
  },
  {
   "cell_type": "code",
   "execution_count": 225,
   "metadata": {
    "collapsed": true
   },
   "outputs": [],
   "source": [
    "medical=pd.concat([file_1,file_2,file_3,file_4,file_5,file_6,file_7,file_8,file_9,file_10,file_11,file_12,file_13],axis=0,join='inner')"
   ]
  },
  {
   "cell_type": "code",
   "execution_count": 226,
   "metadata": {
    "collapsed": false
   },
   "outputs": [],
   "source": [
    "s=[]\n",
    "for i in range(1,14):\n",
    "    f='df{}'.format(i)\n",
    "    f= eval(f)\n",
    "    f=f.loc[f['Branches'] == 'VLSI Design']\n",
    "    exec (\"file_%s= f\" % (i))"
   ]
  },
  {
   "cell_type": "code",
   "execution_count": 227,
   "metadata": {
    "collapsed": false
   },
   "outputs": [],
   "source": [
    "vlsi=pd.concat([file_1,file_2,file_3,file_4,file_5,file_6,file_7,file_8,file_9,file_10,file_11,file_12,file_13],axis=0,join='inner')"
   ]
  },
  {
   "cell_type": "code",
   "execution_count": 228,
   "metadata": {
    "collapsed": false
   },
   "outputs": [],
   "source": [
    "s=[]\n",
    "for i in range(1,14):\n",
    "    f='df{}'.format(i)\n",
    "    f= eval(f)\n",
    "    f=f.loc[f['Branches'] == 'Embedded Systems']\n",
    "    exec (\"file_%s= f\" % (i))"
   ]
  },
  {
   "cell_type": "code",
   "execution_count": 229,
   "metadata": {
    "collapsed": false
   },
   "outputs": [],
   "source": [
    "embedded=pd.concat([file_1,file_2,file_3,file_4,file_5,file_6,file_7,file_8,file_9,file_10,file_11,file_12,file_13],axis=0,join='inner')"
   ]
  },
  {
   "cell_type": "code",
   "execution_count": 230,
   "metadata": {
    "collapsed": false
   },
   "outputs": [],
   "source": [
    "s=[]\n",
    "for i in range(1,14):\n",
    "    f='df{}'.format(i)\n",
    "    f= eval(f)\n",
    "    f=f.loc[f['Branches'] == 'Embedded & Wireless Technologies']\n",
    "    exec (\"file_%s= f\" % (i))"
   ]
  },
  {
   "cell_type": "code",
   "execution_count": 231,
   "metadata": {
    "collapsed": false
   },
   "outputs": [],
   "source": [
    "embedded_wireless=pd.concat([file_1,file_2,file_3,file_4,file_5,file_6,file_7,file_8,file_9,file_10,file_11,file_12,file_13],axis=0,join='inner')"
   ]
  },
  {
   "cell_type": "code",
   "execution_count": 232,
   "metadata": {
    "collapsed": false
   },
   "outputs": [],
   "source": [
    "s=[]\n",
    "for i in range(1,14):\n",
    "    f='df{}'.format(i)\n",
    "    f= eval(f)\n",
    "    f=f.loc[f['Branches'] == 'Computing Technologies & Virtualization']\n",
    "    exec (\"file_%s= f\" % (i))"
   ]
  },
  {
   "cell_type": "code",
   "execution_count": 233,
   "metadata": {
    "collapsed": false
   },
   "outputs": [],
   "source": [
    "computing=pd.concat([file_1,file_2,file_3,file_4,file_5,file_6,file_7,file_8,file_9,file_10,file_11,file_12,file_13],axis=0,join='inner')"
   ]
  },
  {
   "cell_type": "code",
   "execution_count": 234,
   "metadata": {
    "collapsed": false
   },
   "outputs": [],
   "source": [
    "s=[]\n",
    "for i in range(1,14):\n",
    "    f='df{}'.format(i)\n",
    "    f= eval(f)\n",
    "    f=f.loc[f['Branches'] == 'Information Science']\n",
    "    exec (\"file_%s= f\" % (i))"
   ]
  },
  {
   "cell_type": "code",
   "execution_count": 235,
   "metadata": {
    "collapsed": false
   },
   "outputs": [],
   "source": [
    "information_science=pd.concat([file_1,file_2,file_3,file_4,file_5,file_6,file_7,file_8,file_9,file_10,file_11,file_12,file_13],axis=0,join='inner')"
   ]
  },
  {
   "cell_type": "code",
   "execution_count": 236,
   "metadata": {
    "collapsed": false
   },
   "outputs": [],
   "source": [
    "s=[]\n",
    "for i in range(1,14):\n",
    "    f='df{}'.format(i)\n",
    "    f= eval(f)\n",
    "    f=f.loc[f['Branches'] == 'Embedded & Instrumentation Engg']\n",
    "    exec (\"file_%s= f\" % (i))"
   ]
  },
  {
   "cell_type": "code",
   "execution_count": 237,
   "metadata": {
    "collapsed": false
   },
   "outputs": [],
   "source": [
    "embedded_instrumentation=pd.concat([file_1,file_2,file_3,file_4,file_5,file_6,file_7,file_8,file_9,file_10,file_11,file_12,file_13],axis=0,join='inner')"
   ]
  },
  {
   "cell_type": "code",
   "execution_count": 238,
   "metadata": {
    "collapsed": false
   },
   "outputs": [],
   "source": [
    "s=[]\n",
    "for i in range(1,14):\n",
    "    f='df{}'.format(i)\n",
    "    f= eval(f)\n",
    "    f=f.loc[f['Branches'] == 'Automotive Embedded Systems']\n",
    "    exec (\"file_%s= f\" % (i))"
   ]
  },
  {
   "cell_type": "code",
   "execution_count": 239,
   "metadata": {
    "collapsed": false
   },
   "outputs": [],
   "source": [
    "automotive=pd.concat([file_1,file_2,file_3,file_4,file_5,file_6,file_7,file_8,file_9,file_10,file_11,file_12,file_13],axis=0,join='inner')"
   ]
  },
  {
   "cell_type": "code",
   "execution_count": 240,
   "metadata": {
    "collapsed": false
   },
   "outputs": [],
   "source": [
    "s=[]\n",
    "for i in range(1,14):\n",
    "    f='df{}'.format(i)\n",
    "    f= eval(f)\n",
    "    f=f.loc[f['Branches'] == 'VLSI System Design & Verification']\n",
    "    exec (\"file_%s= f\" % (i))"
   ]
  },
  {
   "cell_type": "code",
   "execution_count": 241,
   "metadata": {
    "collapsed": false
   },
   "outputs": [],
   "source": [
    "vlsi_sys=pd.concat([file_1,file_2,file_3,file_4,file_5,file_6,file_7,file_8,file_9,file_10,file_11,file_12,file_13],axis=0,join='inner')"
   ]
  },
  {
   "cell_type": "code",
   "execution_count": 242,
   "metadata": {
    "collapsed": true
   },
   "outputs": [],
   "source": [
    "s=[]\n",
    "for i in range(1,14):\n",
    "    f='df{}'.format(i)\n",
    "    f= eval(f)\n",
    "    f=f.loc[f['Branches'] == 'Embedded Systems - BE/Btech Grad']\n",
    "    exec (\"file_%s= f\" % (i))"
   ]
  },
  {
   "cell_type": "code",
   "execution_count": 243,
   "metadata": {
    "collapsed": true
   },
   "outputs": [],
   "source": [
    "embedded_btech = pd.concat([file_1,file_2,file_3,file_4,file_5,file_6,file_7,file_8,file_9,file_10,file_11,file_12,file_13],axis=0,join='inner')"
   ]
  },
  {
   "cell_type": "code",
   "execution_count": 244,
   "metadata": {
    "collapsed": true
   },
   "outputs": [],
   "source": [
    "s=[]\n",
    "for i in range(1,14):\n",
    "    f='df{}'.format(i)\n",
    "    f= eval(f)\n",
    "    f=f.loc[f['Branches'] == 'Embedded Systems - BCA/BSc Grad']\n",
    "    exec (\"file_%s= f\" % (i))"
   ]
  },
  {
   "cell_type": "code",
   "execution_count": 245,
   "metadata": {
    "collapsed": false
   },
   "outputs": [],
   "source": [
    "embedded_bca = pd.concat([file_1,file_2,file_3,file_4,file_5,file_6,file_7,file_8,file_9,file_10,file_11,file_12,file_13],axis=0,join='inner')"
   ]
  },
  {
   "cell_type": "code",
   "execution_count": 246,
   "metadata": {
    "collapsed": true
   },
   "outputs": [],
   "source": [
    "s=[]\n",
    "for i in range(1,14):\n",
    "    f='df{}'.format(i)\n",
    "    f= eval(f)\n",
    "    f=f.loc[f['Branches'] == 'IT Management']\n",
    "    exec (\"file_%s= f\" % (i))"
   ]
  },
  {
   "cell_type": "code",
   "execution_count": 247,
   "metadata": {
    "collapsed": true
   },
   "outputs": [
    {
     "data": {
      "text/html": [
       "<div>\n",
       "<table border=\"1\" class=\"dataframe\">\n",
       "  <thead>\n",
       "    <tr style=\"text-align: right;\">\n",
       "      <th></th>\n",
       "      <th>Branches</th>\n",
       "      <th>Class Strength_1</th>\n",
       "      <th># of placed students_1</th>\n",
       "      <th>Class Strength_8</th>\n",
       "      <th># of placed students_8</th>\n",
       "      <th>Class Strength</th>\n",
       "      <th># of placed students</th>\n",
       "      <th>Total placement %</th>\n",
       "      <th>year_intake</th>\n",
       "    </tr>\n",
       "  </thead>\n",
       "  <tbody>\n",
       "    <tr>\n",
       "      <th>6</th>\n",
       "      <td>IT Management</td>\n",
       "      <td>0</td>\n",
       "      <td>0</td>\n",
       "      <td>3</td>\n",
       "      <td>3</td>\n",
       "      <td>3</td>\n",
       "      <td>3</td>\n",
       "      <td>100</td>\n",
       "      <td>2013</td>\n",
       "    </tr>\n",
       "    <tr>\n",
       "      <th>5</th>\n",
       "      <td>IT Management</td>\n",
       "      <td>0</td>\n",
       "      <td>0</td>\n",
       "      <td>4</td>\n",
       "      <td>4</td>\n",
       "      <td>4</td>\n",
       "      <td>4</td>\n",
       "      <td>100</td>\n",
       "      <td>2012</td>\n",
       "    </tr>\n",
       "    <tr>\n",
       "      <th>5</th>\n",
       "      <td>IT Management</td>\n",
       "      <td>14</td>\n",
       "      <td>13</td>\n",
       "      <td>15</td>\n",
       "      <td>7</td>\n",
       "      <td>29</td>\n",
       "      <td>20</td>\n",
       "      <td>68.9655</td>\n",
       "      <td>2011</td>\n",
       "    </tr>\n",
       "  </tbody>\n",
       "</table>\n",
       "</div>"
      ],
      "text/plain": [
       "        Branches Class Strength_1 # of placed students_1 Class Strength_8  \\\n",
       "6  IT Management                0                      0                3   \n",
       "5  IT Management                0                      0                4   \n",
       "5  IT Management               14                     13               15   \n",
       "\n",
       "  # of placed students_8 Class Strength # of placed students  \\\n",
       "6                      3              3                    3   \n",
       "5                      4              4                    4   \n",
       "5                      7             29                   20   \n",
       "\n",
       "  Total placement %  year_intake  \n",
       "6               100         2013  \n",
       "5               100         2012  \n",
       "5           68.9655         2011  "
      ]
     },
     "execution_count": 247,
     "metadata": {},
     "output_type": "execute_result"
    }
   ],
   "source": [
    "it_management = pd.concat([file_1,file_2,file_3,file_4,file_5,file_6,file_7,file_8,file_9,file_10,file_11,file_12,file_13],axis=0,join='inner')\n",
    "it_management"
   ]
  },
  {
   "cell_type": "code",
   "execution_count": 248,
   "metadata": {
    "collapsed": false
   },
   "outputs": [],
   "source": [
    "s=[]\n",
    "for i in range(1,14):\n",
    "    f='df{}'.format(i)\n",
    "    f= eval(f)\n",
    "    f=f.loc[f['Branches'] == 'MSc DDES (Jan - July)']\n",
    "    exec (\"file_%s= f\" % (i))"
   ]
  },
  {
   "cell_type": "code",
   "execution_count": 249,
   "metadata": {
    "collapsed": true
   },
   "outputs": [
    {
     "data": {
      "text/html": [
       "<div>\n",
       "<table border=\"1\" class=\"dataframe\">\n",
       "  <thead>\n",
       "    <tr style=\"text-align: right;\">\n",
       "      <th></th>\n",
       "      <th>Branches</th>\n",
       "      <th>Class Strength_1</th>\n",
       "      <th># of placed students_1</th>\n",
       "      <th>Class Strength_8</th>\n",
       "      <th># of placed students_8</th>\n",
       "      <th>Class Strength</th>\n",
       "      <th># of placed students</th>\n",
       "      <th>Total placement %</th>\n",
       "      <th>year_intake</th>\n",
       "    </tr>\n",
       "  </thead>\n",
       "  <tbody>\n",
       "    <tr>\n",
       "      <th>7</th>\n",
       "      <td>MSc DDES (Jan - July)</td>\n",
       "      <td>5</td>\n",
       "      <td>4</td>\n",
       "      <td>0</td>\n",
       "      <td>0</td>\n",
       "      <td>5</td>\n",
       "      <td>4</td>\n",
       "      <td>80</td>\n",
       "      <td>2012</td>\n",
       "    </tr>\n",
       "    <tr>\n",
       "      <th>7</th>\n",
       "      <td>MSc DDES (Jan - July)</td>\n",
       "      <td>8</td>\n",
       "      <td>5</td>\n",
       "      <td>0</td>\n",
       "      <td>0</td>\n",
       "      <td>8</td>\n",
       "      <td>5</td>\n",
       "      <td>62.5</td>\n",
       "      <td>2011</td>\n",
       "    </tr>\n",
       "    <tr>\n",
       "      <th>5</th>\n",
       "      <td>MSc DDES (Jan - July)</td>\n",
       "      <td>7</td>\n",
       "      <td>7</td>\n",
       "      <td>0</td>\n",
       "      <td>0</td>\n",
       "      <td>7</td>\n",
       "      <td>7</td>\n",
       "      <td>100</td>\n",
       "      <td>2010</td>\n",
       "    </tr>\n",
       "    <tr>\n",
       "      <th>4</th>\n",
       "      <td>MSc DDES (Jan - July)</td>\n",
       "      <td>14</td>\n",
       "      <td>7</td>\n",
       "      <td>0</td>\n",
       "      <td>0</td>\n",
       "      <td>14</td>\n",
       "      <td>7</td>\n",
       "      <td>50</td>\n",
       "      <td>2009</td>\n",
       "    </tr>\n",
       "    <tr>\n",
       "      <th>4</th>\n",
       "      <td>MSc DDES (Jan - July)</td>\n",
       "      <td>6</td>\n",
       "      <td>4</td>\n",
       "      <td>0</td>\n",
       "      <td>0</td>\n",
       "      <td>6</td>\n",
       "      <td>4</td>\n",
       "      <td>66.6667</td>\n",
       "      <td>2008</td>\n",
       "    </tr>\n",
       "    <tr>\n",
       "      <th>3</th>\n",
       "      <td>MSc DDES (Jan - July)</td>\n",
       "      <td>12</td>\n",
       "      <td>10</td>\n",
       "      <td>0</td>\n",
       "      <td>0</td>\n",
       "      <td>12</td>\n",
       "      <td>10</td>\n",
       "      <td>83.3333</td>\n",
       "      <td>2007</td>\n",
       "    </tr>\n",
       "    <tr>\n",
       "      <th>3</th>\n",
       "      <td>MSc DDES (Jan - July)</td>\n",
       "      <td>20</td>\n",
       "      <td>9</td>\n",
       "      <td>0</td>\n",
       "      <td>0</td>\n",
       "      <td>20</td>\n",
       "      <td>9</td>\n",
       "      <td>45</td>\n",
       "      <td>2006</td>\n",
       "    </tr>\n",
       "  </tbody>\n",
       "</table>\n",
       "</div>"
      ],
      "text/plain": [
       "                Branches Class Strength_1 # of placed students_1  \\\n",
       "7  MSc DDES (Jan - July)                5                      4   \n",
       "7  MSc DDES (Jan - July)                8                      5   \n",
       "5  MSc DDES (Jan - July)                7                      7   \n",
       "4  MSc DDES (Jan - July)               14                      7   \n",
       "4  MSc DDES (Jan - July)                6                      4   \n",
       "3  MSc DDES (Jan - July)               12                     10   \n",
       "3  MSc DDES (Jan - July)               20                      9   \n",
       "\n",
       "  Class Strength_8 # of placed students_8 Class Strength # of placed students  \\\n",
       "7                0                      0              5                    4   \n",
       "7                0                      0              8                    5   \n",
       "5                0                      0              7                    7   \n",
       "4                0                      0             14                    7   \n",
       "4                0                      0              6                    4   \n",
       "3                0                      0             12                   10   \n",
       "3                0                      0             20                    9   \n",
       "\n",
       "  Total placement %  year_intake  \n",
       "7                80         2012  \n",
       "7              62.5         2011  \n",
       "5               100         2010  \n",
       "4                50         2009  \n",
       "4           66.6667         2008  \n",
       "3           83.3333         2007  \n",
       "3                45         2006  "
      ]
     },
     "execution_count": 249,
     "metadata": {},
     "output_type": "execute_result"
    }
   ],
   "source": [
    "Msc_ddes = pd.concat([file_1,file_2,file_3,file_4,file_5,file_6,file_7,file_8,file_9,file_10,file_11,file_12,file_13],axis=0,join='inner')\n",
    "Msc_ddes"
   ]
  },
  {
   "cell_type": "code",
   "execution_count": 250,
   "metadata": {
    "collapsed": false
   },
   "outputs": [],
   "source": [
    "s=[]\n",
    "for i in range(1,14):\n",
    "    f='df{}'.format(i)\n",
    "    f= eval(f)\n",
    "    f=f.loc[f['Branches'] == 'MSc Info. Science (Jan - July)']\n",
    "    exec (\"file_%s= f\" % (i))"
   ]
  },
  {
   "cell_type": "code",
   "execution_count": 251,
   "metadata": {
    "collapsed": true
   },
   "outputs": [
    {
     "data": {
      "text/html": [
       "<div>\n",
       "<table border=\"1\" class=\"dataframe\">\n",
       "  <thead>\n",
       "    <tr style=\"text-align: right;\">\n",
       "      <th></th>\n",
       "      <th>Branches</th>\n",
       "      <th>Class Strength_1</th>\n",
       "      <th># of placed students_1</th>\n",
       "      <th>Class Strength_8</th>\n",
       "      <th># of placed students_8</th>\n",
       "      <th>Class Strength</th>\n",
       "      <th># of placed students</th>\n",
       "      <th>Total placement %</th>\n",
       "      <th>year_intake</th>\n",
       "    </tr>\n",
       "  </thead>\n",
       "  <tbody>\n",
       "    <tr>\n",
       "      <th>8</th>\n",
       "      <td>MSc Info. Science (Jan - July)</td>\n",
       "      <td>17</td>\n",
       "      <td>14</td>\n",
       "      <td>0</td>\n",
       "      <td>0</td>\n",
       "      <td>17</td>\n",
       "      <td>14</td>\n",
       "      <td>82.3529</td>\n",
       "      <td>2012</td>\n",
       "    </tr>\n",
       "    <tr>\n",
       "      <th>8</th>\n",
       "      <td>MSc Info. Science (Jan - July)</td>\n",
       "      <td>19</td>\n",
       "      <td>11</td>\n",
       "      <td>0</td>\n",
       "      <td>0</td>\n",
       "      <td>19</td>\n",
       "      <td>11</td>\n",
       "      <td>57.8947</td>\n",
       "      <td>2011</td>\n",
       "    </tr>\n",
       "    <tr>\n",
       "      <th>6</th>\n",
       "      <td>MSc Info. Science (Jan - July)</td>\n",
       "      <td>9</td>\n",
       "      <td>6</td>\n",
       "      <td>0</td>\n",
       "      <td>0</td>\n",
       "      <td>9</td>\n",
       "      <td>6</td>\n",
       "      <td>66.6667</td>\n",
       "      <td>2010</td>\n",
       "    </tr>\n",
       "    <tr>\n",
       "      <th>5</th>\n",
       "      <td>MSc Info. Science (Jan - July)</td>\n",
       "      <td>13</td>\n",
       "      <td>7</td>\n",
       "      <td>0</td>\n",
       "      <td>0</td>\n",
       "      <td>13</td>\n",
       "      <td>7</td>\n",
       "      <td>53.8462</td>\n",
       "      <td>2009</td>\n",
       "    </tr>\n",
       "    <tr>\n",
       "      <th>5</th>\n",
       "      <td>MSc Info. Science (Jan - July)</td>\n",
       "      <td>5</td>\n",
       "      <td>4</td>\n",
       "      <td>0</td>\n",
       "      <td>0</td>\n",
       "      <td>5</td>\n",
       "      <td>4</td>\n",
       "      <td>80</td>\n",
       "      <td>2008</td>\n",
       "    </tr>\n",
       "    <tr>\n",
       "      <th>4</th>\n",
       "      <td>MSc Info. Science (Jan - July)</td>\n",
       "      <td>7</td>\n",
       "      <td>5</td>\n",
       "      <td>0</td>\n",
       "      <td>0</td>\n",
       "      <td>7</td>\n",
       "      <td>5</td>\n",
       "      <td>71.4286</td>\n",
       "      <td>2007</td>\n",
       "    </tr>\n",
       "    <tr>\n",
       "      <th>4</th>\n",
       "      <td>MSc Info. Science (Jan - July)</td>\n",
       "      <td>4</td>\n",
       "      <td>2</td>\n",
       "      <td>0</td>\n",
       "      <td>0</td>\n",
       "      <td>4</td>\n",
       "      <td>2</td>\n",
       "      <td>50</td>\n",
       "      <td>2006</td>\n",
       "    </tr>\n",
       "  </tbody>\n",
       "</table>\n",
       "</div>"
      ],
      "text/plain": [
       "                         Branches Class Strength_1 # of placed students_1  \\\n",
       "8  MSc Info. Science (Jan - July)               17                     14   \n",
       "8  MSc Info. Science (Jan - July)               19                     11   \n",
       "6  MSc Info. Science (Jan - July)                9                      6   \n",
       "5  MSc Info. Science (Jan - July)               13                      7   \n",
       "5  MSc Info. Science (Jan - July)                5                      4   \n",
       "4  MSc Info. Science (Jan - July)                7                      5   \n",
       "4  MSc Info. Science (Jan - July)                4                      2   \n",
       "\n",
       "  Class Strength_8 # of placed students_8 Class Strength # of placed students  \\\n",
       "8                0                      0             17                   14   \n",
       "8                0                      0             19                   11   \n",
       "6                0                      0              9                    6   \n",
       "5                0                      0             13                    7   \n",
       "5                0                      0              5                    4   \n",
       "4                0                      0              7                    5   \n",
       "4                0                      0              4                    2   \n",
       "\n",
       "  Total placement %  year_intake  \n",
       "8           82.3529         2012  \n",
       "8           57.8947         2011  \n",
       "6           66.6667         2010  \n",
       "5           53.8462         2009  \n",
       "5                80         2008  \n",
       "4           71.4286         2007  \n",
       "4                50         2006  "
      ]
     },
     "execution_count": 251,
     "metadata": {},
     "output_type": "execute_result"
    }
   ],
   "source": [
    "Msc_info_sc = pd.concat([file_1,file_2,file_3,file_4,file_5,file_6,file_7,file_8,file_9,file_10,file_11,file_12,file_13],axis=0,join='inner')\n",
    "Msc_info_sc"
   ]
  },
  {
   "cell_type": "code",
   "execution_count": 252,
   "metadata": {
    "collapsed": false
   },
   "outputs": [],
   "source": [
    "s=[]\n",
    "for i in range(1,14):\n",
    "    f='df{}'.format(i)\n",
    "    f= eval(f)\n",
    "    f=f.loc[f['Branches'] == 'VLSI CAD']\n",
    "    exec (\"file_%s= f\" % (i))"
   ]
  },
  {
   "cell_type": "code",
   "execution_count": 253,
   "metadata": {
    "collapsed": false
   },
   "outputs": [],
   "source": [
    "vlsi_cad = pd.concat([file_1,file_2,file_3,file_4,file_5,file_6,file_7,file_8,file_9,file_10,file_11,file_12,file_13],axis=0,join='inner')"
   ]
  },
  {
   "cell_type": "code",
   "execution_count": 254,
   "metadata": {
    "collapsed": true
   },
   "outputs": [
    {
     "data": {
      "text/html": [
       "<div>\n",
       "<table border=\"1\" class=\"dataframe\">\n",
       "  <thead>\n",
       "    <tr style=\"text-align: right;\">\n",
       "      <th></th>\n",
       "      <th>Branches</th>\n",
       "      <th>Class Strength_1</th>\n",
       "      <th># of placed students_1</th>\n",
       "      <th>Class Strength_8</th>\n",
       "      <th># of placed students_8</th>\n",
       "      <th>Class Strength</th>\n",
       "      <th># of placed students</th>\n",
       "      <th>Total placement %</th>\n",
       "      <th>year_intake</th>\n",
       "    </tr>\n",
       "  </thead>\n",
       "  <tbody>\n",
       "    <tr>\n",
       "      <th>0</th>\n",
       "      <td>VLSI CAD</td>\n",
       "      <td>2</td>\n",
       "      <td>2</td>\n",
       "      <td>41</td>\n",
       "      <td>37</td>\n",
       "      <td>43</td>\n",
       "      <td>39</td>\n",
       "      <td>90.6977</td>\n",
       "      <td>2011</td>\n",
       "    </tr>\n",
       "    <tr>\n",
       "      <th>1</th>\n",
       "      <td>VLSI CAD</td>\n",
       "      <td>6</td>\n",
       "      <td>4</td>\n",
       "      <td>40</td>\n",
       "      <td>37</td>\n",
       "      <td>46</td>\n",
       "      <td>41</td>\n",
       "      <td>89.1304</td>\n",
       "      <td>2010</td>\n",
       "    </tr>\n",
       "    <tr>\n",
       "      <th>2</th>\n",
       "      <td>VLSI CAD</td>\n",
       "      <td>6</td>\n",
       "      <td>4</td>\n",
       "      <td>40</td>\n",
       "      <td>30</td>\n",
       "      <td>46</td>\n",
       "      <td>34</td>\n",
       "      <td>73.913</td>\n",
       "      <td>2009</td>\n",
       "    </tr>\n",
       "    <tr>\n",
       "      <th>3</th>\n",
       "      <td>VLSI CAD</td>\n",
       "      <td>7</td>\n",
       "      <td>2</td>\n",
       "      <td>16</td>\n",
       "      <td>10</td>\n",
       "      <td>23</td>\n",
       "      <td>12</td>\n",
       "      <td>52.1739</td>\n",
       "      <td>2008</td>\n",
       "    </tr>\n",
       "    <tr>\n",
       "      <th>4</th>\n",
       "      <td>VLSI CAD</td>\n",
       "      <td>6</td>\n",
       "      <td>6</td>\n",
       "      <td>39</td>\n",
       "      <td>17</td>\n",
       "      <td>45</td>\n",
       "      <td>23</td>\n",
       "      <td>51.1111</td>\n",
       "      <td>2007</td>\n",
       "    </tr>\n",
       "    <tr>\n",
       "      <th>5</th>\n",
       "      <td>VLSI CAD</td>\n",
       "      <td>7</td>\n",
       "      <td>3</td>\n",
       "      <td>29</td>\n",
       "      <td>26</td>\n",
       "      <td>36</td>\n",
       "      <td>29</td>\n",
       "      <td>80.5556</td>\n",
       "      <td>2006</td>\n",
       "    </tr>\n",
       "    <tr>\n",
       "      <th>6</th>\n",
       "      <td>VLSI CAD</td>\n",
       "      <td>6</td>\n",
       "      <td>4</td>\n",
       "      <td>27</td>\n",
       "      <td>19</td>\n",
       "      <td>33</td>\n",
       "      <td>23</td>\n",
       "      <td>69.697</td>\n",
       "      <td>2005</td>\n",
       "    </tr>\n",
       "    <tr>\n",
       "      <th>7</th>\n",
       "      <td>VLSI CAD</td>\n",
       "      <td>2</td>\n",
       "      <td>2</td>\n",
       "      <td>25</td>\n",
       "      <td>20</td>\n",
       "      <td>27</td>\n",
       "      <td>22</td>\n",
       "      <td>81.4815</td>\n",
       "      <td>2004</td>\n",
       "    </tr>\n",
       "    <tr>\n",
       "      <th>8</th>\n",
       "      <td>VLSI CAD</td>\n",
       "      <td>10</td>\n",
       "      <td>5</td>\n",
       "      <td>19</td>\n",
       "      <td>15</td>\n",
       "      <td>29</td>\n",
       "      <td>20</td>\n",
       "      <td>68.9655</td>\n",
       "      <td>2003</td>\n",
       "    </tr>\n",
       "  </tbody>\n",
       "</table>\n",
       "</div>"
      ],
      "text/plain": [
       "   Branches Class Strength_1 # of placed students_1 Class Strength_8  \\\n",
       "0  VLSI CAD                2                      2               41   \n",
       "1  VLSI CAD                6                      4               40   \n",
       "2  VLSI CAD                6                      4               40   \n",
       "3  VLSI CAD                7                      2               16   \n",
       "4  VLSI CAD                6                      6               39   \n",
       "5  VLSI CAD                7                      3               29   \n",
       "6  VLSI CAD                6                      4               27   \n",
       "7  VLSI CAD                2                      2               25   \n",
       "8  VLSI CAD               10                      5               19   \n",
       "\n",
       "  # of placed students_8 Class Strength # of placed students  \\\n",
       "0                     37             43                   39   \n",
       "1                     37             46                   41   \n",
       "2                     30             46                   34   \n",
       "3                     10             23                   12   \n",
       "4                     17             45                   23   \n",
       "5                     26             36                   29   \n",
       "6                     19             33                   23   \n",
       "7                     20             27                   22   \n",
       "8                     15             29                   20   \n",
       "\n",
       "  Total placement %  year_intake  \n",
       "0           90.6977         2011  \n",
       "1           89.1304         2010  \n",
       "2            73.913         2009  \n",
       "3           52.1739         2008  \n",
       "4           51.1111         2007  \n",
       "5           80.5556         2006  \n",
       "6            69.697         2005  \n",
       "7           81.4815         2004  \n",
       "8           68.9655         2003  "
      ]
     },
     "execution_count": 254,
     "metadata": {},
     "output_type": "execute_result"
    }
   ],
   "source": [
    "vlsi_cad = vlsi_cad.reset_index(drop=True)\n",
    "vlsi_cad"
   ]
  },
  {
   "cell_type": "code",
   "execution_count": null,
   "metadata": {
    "collapsed": false
   },
   "outputs": [],
   "source": []
  },
  {
   "cell_type": "code",
   "execution_count": 255,
   "metadata": {
    "collapsed": true
   },
   "outputs": [
    {
     "name": "stdout",
     "output_type": "stream",
     "text": [
      "loaded nvd3 IPython extension\n",
      "run nvd3.ipynb.initialize_javascript() to set up the notebook\n",
      "help(nvd3.ipynb.initialize_javascript) for options\n"
     ]
    },
    {
     "data": {
      "text/html": [
       "<link media=\"all\" href=\"files/nv.d3.css\" type=\"text/css\"\n",
       "                        rel=\"stylesheet\"/>"
      ],
      "text/plain": [
       "<IPython.core.display.HTML object>"
      ]
     },
     "metadata": {},
     "output_type": "display_data"
    },
    {
     "data": {
      "application/javascript": [
       "$.getScript(\"files/nv.d3.js\")"
      ],
      "text/plain": [
       "<IPython.core.display.Javascript object>"
      ]
     },
     "metadata": {},
     "output_type": "display_data"
    },
    {
     "data": {
      "application/javascript": [
       "$.getScript(\"files/d3.v3.js\", function() {\n",
       "                              $.getScript(\"files/nv.d3.js\", function() {})});"
      ],
      "text/plain": [
       "<IPython.core.display.Javascript object>"
      ]
     },
     "metadata": {},
     "output_type": "display_data"
    },
    {
     "data": {
      "text/html": [
       "<script src=\"files/d3.v3.js\"></script>"
      ],
      "text/plain": [
       "<IPython.core.display.HTML object>"
      ]
     },
     "metadata": {},
     "output_type": "display_data"
    },
    {
     "data": {
      "text/html": [
       "<script src=\"files/nv.d3.js\"></script>"
      ],
      "text/plain": [
       "<IPython.core.display.HTML object>"
      ]
     },
     "metadata": {},
     "output_type": "display_data"
    }
   ],
   "source": [
    "\n",
    "from nvd3 import multiBarChart\n",
    "import nvd3\n",
    "nvd3.ipynb.initialize_javascript()\n",
    "\n",
    "from IPython.core.display import display, HTML\n",
    "\n"
   ]
  },
  {
   "cell_type": "code",
   "execution_count": null,
   "metadata": {
    "collapsed": false
   },
   "outputs": [],
   "source": []
  },
  {
   "cell_type": "code",
   "execution_count": 256,
   "metadata": {
    "collapsed": false
   },
   "outputs": [
    {
     "data": {
      "text/html": [
       "<!DOCTYPE html>\n",
       "<html lang=\"en\">\n",
       "    <head>\n",
       "        <meta charset=\"utf-8\" />\n",
       "        <link href=\"https://cdnjs.cloudflare.com/ajax/libs/nvd3/1.7.1/nv.d3.min.css\" rel=\"stylesheet\" />\n",
       "        <script src=\"https://cdnjs.cloudflare.com/ajax/libs/d3/3.5.5/d3.min.js\"></script>\n",
       "        <script src=\"https://cdnjs.cloudflare.com/ajax/libs/nvd3/1.7.1/nv.d3.min.js\"></script>\n",
       "    </head>\n",
       "    <body>\n",
       "        \n",
       "    <div id=\"multibarchart\"><svg style=\"width:1200px;height:500px;\"></svg></div>\n",
       "\n",
       "\n",
       "    <script>\n",
       "\n",
       "\n",
       "\n",
       "        data_multibarchart=[{\"yAxis\": \"1\", \"key\": \"class strength\", \"values\": [{\"x\": \"VLSI_CAD2011\", \"y\": 43}, {\"x\": \"VLSI_CAD2010\", \"y\": 46}, {\"x\": \"VLSI_CDA2009\", \"y\": 46}, {\"x\": \"VLSI_CAD2008\", \"y\": 23}, {\"x\": \"VLSI_CAD2007\", \"y\": 45}, {\"x\": \"VLSI_CAD2006\", \"y\": 36}, {\"x\": \"VLSI_CAD2005\", \"y\": 33}, {\"x\": \"VLSI_CAD2004\", \"y\": 27}, {\"x\": \"VLSI_CAD2003\", \"y\": 29}]}, {\"yAxis\": \"1\", \"key\": \"placed students\", \"values\": [{\"x\": \"VLSI_CAD2011\", \"y\": 39}, {\"x\": \"VLSI_CAD2010\", \"y\": 41}, {\"x\": \"VLSI_CDA2009\", \"y\": 34}, {\"x\": \"VLSI_CAD2008\", \"y\": 12}, {\"x\": \"VLSI_CAD2007\", \"y\": 23}, {\"x\": \"VLSI_CAD2006\", \"y\": 29}, {\"x\": \"VLSI_CAD2005\", \"y\": 23}, {\"x\": \"VLSI_CAD2004\", \"y\": 22}, {\"x\": \"VLSI_CAD2003\", \"y\": 20}]}];\n",
       "\n",
       "    nv.addGraph(function() {\n",
       "        var chart = nv.models.multiBarChart();\n",
       "\n",
       "        chart.margin({top: 30, right: 60, bottom: 20, left: 60});\n",
       "        chart.xAxis.rotateLabels(0)\n",
       "\n",
       "        var datum = data_multibarchart;\n",
       "\n",
       "\n",
       "\n",
       "\n",
       "\n",
       "            chart.yAxis\n",
       "                .tickFormat(d3.format(',.2f'));\n",
       "\n",
       "\n",
       "      chart.showLegend(true);\n",
       "\n",
       "\n",
       "\n",
       "        \n",
       "\n",
       "\n",
       "\n",
       "        d3.select('#multibarchart svg')\n",
       "            .datum(datum)\n",
       "            .transition().duration(500)\n",
       "            .attr('width', '1200')\n",
       "            .attr('height', 500)\n",
       "            .call(chart);\n",
       "\n",
       "\n",
       "\n",
       "    });\n",
       "\n",
       "\n",
       "\n",
       "\n",
       "    </script>\n",
       "\n",
       "    </body>\n",
       "</html>"
      ],
      "text/plain": [
       "<IPython.core.display.HTML object>"
      ]
     },
     "metadata": {},
     "output_type": "display_data"
    }
   ],
   "source": [
    "chart = multiBarChart(width=1200, height=500, x_axis_format=None)\n",
    "#xdata = list(vlsi_cad['year_intake'])\n",
    "xdata = ['VLSI_CAD2011', 'VLSI_CAD2010', 'VLSI_CDA2009', 'VLSI_CAD2008', 'VLSI_CAD2007', 'VLSI_CAD2006', 'VLSI_CAD2005', 'VLSI_CAD2004', 'VLSI_CAD2003']\n",
    "#ydata1 = list(vlsi_cad['Class Strength'])\n",
    "ydata1 = [43, 46, 46, 23, 45, 36, 33, 27, 29]\n",
    "#ydata2 = list(vlsi_cad['# of placed students'])\n",
    "ydata2 = [39, 41, 34, 12, 23, 29, 23, 22, 20]\n",
    "\n",
    "chart.add_serie(name=\"class strength\", y=ydata1, x=xdata)\n",
    "chart.add_serie(name=\"placed students\", y=ydata2, x=xdata)\n",
    "chart.buildhtml()\n",
    "display(HTML(chart.htmlcontent))\n",
    "\n"
   ]
  },
  {
   "cell_type": "code",
   "execution_count": 257,
   "metadata": {
    "collapsed": true
   },
   "outputs": [
    {
     "data": {
      "text/html": [
       "<div>\n",
       "<table border=\"1\" class=\"dataframe\">\n",
       "  <thead>\n",
       "    <tr style=\"text-align: right;\">\n",
       "      <th></th>\n",
       "      <th>Branches</th>\n",
       "      <th>Class Strength_1</th>\n",
       "      <th># of placed students_1</th>\n",
       "      <th>Class Strength_8</th>\n",
       "      <th># of placed students_8</th>\n",
       "      <th>Class Strength</th>\n",
       "      <th># of placed students</th>\n",
       "      <th>Total placement %</th>\n",
       "      <th>year_intake</th>\n",
       "    </tr>\n",
       "  </thead>\n",
       "  <tbody>\n",
       "    <tr>\n",
       "      <th>0</th>\n",
       "      <td>Medical Software</td>\n",
       "      <td>2</td>\n",
       "      <td>2</td>\n",
       "      <td>24</td>\n",
       "      <td>15</td>\n",
       "      <td>26</td>\n",
       "      <td>17</td>\n",
       "      <td>65.3846</td>\n",
       "      <td>2008</td>\n",
       "    </tr>\n",
       "    <tr>\n",
       "      <th>1</th>\n",
       "      <td>VLSI CAD</td>\n",
       "      <td>7</td>\n",
       "      <td>2</td>\n",
       "      <td>16</td>\n",
       "      <td>10</td>\n",
       "      <td>23</td>\n",
       "      <td>12</td>\n",
       "      <td>52.1739</td>\n",
       "      <td>2008</td>\n",
       "    </tr>\n",
       "    <tr>\n",
       "      <th>2</th>\n",
       "      <td>Embedded Systems</td>\n",
       "      <td>21</td>\n",
       "      <td>15</td>\n",
       "      <td>90</td>\n",
       "      <td>54</td>\n",
       "      <td>111</td>\n",
       "      <td>69</td>\n",
       "      <td>62.1622</td>\n",
       "      <td>2008</td>\n",
       "    </tr>\n",
       "    <tr>\n",
       "      <th>3</th>\n",
       "      <td>VLSI System Design &amp; Verification</td>\n",
       "      <td>12</td>\n",
       "      <td>6</td>\n",
       "      <td>0</td>\n",
       "      <td>0</td>\n",
       "      <td>12</td>\n",
       "      <td>6</td>\n",
       "      <td>50</td>\n",
       "      <td>2008</td>\n",
       "    </tr>\n",
       "    <tr>\n",
       "      <th>4</th>\n",
       "      <td>MSc DDES (Jan - July)</td>\n",
       "      <td>6</td>\n",
       "      <td>4</td>\n",
       "      <td>0</td>\n",
       "      <td>0</td>\n",
       "      <td>6</td>\n",
       "      <td>4</td>\n",
       "      <td>66.6667</td>\n",
       "      <td>2008</td>\n",
       "    </tr>\n",
       "    <tr>\n",
       "      <th>5</th>\n",
       "      <td>MSc Info. Science (Jan - July)</td>\n",
       "      <td>5</td>\n",
       "      <td>4</td>\n",
       "      <td>0</td>\n",
       "      <td>0</td>\n",
       "      <td>5</td>\n",
       "      <td>4</td>\n",
       "      <td>80</td>\n",
       "      <td>2008</td>\n",
       "    </tr>\n",
       "    <tr>\n",
       "      <th>6</th>\n",
       "      <td>Total Strength</td>\n",
       "      <td>NaN</td>\n",
       "      <td>NaN</td>\n",
       "      <td>NaN</td>\n",
       "      <td>NaN</td>\n",
       "      <td>183</td>\n",
       "      <td>112</td>\n",
       "      <td>61.2022</td>\n",
       "      <td>2008</td>\n",
       "    </tr>\n",
       "  </tbody>\n",
       "</table>\n",
       "</div>"
      ],
      "text/plain": [
       "                            Branches Class Strength_1 # of placed students_1  \\\n",
       "0                   Medical Software                2                      2   \n",
       "1                           VLSI CAD                7                      2   \n",
       "2                   Embedded Systems               21                     15   \n",
       "3  VLSI System Design & Verification               12                      6   \n",
       "4              MSc DDES (Jan - July)                6                      4   \n",
       "5     MSc Info. Science (Jan - July)                5                      4   \n",
       "6                     Total Strength              NaN                    NaN   \n",
       "\n",
       "  Class Strength_8 # of placed students_8 Class Strength # of placed students  \\\n",
       "0               24                     15             26                   17   \n",
       "1               16                     10             23                   12   \n",
       "2               90                     54            111                   69   \n",
       "3                0                      0             12                    6   \n",
       "4                0                      0              6                    4   \n",
       "5                0                      0              5                    4   \n",
       "6              NaN                    NaN            183                  112   \n",
       "\n",
       "  Total placement %  year_intake  \n",
       "0           65.3846         2008  \n",
       "1           52.1739         2008  \n",
       "2           62.1622         2008  \n",
       "3                50         2008  \n",
       "4           66.6667         2008  \n",
       "5                80         2008  \n",
       "6           61.2022         2008  "
      ]
     },
     "execution_count": 257,
     "metadata": {},
     "output_type": "execute_result"
    }
   ],
   "source": [
    "df8"
   ]
  },
  {
   "cell_type": "code",
   "execution_count": 258,
   "metadata": {
    "collapsed": true
   },
   "outputs": [
    {
     "data": {
      "text/plain": [
       "[75,\n",
       " 63.1578947368421,\n",
       " 77.5510204081633,\n",
       " 77.7777777777778,\n",
       " 80,\n",
       " 100,\n",
       " 100,\n",
       " 100,\n",
       " 73.5537190082645,\n",
       " 77.7777777777778]"
      ]
     },
     "execution_count": 258,
     "metadata": {},
     "output_type": "execute_result"
    }
   ],
   "source": [
    "list(df1['Branches'])\n",
    "list(df1['Total placement %'])"
   ]
  },
  {
   "cell_type": "code",
   "execution_count": 259,
   "metadata": {
    "collapsed": false
   },
   "outputs": [
    {
     "data": {
      "text/html": [
       "<!DOCTYPE html>\n",
       "<html lang=\"en\">\n",
       "    <head>\n",
       "        <meta charset=\"utf-8\" />\n",
       "        <link href=\"https://cdnjs.cloudflare.com/ajax/libs/nvd3/1.7.1/nv.d3.min.css\" rel=\"stylesheet\" />\n",
       "        <script src=\"https://cdnjs.cloudflare.com/ajax/libs/d3/3.5.5/d3.min.js\"></script>\n",
       "        <script src=\"https://cdnjs.cloudflare.com/ajax/libs/nvd3/1.7.1/nv.d3.min.js\"></script>\n",
       "    </head>\n",
       "    <body>\n",
       "        \n",
       "    <div id=\"piechart\"><svg style=\"width:700px;height:700px;\"></svg></div>\n",
       "\n",
       "\n",
       "    <script>\n",
       "\n",
       "\n",
       "\n",
       "    data_piechart=[{\"key\": \"Serie 1\", \"values\": [{\"value\": 75, \"label\": \"Medical Software\"}, {\"value\": 63.15, \"label\": \"VLSI Design\"}, {\"value\": 77.5510204081633, \"label\": \"Embedded Systems\"}, {\"value\": 77.7777777777778, \"label\": \"Embedded & Wireless Technologies\"}, {\"value\": 80, \"label\": \"Computing Technologies & Virtualization\"}, {\"value\": 100, \"label\": \"Information Science\"}, {\"value\": 100, \"label\": \"Embedded & Instrumentation Engg\"}, {\"value\": 100, \"label\": \"Automotive Embedded Systems\"}, {\"value\": 73.5537190082645, \"label\": \"All branch without ESIGELEC\"}, {\"value\": 77.7777777777778, \"label\": \"All branches\"}]}];\n",
       "\n",
       "    nv.addGraph(function() {\n",
       "        var chart = nv.models.pieChart();\n",
       "        chart.margin({top: 30, right: 60, bottom: 20, left: 60});\n",
       "        var datum = data_piechart[0].values;\n",
       "\n",
       "        chart.color(d3.scale.category20c().range());\n",
       "\n",
       "    chart.tooltipContent(function(key, y, e, graph) {\n",
       "          var x = String(key);\n",
       "              var y =  String(y)  + ' per';\n",
       "\n",
       "              tooltip_str = '<center><b>'+x+'</b></center>' + y;\n",
       "              return tooltip_str;\n",
       "              });\n",
       "        chart.showLabels(true);\n",
       "\n",
       "            chart.donut(false);\n",
       "\n",
       "    chart.showLegend(true);\n",
       "\n",
       "\n",
       "\n",
       "\n",
       "        chart\n",
       "            .x(function(d) { return d.label })\n",
       "            .y(function(d) { return d.value });\n",
       "\n",
       "        chart.width(700);\n",
       "\n",
       "        chart.height(700);\n",
       "\n",
       "\n",
       "            d3.select('#piechart svg')\n",
       "            .datum(datum)\n",
       "            .transition().duration(500)\n",
       "            .attr('width', '700')\n",
       "            .attr('height', 700)\n",
       "            .call(chart);\n",
       "\n",
       "\n",
       "\n",
       "        });\n",
       "\n",
       "\n",
       "\n",
       "    </script>\n",
       "\n",
       "    </body>\n",
       "</html>"
      ],
      "text/plain": [
       "<IPython.core.display.HTML object>"
      ]
     },
     "metadata": {},
     "output_type": "display_data"
    }
   ],
   "source": [
    "from nvd3 import pieChart\n",
    "chart = pieChart(name='pieChart', color_category='category20c',\n",
    "                 height=700, width=700)\n",
    "\n",
    "xdata = ['Medical Software',\n",
    " 'VLSI Design',\n",
    " 'Embedded Systems',\n",
    " 'Embedded & Wireless Technologies',\n",
    " 'Computing Technologies & Virtualization',\n",
    " 'Information Science',\n",
    " 'Embedded & Instrumentation Engg',\n",
    " 'Automotive Embedded Systems',\n",
    " 'All branch without ESIGELEC',\n",
    " 'All branches']\n",
    "ydata = [75,63.15,77.5510204081633,77.7777777777778,80,100,100,100,73.5537190082645,77.7777777777778]\n",
    "\n",
    "extra_serie = {\"tooltip\": {\"y_start\": \"\", \"y_end\": \" per\"}}\n",
    "chart.add_serie(y=ydata, x=xdata, extra=extra_serie)\n",
    "chart.buildhtml()\n",
    "display(HTML(chart.htmlcontent))\n",
    "\n"
   ]
  },
  {
   "cell_type": "code",
   "execution_count": 260,
   "metadata": {
    "collapsed": true
   },
   "outputs": [
    {
     "data": {
      "text/plain": [
       "[39, 41, 34, 12, 23, 29, 23, 22, 20]"
      ]
     },
     "execution_count": 260,
     "metadata": {},
     "output_type": "execute_result"
    }
   ],
   "source": [
    "ydata2"
   ]
  },
  {
   "cell_type": "code",
   "execution_count": 261,
   "metadata": {
    "collapsed": true
   },
   "outputs": [],
   "source": [
    "import matplotlib.pyplot as plt\n",
    " \n",
    "# Data to plot\n",
    "labels = 'Medical Software','VLSI Design','Embedded Systems','Embedded & Wireless Technologies','Computing Technologies & Virtualization','Information Science','Embedded & Instrumentation Engg','Automotive Embedded Systems','All branch without ESIGELEC','All branches'\n",
    "sizes = [75,63.15,77.5510204081633,77.7777777777778,80,100,100,100,73.5537190082645,77.7777777777778]\n",
    "colors = ['gold', 'yellowgreen', 'lightcoral', 'lightskyblue','pink','darkblue','white','yellow','red','lightgreen']\n",
    "#explode = (0.1, 0, 0, 0)  # explode 1st slice\n",
    " \n",
    "# Plot\n",
    "plt.pie(sizes, labels=labels, colors=colors,\n",
    "        autopct='%1.1f%%', shadow=True, startangle=140)\n",
    " \n",
    "plt.axis('equal')\n",
    "plt.show()"
   ]
  },
  {
   "cell_type": "code",
   "execution_count": null,
   "metadata": {
    "collapsed": false
   },
   "outputs": [],
   "source": []
  }
 ],
 "metadata": {
  "anaconda-cloud": {},
  "kernelspec": {
   "display_name": "Python [Root]",
   "language": "python",
   "name": "Python [Root]"
  },
  "language_info": {
   "codemirror_mode": {
    "name": "ipython",
    "version": 3
   },
   "file_extension": ".py",
   "mimetype": "text/x-python",
   "name": "python",
   "nbconvert_exporter": "python",
   "pygments_lexer": "ipython3",
   "version": "3.5.2"
  }
 },
 "nbformat": 4,
 "nbformat_minor": 0
}
